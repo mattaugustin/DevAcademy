{
  "cells": [
    {
      "cell_type": "code",
      "execution_count": 18,
      "metadata": {
        "id": "54D9LRehHo2s"
      },
      "outputs": [],
      "source": [
        "import pandas as pd\n",
        "import numpy as np\n",
        "import matplotlib.pyplot as plt\n",
        "import seaborn as sns\n",
        "\n",
        "import textwrap"
      ]
    },
    {
      "cell_type": "code",
      "execution_count": null,
      "metadata": {
        "id": "HHv9k8lSHo2y"
      },
      "outputs": [],
      "source": [
        "import sweetviz as sv"
      ]
    },
    {
      "cell_type": "code",
      "execution_count": 2,
      "metadata": {
        "id": "WuRimCjhHo22"
      },
      "outputs": [],
      "source": [
        "import tensorflow as tf\n",
        "from tensorflow.keras.preprocessing.text import Tokenizer\n",
        "from tensorflow.keras.preprocessing.sequence import pad_sequences"
      ]
    },
    {
      "cell_type": "code",
      "execution_count": 3,
      "metadata": {
        "id": "R0r-zqS4Ho23"
      },
      "outputs": [],
      "source": [
        "from sklearn.feature_extraction.text import TfidfVectorizer\n",
        "from sklearn.preprocessing import LabelEncoder\n",
        "\n",
        "from sklearn.model_selection import train_test_split\n",
        "from sklearn import metrics, svm\n",
        "from sklearn.pipeline import Pipeline\n",
        "from sklearn.naive_bayes import MultinomialNB\n",
        "from sklearn.linear_model import LogisticRegression\n",
        "from sklearn.ensemble import RandomForestClassifier\n",
        "from sklearn.tree import DecisionTreeClassifier\n",
        "from sklearn.naive_bayes import MultinomialNB"
      ]
    },
    {
      "cell_type": "markdown",
      "metadata": {
        "id": "7_27759YHo24"
      },
      "source": [
        "# CUSTOM MADE FUNCTIONS"
      ]
    },
    {
      "cell_type": "code",
      "execution_count": 4,
      "metadata": {
        "id": "XH3UGtrHHo27"
      },
      "outputs": [],
      "source": [
        "# CREATE A SUMMARIZE FUNCTION DOING \".DESCRIBE()\" & \".INFO\" SIMULTANEOUSLY\n",
        "\n",
        "def profile_data(data):\n",
        "\n",
        "    \"\"\"Panda Profiling Function\n",
        "\n",
        "    Args:\n",
        "        data (DataFrame): A data frame to profile\n",
        "\n",
        "    Returns:\n",
        "        DataFrame : a data frame with profiled data\n",
        "\n",
        "    \"\"\"\n",
        "\n",
        "    return pd.concat(\n",
        "        [\n",
        "            pd.Series(data.dtypes , name = \"Dtype\") ,\n",
        "            # counts\n",
        "            pd.Series( data.count()        , name = \"Count\") ,\n",
        "            pd.Series( data.isnull().sum() , name = \"NA Count\") ,\n",
        "            pd.Series( data.nunique()      , name = \"Count Unique\") ,\n",
        "            pd.Series( data.duplicated().sum()   , name = \"Count Duplicate\"),\n",
        "\n",
        "            # Stats\n",
        "            pd.Series( data.min( skipna = True)   , name = \"Min\" ) ,\n",
        "            pd.Series( data.max( skipna = True ) , name = \"Max\" ) ,\n",
        "            pd.Series( data.mean()          , name = \"Mean\") ,\n",
        "            pd.Series( data.median()        , name = \"Median\") ,\n",
        "            pd.Series( data.mode().iloc[0]  , name = \"Mode\") ,\n",
        "        ] ,\n",
        "        axis = 1\n",
        "    )"
      ]
    },
    {
      "cell_type": "code",
      "execution_count": 5,
      "metadata": {
        "id": "MWoxWZz2Ho29"
      },
      "outputs": [],
      "source": [
        "# PREPARE CATEGORICAL VS TARGET\n",
        "\n",
        "def prepare_table_cat_and_target(\n",
        "    data ,\n",
        "    category_col ,\n",
        "    target_col ,\n",
        "    sort_order = False\n",
        "):\n",
        "\n",
        "\n",
        "    # category_col = \"language\"\n",
        "    # target_col = \"label\"\n",
        "\n",
        "    # data = news_df_reordered_df.copy()\n",
        "    # sort_order = False\n",
        "\n",
        "   # data[category_col] = data[category_col].astype(\"category\")\n",
        "    #data[target_col] = data[target_col].astype(\"category\")\n",
        "\n",
        "    data_category_df = data \\\n",
        "        .value_counts(category_col, normalize= True) \\\n",
        "        .mul(100 ) \\\n",
        "        .round(2) \\\n",
        "        .rename('Percentage_dataset') \\\n",
        "        .to_frame()\n",
        "\n",
        "    data_target_df = data[[category_col,target_col, \"author\"]] \\\n",
        "        .groupby([category_col, target_col]) \\\n",
        "        .count( ) \\\n",
        "        .div(data.shape[0]) \\\n",
        "        .mul(100) \\\n",
        "        .round(2) \\\n",
        "        .sort_values( by = target_col , ascending= sort_order )\n",
        "\n",
        "    data_catarget_df = data_category_df \\\n",
        "        .merge(\n",
        "            data_target_df ,\n",
        "            how = \"left\" ,\n",
        "            left_index = True ,\n",
        "            right_index = True ,\n",
        "        ) \\\n",
        "        .sort_values( by = category_col , ascending = sort_order) \\\n",
        "        .reset_index()\n",
        "    return data_catarget_df"
      ]
    },
    {
      "cell_type": "code",
      "execution_count": 6,
      "metadata": {
        "id": "YaRELnqLHo2-"
      },
      "outputs": [],
      "source": [
        "# PLOT CATEGORICAL VS TARGET\n",
        "\n",
        "def plot_cat_and_target(\n",
        "    data ,\n",
        "    category_col ,\n",
        "    target_col ,\n",
        "    figure_size = (10, 10) ,\n",
        "    **kwargs\n",
        "):\n",
        "    data[category_col] = data[category_col].astype(\"category\")\n",
        "    #data = test_df.copy()\n",
        "    #sort_order = False\n",
        "\n",
        "    #data[\"Pclass\"] = data[\"Pclass\"].astype(\"category\")\n",
        "    #category_col = \"Pclass\"\n",
        "    #target_col   = \"Survived\"\n",
        "    #figure_size = (10, 10)\n",
        "    plt.figure(figsize= figure_size)\n",
        "    # Plot bar chart for \"percent\" variable\n",
        "    sns.barplot(data= data, y= category_col, x='Percentage_dataset', orient= \"h\" , **kwargs)\n",
        "\n",
        "    # Overlay line plot for \"target\" variable\n",
        "    ax2 = plt.gca().twiny()\n",
        "    sns.pointplot(\n",
        "        data= data ,\n",
        "        y = category_col,\n",
        "        x = target_col,\n",
        "        color='red',\n",
        "        linestyles= \"-\" ,\n",
        "        markers= \"o\" ,\n",
        "        ax=ax2 ,\n",
        "        join= True ,\n",
        "    )\n",
        "\n",
        "    # Set labels and title, axes ...\n",
        "    plt.xlabel('Percent', color='blue')\n",
        "    ax2.set_xlabel(target_col, color='red')\n",
        "    ax2.tick_params(axis='x', colors='red')\n",
        "\n",
        "    plt.gca().xaxis.set_major_formatter(PercentFormatter(100))\n",
        "    plt.ylabel(category_col)\n",
        "    plt.title(f'{category_col} vs {target_col} in proportion')\n",
        ""
      ]
    },
    {
      "cell_type": "markdown",
      "source": [
        "#    EXPLORATORY DATA ANALYSIS\n"
      ],
      "metadata": {
        "id": "N2VThQCcIqfm"
      }
    },
    {
      "cell_type": "code",
      "execution_count": 7,
      "metadata": {
        "id": "Xbk-TcOnHo2_"
      },
      "outputs": [],
      "source": [
        "news_df = pd.read_csv(\"news_articles.csv\")"
      ]
    },
    {
      "cell_type": "code",
      "execution_count": 8,
      "metadata": {
        "colab": {
          "base_uri": "https://localhost:8080/",
          "height": 248
        },
        "id": "c3O1UXCHHo3A",
        "outputId": "cd211cd1-6488-42ec-d995-07ec9cf86297"
      },
      "outputs": [
        {
          "output_type": "execute_result",
          "data": {
            "text/plain": [
              "                 author                      published  \\\n",
              "0     Barracuda Brigade  2016-10-26T21:41:00.000+03:00   \n",
              "1  reasoning with facts  2016-10-29T08:47:11.259+03:00   \n",
              "2     Barracuda Brigade  2016-10-31T01:41:49.479+02:00   \n",
              "\n",
              "                                               title  \\\n",
              "0  muslims busted they stole millions in govt ben...   \n",
              "1  re why did attorney general loretta lynch plea...   \n",
              "2  breaking weiner cooperating with fbi on hillar...   \n",
              "\n",
              "                                                text language  \\\n",
              "0  print they should pay all the back all the mon...  english   \n",
              "1  why did attorney general loretta lynch plead t...  english   \n",
              "2  red state  \\nfox news sunday reported this mor...  english   \n",
              "\n",
              "              site_url                                       main_img_url  \\\n",
              "0  100percentfedup.com  http://bb4sp.com/wp-content/uploads/2016/10/Fu...   \n",
              "1  100percentfedup.com  http://bb4sp.com/wp-content/uploads/2016/10/Fu...   \n",
              "2  100percentfedup.com  http://bb4sp.com/wp-content/uploads/2016/10/Fu...   \n",
              "\n",
              "   type label                            title_without_stopwords  \\\n",
              "0  bias  Real        muslims busted stole millions govt benefits   \n",
              "1  bias  Real         attorney general loretta lynch plead fifth   \n",
              "2  bias  Real  breaking weiner cooperating fbi hillary email ...   \n",
              "\n",
              "                              text_without_stopwords  hasImage  \n",
              "0  print pay back money plus interest entire fami...       1.0  \n",
              "1  attorney general loretta lynch plead fifth bar...       1.0  \n",
              "2  red state fox news sunday reported morning ant...       1.0  "
            ],
            "text/html": [
              "\n",
              "  <div id=\"df-7130b6e7-d0b9-4d24-94c2-54253ca98828\" class=\"colab-df-container\">\n",
              "    <div>\n",
              "<style scoped>\n",
              "    .dataframe tbody tr th:only-of-type {\n",
              "        vertical-align: middle;\n",
              "    }\n",
              "\n",
              "    .dataframe tbody tr th {\n",
              "        vertical-align: top;\n",
              "    }\n",
              "\n",
              "    .dataframe thead th {\n",
              "        text-align: right;\n",
              "    }\n",
              "</style>\n",
              "<table border=\"1\" class=\"dataframe\">\n",
              "  <thead>\n",
              "    <tr style=\"text-align: right;\">\n",
              "      <th></th>\n",
              "      <th>author</th>\n",
              "      <th>published</th>\n",
              "      <th>title</th>\n",
              "      <th>text</th>\n",
              "      <th>language</th>\n",
              "      <th>site_url</th>\n",
              "      <th>main_img_url</th>\n",
              "      <th>type</th>\n",
              "      <th>label</th>\n",
              "      <th>title_without_stopwords</th>\n",
              "      <th>text_without_stopwords</th>\n",
              "      <th>hasImage</th>\n",
              "    </tr>\n",
              "  </thead>\n",
              "  <tbody>\n",
              "    <tr>\n",
              "      <th>0</th>\n",
              "      <td>Barracuda Brigade</td>\n",
              "      <td>2016-10-26T21:41:00.000+03:00</td>\n",
              "      <td>muslims busted they stole millions in govt ben...</td>\n",
              "      <td>print they should pay all the back all the mon...</td>\n",
              "      <td>english</td>\n",
              "      <td>100percentfedup.com</td>\n",
              "      <td>http://bb4sp.com/wp-content/uploads/2016/10/Fu...</td>\n",
              "      <td>bias</td>\n",
              "      <td>Real</td>\n",
              "      <td>muslims busted stole millions govt benefits</td>\n",
              "      <td>print pay back money plus interest entire fami...</td>\n",
              "      <td>1.0</td>\n",
              "    </tr>\n",
              "    <tr>\n",
              "      <th>1</th>\n",
              "      <td>reasoning with facts</td>\n",
              "      <td>2016-10-29T08:47:11.259+03:00</td>\n",
              "      <td>re why did attorney general loretta lynch plea...</td>\n",
              "      <td>why did attorney general loretta lynch plead t...</td>\n",
              "      <td>english</td>\n",
              "      <td>100percentfedup.com</td>\n",
              "      <td>http://bb4sp.com/wp-content/uploads/2016/10/Fu...</td>\n",
              "      <td>bias</td>\n",
              "      <td>Real</td>\n",
              "      <td>attorney general loretta lynch plead fifth</td>\n",
              "      <td>attorney general loretta lynch plead fifth bar...</td>\n",
              "      <td>1.0</td>\n",
              "    </tr>\n",
              "    <tr>\n",
              "      <th>2</th>\n",
              "      <td>Barracuda Brigade</td>\n",
              "      <td>2016-10-31T01:41:49.479+02:00</td>\n",
              "      <td>breaking weiner cooperating with fbi on hillar...</td>\n",
              "      <td>red state  \\nfox news sunday reported this mor...</td>\n",
              "      <td>english</td>\n",
              "      <td>100percentfedup.com</td>\n",
              "      <td>http://bb4sp.com/wp-content/uploads/2016/10/Fu...</td>\n",
              "      <td>bias</td>\n",
              "      <td>Real</td>\n",
              "      <td>breaking weiner cooperating fbi hillary email ...</td>\n",
              "      <td>red state fox news sunday reported morning ant...</td>\n",
              "      <td>1.0</td>\n",
              "    </tr>\n",
              "  </tbody>\n",
              "</table>\n",
              "</div>\n",
              "    <div class=\"colab-df-buttons\">\n",
              "\n",
              "  <div class=\"colab-df-container\">\n",
              "    <button class=\"colab-df-convert\" onclick=\"convertToInteractive('df-7130b6e7-d0b9-4d24-94c2-54253ca98828')\"\n",
              "            title=\"Convert this dataframe to an interactive table.\"\n",
              "            style=\"display:none;\">\n",
              "\n",
              "  <svg xmlns=\"http://www.w3.org/2000/svg\" height=\"24px\" viewBox=\"0 -960 960 960\">\n",
              "    <path d=\"M120-120v-720h720v720H120Zm60-500h600v-160H180v160Zm220 220h160v-160H400v160Zm0 220h160v-160H400v160ZM180-400h160v-160H180v160Zm440 0h160v-160H620v160ZM180-180h160v-160H180v160Zm440 0h160v-160H620v160Z\"/>\n",
              "  </svg>\n",
              "    </button>\n",
              "\n",
              "  <style>\n",
              "    .colab-df-container {\n",
              "      display:flex;\n",
              "      gap: 12px;\n",
              "    }\n",
              "\n",
              "    .colab-df-convert {\n",
              "      background-color: #E8F0FE;\n",
              "      border: none;\n",
              "      border-radius: 50%;\n",
              "      cursor: pointer;\n",
              "      display: none;\n",
              "      fill: #1967D2;\n",
              "      height: 32px;\n",
              "      padding: 0 0 0 0;\n",
              "      width: 32px;\n",
              "    }\n",
              "\n",
              "    .colab-df-convert:hover {\n",
              "      background-color: #E2EBFA;\n",
              "      box-shadow: 0px 1px 2px rgba(60, 64, 67, 0.3), 0px 1px 3px 1px rgba(60, 64, 67, 0.15);\n",
              "      fill: #174EA6;\n",
              "    }\n",
              "\n",
              "    .colab-df-buttons div {\n",
              "      margin-bottom: 4px;\n",
              "    }\n",
              "\n",
              "    [theme=dark] .colab-df-convert {\n",
              "      background-color: #3B4455;\n",
              "      fill: #D2E3FC;\n",
              "    }\n",
              "\n",
              "    [theme=dark] .colab-df-convert:hover {\n",
              "      background-color: #434B5C;\n",
              "      box-shadow: 0px 1px 3px 1px rgba(0, 0, 0, 0.15);\n",
              "      filter: drop-shadow(0px 1px 2px rgba(0, 0, 0, 0.3));\n",
              "      fill: #FFFFFF;\n",
              "    }\n",
              "  </style>\n",
              "\n",
              "    <script>\n",
              "      const buttonEl =\n",
              "        document.querySelector('#df-7130b6e7-d0b9-4d24-94c2-54253ca98828 button.colab-df-convert');\n",
              "      buttonEl.style.display =\n",
              "        google.colab.kernel.accessAllowed ? 'block' : 'none';\n",
              "\n",
              "      async function convertToInteractive(key) {\n",
              "        const element = document.querySelector('#df-7130b6e7-d0b9-4d24-94c2-54253ca98828');\n",
              "        const dataTable =\n",
              "          await google.colab.kernel.invokeFunction('convertToInteractive',\n",
              "                                                    [key], {});\n",
              "        if (!dataTable) return;\n",
              "\n",
              "        const docLinkHtml = 'Like what you see? Visit the ' +\n",
              "          '<a target=\"_blank\" href=https://colab.research.google.com/notebooks/data_table.ipynb>data table notebook</a>'\n",
              "          + ' to learn more about interactive tables.';\n",
              "        element.innerHTML = '';\n",
              "        dataTable['output_type'] = 'display_data';\n",
              "        await google.colab.output.renderOutput(dataTable, element);\n",
              "        const docLink = document.createElement('div');\n",
              "        docLink.innerHTML = docLinkHtml;\n",
              "        element.appendChild(docLink);\n",
              "      }\n",
              "    </script>\n",
              "  </div>\n",
              "\n",
              "\n",
              "<div id=\"df-83600f9b-9181-4031-8ce3-6549b5c247e3\">\n",
              "  <button class=\"colab-df-quickchart\" onclick=\"quickchart('df-83600f9b-9181-4031-8ce3-6549b5c247e3')\"\n",
              "            title=\"Suggest charts\"\n",
              "            style=\"display:none;\">\n",
              "\n",
              "<svg xmlns=\"http://www.w3.org/2000/svg\" height=\"24px\"viewBox=\"0 0 24 24\"\n",
              "     width=\"24px\">\n",
              "    <g>\n",
              "        <path d=\"M19 3H5c-1.1 0-2 .9-2 2v14c0 1.1.9 2 2 2h14c1.1 0 2-.9 2-2V5c0-1.1-.9-2-2-2zM9 17H7v-7h2v7zm4 0h-2V7h2v10zm4 0h-2v-4h2v4z\"/>\n",
              "    </g>\n",
              "</svg>\n",
              "  </button>\n",
              "\n",
              "<style>\n",
              "  .colab-df-quickchart {\n",
              "      --bg-color: #E8F0FE;\n",
              "      --fill-color: #1967D2;\n",
              "      --hover-bg-color: #E2EBFA;\n",
              "      --hover-fill-color: #174EA6;\n",
              "      --disabled-fill-color: #AAA;\n",
              "      --disabled-bg-color: #DDD;\n",
              "  }\n",
              "\n",
              "  [theme=dark] .colab-df-quickchart {\n",
              "      --bg-color: #3B4455;\n",
              "      --fill-color: #D2E3FC;\n",
              "      --hover-bg-color: #434B5C;\n",
              "      --hover-fill-color: #FFFFFF;\n",
              "      --disabled-bg-color: #3B4455;\n",
              "      --disabled-fill-color: #666;\n",
              "  }\n",
              "\n",
              "  .colab-df-quickchart {\n",
              "    background-color: var(--bg-color);\n",
              "    border: none;\n",
              "    border-radius: 50%;\n",
              "    cursor: pointer;\n",
              "    display: none;\n",
              "    fill: var(--fill-color);\n",
              "    height: 32px;\n",
              "    padding: 0;\n",
              "    width: 32px;\n",
              "  }\n",
              "\n",
              "  .colab-df-quickchart:hover {\n",
              "    background-color: var(--hover-bg-color);\n",
              "    box-shadow: 0 1px 2px rgba(60, 64, 67, 0.3), 0 1px 3px 1px rgba(60, 64, 67, 0.15);\n",
              "    fill: var(--button-hover-fill-color);\n",
              "  }\n",
              "\n",
              "  .colab-df-quickchart-complete:disabled,\n",
              "  .colab-df-quickchart-complete:disabled:hover {\n",
              "    background-color: var(--disabled-bg-color);\n",
              "    fill: var(--disabled-fill-color);\n",
              "    box-shadow: none;\n",
              "  }\n",
              "\n",
              "  .colab-df-spinner {\n",
              "    border: 2px solid var(--fill-color);\n",
              "    border-color: transparent;\n",
              "    border-bottom-color: var(--fill-color);\n",
              "    animation:\n",
              "      spin 1s steps(1) infinite;\n",
              "  }\n",
              "\n",
              "  @keyframes spin {\n",
              "    0% {\n",
              "      border-color: transparent;\n",
              "      border-bottom-color: var(--fill-color);\n",
              "      border-left-color: var(--fill-color);\n",
              "    }\n",
              "    20% {\n",
              "      border-color: transparent;\n",
              "      border-left-color: var(--fill-color);\n",
              "      border-top-color: var(--fill-color);\n",
              "    }\n",
              "    30% {\n",
              "      border-color: transparent;\n",
              "      border-left-color: var(--fill-color);\n",
              "      border-top-color: var(--fill-color);\n",
              "      border-right-color: var(--fill-color);\n",
              "    }\n",
              "    40% {\n",
              "      border-color: transparent;\n",
              "      border-right-color: var(--fill-color);\n",
              "      border-top-color: var(--fill-color);\n",
              "    }\n",
              "    60% {\n",
              "      border-color: transparent;\n",
              "      border-right-color: var(--fill-color);\n",
              "    }\n",
              "    80% {\n",
              "      border-color: transparent;\n",
              "      border-right-color: var(--fill-color);\n",
              "      border-bottom-color: var(--fill-color);\n",
              "    }\n",
              "    90% {\n",
              "      border-color: transparent;\n",
              "      border-bottom-color: var(--fill-color);\n",
              "    }\n",
              "  }\n",
              "</style>\n",
              "\n",
              "  <script>\n",
              "    async function quickchart(key) {\n",
              "      const quickchartButtonEl =\n",
              "        document.querySelector('#' + key + ' button');\n",
              "      quickchartButtonEl.disabled = true;  // To prevent multiple clicks.\n",
              "      quickchartButtonEl.classList.add('colab-df-spinner');\n",
              "      try {\n",
              "        const charts = await google.colab.kernel.invokeFunction(\n",
              "            'suggestCharts', [key], {});\n",
              "      } catch (error) {\n",
              "        console.error('Error during call to suggestCharts:', error);\n",
              "      }\n",
              "      quickchartButtonEl.classList.remove('colab-df-spinner');\n",
              "      quickchartButtonEl.classList.add('colab-df-quickchart-complete');\n",
              "    }\n",
              "    (() => {\n",
              "      let quickchartButtonEl =\n",
              "        document.querySelector('#df-83600f9b-9181-4031-8ce3-6549b5c247e3 button');\n",
              "      quickchartButtonEl.style.display =\n",
              "        google.colab.kernel.accessAllowed ? 'block' : 'none';\n",
              "    })();\n",
              "  </script>\n",
              "</div>\n",
              "    </div>\n",
              "  </div>\n"
            ],
            "application/vnd.google.colaboratory.intrinsic+json": {
              "type": "dataframe",
              "variable_name": "news_df",
              "summary": "{\n  \"name\": \"news_df\",\n  \"rows\": 2096,\n  \"fields\": [\n    {\n      \"column\": \"author\",\n      \"properties\": {\n        \"dtype\": \"category\",\n        \"num_unique_values\": 491,\n        \"samples\": [\n          \"Carole Roscitto\",\n          \"Paul Craig Roberts\",\n          \"Shelby Kellin\"\n        ],\n        \"semantic_type\": \"\",\n        \"description\": \"\"\n      }\n    },\n    {\n      \"column\": \"published\",\n      \"properties\": {\n        \"dtype\": \"string\",\n        \"num_unique_values\": 2006,\n        \"samples\": [\n          \"2016-10-26T22:46:15.945+03:00\",\n          \"2016-10-27T01:45:00.000+03:00\",\n          \"2016-11-02T18:22:24.792+02:00\"\n        ],\n        \"semantic_type\": \"\",\n        \"description\": \"\"\n      }\n    },\n    {\n      \"column\": \"title\",\n      \"properties\": {\n        \"dtype\": \"string\",\n        \"num_unique_values\": 1784,\n        \"samples\": [\n          \"presstvrussian warships flotilla off syrian coast\",\n          \"hillary responds to creepy joe biden caught groping dozens of young women\",\n          \"trump kills the gop with the lowest score in history of presidential leadership poll\"\n        ],\n        \"semantic_type\": \"\",\n        \"description\": \"\"\n      }\n    },\n    {\n      \"column\": \"text\",\n      \"properties\": {\n        \"dtype\": \"string\",\n        \"num_unique_values\": 1941,\n        \"samples\": [\n          \"a subject not often discussed is the topic of how to repair strained or broken relationships it is one that comes up in everyones life so it will be useful to make a few suggestions about it here we will talk about relationships from friends family and lovers\\nrelationships among friends we will treat first the first step in this process is to make an evaluation to determine whether the relationship is worth saving or rehabilitating it is a simple fact of life that some relationships have an expiration date when two people no longer have anything in common or their paths take them in divergent directions it may be difficult to find common ground in this situation it is always better to let the relationship die a natural death slowly rather than rapidly abrupt terminations may leave the other party with negative feelings and this should be avoided if at all possible\\nthere are some instances where repair is not possible when someone has committed a fundamental violation of trust or respect this is a warning sign that the person was never a friend in the first place another point to keep in mind is that repair of a broken relationship requiresno demandsthe participation of both parties if the other person is unwilling to participate in the process then your efforts will be futile and will come to nothing\\n\\nonce we have determined that the friendship is worth repairing or sustaining the next step is to decide how to make the first approach to the other party in this we must try to evaluate the reasons for the problems in the first place we should make an honest assessment about how things got to where they are did someone say or do something that caused hard feelings on the other side was there some intervening cause that made the two parties diverge in plans and activities these types of questions must be honestly and repeatedly asked we have a tendency to minimize our own hurtful actions and exaggerate those of others and this must be kept in mind\\nthe key rule at this point is to try to put ourselves in the shoes of the other party we must try to see things from our friends perspective for many people this can be difficult as it involves getting past our own feelings of hurt or rejection and into the shoes of the other person and yet it is essential very frequently the reasons for strained or broken friendships lies in the fact that there is some problem going on in the other persons life only by being a perceptive student of human nature can we divine the cause sometimes the only thing that caused the strained relationship was some misunderstanding that was easily curable\\nkeep in mind that we must tryat least in our own mindsto discover the source of the other persons problem this is not always possible as human beings are not always rational but we can at least make the effort i remember in the film hoffa that there was a great line from jack nicholson he told one of his men real problems real grievances can be resolved they can be negotiated but imaginary grievances that man is going to hate you for life i have no idea if jimmy hoffa every actually said this but it sounds like something he would have said he meant that we should avoid hurting the pride of our friends we should be acutely aware how it is sometimes the intangible slights that can most rankle with a man\\nwhen you have decided to make the first step it is always better to initiate contact directly do not wait for the other person to do it depending on the circumstances this should be done discreetly and without too much in the way of overpowering insistence there is a certain type of finesse that a man should have at critical times and this is one of them the approach should be direct but neither insistent nor demanding a fish is best hooked with a lure gently laid\\nof vital importance here is that the approach be sincere one should genuinely want to contact the other party sincerity is the glue that binds friendships together and permits their longevity there should be no hypocrisy or falsity in any of our dealings with friends this kind of thing is immediately apparent and once detected its whiff surrounds the offending party like a permanent cloud if the other party is receptive to the approach we can then gradually feel our way forward taking care to avoid the reasons why the friendship became strained in the first place things may never quite go back to what they were but at least we can find solid ground for a new frame of reference\\ntwo examples will suffice here the historian william shirer worked closely with famed correspondent edward r murrow when the two were in germany in the s yet after the war was over the two grew apart shirers account of the estrangement suggests that he was repelled by murrows enthusiastic adoption of the anticommunist hysteria of the time shirer found himself gradually blackballed from most major news networks before being forced out completely he broke with murrow over these events many decades later he approached murrow all venom spent the two were able to find common ground again\\n\\nanother example makes the same point theodore roosevelt was a strongwilled insistent man to say the least he was in a position to choose his successor as president and to this end he selected a man very different from him the affable and rotund william howard taft taft eventually began to find roosevelt an overbearing and unwelcome presence in his life the two men eventually broke completely a result of their personality differences and different conceptions of leadership to his credit roosevelt eventually approached his old friend privately to patch things up they were never the same of course but at least some cordiality was restored\\nrelationships with family are of a fundamentally different sort because we are linked by bonds of blood or perhaps marriage it will be more difficult to disentangle ourselves from those with whom we have become estranged on the other hand it may be easier to repair such grievances or at least find common ground since there may be more shared experiences with the other party that act in our favor the key here is not to expect too much although shared history and common blood may work in our favor they can be counterbalanced to some extent by the fact that irrational family antagonisms can run deeper than those from strained friendships patience and persistence are most important here perhaps more so than friendships with those unrelated to us\\n\\nrepairing strained relationships with lovers is perhaps the most difficult when a man and woman have been united in the past through the coital act an entirely different set of emotions and motivations come into play relationships between lovers can fail or become strained for an infinite number of reasons and it would be impossible to discuss all of them here it is enough for me to state my opinion that it is nearly impossible to bring an intimate sexual relationship back to what it was after it has been broken\\nstrained is one thing broken is quite another my own experience leads me to believe that once a sexual relationship is done it is done one cannot really go back to what it was before amicable dealings are certainly possible and happen all the time but i would not call this friendship i would call it an uneasy equilibrium loves inflammatory presence scorches all it leaves in its wake\\nread more   proven ways to stop obsessive thoughts\",\n          \"louder with crowder october   \\nsamantha bee is proof positive that being funny clever or photogenic are no longer requirements in leftist media i guess we can call that progress problem is whatever the size of bees audience there is still an audience which she lied to par for the course in leftist circles but this one needs a rebuttal samantha bee said partial birth abortion is not a thing while she ranted and raved at donald trump for his comments in the final debate  sorry sammy partial birth abortion is sadly a thing \\nheres what i find interesting bees need to explain away partial birth abortion shows just how unpopular the procedure is shes trying to get rid of it not unlike a woman hoping to chop shop her unborn baby  of course she stops short of saying its a heinous evil thing for people to do to their own children by excusing the sick evil twisted women and the doctors who perform the butchery who make it happen sorry there is no reason to suck the brains out of a partially born baby for the health of the mother or if the baby has a terminal disease \\nabortion is always wrong like always \\nbecause chopping up a baby while its partially hanging out of the mother its head still in the birth canal because its going to die anyway makes sense if you agree with killing a baby like this for any reason youre sick probably a little bit evil read dear evil women who abort their babies yep that was written for you abortion supporters not sorry you might also like dear liberal women no getting an abortion is not brave this article was posted wednesday october   at  am share this article\",\n          \"united states marine field mcconnell  plum city online   abeldangernet   october   \\n abel danger  ad  claims that serco relayed zulu timing signals to mentors of the federal bridge certification authority in support of live webcast of torture killings in the mumbai attacks of november  and bc pig farm raves  \\n\\n ad claims that serco used an a prot\\u00e9g\\u00e9 company  base one technologies  to blackmail hillary clinton into outsourcing the operation of the us patent and trademark office to users of the federal bridge and equipping selected users with patented webcast servers for zulu betting on the times of victims deaths \\n\\n ad claims that in  serco operatives at the national visa center began equipping hillary clinton and michelle obama  a former sidley austin intellectual property ip lawyer and a prot\\u00e9g\\u00e9e of terrorist bernardine dohrn  with a longrange visa service for the bc pig farm and mumbai snufffilm crews \\n\\n united states marine field mcconnell  global operations director of abel danger  has offered to serve as a fivestar general in a future trump administration so he can first recognize and then destroy sercos zulu bridge to clinton patents and obama snufffilm crews \\n\\nmumbai terror attack watch nsg successful in mission against mumbai attackers   \\nmedia coverage of starnet raid  august       \\n\\nhillary clinton vs james comey email scandal supercut  \\ncopy of serco group plc list of subsidiaries and shareholders note british and saudi governments axa hsbc  teachers and gold man sachs    \\ndefense ammunition center outsourced to serco    \\nserco  would you like to know more  \\n\\ndigital fires instructor serco  camp pendleton ca uses information derived from all military disciplines eg aviation ground combat command and control combat service support intelligence and opposing forces to determine changes in enemy capabilities vulnerabilities and probable courses of action \\n\\nthe  mumbai bombay attacks were a series of attacks that took place in november  when  members of lashkaretaiba  an islamic militant organisation based in pakistan  carried out a series of  coordinated shooting and bombing attacks lasting four days across mumbai  the attacks which drew widespread global condemnation began on wednesday  november and lasted until saturday  november  killing  people and wounding at least    \\n\\neight of the attacks occurred in south mumbai at chhatrapati shivaji terminus  the oberoi trident the taj mahal palace  tower  leopold cafe cama hospital the nariman house jewish community centre the metro cinema and in a lane behind the times of india building and st xaviers college  there was also an explosion at mazagaon in mumbais port area and in a taxi at vile parle  by the early morning of  november all sites except for the taj hotel had been secured by mumbai police and security forces on  november indias national security guards nsg conducted operation black tornado to flush out the remaining attackers it culminated in the death of the last remaining attackers at the taj hotel and ending the attacks ajmal kasab disclosed that the attackers were members of lashkaretaiba among others the government of india said that the attackers came from pakistan and their controllers were in pakistan on  january  pakistan confirmed the sole surviving perpetrator of the attacks was a pakistani citizen on  april  the foremost ringleader of the attacks zakiur rehman lakhvi  was granted bail against surety bonds of  us in pakistan \\n\\nthe case of the vanishing visa files  \\ndecember    pm pst  \\nby chuck goudie   \\ndecember   chicago  potentially important evidence has disappeared in a terrorism case involving two chicago men their visa records vanished from chicagos indian consulate it comes one week after the abc  iteam raised questions about how david coleman headley and tahawwur rana obtained their foreign visas in the first place \\n\\nthe case of the vanishing visa records has churned up diplomats from mumbai to michigan avenue indias foreign secretary nirupama rao told reporters overseas wednesday that she wants answers from chicagos indian consulate about the records and visa documents that have disappeared records that might show how two accused chicago terrorists obtained permission to scout targets in india \\n\\ntop officials of chicagos india consulate wouldnt talk to the iteam on camera last week when asked how terror suspects david coleman headley and tahawwur rana obtained fiveyear unlimited passage visas to india \\n\\nand the consul general did not return calls wednesday regarding the paperwork they used to process headley and ranas visas which indian foreign secretary nirupama rao announced wednesday have disappeared \\n\\nwednesday evening the chicago consul general emailed a statement to the iteam that conflicted with government statements made in india the brief statement read we have not reported loss of any papers regarding issuance of visa to david coleman headley and tahawwur rana hussain relevant information concerning the issuance of visa to these persons is available with the government of india \\n\\nindias counterpart to the fbi is looking into the visa application process as part of its probe into the  mumbai massacre \\n\\nthe two chicago suspects are accused of having roles in the assault rana was denied bond by a chicago district judge tuesday despite family members and friends offering  million in cash and property rana has not been directly charged with the mumbai attack that left  dead but was linked to the assault in government court filings \\n\\nheadley a pakistanborn chicagoan is a convicted heroin dealer whose birth name was daood giliani he changed his name to ease travel to india according to federal prosecutors in chicago and to avoid the required previsa background check by indian authorities \\n\\nsince the time headley and rani were processed indias chicago consulate office began contracting out visa requests to a private company called travisa outsourcing that on its website claims we have revolutionized the way people get their visas \\n\\nand the new visa processing was subject of a news conference last year \\n\\nthe advantages of outsourcing is the travisa company which is handling the outsourcing has set up a call center said ashok kumar attri consul general \\n\\nforeign secretary rao said she is impressed with the cooperation the us has given to indian investigators headley and rana are not due back in court until january \\n\\nwas bernardine dohrn the mentor of michelle obama at sidley austin  \\napril    \\nbernardine dohrn was at sidley austin a law firm in chicago from from  to  dohrn was employed by the law firm sidley austin although her criminal record has prevented her from being admitted to either the new york or illinois bar httpenwikipediaorgwikibernardine_dohrn \\n\\nmichelle obama graduated from harvard law school in  but she likely also was a summer associate in  and likely  barack obama was assigned to her in  when he was a summer associate from harvard law school httpenwikipediaorgwikibarack_obama \\n\\nhe entered harvard law school in  more links and excerpts \\n\\nhttpsoldatlanticlighthousewordpresscomnorthwesternlawprofbernardinedohrnweatherunderground   \\n\\nsteve sailer on michelle obama \\nhttpwwwvdarecomsailer_michelle_obamahtm   \\n\\nmichelles princeton thesis \\nhttpblogvdarecomarchivesmichelleobamathesisfounddownloadithere   \\n\\njames fulford quotes politico \\n\\nmichelle obamas senior year thesis at princeton university obtained exclusively from the campaign by politico  shows a document written by a young woman grappling with a society in which a black princeton alumnus might only be allowed to remain on the periphery read the full thesis here part   part   part   part   michelle obama thesis was on racial divide  jeffrey ressner  politicocom \\n\\nsidley austin likely recognized this in michelle even if she didnt show them her princeton thesis who better at sidley austin to be mentor to the author of this princeton thesis than bernardine dohrn who had been number  on the fbi most wanted list \\n\\nbarack obama was assigned to michelle obama in summer  this may have reflected how few blacks there were at sidley austin especially from harvard law school or the equivalent dohrn got her jd from university of chicago law school since she is a prof at northwestern despite her background we might infer she was very smart and understanding so she was the perfect person to be the mentor for michelle obama at sidley austin \\n\\nthe above is speculation hypotheses or opinion all statements should be restated as questions all other disclaimers apply \\n\\nwebcasting is the distribution of media files through the internet the earliest webcast equivalent of an online concert and one of the earliest examples of webcasting itself was by apple computer s webcasting group in partnership with the entrepreneurs michael dorf and andrew rasiej  together with david b pakman from apple they launched the macintosh new york music festival from july   this event audio webcast concerts from more than  clubs in new york city apple later webcast a concert by metallica on june   live from slims in san francisco   \\n\\nin  benford e standley produced one of the first audiovideo webcasts in history on october   uk rock band caduseus broadcast their onehour concert from pm to am ut at celtica in machynlleth wales uk  the first live streamed audio and simultaneous live streamed video multicast  around the globe to more than twenty direct mirrors in more than twenty countries   \\n\\nserco processes  millionth patent application for us patent and trademark office date  mar  serco inc a leading provider of professional technology and management services to the federal government announced today that their pregrant publication pgpubs classification services team recently processed their  millionth patent application for the us patent  trademark office uspto each application was also processed within the contractually required day window \\n\\nbreaking hillaryclintons email server company got almost  million in govt loans after wiping emails   \\noctober    \\nby charles c johnson  comments  \\ngive it up already its over k j gillenwater was the primary researcher behind this story \\n\\nhillary clintons email server company got almost  million in government loans starting immediately after they were secretly asked to wipe hillary clintons name from her emails \\n\\nplatte river networks prn got a  loan from the small business administration in august  and another  loan in september  \\n\\npublic government data available as usaspendinggov \\n\\nthe first halfmillion dollar loan arrived not one month after prn employee paul combetta was caught accidentally revealing his company was deleting evidence at hillarys request in july   \\n\\nthe second  loan came about one year later \\n\\nyou wont hear this stuff from the lying mainstream media keep the gotnews mission alive donate at gotnewscomdonate or send tips to editorgotnewscom if youd like to join our research team contacteditorgotnewscom \\n\\nafter getting the first loan prn moved to a large office space after previously working out of the owners condo the head of the small business administration is maria contrerassweet  a mexican immigrant who was appointed to the office by barack obama two months before hillarys prn got the first loan \\n\\nwikileaks leaks have proven hillarys corrupt paytoplay scheme gotnews has shined a light on how hillary gets favors from hispanic and democratic government bureaucrats before  \\n\\ndid hillary clinton pay her email server company platte river networks prn with almost  million in favorable government loans  given out by a political friendly  in order to alter her illegal emails and get her name off them \\n\\nit sure looks like it \\n\\na freedom of information act foia request has been lodged for more information \\n\\nstay tuned for more \\n\\nk j gillenwater was the primary researcher behind this story  \\n\\npolice conclude search of starnet   \\ncbc news posted aug    am et last updated aug    am et  \\npolice have wrapped up several days of searching the offices of starnet communications in vancouver they entered the company offices and homes of some directors on friday \\n\\npolice were looking for evidence of illegal gambling distributing child pornography and money laundering since the raid starnet officials say police just dont understand their business \\n\\nthe search warrant details  months of police investigation it traces a network of companies registered in american and caribbean jurisdictions \\n\\nthe warrant also identifies vancouver as the centre of starnets operations even though this is a grey under canadian law \\n\\npolice note that starnets revenues grew dramatically in the past two years from betting and sex shows and from lucrative licensing agreements for its gaming software the investigations and pornography from company sites were grounds for fridays raid and seizure of company materials \\n\\nrcmp constable peter thiessen says investigators left starnet offices yesterday morning he says they spent the better part of three days going through the business and as a result of that search the investigation is continuing but no charges have been laid starnets many investors were spooked by the raid share prices dropped almost percent on friday however the company insists the raid had minimal effect on its operation stocks rose slightly yesterday after a day of very heavy trading \\n\\nin written statements company ceo mark dohlen said the wall street journal calls starnet the leader in internet gaming and entertainment he says companies like his those on the cutting edge are often misunderstood yesterday starnet announced it will sell off the sex side of its business it plans to focus more resources on gaming \\n\\nthe police investigation is expected to last for several more months \\n\\nsuper serco bulldozes ahead  \\nby daily mail reporter updated  gmt  september  \\nserco has come a long way since the s when it ran the fourminute warning system to alert the nation to a ballistic missile attack \\n\\ntoday its bn order book is bigger than many countries defence budgets it is bidding for a further bn worth of contracts and sees bn of opportunities \\n\\nprofit growth is less ballistic the firsthalf pretax surplus rose  to m net profits just  to m stripping out goodwill the rise was  with dividends up  to p \\n\\nserco runs the docklands light railway five uk prisons airport radar and forest bulldozers in florida  \\n\\n serco farewell to npl after  years of innovation  january  serco said goodbye to the national physical laboratory npl at the end of december  after  years of extraordinary innovation and science that has seen the establishment build a worldleading reputation and deliver billions of pounds of benefit for the uk economy during that period under serco s management and leadership npl has delivered an extraordinary variety and breadth of accomplishments for the uks economy and industry some of the key achievements during that time have been it has been estimated that work carried out by the centre of carbon measurement at npl will save eight million tonnes of carbon emissions reductions  of uk footprint and over half a billion pounds in economic benefit over the next decade npls caesium fountain atomic clock is accurate to  second in  million years and npl is playing a key role in introducing rigour to high frequency trading for serco s front running banks in the city through npl zulu time \\n\\nuk cabinet office  emergency planning college  serco types of exercise workshop exercises these are structured discussion events where participants can explore issues in a less pressurised environment they are an ideal way of developing solutions procedures and plans rather than the focus being on decision making table top exercises these involve a realistic scenario and will follow a time line either in realtime or with time jumps to concentrate on the more important areas the participants would be expected to be familiar with the plans and procedures that are being used although the exercise tempo and complexity can be adjusted to suit the current state of training and readiness simulation and media play can be used to support the exercise tabletop exercises help develop teamwork and allow participants to gain a better understanding of their roles and that of other agencies and organisations commandcontrol post exercises these are designed primarily to exercise the senior leadership and support staff in collective planning and decision making within a strategic grouping ideally such exercises would be run from the real command and control locations and using their communications and information systems feeling lucky punk  this could include a mix of locations and varying levels of technical simulation support the gold standard system is flexible to allow the tempo and intensity to be adjusted to ensure maximum training benefit or to fully test and evaluate the most important aspects of a plan such exercises also test information flow communications equipment procedures decision making and coordination live exercises these can range from testing individual components of a system or organisation through to a fullscale rehearsal they are particularly useful where there are regulatory requirements or with highrisk situations they are more complex and costly to organise and deliver but can be integrated with command post exercises as part of a wider exercising package  \\n\\nchristopher rajendran hyman cbe born  july  in durban south africa was chief executive of serco group plc from  to october   on graduation he worked for arthur andersen in  he won an month exchange with ernst  young in london who employed him after four months head hunted in  by serco  hyman became european finance director and in  was made group finance director in  hyman became chief executive  hyman resigned from his role of chief executive of serco on  october  following allegations that serco had overcharged government customers  he was making a presentation to serco shareholder including british and saudi governments on the th floor of the world trade center north tower at the time of the september  attacks in  \\n\\njuly   developments in pki occurred in the early s at the british intelligence agency gchq  where james ellis  clifford cocks and others made important discoveries related to encryption algorithms and key distribution   however as developments at gchq are highly classified the results of this work were kept secret and not publicly acknowledged until the mids \\n\\nthe public disclosure of both secure key exchange and asymmetric key algorithms in  by diffie hellman  rivest shamir  and adleman changed secure communications entirely with the further development of highspeed digital electronic communications the internet and its predecessors a need became evident for ways in which users could securely communicate with each other and as a further consequence of that for ways in which users could be sure with whom they were actually interacting \\n\\nassorted cryptographic protocols were invented and analyzed within which the new cryptographic primitives could be effectively used with the invention of the world wide web and its rapid spread the need for authentication and secure communication became still more acute commercial reasons alone eg ecommerce online access to proprietary databases from web browsers were sufficient taher elgamal and others at netscape developed the ssl protocol https in web urls it included key establishment server authentication prior to v oneway only and so on a pki structure was thus created for web userssites wishing secure communications \\n\\nvendors and entrepreneurs saw the possibility of a large market started companies or new projects at existing companies and began to agitate for legal recognition and protection from liability an american bar association technology project published an extensive analysis of some of the foreseeable legal aspects of pki operations see aba digital signature guidelines and shortly thereafter several us states utah being the first in  and other jurisdictions throughout the world began to enact laws and adopt regulations consumer groups raised questions about privacy access and liability considerations which were more taken into consideration in some jurisdictions than in others \\n\\nthe enacted laws and regulations differed there were technical and operational problems in converting pki schemes into successful commercial operation and progress has been much slower than pioneers had imagined it would be \\n\\nby the first few years of the st century the underlying cryptographic engineering was clearly not easy to deploy correctly operating procedures manual or automatic were not easy to correctly design nor even if so designed to execute perfectly which the engineering required the standards that existed were insufficient \\n\\npki vendors have found a market but it is not quite the market envisioned in the mids and it has grown both more slowly and in somewhat different ways than were anticipated pkis have not solved some of the problems they were expected to and several major vendors have gone out of business or been acquired by others pki has had the most success in government implementations the largest pki implementation to date is the defense information systems agency disa pki infrastructure for the common access cards program  \\n\\nbase one technologies  corporate strategy  we are a government certified womenowned business   \\nwe practice diversity recruitment and staffing for it positions base one was founded in  by a women engineer who had made a career in technology research for many years base one has been very successful in focusing on diversity recruiting and staffing for it projects it has been our experience that the greater the diversity mix the more creative the solution as in any field the more diverse the viewpoint the more thorough your analysis our engineers can think out of the box \\n\\nbecause of our affiliations we have access to pools of resources among more diverse groups  individuals we work with a large pool of minority professionals who specialize in it skills we are able to have access to these resources through our status as a dmwbd firm and our affiliations these affiliations assist us in working with resources among more diverse groups  individuals we are also partnered with firms that are a certified as minority firms disabled veteran firms native american firms vietnam veteran firms women owned firms \\n\\nour hub zone location keeps us close to the professional organizations of great diversity we are active in recruiting from and networking with these community organizations of local it professionals this has given us access to a large pool of diversity talent \\n\\nbase ones staff of engineers are a diverse group of professionals this diverse network of engineers helps us to branch out to other engineers and creates an even larger network of resources for us to work with \\n\\nthe greater the diversity the more complete  thorough the analysis the broader the spectrum of points of view the broader the scope of the analysis we feel that a diverse team gives us a greater advantage in creating cutting edge solutions to that end we will continue to nurture these relationships to further extend our talent pool \\n\\nthe greater the diversity mix the more creative the solution \\n\\nthe more diverse the viewpoint the more thorough the analysis \\n\\nthe more diverse our team the more our engineers can think out of the box \\n\\nthis is why base one technologies concentrates on diversity recruitment in the belief that a diverse team gives us a greater advantage in creating cutting edge solutions \\n\\ninformation security planning is the process whereby an organization seeks to protect its operations and assets from data theft or computer hackers that seek to obtain unauthorized information or sabotage business operations \\n\\nkey clients benefiting from our information security expertise pentagon renovation program faa citigroup mci \\n\\nbase one technologies \\n\\nexpertly researches designs and develops information security policies that protect your data and manage your firms information technology risk at levels acceptable to your business \\n\\nperforms architectural assessments and conducts both internal and external penetration testing the results of these efforts culminate in an extensive risk analysis and vulnerabilities report \\n\\ndevelops implements and supports information security counter measures such as honeypots and evidence logging and incident documentation processes and solutions \\n\\nbase one technologies ltd is a domestic business corporation located in new york ny and was formed on feb   this file was obtained from the secretary of state and has a file number of   \\n\\nsercos office of partner relations opr helps facilitate our aggressive small business utilization and growth strategies through the opr serco mentors four local small businesses under formal mentor prot\\u00e9g\\u00e9 agreements three sponsored by dhs base one technologies tsymmetry inc and heitech services inc and the fourth sponsored by gsa dkw communications inc serco and heitech services were awarded the  dhs mentor prot\\u00e9g\\u00e9 team award for exceeding our mentoring goals httpwwwdticmilwhsdirectivescorrespdfppdf \\n\\nopened in  as the successor to the transitional immigrant visa processing center in rosslyn va the nvc centralizes all immigrant visa preprocessing and appointment scheduling for overseas posts the nvc collects paperwork and fees before forwarding a case ready for adjudication to the responsible post \\n\\nthe center also handles immigrant and fianc\\u00e9 visa petitions and while it does not adjudicate visa applications it provides technical assistance and support to visaadjudicating consular officials overseas \\n\\nonly two foreign service officers the director and deputy director work at the center along with just five civil service employees they work with almost  contract employees doing preprocessing of visas making the center one of the largest employers in the portsmouth area \\n\\nthe contractor serco  inc has worked with the nvc since its inception and with the department for almost  years \\n\\nthe nvc houses more than  million immigrant visa files receives almost two million pieces of mail per year and received more than half a million petitions from the us citizenship and immigration service uscis in  its file rooms highdensity shelves are stacked floortoceiling with files each a collection of someones hopes and dreams and each requiring proper handling  \\n\\nthe nvc also preprocesses the chief of mission com application required for the filing of a petition for a special immigrant visa siv such visas for foreign nationals who have performed services for the us government in iraq and afghanistan require com concurrence before the applicant can file a petition with uscis the nvc collects the requisite documents from such applicants and when complete forwards the package to the us embassies in baghdad or kabul for com approval \\n\\nyours sincerely \\n\\nfield mcconnell united states naval academy  forensic economist  year airline and  year military pilot  hours of safety tel    \\n\\ndavid hawkins tel   forensic economist former leader of oilwell blowout teams now sponsors grand juries in csi crime and safety investigation\"\n        ],\n        \"semantic_type\": \"\",\n        \"description\": \"\"\n      }\n    },\n    {\n      \"column\": \"language\",\n      \"properties\": {\n        \"dtype\": \"category\",\n        \"num_unique_values\": 5,\n        \"samples\": [\n          \"ignore\",\n          \"spanish\",\n          \"german\"\n        ],\n        \"semantic_type\": \"\",\n        \"description\": \"\"\n      }\n    },\n    {\n      \"column\": \"site_url\",\n      \"properties\": {\n        \"dtype\": \"category\",\n        \"num_unique_values\": 68,\n        \"samples\": [\n          \"proudemocrat.com\",\n          \"clickhole.com\",\n          \"abovetopsecret.com\"\n        ],\n        \"semantic_type\": \"\",\n        \"description\": \"\"\n      }\n    },\n    {\n      \"column\": \"main_img_url\",\n      \"properties\": {\n        \"dtype\": \"string\",\n        \"num_unique_values\": 1229,\n        \"samples\": [\n          \"https://4.bp.blogspot.com/-HAp5fNZT0L0/WCr1jhplhiI/AAAAAAAAmGY/E2AUUm8wydo_dB2DtBE_cN2xqwHjB0zTgCLcB/w1200-h630-p-nu/Flitzer-Schach-WM.jpg\",\n          \"http://www.voltairenet.org/local/cache-vignettes/L113xH150/arton193897-6c713.jpg\",\n          \"http://awdnews.com/images/14775618731.jpg\"\n        ],\n        \"semantic_type\": \"\",\n        \"description\": \"\"\n      }\n    },\n    {\n      \"column\": \"type\",\n      \"properties\": {\n        \"dtype\": \"category\",\n        \"num_unique_values\": 8,\n        \"samples\": [\n          \"conspiracy\",\n          \"hate\",\n          \"bias\"\n        ],\n        \"semantic_type\": \"\",\n        \"description\": \"\"\n      }\n    },\n    {\n      \"column\": \"label\",\n      \"properties\": {\n        \"dtype\": \"category\",\n        \"num_unique_values\": 2,\n        \"samples\": [\n          \"Fake\",\n          \"Real\"\n        ],\n        \"semantic_type\": \"\",\n        \"description\": \"\"\n      }\n    },\n    {\n      \"column\": \"title_without_stopwords\",\n      \"properties\": {\n        \"dtype\": \"string\",\n        \"num_unique_values\": 1780,\n        \"samples\": [\n          \"weekly astrology nov us election prediction video\",\n          \"friday fox follies megyn murdochs money\"\n        ],\n        \"semantic_type\": \"\",\n        \"description\": \"\"\n      }\n    },\n    {\n      \"column\": \"text_without_stopwords\",\n      \"properties\": {\n        \"dtype\": \"string\",\n        \"num_unique_values\": 1937,\n        \"samples\": [\n          \"email ever wonder whats mind todays notable people well dont miss unbelievable roundup best talked quotes day saw contortionist fold box toys food box didnt really see point paula hawkins flexibility youre rich pay guy breathe shoes warm put youre less wealthy still afford someone really matter frugal spending organizing coop neighborhood people take turns breathing others shoes sheryl sandberg everyday luxury skin avocado hide many secret remove journey mystery madness neil gaiman\",\n          \"sonntag november sonntagsfrage sagen sie dazu dass donald trump tats\\u00e4chlich gewonnen hat w das werden sich hierzulande viele gedacht haben als sie mittwochmorgen die ersten nachrichten von donald trumps sieg gelesen haben nun wo sie sich allm\\u00e4hlich damit abgefunden haben d\\u00fcrften der ustillon nicht unterst\\u00fctzt vom meinungsforschungsinstitut opinion control weil denen seit der wahl nicht mehr zu trauen ist dieser woche von ihnen wissen und hier noch die unglaublich spannenden ergebnisse der letzten sonntagsfrage stimmen gesamt wer soll n\\u00e4chster bundespr\\u00e4sident werden topantworten tim wiese pro rhetorisches ass contra passt nicht durch die t\\u00fcr im schloss bellevue stimmen ich selbst pro einzige person der ich traue contra leider korrupt stimmen jan b\\u00f6hmermann pro etwas lustiger als gauck contra krieg mit der t\\u00fcrkei stimmen\"\n        ],\n        \"semantic_type\": \"\",\n        \"description\": \"\"\n      }\n    },\n    {\n      \"column\": \"hasImage\",\n      \"properties\": {\n        \"dtype\": \"number\",\n        \"std\": 0.41629892386736406,\n        \"min\": 0.0,\n        \"max\": 1.0,\n        \"num_unique_values\": 2,\n        \"samples\": [\n          0.0,\n          1.0\n        ],\n        \"semantic_type\": \"\",\n        \"description\": \"\"\n      }\n    }\n  ]\n}"
            }
          },
          "metadata": {},
          "execution_count": 8
        }
      ],
      "source": [
        "news_df.head(3)"
      ]
    },
    {
      "cell_type": "code",
      "execution_count": 9,
      "metadata": {
        "colab": {
          "base_uri": "https://localhost:8080/",
          "height": 624
        },
        "id": "E3qQ_u0YHo3A",
        "outputId": "07de8b22-bb72-4a3a-8919-ca6056410965"
      },
      "outputs": [
        {
          "output_type": "stream",
          "name": "stderr",
          "text": [
            "<ipython-input-4-6ef4bf1fa842>:23: FutureWarning: The default value of numeric_only in DataFrame.min is deprecated. In a future version, it will default to False. In addition, specifying 'numeric_only=None' is deprecated. Select only valid columns or specify the value of numeric_only to silence this warning.\n",
            "  pd.Series( data.min( skipna = True)   , name = \"Min\" ) ,\n",
            "<ipython-input-4-6ef4bf1fa842>:24: FutureWarning: The default value of numeric_only in DataFrame.max is deprecated. In a future version, it will default to False. In addition, specifying 'numeric_only=None' is deprecated. Select only valid columns or specify the value of numeric_only to silence this warning.\n",
            "  pd.Series( data.max( skipna = True ) , name = \"Max\" ) ,\n",
            "<ipython-input-4-6ef4bf1fa842>:25: FutureWarning: The default value of numeric_only in DataFrame.mean is deprecated. In a future version, it will default to False. In addition, specifying 'numeric_only=None' is deprecated. Select only valid columns or specify the value of numeric_only to silence this warning.\n",
            "  pd.Series( data.mean()          , name = \"Mean\") ,\n",
            "<ipython-input-4-6ef4bf1fa842>:26: FutureWarning: The default value of numeric_only in DataFrame.median is deprecated. In a future version, it will default to False. In addition, specifying 'numeric_only=None' is deprecated. Select only valid columns or specify the value of numeric_only to silence this warning.\n",
            "  pd.Series( data.median()        , name = \"Median\") ,\n"
          ]
        },
        {
          "output_type": "execute_result",
          "data": {
            "text/plain": [
              "                           Dtype   Count  NA Count  Count Unique  \\\n",
              "author                    object  2096.0       0.0         491.0   \n",
              "published                 object  2096.0       0.0        2006.0   \n",
              "title                     object  2096.0       0.0        1784.0   \n",
              "text                      object  2050.0      46.0        1941.0   \n",
              "language                  object  2095.0       1.0           5.0   \n",
              "site_url                  object  2095.0       1.0          68.0   \n",
              "main_img_url              object  2095.0       1.0        1229.0   \n",
              "type                      object  2095.0       1.0           8.0   \n",
              "label                     object  2095.0       1.0           2.0   \n",
              "title_without_stopwords   object  2094.0       2.0        1780.0   \n",
              "text_without_stopwords    object  2046.0      50.0        1937.0   \n",
              "hasImage                 float64  2095.0       1.0           2.0   \n",
              "0                            NaN     NaN       NaN           NaN   \n",
              "\n",
              "                         Count Duplicate  \\\n",
              "author                               NaN   \n",
              "published                            NaN   \n",
              "title                                NaN   \n",
              "text                                 NaN   \n",
              "language                             NaN   \n",
              "site_url                             NaN   \n",
              "main_img_url                         NaN   \n",
              "type                                 NaN   \n",
              "label                                NaN   \n",
              "title_without_stopwords              NaN   \n",
              "text_without_stopwords               NaN   \n",
              "hasImage                             NaN   \n",
              "0                                   10.0   \n",
              "\n",
              "                                                                 Min  \\\n",
              "author                                                  # 1 NWO Hatr   \n",
              "published                              2016-10-26T03:51:00.000+03:00   \n",
              "title                    a conundrum of the current political season   \n",
              "text                                                             NaN   \n",
              "language                                                         NaN   \n",
              "site_url                                                         NaN   \n",
              "main_img_url                                                     NaN   \n",
              "type                                                             NaN   \n",
              "label                                                            NaN   \n",
              "title_without_stopwords                                          NaN   \n",
              "text_without_stopwords                                           NaN   \n",
              "hasImage                                                         0.0   \n",
              "0                                                                NaN   \n",
              "\n",
              "                                                                       Max  \\\n",
              "author                                                            xuenchen   \n",
              "published                http://theeconomiccollapseblog.com/wp-content/...   \n",
              "title                    übrige wrestler überlegen wann sie tim wiese e...   \n",
              "text                                                                   NaN   \n",
              "language                                                               NaN   \n",
              "site_url                                                               NaN   \n",
              "main_img_url                                                           NaN   \n",
              "type                                                                   NaN   \n",
              "label                                                                  NaN   \n",
              "title_without_stopwords                                                NaN   \n",
              "text_without_stopwords                                                 NaN   \n",
              "hasImage                                                               1.0   \n",
              "0                                                                      NaN   \n",
              "\n",
              "                             Mean  Median  \\\n",
              "author                        NaN     NaN   \n",
              "published                     NaN     NaN   \n",
              "title                         NaN     NaN   \n",
              "text                          NaN     NaN   \n",
              "language                      NaN     NaN   \n",
              "site_url                      NaN     NaN   \n",
              "main_img_url                  NaN     NaN   \n",
              "type                          NaN     NaN   \n",
              "label                         NaN     NaN   \n",
              "title_without_stopwords       NaN     NaN   \n",
              "text_without_stopwords        NaN     NaN   \n",
              "hasImage                 0.777088     1.0   \n",
              "0                             NaN     NaN   \n",
              "\n",
              "                                                                      Mode  \n",
              "author                                                           No Author  \n",
              "published                                    2016-10-30T13:00:00.000+02:00  \n",
              "title                                                             no title  \n",
              "text                     notify me of followup comments by email notify...  \n",
              "language                                                           english  \n",
              "site_url                                                  activistpost.com  \n",
              "main_img_url                                                  No Image URL  \n",
              "type                                                                    bs  \n",
              "label                                                                 Fake  \n",
              "title_without_stopwords                                              title  \n",
              "text_without_stopwords   notify followup comments email notify new post...  \n",
              "hasImage                                                               1.0  \n",
              "0                                                                      NaN  "
            ],
            "text/html": [
              "\n",
              "  <div id=\"df-207d0514-aecc-49a7-8cb4-5676118111ff\" class=\"colab-df-container\">\n",
              "    <div>\n",
              "<style scoped>\n",
              "    .dataframe tbody tr th:only-of-type {\n",
              "        vertical-align: middle;\n",
              "    }\n",
              "\n",
              "    .dataframe tbody tr th {\n",
              "        vertical-align: top;\n",
              "    }\n",
              "\n",
              "    .dataframe thead th {\n",
              "        text-align: right;\n",
              "    }\n",
              "</style>\n",
              "<table border=\"1\" class=\"dataframe\">\n",
              "  <thead>\n",
              "    <tr style=\"text-align: right;\">\n",
              "      <th></th>\n",
              "      <th>Dtype</th>\n",
              "      <th>Count</th>\n",
              "      <th>NA Count</th>\n",
              "      <th>Count Unique</th>\n",
              "      <th>Count Duplicate</th>\n",
              "      <th>Min</th>\n",
              "      <th>Max</th>\n",
              "      <th>Mean</th>\n",
              "      <th>Median</th>\n",
              "      <th>Mode</th>\n",
              "    </tr>\n",
              "  </thead>\n",
              "  <tbody>\n",
              "    <tr>\n",
              "      <th>author</th>\n",
              "      <td>object</td>\n",
              "      <td>2096.0</td>\n",
              "      <td>0.0</td>\n",
              "      <td>491.0</td>\n",
              "      <td>NaN</td>\n",
              "      <td># 1 NWO Hatr</td>\n",
              "      <td>xuenchen</td>\n",
              "      <td>NaN</td>\n",
              "      <td>NaN</td>\n",
              "      <td>No Author</td>\n",
              "    </tr>\n",
              "    <tr>\n",
              "      <th>published</th>\n",
              "      <td>object</td>\n",
              "      <td>2096.0</td>\n",
              "      <td>0.0</td>\n",
              "      <td>2006.0</td>\n",
              "      <td>NaN</td>\n",
              "      <td>2016-10-26T03:51:00.000+03:00</td>\n",
              "      <td>http://theeconomiccollapseblog.com/wp-content/...</td>\n",
              "      <td>NaN</td>\n",
              "      <td>NaN</td>\n",
              "      <td>2016-10-30T13:00:00.000+02:00</td>\n",
              "    </tr>\n",
              "    <tr>\n",
              "      <th>title</th>\n",
              "      <td>object</td>\n",
              "      <td>2096.0</td>\n",
              "      <td>0.0</td>\n",
              "      <td>1784.0</td>\n",
              "      <td>NaN</td>\n",
              "      <td>a conundrum of the current political season</td>\n",
              "      <td>übrige wrestler überlegen wann sie tim wiese e...</td>\n",
              "      <td>NaN</td>\n",
              "      <td>NaN</td>\n",
              "      <td>no title</td>\n",
              "    </tr>\n",
              "    <tr>\n",
              "      <th>text</th>\n",
              "      <td>object</td>\n",
              "      <td>2050.0</td>\n",
              "      <td>46.0</td>\n",
              "      <td>1941.0</td>\n",
              "      <td>NaN</td>\n",
              "      <td>NaN</td>\n",
              "      <td>NaN</td>\n",
              "      <td>NaN</td>\n",
              "      <td>NaN</td>\n",
              "      <td>notify me of followup comments by email notify...</td>\n",
              "    </tr>\n",
              "    <tr>\n",
              "      <th>language</th>\n",
              "      <td>object</td>\n",
              "      <td>2095.0</td>\n",
              "      <td>1.0</td>\n",
              "      <td>5.0</td>\n",
              "      <td>NaN</td>\n",
              "      <td>NaN</td>\n",
              "      <td>NaN</td>\n",
              "      <td>NaN</td>\n",
              "      <td>NaN</td>\n",
              "      <td>english</td>\n",
              "    </tr>\n",
              "    <tr>\n",
              "      <th>site_url</th>\n",
              "      <td>object</td>\n",
              "      <td>2095.0</td>\n",
              "      <td>1.0</td>\n",
              "      <td>68.0</td>\n",
              "      <td>NaN</td>\n",
              "      <td>NaN</td>\n",
              "      <td>NaN</td>\n",
              "      <td>NaN</td>\n",
              "      <td>NaN</td>\n",
              "      <td>activistpost.com</td>\n",
              "    </tr>\n",
              "    <tr>\n",
              "      <th>main_img_url</th>\n",
              "      <td>object</td>\n",
              "      <td>2095.0</td>\n",
              "      <td>1.0</td>\n",
              "      <td>1229.0</td>\n",
              "      <td>NaN</td>\n",
              "      <td>NaN</td>\n",
              "      <td>NaN</td>\n",
              "      <td>NaN</td>\n",
              "      <td>NaN</td>\n",
              "      <td>No Image URL</td>\n",
              "    </tr>\n",
              "    <tr>\n",
              "      <th>type</th>\n",
              "      <td>object</td>\n",
              "      <td>2095.0</td>\n",
              "      <td>1.0</td>\n",
              "      <td>8.0</td>\n",
              "      <td>NaN</td>\n",
              "      <td>NaN</td>\n",
              "      <td>NaN</td>\n",
              "      <td>NaN</td>\n",
              "      <td>NaN</td>\n",
              "      <td>bs</td>\n",
              "    </tr>\n",
              "    <tr>\n",
              "      <th>label</th>\n",
              "      <td>object</td>\n",
              "      <td>2095.0</td>\n",
              "      <td>1.0</td>\n",
              "      <td>2.0</td>\n",
              "      <td>NaN</td>\n",
              "      <td>NaN</td>\n",
              "      <td>NaN</td>\n",
              "      <td>NaN</td>\n",
              "      <td>NaN</td>\n",
              "      <td>Fake</td>\n",
              "    </tr>\n",
              "    <tr>\n",
              "      <th>title_without_stopwords</th>\n",
              "      <td>object</td>\n",
              "      <td>2094.0</td>\n",
              "      <td>2.0</td>\n",
              "      <td>1780.0</td>\n",
              "      <td>NaN</td>\n",
              "      <td>NaN</td>\n",
              "      <td>NaN</td>\n",
              "      <td>NaN</td>\n",
              "      <td>NaN</td>\n",
              "      <td>title</td>\n",
              "    </tr>\n",
              "    <tr>\n",
              "      <th>text_without_stopwords</th>\n",
              "      <td>object</td>\n",
              "      <td>2046.0</td>\n",
              "      <td>50.0</td>\n",
              "      <td>1937.0</td>\n",
              "      <td>NaN</td>\n",
              "      <td>NaN</td>\n",
              "      <td>NaN</td>\n",
              "      <td>NaN</td>\n",
              "      <td>NaN</td>\n",
              "      <td>notify followup comments email notify new post...</td>\n",
              "    </tr>\n",
              "    <tr>\n",
              "      <th>hasImage</th>\n",
              "      <td>float64</td>\n",
              "      <td>2095.0</td>\n",
              "      <td>1.0</td>\n",
              "      <td>2.0</td>\n",
              "      <td>NaN</td>\n",
              "      <td>0.0</td>\n",
              "      <td>1.0</td>\n",
              "      <td>0.777088</td>\n",
              "      <td>1.0</td>\n",
              "      <td>1.0</td>\n",
              "    </tr>\n",
              "    <tr>\n",
              "      <th>0</th>\n",
              "      <td>NaN</td>\n",
              "      <td>NaN</td>\n",
              "      <td>NaN</td>\n",
              "      <td>NaN</td>\n",
              "      <td>10.0</td>\n",
              "      <td>NaN</td>\n",
              "      <td>NaN</td>\n",
              "      <td>NaN</td>\n",
              "      <td>NaN</td>\n",
              "      <td>NaN</td>\n",
              "    </tr>\n",
              "  </tbody>\n",
              "</table>\n",
              "</div>\n",
              "    <div class=\"colab-df-buttons\">\n",
              "\n",
              "  <div class=\"colab-df-container\">\n",
              "    <button class=\"colab-df-convert\" onclick=\"convertToInteractive('df-207d0514-aecc-49a7-8cb4-5676118111ff')\"\n",
              "            title=\"Convert this dataframe to an interactive table.\"\n",
              "            style=\"display:none;\">\n",
              "\n",
              "  <svg xmlns=\"http://www.w3.org/2000/svg\" height=\"24px\" viewBox=\"0 -960 960 960\">\n",
              "    <path d=\"M120-120v-720h720v720H120Zm60-500h600v-160H180v160Zm220 220h160v-160H400v160Zm0 220h160v-160H400v160ZM180-400h160v-160H180v160Zm440 0h160v-160H620v160ZM180-180h160v-160H180v160Zm440 0h160v-160H620v160Z\"/>\n",
              "  </svg>\n",
              "    </button>\n",
              "\n",
              "  <style>\n",
              "    .colab-df-container {\n",
              "      display:flex;\n",
              "      gap: 12px;\n",
              "    }\n",
              "\n",
              "    .colab-df-convert {\n",
              "      background-color: #E8F0FE;\n",
              "      border: none;\n",
              "      border-radius: 50%;\n",
              "      cursor: pointer;\n",
              "      display: none;\n",
              "      fill: #1967D2;\n",
              "      height: 32px;\n",
              "      padding: 0 0 0 0;\n",
              "      width: 32px;\n",
              "    }\n",
              "\n",
              "    .colab-df-convert:hover {\n",
              "      background-color: #E2EBFA;\n",
              "      box-shadow: 0px 1px 2px rgba(60, 64, 67, 0.3), 0px 1px 3px 1px rgba(60, 64, 67, 0.15);\n",
              "      fill: #174EA6;\n",
              "    }\n",
              "\n",
              "    .colab-df-buttons div {\n",
              "      margin-bottom: 4px;\n",
              "    }\n",
              "\n",
              "    [theme=dark] .colab-df-convert {\n",
              "      background-color: #3B4455;\n",
              "      fill: #D2E3FC;\n",
              "    }\n",
              "\n",
              "    [theme=dark] .colab-df-convert:hover {\n",
              "      background-color: #434B5C;\n",
              "      box-shadow: 0px 1px 3px 1px rgba(0, 0, 0, 0.15);\n",
              "      filter: drop-shadow(0px 1px 2px rgba(0, 0, 0, 0.3));\n",
              "      fill: #FFFFFF;\n",
              "    }\n",
              "  </style>\n",
              "\n",
              "    <script>\n",
              "      const buttonEl =\n",
              "        document.querySelector('#df-207d0514-aecc-49a7-8cb4-5676118111ff button.colab-df-convert');\n",
              "      buttonEl.style.display =\n",
              "        google.colab.kernel.accessAllowed ? 'block' : 'none';\n",
              "\n",
              "      async function convertToInteractive(key) {\n",
              "        const element = document.querySelector('#df-207d0514-aecc-49a7-8cb4-5676118111ff');\n",
              "        const dataTable =\n",
              "          await google.colab.kernel.invokeFunction('convertToInteractive',\n",
              "                                                    [key], {});\n",
              "        if (!dataTable) return;\n",
              "\n",
              "        const docLinkHtml = 'Like what you see? Visit the ' +\n",
              "          '<a target=\"_blank\" href=https://colab.research.google.com/notebooks/data_table.ipynb>data table notebook</a>'\n",
              "          + ' to learn more about interactive tables.';\n",
              "        element.innerHTML = '';\n",
              "        dataTable['output_type'] = 'display_data';\n",
              "        await google.colab.output.renderOutput(dataTable, element);\n",
              "        const docLink = document.createElement('div');\n",
              "        docLink.innerHTML = docLinkHtml;\n",
              "        element.appendChild(docLink);\n",
              "      }\n",
              "    </script>\n",
              "  </div>\n",
              "\n",
              "\n",
              "<div id=\"df-aa9a06e2-99ec-4c16-8929-7db09f2f9506\">\n",
              "  <button class=\"colab-df-quickchart\" onclick=\"quickchart('df-aa9a06e2-99ec-4c16-8929-7db09f2f9506')\"\n",
              "            title=\"Suggest charts\"\n",
              "            style=\"display:none;\">\n",
              "\n",
              "<svg xmlns=\"http://www.w3.org/2000/svg\" height=\"24px\"viewBox=\"0 0 24 24\"\n",
              "     width=\"24px\">\n",
              "    <g>\n",
              "        <path d=\"M19 3H5c-1.1 0-2 .9-2 2v14c0 1.1.9 2 2 2h14c1.1 0 2-.9 2-2V5c0-1.1-.9-2-2-2zM9 17H7v-7h2v7zm4 0h-2V7h2v10zm4 0h-2v-4h2v4z\"/>\n",
              "    </g>\n",
              "</svg>\n",
              "  </button>\n",
              "\n",
              "<style>\n",
              "  .colab-df-quickchart {\n",
              "      --bg-color: #E8F0FE;\n",
              "      --fill-color: #1967D2;\n",
              "      --hover-bg-color: #E2EBFA;\n",
              "      --hover-fill-color: #174EA6;\n",
              "      --disabled-fill-color: #AAA;\n",
              "      --disabled-bg-color: #DDD;\n",
              "  }\n",
              "\n",
              "  [theme=dark] .colab-df-quickchart {\n",
              "      --bg-color: #3B4455;\n",
              "      --fill-color: #D2E3FC;\n",
              "      --hover-bg-color: #434B5C;\n",
              "      --hover-fill-color: #FFFFFF;\n",
              "      --disabled-bg-color: #3B4455;\n",
              "      --disabled-fill-color: #666;\n",
              "  }\n",
              "\n",
              "  .colab-df-quickchart {\n",
              "    background-color: var(--bg-color);\n",
              "    border: none;\n",
              "    border-radius: 50%;\n",
              "    cursor: pointer;\n",
              "    display: none;\n",
              "    fill: var(--fill-color);\n",
              "    height: 32px;\n",
              "    padding: 0;\n",
              "    width: 32px;\n",
              "  }\n",
              "\n",
              "  .colab-df-quickchart:hover {\n",
              "    background-color: var(--hover-bg-color);\n",
              "    box-shadow: 0 1px 2px rgba(60, 64, 67, 0.3), 0 1px 3px 1px rgba(60, 64, 67, 0.15);\n",
              "    fill: var(--button-hover-fill-color);\n",
              "  }\n",
              "\n",
              "  .colab-df-quickchart-complete:disabled,\n",
              "  .colab-df-quickchart-complete:disabled:hover {\n",
              "    background-color: var(--disabled-bg-color);\n",
              "    fill: var(--disabled-fill-color);\n",
              "    box-shadow: none;\n",
              "  }\n",
              "\n",
              "  .colab-df-spinner {\n",
              "    border: 2px solid var(--fill-color);\n",
              "    border-color: transparent;\n",
              "    border-bottom-color: var(--fill-color);\n",
              "    animation:\n",
              "      spin 1s steps(1) infinite;\n",
              "  }\n",
              "\n",
              "  @keyframes spin {\n",
              "    0% {\n",
              "      border-color: transparent;\n",
              "      border-bottom-color: var(--fill-color);\n",
              "      border-left-color: var(--fill-color);\n",
              "    }\n",
              "    20% {\n",
              "      border-color: transparent;\n",
              "      border-left-color: var(--fill-color);\n",
              "      border-top-color: var(--fill-color);\n",
              "    }\n",
              "    30% {\n",
              "      border-color: transparent;\n",
              "      border-left-color: var(--fill-color);\n",
              "      border-top-color: var(--fill-color);\n",
              "      border-right-color: var(--fill-color);\n",
              "    }\n",
              "    40% {\n",
              "      border-color: transparent;\n",
              "      border-right-color: var(--fill-color);\n",
              "      border-top-color: var(--fill-color);\n",
              "    }\n",
              "    60% {\n",
              "      border-color: transparent;\n",
              "      border-right-color: var(--fill-color);\n",
              "    }\n",
              "    80% {\n",
              "      border-color: transparent;\n",
              "      border-right-color: var(--fill-color);\n",
              "      border-bottom-color: var(--fill-color);\n",
              "    }\n",
              "    90% {\n",
              "      border-color: transparent;\n",
              "      border-bottom-color: var(--fill-color);\n",
              "    }\n",
              "  }\n",
              "</style>\n",
              "\n",
              "  <script>\n",
              "    async function quickchart(key) {\n",
              "      const quickchartButtonEl =\n",
              "        document.querySelector('#' + key + ' button');\n",
              "      quickchartButtonEl.disabled = true;  // To prevent multiple clicks.\n",
              "      quickchartButtonEl.classList.add('colab-df-spinner');\n",
              "      try {\n",
              "        const charts = await google.colab.kernel.invokeFunction(\n",
              "            'suggestCharts', [key], {});\n",
              "      } catch (error) {\n",
              "        console.error('Error during call to suggestCharts:', error);\n",
              "      }\n",
              "      quickchartButtonEl.classList.remove('colab-df-spinner');\n",
              "      quickchartButtonEl.classList.add('colab-df-quickchart-complete');\n",
              "    }\n",
              "    (() => {\n",
              "      let quickchartButtonEl =\n",
              "        document.querySelector('#df-aa9a06e2-99ec-4c16-8929-7db09f2f9506 button');\n",
              "      quickchartButtonEl.style.display =\n",
              "        google.colab.kernel.accessAllowed ? 'block' : 'none';\n",
              "    })();\n",
              "  </script>\n",
              "</div>\n",
              "    </div>\n",
              "  </div>\n"
            ],
            "application/vnd.google.colaboratory.intrinsic+json": {
              "type": "dataframe",
              "summary": "{\n  \"name\": \"profile_data(news_df)\",\n  \"rows\": 13,\n  \"fields\": [\n    {\n      \"column\": \"Dtype\",\n      \"properties\": {\n        \"dtype\": \"category\",\n        \"num_unique_values\": 2,\n        \"samples\": [\n          \"float64\",\n          \"object\"\n        ],\n        \"semantic_type\": \"\",\n        \"description\": \"\"\n      }\n    },\n    {\n      \"column\": \"Count\",\n      \"properties\": {\n        \"dtype\": \"number\",\n        \"std\": 18.40125160433552,\n        \"min\": 2046.0,\n        \"max\": 2096.0,\n        \"num_unique_values\": 5,\n        \"samples\": [\n          2050.0,\n          2046.0\n        ],\n        \"semantic_type\": \"\",\n        \"description\": \"\"\n      }\n    },\n    {\n      \"column\": \"NA Count\",\n      \"properties\": {\n        \"dtype\": \"number\",\n        \"std\": 18.40125160433552,\n        \"min\": 0.0,\n        \"max\": 50.0,\n        \"num_unique_values\": 5,\n        \"samples\": [\n          46.0,\n          50.0\n        ],\n        \"semantic_type\": \"\",\n        \"description\": \"\"\n      }\n    },\n    {\n      \"column\": \"Count Unique\",\n      \"properties\": {\n        \"dtype\": \"number\",\n        \"std\": 909.4595922854406,\n        \"min\": 2.0,\n        \"max\": 2006.0,\n        \"num_unique_values\": 11,\n        \"samples\": [\n          68.0,\n          491.0\n        ],\n        \"semantic_type\": \"\",\n        \"description\": \"\"\n      }\n    },\n    {\n      \"column\": \"Count Duplicate\",\n      \"properties\": {\n        \"dtype\": \"number\",\n        \"std\": null,\n        \"min\": 10.0,\n        \"max\": 10.0,\n        \"num_unique_values\": 1,\n        \"samples\": [\n          10.0\n        ],\n        \"semantic_type\": \"\",\n        \"description\": \"\"\n      }\n    },\n    {\n      \"column\": \"Min\",\n      \"properties\": {\n        \"dtype\": \"category\",\n        \"num_unique_values\": 4,\n        \"samples\": [\n          \"2016-10-26T03:51:00.000+03:00\"\n        ],\n        \"semantic_type\": \"\",\n        \"description\": \"\"\n      }\n    },\n    {\n      \"column\": \"Max\",\n      \"properties\": {\n        \"dtype\": \"category\",\n        \"num_unique_values\": 4,\n        \"samples\": [\n          \"http://theeconomiccollapseblog.com/wp-content/uploads/2015/07/Earth-From-Space2-460x460.jpg\"\n        ],\n        \"semantic_type\": \"\",\n        \"description\": \"\"\n      }\n    },\n    {\n      \"column\": \"Mean\",\n      \"properties\": {\n        \"dtype\": \"number\",\n        \"std\": null,\n        \"min\": 0.7770883054892601,\n        \"max\": 0.7770883054892601,\n        \"num_unique_values\": 1,\n        \"samples\": [\n          0.7770883054892601\n        ],\n        \"semantic_type\": \"\",\n        \"description\": \"\"\n      }\n    },\n    {\n      \"column\": \"Median\",\n      \"properties\": {\n        \"dtype\": \"number\",\n        \"std\": null,\n        \"min\": 1.0,\n        \"max\": 1.0,\n        \"num_unique_values\": 1,\n        \"samples\": [\n          1.0\n        ],\n        \"semantic_type\": \"\",\n        \"description\": \"\"\n      }\n    },\n    {\n      \"column\": \"Mode\",\n      \"properties\": {\n        \"dtype\": \"string\",\n        \"num_unique_values\": 12,\n        \"samples\": [\n          \"notify followup comments email notify new posts email security question please leave two fields asis important able proceed need solve following simple math know human doom bloom\"\n        ],\n        \"semantic_type\": \"\",\n        \"description\": \"\"\n      }\n    }\n  ]\n}"
            }
          },
          "metadata": {},
          "execution_count": 9
        }
      ],
      "source": [
        "profile_data(news_df)"
      ]
    },
    {
      "cell_type": "markdown",
      "source": [
        "Some features contain only a few unique values (eg \"type\", \"hasImage\"). This suggests these features are categorical, and despite being strings for few of them, these will be worth exploring later. Let us reorganise the tables to bring some features closer together.\n",
        "\n",
        "\n"
      ],
      "metadata": {
        "id": "hOb87HykLnZ8"
      }
    },
    {
      "cell_type": "code",
      "execution_count": 73,
      "metadata": {
        "colab": {
          "base_uri": "https://localhost:8080/",
          "height": 181
        },
        "id": "z7JdE35UHo3J",
        "outputId": "43c24817-32c0-418d-87e0-24a95fc592af"
      },
      "outputs": [
        {
          "output_type": "execute_result",
          "data": {
            "text/plain": [
              "                 author                      published             site_url  \\\n",
              "0     Barracuda Brigade  2016-10-26T21:41:00.000+03:00  100percentfedup.com   \n",
              "1  reasoning with facts  2016-10-29T08:47:11.259+03:00  100percentfedup.com   \n",
              "\n",
              "                                        main_img_url language  type  hasImage  \\\n",
              "0  http://bb4sp.com/wp-content/uploads/2016/10/Fu...  english  bias       1.0   \n",
              "1  http://bb4sp.com/wp-content/uploads/2016/10/Fu...  english  bias       1.0   \n",
              "\n",
              "                                               title  \\\n",
              "0  muslims busted they stole millions in govt ben...   \n",
              "1  re why did attorney general loretta lynch plea...   \n",
              "\n",
              "                       title_without_stopwords  \\\n",
              "0  muslims busted stole millions govt benefits   \n",
              "1   attorney general loretta lynch plead fifth   \n",
              "\n",
              "                                                text  \\\n",
              "0  print they should pay all the back all the mon...   \n",
              "1  why did attorney general loretta lynch plead t...   \n",
              "\n",
              "                              text_without_stopwords label  \n",
              "0  print pay back money plus interest entire fami...  Real  \n",
              "1  attorney general loretta lynch plead fifth bar...  Real  "
            ],
            "text/html": [
              "\n",
              "  <div id=\"df-fcbed859-f7a9-4b69-ace2-f72089398709\" class=\"colab-df-container\">\n",
              "    <div>\n",
              "<style scoped>\n",
              "    .dataframe tbody tr th:only-of-type {\n",
              "        vertical-align: middle;\n",
              "    }\n",
              "\n",
              "    .dataframe tbody tr th {\n",
              "        vertical-align: top;\n",
              "    }\n",
              "\n",
              "    .dataframe thead th {\n",
              "        text-align: right;\n",
              "    }\n",
              "</style>\n",
              "<table border=\"1\" class=\"dataframe\">\n",
              "  <thead>\n",
              "    <tr style=\"text-align: right;\">\n",
              "      <th></th>\n",
              "      <th>author</th>\n",
              "      <th>published</th>\n",
              "      <th>site_url</th>\n",
              "      <th>main_img_url</th>\n",
              "      <th>language</th>\n",
              "      <th>type</th>\n",
              "      <th>hasImage</th>\n",
              "      <th>title</th>\n",
              "      <th>title_without_stopwords</th>\n",
              "      <th>text</th>\n",
              "      <th>text_without_stopwords</th>\n",
              "      <th>label</th>\n",
              "    </tr>\n",
              "  </thead>\n",
              "  <tbody>\n",
              "    <tr>\n",
              "      <th>0</th>\n",
              "      <td>Barracuda Brigade</td>\n",
              "      <td>2016-10-26T21:41:00.000+03:00</td>\n",
              "      <td>100percentfedup.com</td>\n",
              "      <td>http://bb4sp.com/wp-content/uploads/2016/10/Fu...</td>\n",
              "      <td>english</td>\n",
              "      <td>bias</td>\n",
              "      <td>1.0</td>\n",
              "      <td>muslims busted they stole millions in govt ben...</td>\n",
              "      <td>muslims busted stole millions govt benefits</td>\n",
              "      <td>print they should pay all the back all the mon...</td>\n",
              "      <td>print pay back money plus interest entire fami...</td>\n",
              "      <td>Real</td>\n",
              "    </tr>\n",
              "    <tr>\n",
              "      <th>1</th>\n",
              "      <td>reasoning with facts</td>\n",
              "      <td>2016-10-29T08:47:11.259+03:00</td>\n",
              "      <td>100percentfedup.com</td>\n",
              "      <td>http://bb4sp.com/wp-content/uploads/2016/10/Fu...</td>\n",
              "      <td>english</td>\n",
              "      <td>bias</td>\n",
              "      <td>1.0</td>\n",
              "      <td>re why did attorney general loretta lynch plea...</td>\n",
              "      <td>attorney general loretta lynch plead fifth</td>\n",
              "      <td>why did attorney general loretta lynch plead t...</td>\n",
              "      <td>attorney general loretta lynch plead fifth bar...</td>\n",
              "      <td>Real</td>\n",
              "    </tr>\n",
              "  </tbody>\n",
              "</table>\n",
              "</div>\n",
              "    <div class=\"colab-df-buttons\">\n",
              "\n",
              "  <div class=\"colab-df-container\">\n",
              "    <button class=\"colab-df-convert\" onclick=\"convertToInteractive('df-fcbed859-f7a9-4b69-ace2-f72089398709')\"\n",
              "            title=\"Convert this dataframe to an interactive table.\"\n",
              "            style=\"display:none;\">\n",
              "\n",
              "  <svg xmlns=\"http://www.w3.org/2000/svg\" height=\"24px\" viewBox=\"0 -960 960 960\">\n",
              "    <path d=\"M120-120v-720h720v720H120Zm60-500h600v-160H180v160Zm220 220h160v-160H400v160Zm0 220h160v-160H400v160ZM180-400h160v-160H180v160Zm440 0h160v-160H620v160ZM180-180h160v-160H180v160Zm440 0h160v-160H620v160Z\"/>\n",
              "  </svg>\n",
              "    </button>\n",
              "\n",
              "  <style>\n",
              "    .colab-df-container {\n",
              "      display:flex;\n",
              "      gap: 12px;\n",
              "    }\n",
              "\n",
              "    .colab-df-convert {\n",
              "      background-color: #E8F0FE;\n",
              "      border: none;\n",
              "      border-radius: 50%;\n",
              "      cursor: pointer;\n",
              "      display: none;\n",
              "      fill: #1967D2;\n",
              "      height: 32px;\n",
              "      padding: 0 0 0 0;\n",
              "      width: 32px;\n",
              "    }\n",
              "\n",
              "    .colab-df-convert:hover {\n",
              "      background-color: #E2EBFA;\n",
              "      box-shadow: 0px 1px 2px rgba(60, 64, 67, 0.3), 0px 1px 3px 1px rgba(60, 64, 67, 0.15);\n",
              "      fill: #174EA6;\n",
              "    }\n",
              "\n",
              "    .colab-df-buttons div {\n",
              "      margin-bottom: 4px;\n",
              "    }\n",
              "\n",
              "    [theme=dark] .colab-df-convert {\n",
              "      background-color: #3B4455;\n",
              "      fill: #D2E3FC;\n",
              "    }\n",
              "\n",
              "    [theme=dark] .colab-df-convert:hover {\n",
              "      background-color: #434B5C;\n",
              "      box-shadow: 0px 1px 3px 1px rgba(0, 0, 0, 0.15);\n",
              "      filter: drop-shadow(0px 1px 2px rgba(0, 0, 0, 0.3));\n",
              "      fill: #FFFFFF;\n",
              "    }\n",
              "  </style>\n",
              "\n",
              "    <script>\n",
              "      const buttonEl =\n",
              "        document.querySelector('#df-fcbed859-f7a9-4b69-ace2-f72089398709 button.colab-df-convert');\n",
              "      buttonEl.style.display =\n",
              "        google.colab.kernel.accessAllowed ? 'block' : 'none';\n",
              "\n",
              "      async function convertToInteractive(key) {\n",
              "        const element = document.querySelector('#df-fcbed859-f7a9-4b69-ace2-f72089398709');\n",
              "        const dataTable =\n",
              "          await google.colab.kernel.invokeFunction('convertToInteractive',\n",
              "                                                    [key], {});\n",
              "        if (!dataTable) return;\n",
              "\n",
              "        const docLinkHtml = 'Like what you see? Visit the ' +\n",
              "          '<a target=\"_blank\" href=https://colab.research.google.com/notebooks/data_table.ipynb>data table notebook</a>'\n",
              "          + ' to learn more about interactive tables.';\n",
              "        element.innerHTML = '';\n",
              "        dataTable['output_type'] = 'display_data';\n",
              "        await google.colab.output.renderOutput(dataTable, element);\n",
              "        const docLink = document.createElement('div');\n",
              "        docLink.innerHTML = docLinkHtml;\n",
              "        element.appendChild(docLink);\n",
              "      }\n",
              "    </script>\n",
              "  </div>\n",
              "\n",
              "\n",
              "<div id=\"df-5fbd677e-eb3b-449a-9f38-ef14082f63ae\">\n",
              "  <button class=\"colab-df-quickchart\" onclick=\"quickchart('df-5fbd677e-eb3b-449a-9f38-ef14082f63ae')\"\n",
              "            title=\"Suggest charts\"\n",
              "            style=\"display:none;\">\n",
              "\n",
              "<svg xmlns=\"http://www.w3.org/2000/svg\" height=\"24px\"viewBox=\"0 0 24 24\"\n",
              "     width=\"24px\">\n",
              "    <g>\n",
              "        <path d=\"M19 3H5c-1.1 0-2 .9-2 2v14c0 1.1.9 2 2 2h14c1.1 0 2-.9 2-2V5c0-1.1-.9-2-2-2zM9 17H7v-7h2v7zm4 0h-2V7h2v10zm4 0h-2v-4h2v4z\"/>\n",
              "    </g>\n",
              "</svg>\n",
              "  </button>\n",
              "\n",
              "<style>\n",
              "  .colab-df-quickchart {\n",
              "      --bg-color: #E8F0FE;\n",
              "      --fill-color: #1967D2;\n",
              "      --hover-bg-color: #E2EBFA;\n",
              "      --hover-fill-color: #174EA6;\n",
              "      --disabled-fill-color: #AAA;\n",
              "      --disabled-bg-color: #DDD;\n",
              "  }\n",
              "\n",
              "  [theme=dark] .colab-df-quickchart {\n",
              "      --bg-color: #3B4455;\n",
              "      --fill-color: #D2E3FC;\n",
              "      --hover-bg-color: #434B5C;\n",
              "      --hover-fill-color: #FFFFFF;\n",
              "      --disabled-bg-color: #3B4455;\n",
              "      --disabled-fill-color: #666;\n",
              "  }\n",
              "\n",
              "  .colab-df-quickchart {\n",
              "    background-color: var(--bg-color);\n",
              "    border: none;\n",
              "    border-radius: 50%;\n",
              "    cursor: pointer;\n",
              "    display: none;\n",
              "    fill: var(--fill-color);\n",
              "    height: 32px;\n",
              "    padding: 0;\n",
              "    width: 32px;\n",
              "  }\n",
              "\n",
              "  .colab-df-quickchart:hover {\n",
              "    background-color: var(--hover-bg-color);\n",
              "    box-shadow: 0 1px 2px rgba(60, 64, 67, 0.3), 0 1px 3px 1px rgba(60, 64, 67, 0.15);\n",
              "    fill: var(--button-hover-fill-color);\n",
              "  }\n",
              "\n",
              "  .colab-df-quickchart-complete:disabled,\n",
              "  .colab-df-quickchart-complete:disabled:hover {\n",
              "    background-color: var(--disabled-bg-color);\n",
              "    fill: var(--disabled-fill-color);\n",
              "    box-shadow: none;\n",
              "  }\n",
              "\n",
              "  .colab-df-spinner {\n",
              "    border: 2px solid var(--fill-color);\n",
              "    border-color: transparent;\n",
              "    border-bottom-color: var(--fill-color);\n",
              "    animation:\n",
              "      spin 1s steps(1) infinite;\n",
              "  }\n",
              "\n",
              "  @keyframes spin {\n",
              "    0% {\n",
              "      border-color: transparent;\n",
              "      border-bottom-color: var(--fill-color);\n",
              "      border-left-color: var(--fill-color);\n",
              "    }\n",
              "    20% {\n",
              "      border-color: transparent;\n",
              "      border-left-color: var(--fill-color);\n",
              "      border-top-color: var(--fill-color);\n",
              "    }\n",
              "    30% {\n",
              "      border-color: transparent;\n",
              "      border-left-color: var(--fill-color);\n",
              "      border-top-color: var(--fill-color);\n",
              "      border-right-color: var(--fill-color);\n",
              "    }\n",
              "    40% {\n",
              "      border-color: transparent;\n",
              "      border-right-color: var(--fill-color);\n",
              "      border-top-color: var(--fill-color);\n",
              "    }\n",
              "    60% {\n",
              "      border-color: transparent;\n",
              "      border-right-color: var(--fill-color);\n",
              "    }\n",
              "    80% {\n",
              "      border-color: transparent;\n",
              "      border-right-color: var(--fill-color);\n",
              "      border-bottom-color: var(--fill-color);\n",
              "    }\n",
              "    90% {\n",
              "      border-color: transparent;\n",
              "      border-bottom-color: var(--fill-color);\n",
              "    }\n",
              "  }\n",
              "</style>\n",
              "\n",
              "  <script>\n",
              "    async function quickchart(key) {\n",
              "      const quickchartButtonEl =\n",
              "        document.querySelector('#' + key + ' button');\n",
              "      quickchartButtonEl.disabled = true;  // To prevent multiple clicks.\n",
              "      quickchartButtonEl.classList.add('colab-df-spinner');\n",
              "      try {\n",
              "        const charts = await google.colab.kernel.invokeFunction(\n",
              "            'suggestCharts', [key], {});\n",
              "      } catch (error) {\n",
              "        console.error('Error during call to suggestCharts:', error);\n",
              "      }\n",
              "      quickchartButtonEl.classList.remove('colab-df-spinner');\n",
              "      quickchartButtonEl.classList.add('colab-df-quickchart-complete');\n",
              "    }\n",
              "    (() => {\n",
              "      let quickchartButtonEl =\n",
              "        document.querySelector('#df-5fbd677e-eb3b-449a-9f38-ef14082f63ae button');\n",
              "      quickchartButtonEl.style.display =\n",
              "        google.colab.kernel.accessAllowed ? 'block' : 'none';\n",
              "    })();\n",
              "  </script>\n",
              "</div>\n",
              "    </div>\n",
              "  </div>\n"
            ],
            "application/vnd.google.colaboratory.intrinsic+json": {
              "type": "dataframe",
              "repr_error": "'str' object has no attribute 'empty'"
            }
          },
          "metadata": {},
          "execution_count": 73
        }
      ],
      "source": [
        "news_df_reordered_df = news_df[[\"author\",\"published\",\"site_url\",\"main_img_url\",\n",
        "                                \"language\",\"type\",\"hasImage\",\n",
        "                                \"title\",\"title_without_stopwords\",\"text\",\"text_without_stopwords\",\n",
        "                                \"label\"]]\n",
        "\n",
        "news_df_reordered_df.head(2)\n",
        "# news_df_reordered_df[news_df_reordered_df.isna().any(axis=1)].tail(10)"
      ]
    },
    {
      "cell_type": "code",
      "source": [
        "# Let us check how some of the rows look like\n",
        "\n",
        "print(\"Title: \\n\" + news_df_reordered_df.iloc[3][\"title\"] + \"\\n\" )\n",
        "\n",
        "print( \"Text:\\n\" + textwrap.fill( news_df_reordered_df.iloc[3][\"text\"], 200)  + \"\\n\" )\n",
        "\n",
        "print(\"Text without stopwords:\\n\" +textwrap.fill( news_df_reordered_df.iloc[3][\"text_without_stopwords\"] , 200) )\n"
      ],
      "metadata": {
        "colab": {
          "base_uri": "https://localhost:8080/"
        },
        "id": "XXglEQ3uPMUI",
        "outputId": "48413b2f-97a4-40f7-cac7-4b66cc726450"
      },
      "execution_count": 46,
      "outputs": [
        {
          "output_type": "stream",
          "name": "stdout",
          "text": [
            "Title: \n",
            "pin drop speech by father of daughter kidnapped and killed by isis i have voted for donald j trump  percentfedupcom\n",
            "\n",
            "Text:\n",
            "email kayla mueller was a prisoner and tortured by isis while no chance of releasea horrific story her father gave a pin drop speech that was so heartfelt you want to give him a hug carl mueller\n",
            "believes donald trump will be a great presidentepic speech k shares\n",
            "\n",
            "Text without stopwords:\n",
            "email kayla mueller prisoner tortured isis chance releasea horrific story father gave pin drop speech heartfelt want give hug carl mueller believes donald trump great presidentepic speech k shares\n"
          ]
        }
      ]
    },
    {
      "cell_type": "markdown",
      "source": [
        "\n",
        "The column \"text_without_stopwords\" contain few words less than \"text\". This \"stopword\" concept relates to removing these words which do not contribute to the information but appear often in texts (eg. \"the\").\n",
        "\n",
        "Let us now look at the suspected categorical features.\n",
        "\n",
        "Which languages ?\n"
      ],
      "metadata": {
        "id": "MxFpy3bGPcQ3"
      }
    },
    {
      "cell_type": "code",
      "execution_count": 66,
      "metadata": {
        "colab": {
          "base_uri": "https://localhost:8080/"
        },
        "id": "-LkM-TS9Ho3b",
        "outputId": "522225df-6883-4134-f9fe-16935eecfeef"
      },
      "outputs": [
        {
          "output_type": "execute_result",
          "data": {
            "text/plain": [
              "array(['english', 'ignore', 'german', 'french', 'spanish', nan],\n",
              "      dtype=object)"
            ]
          },
          "metadata": {},
          "execution_count": 66
        }
      ],
      "source": [
        "news_df_reordered_df[\"language\"].unique()"
      ]
    },
    {
      "cell_type": "markdown",
      "metadata": {
        "id": "qJ4A1h2iHo3c"
      },
      "source": [
        " Which types ?"
      ]
    },
    {
      "cell_type": "code",
      "execution_count": 67,
      "metadata": {
        "colab": {
          "base_uri": "https://localhost:8080/"
        },
        "id": "S3vcdjEaHo3c",
        "outputId": "7ae3247e-e141-4f56-d131-975c42b01fbc"
      },
      "outputs": [
        {
          "output_type": "execute_result",
          "data": {
            "text/plain": [
              "array(['bias', 'conspiracy', 'fake', 'bs', 'satire', 'hate', 'junksci',\n",
              "       'state', nan], dtype=object)"
            ]
          },
          "metadata": {},
          "execution_count": 67
        }
      ],
      "source": [
        "news_df_reordered_df[\"type\"].unique()"
      ]
    },
    {
      "cell_type": "markdown",
      "metadata": {
        "id": "6rNwZVorHo3c"
      },
      "source": [
        " Which authors ? Some weird stuff, including ????? ,  Game is a Modern Rite of Passage ... , the most important concept ..."
      ]
    },
    {
      "cell_type": "code",
      "execution_count": 68,
      "metadata": {
        "colab": {
          "base_uri": "https://localhost:8080/"
        },
        "id": "2rBNyOd-Ho3c",
        "outputId": "225e6c6e-4ab8-452f-dac9-824d9ee46d37"
      },
      "outputs": [
        {
          "output_type": "execute_result",
          "data": {
            "text/plain": [
              "array(['Barracuda Brigade', 'reasoning with facts', 'Fed Up', 'EdJenner',\n",
              "       'No Author', 'Shawn Helton', 'Mike Rivero', 'Branko Mali',\n",
              "       'Jimmy Rustling', 'tokyowashi (noreply@blogger.com)', 'Anonymous',\n",
              "       'pak alresky', 'Steve smith', 'David Howard', 'Joseph Olson',\n",
              "       'neoholographic', 'Peeple', 'PraetorianAZ', 'seentoomuch',\n",
              "       'vlawde', 'apoc36', 'theantediluvian', 'reldra', 'Kali74',\n",
              "       'recrisp', 'Profusion', 'sanitizedinfo', 'The angel of light',\n",
              "       'darkbake', 'willz', 'jedi_hamster', 'PrairieShepherd', 'SyxPak',\n",
              "       'matafuchs', 'Bloodydagger', 'Xcathdra', 'gortex', 'ssenerawa',\n",
              "       'Encryptor', 'bryan2006', 'ghostrager', 'frenchfries',\n",
              "       'Paradoxroutine', 'SoulOfCeres', 'gariac', 'xuenchen', 'Hefficide',\n",
              "       'childoffather', 'Gandalf77', 'Kantzveldt', 'greg302',\n",
              "       'WindCharger', 'crazyewok', 'TrueBrit', 'beeeyotch', 'Zaphod58',\n",
              "       'CriticalStinker', 'Violater1', 'carewemust', 'DaRAGE',\n",
              "       'mobiusmale', 'Brandon Turbeville', 'Activist Post',\n",
              "       'ActivistPost',\n",
              "       'Day of the Dead 2015: History, food and reflections \\x96 Andrea Lawson Gray',\n",
              "       'Ivan Jose', 'Tony Rabon', 'Shirley Barnett',\n",
              "       '?????? ???? ???? ?????????', 'adobochron', 'Rebecca Bennett',\n",
              "       'Eligio Abellera', 'Sue Penn (@SuePennonTwitte)',\n",
              "       'Mitch Jalandoni', 'adobochronicles.com - Real or Satire?',\n",
              "       'Koel@WritingSouls', 'Ron Smith', 'Jim', 'Daniel Haiphong',\n",
              "       'ahtribune.com', 'Tim King', 'Catherine Shakdam', 'Vic Pittman',\n",
              "       'Kim Petersen', 'Paul Craig Roberts', 'Harun Yahya', 'Saurav Dutt',\n",
              "       'obbop', 'BarbaraMcK42', 'Richard Behan', 'Mohsen Abdelmoumen',\n",
              "       'Gearóid Ó Colmáin', 'James M. Dorsey', 'Bob Mackenzie',\n",
              "       'Harry Abrams', 'antonw', 'Prof. Tony Hall',\n",
              "       'Milad Amini Movahhed', 'Rafiq', 'Kai Kieferle', 'B. J. Sabri',\n",
              "       'M.R. Islam', 'Dave Hunt', 'Karl Simanonok', 'Ludwig Watzal',\n",
              "       'Matt Peppe', 'Hal Walter', 'Thrishul', 'Seapost', 'American News',\n",
              "       'Brett Macdonald', 'Sean Brown', 'Dean James', 'Dan Roodt',\n",
              "       'Henry Wolff', 'Jared Taylor', 'AR Staff', 'Stanley Hornbeck',\n",
              "       'Alex Ansary', 'BareNakedIslam', 'Corbett', 'Mike Merryman-Lotze',\n",
              "       'Louis Proyect', 'Admin', 'Arch Stanton', 'John Kaminski',\n",
              "       'Dr. Patrick Slattery', 'Staff', 'davidduke.com', 'David Stockman',\n",
              "       'Lee Adler', 'marlene', 'Matibob', 'jaded', 'Ryan Banister',\n",
              "       'Chris Menahan', 'Pamela Geller', 'Claire Bernish', 'Dr. Eowyn',\n",
              "       'Tonya Parnell', 'Isaac Davis', 'Tim Brown',\n",
              "       'The Free Thought Project', 'Daisy Luther', 'DL', 'hawkmo99',\n",
              "       'Terry', 'Jonathan Brooks', 'Truth Detector', 'Paulus',\n",
              "       'Ann Tenna', 'Michael Snyder', 'David Risselada',\n",
              "       'Theodore Shoebat', 'Nathaniel Mauka', 'Kingdom Ambassador',\n",
              "       'wtromp@operamail.com (WT)', 'Ike Mclean', 'Dean Daniels',\n",
              "       'Dml Daily', 'A. Griffee', 'noreply@blogger.com (Der Postillon)',\n",
              "       'GrinNBarrett', 'Paula Walker', 'Martist', 'The Funny Farmer',\n",
              "       'Hal Apeeno', 'JENO', 'Joe from MassPrivateI', 'Angel - NYC',\n",
              "       'US Marine Fighting Tyranny', 'Henry Shivley', 'Paul',\n",
              "       '# 1 NWO Hatr', 'Katie', 'Kantucky', 'Frank Face',\n",
              "       'Daniel Greenfield', 'Matthew Vadum', 'Robert Spencer',\n",
              "       'Ann Coulter', 'Itamar Marcus', 'Dr. Majid Rafizadeh',\n",
              "       'Paul Kengor', 'Richard Baehr', 'Raymond Ibrahim', 'Ari Lieberman',\n",
              "       'Caroline Glick', 'Jack Kerwick', 'Ilana Mercer',\n",
              "       'Emma-Kate Symons', 'Phyllis Chesler', 'Frontpagemag.com',\n",
              "       'Lloyd Billingsley', 'Joseph Puder', 'Bruce Thornton',\n",
              "       'Dawn Perlmutter', 'Thomas Sowell', 'Noah Beck',\n",
              "       'Humberto Fontova', 'Walter Williams', 'Joseph Klein',\n",
              "       'Michael Cutler', 'Discover The Networks',\n",
              "       'About Daniel Greenfield', 'Madeline', 'AFRICA-NEWS', 'Times Live',\n",
              "       'Mirror.co.uk', 'Astronomy', 'Fiona Miller', 'Jonathan Lee',\n",
              "       'David Knight', 'Infowars.com', 'Adan Salazar', 'James Holbrooks',\n",
              "       'Darius Shahtahmasebi', 'Jenna McLaughlin', 'Mikael Thalen',\n",
              "       'Millie Weaver', 'USA Today', 'Paul Joseph Watson', 'Jing Jin',\n",
              "       'Steve Watson', 'Alex Jones', 'Kit Daniels', 'National Geographic',\n",
              "       'The Alex Jones Show', 'Kelen M', 'Beau Albrecht',\n",
              "       'Michael Sebastian', 'David G. Brown', 'RT',\n",
              "       'Infowars Nightly News', 'BBC', 'Sky News', 'Michael W. Chapman',\n",
              "       'Julie Fidler', 'Patrick G. Eddington', 'Jon Anthony', 'Jon Bowne',\n",
              "       'Jamie White', 'Palm Beach Post', 'The Independent',\n",
              "       'Jörg Guido Hülsmann', 'Allen Mendenhall', 'Chuck Collins',\n",
              "       'Prissy Holly', 'Ethan A. Huff, staff writer', 'Daniel Barker',\n",
              "       'Vicki Batts', 'Natural News Editors', 'Jonathan Landsman',\n",
              "       'David Gutierrez, staff writer', 'J. D. Heyes', 'Isabelle Z.',\n",
              "       'Mike Adams, NaturalNews Editor', 'Maia M', 'Twain Yobra',\n",
              "       'Phyllis Bentley', 'Sasha Brown', 'Andy Green', 'Mike Dan',\n",
              "       'samar pahwa', 'karencole', 'johnrussell', 'Amy Goodrich',\n",
              "       'mcshane', 'George Zapo', 'Ron Yahaloms', 'Caleb Stephen',\n",
              "       'jeery park', 'Nili Nathan', 'Hesh Goldstein', 'Jenn Ryan',\n",
              "       'Dr. Serge Gregoire', 'Josh Stockton', 'Nick Huxsted',\n",
              "       'Jenny Heth', 'Rosemary Hansen', 'Samantha Clove', 'Jade Rich',\n",
              "       'S. D. Wells', 'Tru Foods Nutrition', 'thefitgirl',\n",
              "       'L.J. Devon, Staff Writer', 'Mike Adams', 'Don Wrightman',\n",
              "       'D. Samuelson', 'Jason Easley', 'Sean Colarossi',\n",
              "       'Hrafnkell Haraldsson', 'Rmuse', 'Sarah Jones',\n",
              "       'Headly Westerfield', 'Reuters', 'Robert Franek',\n",
              "       'Adalia Woodbury', 'Abramo', 'ladylove', 'admin', 'Letsbereal',\n",
              "       'SUPREMEMASTER', 'pac522', 'KD7ONE', 'iamc2', 'Al Bundy',\n",
              "       'Brendan', 'Ivana M', 'Roosh Valizadeh', 'André du Pôle',\n",
              "       'Jean-Batave Poqueliche',\n",
              "       'The Most Important Concepts The Manosphere Taught Me',\n",
              "       'Greg Freeman', 'Max Roscoe', 'Justin Puck',\n",
              "       'Maximus Decimus Meridius', 'Larsen Halleck',\n",
              "       'Kshatriya Indransha', 'Corey Savage', 'Quintus Curtius',\n",
              "       'Ricardo Sanchez', 'Relampago Furioso', 'Luke Stranahan',\n",
              "       'Troy Francis',\n",
              "       'Game Is A Modern Rite Of Passage That Helps Turn Boys Into Men',\n",
              "       'Sponsored Post', 'WATCH: My Summer Vacation In Croatia',\n",
              "       'Tubal Cain', 'Brutus Centinel', 'August Moliere', 'Brian Gerard',\n",
              "       'Why Do People Become Cuckservatives?', 'News Syndicator',\n",
              "       'How To Kill Zombie Arguments', 'Kyle Trouble', 'Bernie Paprika',\n",
              "       'Bob Smith', 'FitzRoy Sommerset', 'Aaron Clarey',\n",
              "       '4 Goals For The Neomasculinity Movement During Trump\\x92s First Term',\n",
              "       'Brock Robinson', 'Matt Forney', 'William Adams', 'GrahamSeibert',\n",
              "       'An Infographic Showing What Male Privilege Really Looks Like',\n",
              "       'How Effective Are Books On Fitness?', 'Ness Nomadison',\n",
              "       'Louis Stuart', 'Jacques de Seingalt', 'Rik Storr', 'Gillian',\n",
              "       'Zero Hedge', 'Lily Dane', 'theeconomiccollapseblog.com',\n",
              "       'CASTIEL', 'watchmannonthewall', 'K', 'greanfinisher .', 'Donna',\n",
              "       'Mike Smithy', 'obama still has martial law', 'Buck Rogers',\n",
              "       'brian hodge', 'Matt Agorist', 'Jack Burns', 'T. Mohr', 'Ibcamn',\n",
              "       'tapatio', 'FaceSpace', 'Albert Wesker', 'Ronald Nelson',\n",
              "       'fungirl91', 'The Mind Unleashed', 'TheFineReport.com', 'Scott',\n",
              "       'The Saker', 'wmw_admin', 'Pankaj Vaidya', 'Starkman',\n",
              "       'South Front', 'Gordon Duff, Senior Editor', 'GPD',\n",
              "       'voltairenet.org', 'Russia Today (Rusia)', 'WashingtonsBlog',\n",
              "       'Eric Zuesse.', 'DavidSwanson', 'Ron Thompson', 'Rich Ledergerber',\n",
              "       'Deborah L. Sawyer', 'Lisa Reed', 'Rich Hultén',\n",
              "       'Don Anthony Dillon', 'Rich Knoch', 'Dottie Langhals',\n",
              "       'Ronnie Allen', 'Drew Dickey', 'Nana Papa Mattos', 'Rick Payne',\n",
              "       'Tina Martin', 'Topher Frankenberg', 'Nancy Moore',\n",
              "       'Rhonda Gilmore', 'Jerry Miller', 'Dave Sterling', 'Frank Clayton',\n",
              "       'Alan Elstob', 'Wanda Freeman Lay', 'Barry Branscum', 'Doug Shelp',\n",
              "       'Margaret Seymour Pope', 'Amy Bell', 'Lisa Blake Bilinski',\n",
              "       'Terry Coleman', 'Pat Cocivera', 'Larry Gallo', 'Elbert Kelly Sr',\n",
              "       'Emmett Edwards', 'GunsAz', 'Steve Lewis', 'Rico Mapster',\n",
              "       'Bob Wright', 'Kenan Lott', 'Brian Bell', 'Joel Ross Taylor',\n",
              "       'Craig Ward', 'Paul Reinhardt', 'Kimberly Reed Smith',\n",
              "       'Jon Burbulis', 'Jo Coffelt', 'Thomas Faddis', 'Carol McCoy',\n",
              "       'Pam Wilkerson Harrod', 'Shelby Kellin', 'James Richard Tyrer',\n",
              "       'Ruby Rowell', 'Dennis Jackson', 'Lisa Beach', 'Bob Menefee',\n",
              "       'John Doyle', 'Lamar Havard', 'Yrag Werdna Xuaedobiht',\n",
              "       'Harold Hughes', 'Karin Zakrzewski-Graziano', 'Birdie Houck',\n",
              "       'Debbie Bickers', 'Daniel Pejchl', 'Nick Denby',\n",
              "       'Theoline Isaacson', 'Judy Zwyghuizen', 'Vincent Taliercio',\n",
              "       'Carole Roscitto', 'Dave Lowery', 'Pat Jorgensen',\n",
              "       'Robert Siliani', 'Charles D Kirgan', 'Betty Johnson',\n",
              "       'Cheryl Fitzsimmons', 'Stephanie King', 'Luke Moseley',\n",
              "       'Mackie Braden', 'James Balthis', 'Jack McLeod', 'Craig Murphy',\n",
              "       'Bennie Frazier', 'Matthew Everett', 'Rejean Paquette',\n",
              "       'Judi Shirley', 'Joan Workman', 'Old_Logan',\n",
              "       'Dikran Arakelian (noreply@blogger.com)', '-NO AUTHOR-',\n",
              "       'Bob Unruh', 'Joe Kovacs', 'David Rives', 'Bill Federer',\n",
              "       'Joseph Farah', 'Erik Rush', 'Jack Cashill', 'Matt Barber',\n",
              "       'Jane Chastain', 'Michael Brown', 'Larry Elder', 'Jerome R. Corsi',\n",
              "       'Leo Hohmann', 'Greg Corombos', 'Jay Baggett', 'Vanessa Frank',\n",
              "       'Marisa Martin', 'Eddy Lavine'], dtype=object)"
            ]
          },
          "metadata": {},
          "execution_count": 68
        }
      ],
      "source": [
        "news_df_reordered_df[\"author\"].unique()"
      ]
    },
    {
      "cell_type": "code",
      "execution_count": 70,
      "metadata": {
        "colab": {
          "base_uri": "https://localhost:8080/",
          "height": 400
        },
        "id": "BbxhuVdFHo3d",
        "outputId": "951b3802-d0d8-43a7-9d52-25c112c566d5"
      },
      "outputs": [
        {
          "output_type": "execute_result",
          "data": {
            "text/plain": [
              "                                                 author  \\\n",
              "314   Day of the Dead 2015: History, food and reflec...   \n",
              "318                          ?????? ???? ???? ?????????   \n",
              "1747  Game Is A Modern Rite Of Passage That Helps Tu...   \n",
              "1792  4 Goals For The Neomasculinity Movement During...   \n",
              "\n",
              "                          published             site_url  \\\n",
              "314   2016-10-27T05:18:00.000+03:00  adobochronicles.com   \n",
              "318   2016-11-04T22:17:00.000+02:00  adobochronicles.com   \n",
              "1747  2016-11-03T02:26:51.256+02:00    returnofkings.com   \n",
              "1792  2016-11-16T18:07:48.392+02:00    returnofkings.com   \n",
              "\n",
              "                                           main_img_url language  type  \\\n",
              "314   https://adobochroniclesdotcom.files.wordpress....  english  fake   \n",
              "318   https://adobochroniclesdotcom.files.wordpress....  english  fake   \n",
              "1747                                       No Image URL  english  hate   \n",
              "1792                                       No Image URL  english  hate   \n",
              "\n",
              "      hasImage                                              title  \\\n",
              "314        1.0  comment on halloween in the castro returns in ...   \n",
              "318        1.0  comment on hillary clinton campaign logo has a...   \n",
              "1747       0.0  comment on  things indian guys have to underst...   \n",
              "1792       0.0  comment on are you on pace to reach your goals...   \n",
              "\n",
              "                                title_without_stopwords  \\\n",
              "314   comment halloween castro returns day dead hist...   \n",
              "318   comment hillary clinton campaign logo sublimin...   \n",
              "1747  reasons create fat control laws obesityfree zones   \n",
              "1792                  things learned general contractor   \n",
              "\n",
              "                                                   text  \\\n",
              "314   adobochron  comment comerford \\nwashington dc ...   \n",
              "318   adobochron  comments the trump hotels in las v...   \n",
              "1747  how the camp of the saints predicted the migra...   \n",
              "1792  the election of donald trump is already having...   \n",
              "\n",
              "                                 text_without_stopwords label  year  \n",
              "314   adobochron comment comerford washington dc ado...  Fake  2016  \n",
              "318   adobochron comments trump hotels las vegas lef...  Fake  2016  \n",
              "1747  like sigh every time skimread synopsis new lgb...  Real  2016  \n",
              "1792  still danger zone january th th donald trump p...  Real  2016  "
            ],
            "text/html": [
              "\n",
              "  <div id=\"df-5353aebc-6e5f-4a68-9aaf-f3bb9e85f9dd\" class=\"colab-df-container\">\n",
              "    <div>\n",
              "<style scoped>\n",
              "    .dataframe tbody tr th:only-of-type {\n",
              "        vertical-align: middle;\n",
              "    }\n",
              "\n",
              "    .dataframe tbody tr th {\n",
              "        vertical-align: top;\n",
              "    }\n",
              "\n",
              "    .dataframe thead th {\n",
              "        text-align: right;\n",
              "    }\n",
              "</style>\n",
              "<table border=\"1\" class=\"dataframe\">\n",
              "  <thead>\n",
              "    <tr style=\"text-align: right;\">\n",
              "      <th></th>\n",
              "      <th>author</th>\n",
              "      <th>published</th>\n",
              "      <th>site_url</th>\n",
              "      <th>main_img_url</th>\n",
              "      <th>language</th>\n",
              "      <th>type</th>\n",
              "      <th>hasImage</th>\n",
              "      <th>title</th>\n",
              "      <th>title_without_stopwords</th>\n",
              "      <th>text</th>\n",
              "      <th>text_without_stopwords</th>\n",
              "      <th>label</th>\n",
              "      <th>year</th>\n",
              "    </tr>\n",
              "  </thead>\n",
              "  <tbody>\n",
              "    <tr>\n",
              "      <th>314</th>\n",
              "      <td>Day of the Dead 2015: History, food and reflec...</td>\n",
              "      <td>2016-10-27T05:18:00.000+03:00</td>\n",
              "      <td>adobochronicles.com</td>\n",
              "      <td>https://adobochroniclesdotcom.files.wordpress....</td>\n",
              "      <td>english</td>\n",
              "      <td>fake</td>\n",
              "      <td>1.0</td>\n",
              "      <td>comment on halloween in the castro returns in ...</td>\n",
              "      <td>comment halloween castro returns day dead hist...</td>\n",
              "      <td>adobochron  comment comerford \\nwashington dc ...</td>\n",
              "      <td>adobochron comment comerford washington dc ado...</td>\n",
              "      <td>Fake</td>\n",
              "      <td>2016</td>\n",
              "    </tr>\n",
              "    <tr>\n",
              "      <th>318</th>\n",
              "      <td>?????? ???? ???? ?????????</td>\n",
              "      <td>2016-11-04T22:17:00.000+02:00</td>\n",
              "      <td>adobochronicles.com</td>\n",
              "      <td>https://adobochroniclesdotcom.files.wordpress....</td>\n",
              "      <td>english</td>\n",
              "      <td>fake</td>\n",
              "      <td>1.0</td>\n",
              "      <td>comment on hillary clinton campaign logo has a...</td>\n",
              "      <td>comment hillary clinton campaign logo sublimin...</td>\n",
              "      <td>adobochron  comments the trump hotels in las v...</td>\n",
              "      <td>adobochron comments trump hotels las vegas lef...</td>\n",
              "      <td>Fake</td>\n",
              "      <td>2016</td>\n",
              "    </tr>\n",
              "    <tr>\n",
              "      <th>1747</th>\n",
              "      <td>Game Is A Modern Rite Of Passage That Helps Tu...</td>\n",
              "      <td>2016-11-03T02:26:51.256+02:00</td>\n",
              "      <td>returnofkings.com</td>\n",
              "      <td>No Image URL</td>\n",
              "      <td>english</td>\n",
              "      <td>hate</td>\n",
              "      <td>0.0</td>\n",
              "      <td>comment on  things indian guys have to underst...</td>\n",
              "      <td>reasons create fat control laws obesityfree zones</td>\n",
              "      <td>how the camp of the saints predicted the migra...</td>\n",
              "      <td>like sigh every time skimread synopsis new lgb...</td>\n",
              "      <td>Real</td>\n",
              "      <td>2016</td>\n",
              "    </tr>\n",
              "    <tr>\n",
              "      <th>1792</th>\n",
              "      <td>4 Goals For The Neomasculinity Movement During...</td>\n",
              "      <td>2016-11-16T18:07:48.392+02:00</td>\n",
              "      <td>returnofkings.com</td>\n",
              "      <td>No Image URL</td>\n",
              "      <td>english</td>\n",
              "      <td>hate</td>\n",
              "      <td>0.0</td>\n",
              "      <td>comment on are you on pace to reach your goals...</td>\n",
              "      <td>things learned general contractor</td>\n",
              "      <td>the election of donald trump is already having...</td>\n",
              "      <td>still danger zone january th th donald trump p...</td>\n",
              "      <td>Real</td>\n",
              "      <td>2016</td>\n",
              "    </tr>\n",
              "  </tbody>\n",
              "</table>\n",
              "</div>\n",
              "    <div class=\"colab-df-buttons\">\n",
              "\n",
              "  <div class=\"colab-df-container\">\n",
              "    <button class=\"colab-df-convert\" onclick=\"convertToInteractive('df-5353aebc-6e5f-4a68-9aaf-f3bb9e85f9dd')\"\n",
              "            title=\"Convert this dataframe to an interactive table.\"\n",
              "            style=\"display:none;\">\n",
              "\n",
              "  <svg xmlns=\"http://www.w3.org/2000/svg\" height=\"24px\" viewBox=\"0 -960 960 960\">\n",
              "    <path d=\"M120-120v-720h720v720H120Zm60-500h600v-160H180v160Zm220 220h160v-160H400v160Zm0 220h160v-160H400v160ZM180-400h160v-160H180v160Zm440 0h160v-160H620v160ZM180-180h160v-160H180v160Zm440 0h160v-160H620v160Z\"/>\n",
              "  </svg>\n",
              "    </button>\n",
              "\n",
              "  <style>\n",
              "    .colab-df-container {\n",
              "      display:flex;\n",
              "      gap: 12px;\n",
              "    }\n",
              "\n",
              "    .colab-df-convert {\n",
              "      background-color: #E8F0FE;\n",
              "      border: none;\n",
              "      border-radius: 50%;\n",
              "      cursor: pointer;\n",
              "      display: none;\n",
              "      fill: #1967D2;\n",
              "      height: 32px;\n",
              "      padding: 0 0 0 0;\n",
              "      width: 32px;\n",
              "    }\n",
              "\n",
              "    .colab-df-convert:hover {\n",
              "      background-color: #E2EBFA;\n",
              "      box-shadow: 0px 1px 2px rgba(60, 64, 67, 0.3), 0px 1px 3px 1px rgba(60, 64, 67, 0.15);\n",
              "      fill: #174EA6;\n",
              "    }\n",
              "\n",
              "    .colab-df-buttons div {\n",
              "      margin-bottom: 4px;\n",
              "    }\n",
              "\n",
              "    [theme=dark] .colab-df-convert {\n",
              "      background-color: #3B4455;\n",
              "      fill: #D2E3FC;\n",
              "    }\n",
              "\n",
              "    [theme=dark] .colab-df-convert:hover {\n",
              "      background-color: #434B5C;\n",
              "      box-shadow: 0px 1px 3px 1px rgba(0, 0, 0, 0.15);\n",
              "      filter: drop-shadow(0px 1px 2px rgba(0, 0, 0, 0.3));\n",
              "      fill: #FFFFFF;\n",
              "    }\n",
              "  </style>\n",
              "\n",
              "    <script>\n",
              "      const buttonEl =\n",
              "        document.querySelector('#df-5353aebc-6e5f-4a68-9aaf-f3bb9e85f9dd button.colab-df-convert');\n",
              "      buttonEl.style.display =\n",
              "        google.colab.kernel.accessAllowed ? 'block' : 'none';\n",
              "\n",
              "      async function convertToInteractive(key) {\n",
              "        const element = document.querySelector('#df-5353aebc-6e5f-4a68-9aaf-f3bb9e85f9dd');\n",
              "        const dataTable =\n",
              "          await google.colab.kernel.invokeFunction('convertToInteractive',\n",
              "                                                    [key], {});\n",
              "        if (!dataTable) return;\n",
              "\n",
              "        const docLinkHtml = 'Like what you see? Visit the ' +\n",
              "          '<a target=\"_blank\" href=https://colab.research.google.com/notebooks/data_table.ipynb>data table notebook</a>'\n",
              "          + ' to learn more about interactive tables.';\n",
              "        element.innerHTML = '';\n",
              "        dataTable['output_type'] = 'display_data';\n",
              "        await google.colab.output.renderOutput(dataTable, element);\n",
              "        const docLink = document.createElement('div');\n",
              "        docLink.innerHTML = docLinkHtml;\n",
              "        element.appendChild(docLink);\n",
              "      }\n",
              "    </script>\n",
              "  </div>\n",
              "\n",
              "\n",
              "<div id=\"df-5e67f00b-c0f3-4071-baf2-442ea26131d3\">\n",
              "  <button class=\"colab-df-quickchart\" onclick=\"quickchart('df-5e67f00b-c0f3-4071-baf2-442ea26131d3')\"\n",
              "            title=\"Suggest charts\"\n",
              "            style=\"display:none;\">\n",
              "\n",
              "<svg xmlns=\"http://www.w3.org/2000/svg\" height=\"24px\"viewBox=\"0 0 24 24\"\n",
              "     width=\"24px\">\n",
              "    <g>\n",
              "        <path d=\"M19 3H5c-1.1 0-2 .9-2 2v14c0 1.1.9 2 2 2h14c1.1 0 2-.9 2-2V5c0-1.1-.9-2-2-2zM9 17H7v-7h2v7zm4 0h-2V7h2v10zm4 0h-2v-4h2v4z\"/>\n",
              "    </g>\n",
              "</svg>\n",
              "  </button>\n",
              "\n",
              "<style>\n",
              "  .colab-df-quickchart {\n",
              "      --bg-color: #E8F0FE;\n",
              "      --fill-color: #1967D2;\n",
              "      --hover-bg-color: #E2EBFA;\n",
              "      --hover-fill-color: #174EA6;\n",
              "      --disabled-fill-color: #AAA;\n",
              "      --disabled-bg-color: #DDD;\n",
              "  }\n",
              "\n",
              "  [theme=dark] .colab-df-quickchart {\n",
              "      --bg-color: #3B4455;\n",
              "      --fill-color: #D2E3FC;\n",
              "      --hover-bg-color: #434B5C;\n",
              "      --hover-fill-color: #FFFFFF;\n",
              "      --disabled-bg-color: #3B4455;\n",
              "      --disabled-fill-color: #666;\n",
              "  }\n",
              "\n",
              "  .colab-df-quickchart {\n",
              "    background-color: var(--bg-color);\n",
              "    border: none;\n",
              "    border-radius: 50%;\n",
              "    cursor: pointer;\n",
              "    display: none;\n",
              "    fill: var(--fill-color);\n",
              "    height: 32px;\n",
              "    padding: 0;\n",
              "    width: 32px;\n",
              "  }\n",
              "\n",
              "  .colab-df-quickchart:hover {\n",
              "    background-color: var(--hover-bg-color);\n",
              "    box-shadow: 0 1px 2px rgba(60, 64, 67, 0.3), 0 1px 3px 1px rgba(60, 64, 67, 0.15);\n",
              "    fill: var(--button-hover-fill-color);\n",
              "  }\n",
              "\n",
              "  .colab-df-quickchart-complete:disabled,\n",
              "  .colab-df-quickchart-complete:disabled:hover {\n",
              "    background-color: var(--disabled-bg-color);\n",
              "    fill: var(--disabled-fill-color);\n",
              "    box-shadow: none;\n",
              "  }\n",
              "\n",
              "  .colab-df-spinner {\n",
              "    border: 2px solid var(--fill-color);\n",
              "    border-color: transparent;\n",
              "    border-bottom-color: var(--fill-color);\n",
              "    animation:\n",
              "      spin 1s steps(1) infinite;\n",
              "  }\n",
              "\n",
              "  @keyframes spin {\n",
              "    0% {\n",
              "      border-color: transparent;\n",
              "      border-bottom-color: var(--fill-color);\n",
              "      border-left-color: var(--fill-color);\n",
              "    }\n",
              "    20% {\n",
              "      border-color: transparent;\n",
              "      border-left-color: var(--fill-color);\n",
              "      border-top-color: var(--fill-color);\n",
              "    }\n",
              "    30% {\n",
              "      border-color: transparent;\n",
              "      border-left-color: var(--fill-color);\n",
              "      border-top-color: var(--fill-color);\n",
              "      border-right-color: var(--fill-color);\n",
              "    }\n",
              "    40% {\n",
              "      border-color: transparent;\n",
              "      border-right-color: var(--fill-color);\n",
              "      border-top-color: var(--fill-color);\n",
              "    }\n",
              "    60% {\n",
              "      border-color: transparent;\n",
              "      border-right-color: var(--fill-color);\n",
              "    }\n",
              "    80% {\n",
              "      border-color: transparent;\n",
              "      border-right-color: var(--fill-color);\n",
              "      border-bottom-color: var(--fill-color);\n",
              "    }\n",
              "    90% {\n",
              "      border-color: transparent;\n",
              "      border-bottom-color: var(--fill-color);\n",
              "    }\n",
              "  }\n",
              "</style>\n",
              "\n",
              "  <script>\n",
              "    async function quickchart(key) {\n",
              "      const quickchartButtonEl =\n",
              "        document.querySelector('#' + key + ' button');\n",
              "      quickchartButtonEl.disabled = true;  // To prevent multiple clicks.\n",
              "      quickchartButtonEl.classList.add('colab-df-spinner');\n",
              "      try {\n",
              "        const charts = await google.colab.kernel.invokeFunction(\n",
              "            'suggestCharts', [key], {});\n",
              "      } catch (error) {\n",
              "        console.error('Error during call to suggestCharts:', error);\n",
              "      }\n",
              "      quickchartButtonEl.classList.remove('colab-df-spinner');\n",
              "      quickchartButtonEl.classList.add('colab-df-quickchart-complete');\n",
              "    }\n",
              "    (() => {\n",
              "      let quickchartButtonEl =\n",
              "        document.querySelector('#df-5e67f00b-c0f3-4071-baf2-442ea26131d3 button');\n",
              "      quickchartButtonEl.style.display =\n",
              "        google.colab.kernel.accessAllowed ? 'block' : 'none';\n",
              "    })();\n",
              "  </script>\n",
              "</div>\n",
              "    </div>\n",
              "  </div>\n"
            ],
            "application/vnd.google.colaboratory.intrinsic+json": {
              "type": "dataframe",
              "repr_error": "'str' object has no attribute 'empty'"
            }
          },
          "metadata": {},
          "execution_count": 70
        }
      ],
      "source": [
        "searchfor = [\"Dead\" , \"Game\", \"Goals\", \"\\?\\?\"]\n",
        "news_df_reordered_df[news_df_reordered_df[\"author\"].str.contains('|'.join(searchfor))]"
      ]
    },
    {
      "cell_type": "markdown",
      "source": [
        "We could also see in profile_data() that quite a few values are missing across the dataset, depending on the features. Let us take a closer look at these rows.\n",
        "\n",
        "\n",
        "\n"
      ],
      "metadata": {
        "id": "GlG61qNgUsBg"
      }
    },
    {
      "cell_type": "code",
      "execution_count": null,
      "metadata": {
        "id": "QRoxdPh5Ho3D"
      },
      "outputs": [],
      "source": [
        "# Profile of the dataset upon DROPPING any rows that contain NAs in one or more columns\n",
        "\n",
        "profile_data(news_df_reordered_df.dropna())"
      ]
    },
    {
      "cell_type": "markdown",
      "metadata": {
        "id": "FYYu8V7jHo3D"
      },
      "source": [
        "The dataset contains 2096 rows, 2045 rows if removing the missing values.\n",
        "Let us find out which rows contain the missing values."
      ]
    },
    {
      "cell_type": "markdown",
      "source": [
        "\n",
        "Let us look at some early and late rows containing NaN"
      ],
      "metadata": {
        "id": "HJxO767yUKi3"
      }
    },
    {
      "cell_type": "code",
      "execution_count": 74,
      "metadata": {
        "colab": {
          "base_uri": "https://localhost:8080/",
          "height": 658
        },
        "id": "NtXuLdTUHo3E",
        "outputId": "329f7aa1-0c98-424b-8711-724f3f7b71c9"
      },
      "outputs": [
        {
          "output_type": "execute_result",
          "data": {
            "text/plain": [
              "               author                      published       site_url  \\\n",
              "374   Daniel Haiphong  2016-11-17T02:00:00.000+02:00  ahtribune.com   \n",
              "2046      -NO AUTHOR-  2016-10-27T03:05:07.528+03:00        wnd.com   \n",
              "2047  Jerome R. Corsi  2016-10-27T03:05:08.609+03:00        wnd.com   \n",
              "2048      Leo Hohmann  2016-10-27T03:12:09.534+03:00        wnd.com   \n",
              "2049      -NO AUTHOR-  2016-10-27T03:12:13.906+03:00        wnd.com   \n",
              "2091      -NO AUTHOR-  2016-10-27T15:36:10.573+03:00        wnd.com   \n",
              "2092      -NO AUTHOR-  2016-10-27T15:36:10.671+03:00        wnd.com   \n",
              "2093      -NO AUTHOR-  2016-10-27T13:30:00.000+03:00        wnd.com   \n",
              "2094      -NO AUTHOR-  2016-10-27T15:58:41.935+03:00        wnd.com   \n",
              "2095      Eddy Lavine  2016-10-28T01:02:00.000+03:00            NaN   \n",
              "\n",
              "                                           main_img_url language  type  \\\n",
              "374   http://ahtribune.com/images/media/Donald_Trump...  english    bs   \n",
              "2046                                       No Image URL  english  bias   \n",
              "2047  http://www.wnd.com/files/2016/10/hillary_shock...  english  bias   \n",
              "2048  http://mobile.wnd.com/files/2016/10/hillary_sh...  english  bias   \n",
              "2049  http://mobile.wnd.com/files/2015/10/Hillary-Cl...  english  bias   \n",
              "2091  http://www.wnd.com/files/2016/10/hillary_haunt...  english  bias   \n",
              "2092  http://www.wnd.com/files/2016/10/rambo_richard...  english  bias   \n",
              "2093  http://www.wnd.com/files/2016/10/skype_sex_sca...  english    bs   \n",
              "2094  http://worldtruth.tv/wp-content/uploads/2016/1...  english    bs   \n",
              "2095                                                NaN      NaN   NaN   \n",
              "\n",
              "      hasImage                                              title  \\\n",
              "374        1.0                                       won now what   \n",
              "2046       1.0                    gingrich slutshames megyn kelly   \n",
              "2047       1.0                    youtube bans clintons black son   \n",
              "2048       1.0   wikileaks bombshells on hillary you need to know   \n",
              "2049       0.0                                fascinated with sex   \n",
              "2091       1.0          teens walk free after gangrape conviction   \n",
              "2092       1.0         school named for munichmassacre mastermind   \n",
              "2093       1.0                      russia unveils satan  missile   \n",
              "2094       0.0              check out hillarythemed haunted house   \n",
              "2095       NaN  cannabis aficionados develop thca crystalline ...   \n",
              "\n",
              "                                title_without_stopwords  \\\n",
              "374                                                 NaN   \n",
              "2046                      hillarys emails might missing   \n",
              "2047                      hillarys emails might missing   \n",
              "2048             wikileaks bombshells hillary need know   \n",
              "2049                                     fascinated sex   \n",
              "2091  good samaritan wearing indian headdress disarm...   \n",
              "2092                 skype sex scam fortune built shame   \n",
              "2093  cannabis aficionados develop thca crystalline ...   \n",
              "2094                                              title   \n",
              "2095                                                NaN   \n",
              "\n",
              "                                                   text  \\\n",
              "374   the syrian army and hezbollah resistance force...   \n",
              "2046  good samaritan wearing indian headdress disarm...   \n",
              "2047  skype sex scam  a fortune built on shame moroc...   \n",
              "2048  posted by eddie while the skyhigh potency may ...   \n",
              "2049  billion even after they are known to be keepin...   \n",
              "2091                                                NaN   \n",
              "2092                                                NaN   \n",
              "2093                                                NaN   \n",
              "2094                                                NaN   \n",
              "2095                                                NaN   \n",
              "\n",
              "                                 text_without_stopwords label  \n",
              "374   syrian army hezbollah resistance forces contin...  Fake  \n",
              "2046                                                NaN  Real  \n",
              "2047                                                NaN  Real  \n",
              "2048                                                NaN  Real  \n",
              "2049                                                NaN  Real  \n",
              "2091                                                NaN  Real  \n",
              "2092                                                NaN  Real  \n",
              "2093                                                NaN  Fake  \n",
              "2094                                                NaN  Fake  \n",
              "2095                                                NaN   NaN  "
            ],
            "text/html": [
              "\n",
              "  <div id=\"df-63702170-5335-408c-805a-bb415e8b23c0\" class=\"colab-df-container\">\n",
              "    <div>\n",
              "<style scoped>\n",
              "    .dataframe tbody tr th:only-of-type {\n",
              "        vertical-align: middle;\n",
              "    }\n",
              "\n",
              "    .dataframe tbody tr th {\n",
              "        vertical-align: top;\n",
              "    }\n",
              "\n",
              "    .dataframe thead th {\n",
              "        text-align: right;\n",
              "    }\n",
              "</style>\n",
              "<table border=\"1\" class=\"dataframe\">\n",
              "  <thead>\n",
              "    <tr style=\"text-align: right;\">\n",
              "      <th></th>\n",
              "      <th>author</th>\n",
              "      <th>published</th>\n",
              "      <th>site_url</th>\n",
              "      <th>main_img_url</th>\n",
              "      <th>language</th>\n",
              "      <th>type</th>\n",
              "      <th>hasImage</th>\n",
              "      <th>title</th>\n",
              "      <th>title_without_stopwords</th>\n",
              "      <th>text</th>\n",
              "      <th>text_without_stopwords</th>\n",
              "      <th>label</th>\n",
              "    </tr>\n",
              "  </thead>\n",
              "  <tbody>\n",
              "    <tr>\n",
              "      <th>374</th>\n",
              "      <td>Daniel Haiphong</td>\n",
              "      <td>2016-11-17T02:00:00.000+02:00</td>\n",
              "      <td>ahtribune.com</td>\n",
              "      <td>http://ahtribune.com/images/media/Donald_Trump...</td>\n",
              "      <td>english</td>\n",
              "      <td>bs</td>\n",
              "      <td>1.0</td>\n",
              "      <td>won now what</td>\n",
              "      <td>NaN</td>\n",
              "      <td>the syrian army and hezbollah resistance force...</td>\n",
              "      <td>syrian army hezbollah resistance forces contin...</td>\n",
              "      <td>Fake</td>\n",
              "    </tr>\n",
              "    <tr>\n",
              "      <th>2046</th>\n",
              "      <td>-NO AUTHOR-</td>\n",
              "      <td>2016-10-27T03:05:07.528+03:00</td>\n",
              "      <td>wnd.com</td>\n",
              "      <td>No Image URL</td>\n",
              "      <td>english</td>\n",
              "      <td>bias</td>\n",
              "      <td>1.0</td>\n",
              "      <td>gingrich slutshames megyn kelly</td>\n",
              "      <td>hillarys emails might missing</td>\n",
              "      <td>good samaritan wearing indian headdress disarm...</td>\n",
              "      <td>NaN</td>\n",
              "      <td>Real</td>\n",
              "    </tr>\n",
              "    <tr>\n",
              "      <th>2047</th>\n",
              "      <td>Jerome R. Corsi</td>\n",
              "      <td>2016-10-27T03:05:08.609+03:00</td>\n",
              "      <td>wnd.com</td>\n",
              "      <td>http://www.wnd.com/files/2016/10/hillary_shock...</td>\n",
              "      <td>english</td>\n",
              "      <td>bias</td>\n",
              "      <td>1.0</td>\n",
              "      <td>youtube bans clintons black son</td>\n",
              "      <td>hillarys emails might missing</td>\n",
              "      <td>skype sex scam  a fortune built on shame moroc...</td>\n",
              "      <td>NaN</td>\n",
              "      <td>Real</td>\n",
              "    </tr>\n",
              "    <tr>\n",
              "      <th>2048</th>\n",
              "      <td>Leo Hohmann</td>\n",
              "      <td>2016-10-27T03:12:09.534+03:00</td>\n",
              "      <td>wnd.com</td>\n",
              "      <td>http://mobile.wnd.com/files/2016/10/hillary_sh...</td>\n",
              "      <td>english</td>\n",
              "      <td>bias</td>\n",
              "      <td>1.0</td>\n",
              "      <td>wikileaks bombshells on hillary you need to know</td>\n",
              "      <td>wikileaks bombshells hillary need know</td>\n",
              "      <td>posted by eddie while the skyhigh potency may ...</td>\n",
              "      <td>NaN</td>\n",
              "      <td>Real</td>\n",
              "    </tr>\n",
              "    <tr>\n",
              "      <th>2049</th>\n",
              "      <td>-NO AUTHOR-</td>\n",
              "      <td>2016-10-27T03:12:13.906+03:00</td>\n",
              "      <td>wnd.com</td>\n",
              "      <td>http://mobile.wnd.com/files/2015/10/Hillary-Cl...</td>\n",
              "      <td>english</td>\n",
              "      <td>bias</td>\n",
              "      <td>0.0</td>\n",
              "      <td>fascinated with sex</td>\n",
              "      <td>fascinated sex</td>\n",
              "      <td>billion even after they are known to be keepin...</td>\n",
              "      <td>NaN</td>\n",
              "      <td>Real</td>\n",
              "    </tr>\n",
              "    <tr>\n",
              "      <th>2091</th>\n",
              "      <td>-NO AUTHOR-</td>\n",
              "      <td>2016-10-27T15:36:10.573+03:00</td>\n",
              "      <td>wnd.com</td>\n",
              "      <td>http://www.wnd.com/files/2016/10/hillary_haunt...</td>\n",
              "      <td>english</td>\n",
              "      <td>bias</td>\n",
              "      <td>1.0</td>\n",
              "      <td>teens walk free after gangrape conviction</td>\n",
              "      <td>good samaritan wearing indian headdress disarm...</td>\n",
              "      <td>NaN</td>\n",
              "      <td>NaN</td>\n",
              "      <td>Real</td>\n",
              "    </tr>\n",
              "    <tr>\n",
              "      <th>2092</th>\n",
              "      <td>-NO AUTHOR-</td>\n",
              "      <td>2016-10-27T15:36:10.671+03:00</td>\n",
              "      <td>wnd.com</td>\n",
              "      <td>http://www.wnd.com/files/2016/10/rambo_richard...</td>\n",
              "      <td>english</td>\n",
              "      <td>bias</td>\n",
              "      <td>1.0</td>\n",
              "      <td>school named for munichmassacre mastermind</td>\n",
              "      <td>skype sex scam fortune built shame</td>\n",
              "      <td>NaN</td>\n",
              "      <td>NaN</td>\n",
              "      <td>Real</td>\n",
              "    </tr>\n",
              "    <tr>\n",
              "      <th>2093</th>\n",
              "      <td>-NO AUTHOR-</td>\n",
              "      <td>2016-10-27T13:30:00.000+03:00</td>\n",
              "      <td>wnd.com</td>\n",
              "      <td>http://www.wnd.com/files/2016/10/skype_sex_sca...</td>\n",
              "      <td>english</td>\n",
              "      <td>bs</td>\n",
              "      <td>1.0</td>\n",
              "      <td>russia unveils satan  missile</td>\n",
              "      <td>cannabis aficionados develop thca crystalline ...</td>\n",
              "      <td>NaN</td>\n",
              "      <td>NaN</td>\n",
              "      <td>Fake</td>\n",
              "    </tr>\n",
              "    <tr>\n",
              "      <th>2094</th>\n",
              "      <td>-NO AUTHOR-</td>\n",
              "      <td>2016-10-27T15:58:41.935+03:00</td>\n",
              "      <td>wnd.com</td>\n",
              "      <td>http://worldtruth.tv/wp-content/uploads/2016/1...</td>\n",
              "      <td>english</td>\n",
              "      <td>bs</td>\n",
              "      <td>0.0</td>\n",
              "      <td>check out hillarythemed haunted house</td>\n",
              "      <td>title</td>\n",
              "      <td>NaN</td>\n",
              "      <td>NaN</td>\n",
              "      <td>Fake</td>\n",
              "    </tr>\n",
              "    <tr>\n",
              "      <th>2095</th>\n",
              "      <td>Eddy Lavine</td>\n",
              "      <td>2016-10-28T01:02:00.000+03:00</td>\n",
              "      <td>NaN</td>\n",
              "      <td>NaN</td>\n",
              "      <td>NaN</td>\n",
              "      <td>NaN</td>\n",
              "      <td>NaN</td>\n",
              "      <td>cannabis aficionados develop thca crystalline ...</td>\n",
              "      <td>NaN</td>\n",
              "      <td>NaN</td>\n",
              "      <td>NaN</td>\n",
              "      <td>NaN</td>\n",
              "    </tr>\n",
              "  </tbody>\n",
              "</table>\n",
              "</div>\n",
              "    <div class=\"colab-df-buttons\">\n",
              "\n",
              "  <div class=\"colab-df-container\">\n",
              "    <button class=\"colab-df-convert\" onclick=\"convertToInteractive('df-63702170-5335-408c-805a-bb415e8b23c0')\"\n",
              "            title=\"Convert this dataframe to an interactive table.\"\n",
              "            style=\"display:none;\">\n",
              "\n",
              "  <svg xmlns=\"http://www.w3.org/2000/svg\" height=\"24px\" viewBox=\"0 -960 960 960\">\n",
              "    <path d=\"M120-120v-720h720v720H120Zm60-500h600v-160H180v160Zm220 220h160v-160H400v160Zm0 220h160v-160H400v160ZM180-400h160v-160H180v160Zm440 0h160v-160H620v160ZM180-180h160v-160H180v160Zm440 0h160v-160H620v160Z\"/>\n",
              "  </svg>\n",
              "    </button>\n",
              "\n",
              "  <style>\n",
              "    .colab-df-container {\n",
              "      display:flex;\n",
              "      gap: 12px;\n",
              "    }\n",
              "\n",
              "    .colab-df-convert {\n",
              "      background-color: #E8F0FE;\n",
              "      border: none;\n",
              "      border-radius: 50%;\n",
              "      cursor: pointer;\n",
              "      display: none;\n",
              "      fill: #1967D2;\n",
              "      height: 32px;\n",
              "      padding: 0 0 0 0;\n",
              "      width: 32px;\n",
              "    }\n",
              "\n",
              "    .colab-df-convert:hover {\n",
              "      background-color: #E2EBFA;\n",
              "      box-shadow: 0px 1px 2px rgba(60, 64, 67, 0.3), 0px 1px 3px 1px rgba(60, 64, 67, 0.15);\n",
              "      fill: #174EA6;\n",
              "    }\n",
              "\n",
              "    .colab-df-buttons div {\n",
              "      margin-bottom: 4px;\n",
              "    }\n",
              "\n",
              "    [theme=dark] .colab-df-convert {\n",
              "      background-color: #3B4455;\n",
              "      fill: #D2E3FC;\n",
              "    }\n",
              "\n",
              "    [theme=dark] .colab-df-convert:hover {\n",
              "      background-color: #434B5C;\n",
              "      box-shadow: 0px 1px 3px 1px rgba(0, 0, 0, 0.15);\n",
              "      filter: drop-shadow(0px 1px 2px rgba(0, 0, 0, 0.3));\n",
              "      fill: #FFFFFF;\n",
              "    }\n",
              "  </style>\n",
              "\n",
              "    <script>\n",
              "      const buttonEl =\n",
              "        document.querySelector('#df-63702170-5335-408c-805a-bb415e8b23c0 button.colab-df-convert');\n",
              "      buttonEl.style.display =\n",
              "        google.colab.kernel.accessAllowed ? 'block' : 'none';\n",
              "\n",
              "      async function convertToInteractive(key) {\n",
              "        const element = document.querySelector('#df-63702170-5335-408c-805a-bb415e8b23c0');\n",
              "        const dataTable =\n",
              "          await google.colab.kernel.invokeFunction('convertToInteractive',\n",
              "                                                    [key], {});\n",
              "        if (!dataTable) return;\n",
              "\n",
              "        const docLinkHtml = 'Like what you see? Visit the ' +\n",
              "          '<a target=\"_blank\" href=https://colab.research.google.com/notebooks/data_table.ipynb>data table notebook</a>'\n",
              "          + ' to learn more about interactive tables.';\n",
              "        element.innerHTML = '';\n",
              "        dataTable['output_type'] = 'display_data';\n",
              "        await google.colab.output.renderOutput(dataTable, element);\n",
              "        const docLink = document.createElement('div');\n",
              "        docLink.innerHTML = docLinkHtml;\n",
              "        element.appendChild(docLink);\n",
              "      }\n",
              "    </script>\n",
              "  </div>\n",
              "\n",
              "\n",
              "<div id=\"df-52ca2ee1-873f-4cfa-bea6-67e54ca19aea\">\n",
              "  <button class=\"colab-df-quickchart\" onclick=\"quickchart('df-52ca2ee1-873f-4cfa-bea6-67e54ca19aea')\"\n",
              "            title=\"Suggest charts\"\n",
              "            style=\"display:none;\">\n",
              "\n",
              "<svg xmlns=\"http://www.w3.org/2000/svg\" height=\"24px\"viewBox=\"0 0 24 24\"\n",
              "     width=\"24px\">\n",
              "    <g>\n",
              "        <path d=\"M19 3H5c-1.1 0-2 .9-2 2v14c0 1.1.9 2 2 2h14c1.1 0 2-.9 2-2V5c0-1.1-.9-2-2-2zM9 17H7v-7h2v7zm4 0h-2V7h2v10zm4 0h-2v-4h2v4z\"/>\n",
              "    </g>\n",
              "</svg>\n",
              "  </button>\n",
              "\n",
              "<style>\n",
              "  .colab-df-quickchart {\n",
              "      --bg-color: #E8F0FE;\n",
              "      --fill-color: #1967D2;\n",
              "      --hover-bg-color: #E2EBFA;\n",
              "      --hover-fill-color: #174EA6;\n",
              "      --disabled-fill-color: #AAA;\n",
              "      --disabled-bg-color: #DDD;\n",
              "  }\n",
              "\n",
              "  [theme=dark] .colab-df-quickchart {\n",
              "      --bg-color: #3B4455;\n",
              "      --fill-color: #D2E3FC;\n",
              "      --hover-bg-color: #434B5C;\n",
              "      --hover-fill-color: #FFFFFF;\n",
              "      --disabled-bg-color: #3B4455;\n",
              "      --disabled-fill-color: #666;\n",
              "  }\n",
              "\n",
              "  .colab-df-quickchart {\n",
              "    background-color: var(--bg-color);\n",
              "    border: none;\n",
              "    border-radius: 50%;\n",
              "    cursor: pointer;\n",
              "    display: none;\n",
              "    fill: var(--fill-color);\n",
              "    height: 32px;\n",
              "    padding: 0;\n",
              "    width: 32px;\n",
              "  }\n",
              "\n",
              "  .colab-df-quickchart:hover {\n",
              "    background-color: var(--hover-bg-color);\n",
              "    box-shadow: 0 1px 2px rgba(60, 64, 67, 0.3), 0 1px 3px 1px rgba(60, 64, 67, 0.15);\n",
              "    fill: var(--button-hover-fill-color);\n",
              "  }\n",
              "\n",
              "  .colab-df-quickchart-complete:disabled,\n",
              "  .colab-df-quickchart-complete:disabled:hover {\n",
              "    background-color: var(--disabled-bg-color);\n",
              "    fill: var(--disabled-fill-color);\n",
              "    box-shadow: none;\n",
              "  }\n",
              "\n",
              "  .colab-df-spinner {\n",
              "    border: 2px solid var(--fill-color);\n",
              "    border-color: transparent;\n",
              "    border-bottom-color: var(--fill-color);\n",
              "    animation:\n",
              "      spin 1s steps(1) infinite;\n",
              "  }\n",
              "\n",
              "  @keyframes spin {\n",
              "    0% {\n",
              "      border-color: transparent;\n",
              "      border-bottom-color: var(--fill-color);\n",
              "      border-left-color: var(--fill-color);\n",
              "    }\n",
              "    20% {\n",
              "      border-color: transparent;\n",
              "      border-left-color: var(--fill-color);\n",
              "      border-top-color: var(--fill-color);\n",
              "    }\n",
              "    30% {\n",
              "      border-color: transparent;\n",
              "      border-left-color: var(--fill-color);\n",
              "      border-top-color: var(--fill-color);\n",
              "      border-right-color: var(--fill-color);\n",
              "    }\n",
              "    40% {\n",
              "      border-color: transparent;\n",
              "      border-right-color: var(--fill-color);\n",
              "      border-top-color: var(--fill-color);\n",
              "    }\n",
              "    60% {\n",
              "      border-color: transparent;\n",
              "      border-right-color: var(--fill-color);\n",
              "    }\n",
              "    80% {\n",
              "      border-color: transparent;\n",
              "      border-right-color: var(--fill-color);\n",
              "      border-bottom-color: var(--fill-color);\n",
              "    }\n",
              "    90% {\n",
              "      border-color: transparent;\n",
              "      border-bottom-color: var(--fill-color);\n",
              "    }\n",
              "  }\n",
              "</style>\n",
              "\n",
              "  <script>\n",
              "    async function quickchart(key) {\n",
              "      const quickchartButtonEl =\n",
              "        document.querySelector('#' + key + ' button');\n",
              "      quickchartButtonEl.disabled = true;  // To prevent multiple clicks.\n",
              "      quickchartButtonEl.classList.add('colab-df-spinner');\n",
              "      try {\n",
              "        const charts = await google.colab.kernel.invokeFunction(\n",
              "            'suggestCharts', [key], {});\n",
              "      } catch (error) {\n",
              "        console.error('Error during call to suggestCharts:', error);\n",
              "      }\n",
              "      quickchartButtonEl.classList.remove('colab-df-spinner');\n",
              "      quickchartButtonEl.classList.add('colab-df-quickchart-complete');\n",
              "    }\n",
              "    (() => {\n",
              "      let quickchartButtonEl =\n",
              "        document.querySelector('#df-52ca2ee1-873f-4cfa-bea6-67e54ca19aea button');\n",
              "      quickchartButtonEl.style.display =\n",
              "        google.colab.kernel.accessAllowed ? 'block' : 'none';\n",
              "    })();\n",
              "  </script>\n",
              "</div>\n",
              "    </div>\n",
              "  </div>\n"
            ],
            "application/vnd.google.colaboratory.intrinsic+json": {
              "type": "dataframe",
              "repr_error": "'str' object has no attribute 'empty'"
            }
          },
          "metadata": {},
          "execution_count": 74
        }
      ],
      "source": [
        "pd.concat([news_df_reordered_df[news_df_reordered_df.isna().any(axis=1)].head(5) , news_df_reordered_df[news_df_reordered_df.isna().any(axis=1)].tail(5) ] , axis = 0 )"
      ]
    },
    {
      "cell_type": "code",
      "execution_count": 75,
      "metadata": {
        "colab": {
          "base_uri": "https://localhost:8080/"
        },
        "id": "Qjq3Wh2YHo3E",
        "outputId": "0eab39d5-024a-4887-b982-9ec03d1c5cc6"
      },
      "outputs": [
        {
          "output_type": "stream",
          "name": "stdout",
          "text": [
            "Title: \n",
            "pope god promised the land to people of israel\n",
            "\n",
            "Title without stopwords:\n",
            "school named munichmassacre mastermind\n"
          ]
        }
      ],
      "source": [
        "# Let us check how some of the rows and with NaN look like\n",
        "\n",
        "print(\"Title: \\n\" + news_df_reordered_df[news_df_reordered_df.isna().any(axis=1)].iloc[43][\"title\"] + \"\\n\")\n",
        "\n",
        "# print( \"Text:\\n\" + textwrap.fill( news_df[news_df.isna().any(axis=1)].iloc[43][\"title_w\"], 200)  + \"\\n\" )\n",
        "\n",
        "print(\"Title without stopwords:\\n\" + textwrap.fill( news_df_reordered_df[news_df_reordered_df.isna().any(axis=1)].iloc[43][\"title_without_stopwords\"] , 200) )\n",
        "\n",
        "\n"
      ]
    },
    {
      "cell_type": "markdown",
      "source": [
        "Clearly, there is a mismatch as to what could be seen earlier. The title and title without stopwords dont match. We can also see mismatch between title and title without stopwords (and conversely with \"text\") across several rows. LEt us reorder the columns to make it easy to spot mismatches between a column and its equivalent without stopwords."
      ],
      "metadata": {
        "id": "JonyuKUNQa9-"
      }
    },
    {
      "cell_type": "markdown",
      "metadata": {
        "id": "SLsiFmE1Ho3J"
      },
      "source": [
        "somewhere in the dataset, there been a row shift as one can see looking at title and title without_stopwords. Values in the column \"title\" appear 3 rows after than what is the corresponding \"title_without_stopwords\", as evidenced by \"title\" and \"title_without_stopwords\" in row 2086 and 2090 respectively.\n",
        "\n",
        "Checking in Excel shows the \"problem\" started in row 846."
      ]
    },
    {
      "cell_type": "code",
      "execution_count": 60,
      "metadata": {
        "colab": {
          "base_uri": "https://localhost:8080/",
          "height": 414
        },
        "id": "TT7L-AlrHo3K",
        "outputId": "4193884c-3423-4e38-fcd8-68a3f514d8cb"
      },
      "outputs": [
        {
          "output_type": "execute_result",
          "data": {
            "text/plain": [
              "                   author                                          published  \\\n",
              "844  Dr. Patrick Slattery                      2016-11-16T11:07:07.314+02:00   \n",
              "845  Dr. Patrick Slattery                      2016-11-17T07:12:32.712+02:00   \n",
              "846  Dr. Patrick Slattery                      2016-11-18T00:51:39.322+02:00   \n",
              "847                 Staff                      2016-11-18T18:45:06.734+02:00   \n",
              "848         davidduke.com  http://davidduke.com/wp-content/uploads/2014/0...   \n",
              "\n",
              "          site_url                                       main_img_url  \\\n",
              "844  davidduke.com  http://davidduke.com/wp-content/uploads/2016/1...   \n",
              "845  davidduke.com  http://davidduke.com/wp-content/uploads/2016/1...   \n",
              "846  davidduke.com  http://davidduke.com/wp-content/uploads/2016/1...   \n",
              "847  davidduke.com  http://davidduke.com/wp-content/uploads/2016/1...   \n",
              "848  davidduke.com  http://davidduke.com/wp-content/uploads/2016/1...   \n",
              "\n",
              "    language  type  hasImage  \\\n",
              "844  english  hate       1.0   \n",
              "845  english  hate       1.0   \n",
              "846  english  hate       1.0   \n",
              "847  english  hate       1.0   \n",
              "848   ignore  hate       1.0   \n",
              "\n",
              "                                                 title  \\\n",
              "844                slattery and dankof we won now what   \n",
              "845  dr duke and pastor dankof quote jews boasting ...   \n",
              "846          david duke exposes the msnbc and adl lies   \n",
              "847  duke bannon flynn sessions the st steps in tak...   \n",
              "848                                               hate   \n",
              "\n",
              "                               title_without_stopwords  \\\n",
              "844                                    slattery dankof   \n",
              "845  dr duke pastor dankof quote jews boasting jewi...   \n",
              "846                  david duke exposes msnbc adl lies   \n",
              "847  duke bannon flynn sessions st steps taking ame...   \n",
              "848           billion dollars jewish lobby tip iceberg   \n",
              "\n",
              "                                                  text  \\\n",
              "844  editorial by dr david duke  \\ntrump appoints m...   \n",
              "845   views share by dr david duke when i was first...   \n",
              "846                                               Real   \n",
              "847  httpmediaarchivesgsradionetddukemp dr duke  ma...   \n",
              "848  httpmediaarchivesgsradionetddukemp dr duke  fa...   \n",
              "\n",
              "                                text_without_stopwords label  \n",
              "844  editorial dr david duke trump appoints men tak...  Real  \n",
              "845  httpmediaarchivesgsradionetddukemp dr duke mar...  Real  \n",
              "846  views share precommentary dr david duke articl...  Real  \n",
              "847  httpmediaarchivesgsradionetddukemp dr duke far...  Real  \n",
              "848  views share remarkable articleand admissionapp...  Real  "
            ],
            "text/html": [
              "\n",
              "  <div id=\"df-6d41dd93-0cc1-4169-a9ce-55c6f29be0c9\" class=\"colab-df-container\">\n",
              "    <div>\n",
              "<style scoped>\n",
              "    .dataframe tbody tr th:only-of-type {\n",
              "        vertical-align: middle;\n",
              "    }\n",
              "\n",
              "    .dataframe tbody tr th {\n",
              "        vertical-align: top;\n",
              "    }\n",
              "\n",
              "    .dataframe thead th {\n",
              "        text-align: right;\n",
              "    }\n",
              "</style>\n",
              "<table border=\"1\" class=\"dataframe\">\n",
              "  <thead>\n",
              "    <tr style=\"text-align: right;\">\n",
              "      <th></th>\n",
              "      <th>author</th>\n",
              "      <th>published</th>\n",
              "      <th>site_url</th>\n",
              "      <th>main_img_url</th>\n",
              "      <th>language</th>\n",
              "      <th>type</th>\n",
              "      <th>hasImage</th>\n",
              "      <th>title</th>\n",
              "      <th>title_without_stopwords</th>\n",
              "      <th>text</th>\n",
              "      <th>text_without_stopwords</th>\n",
              "      <th>label</th>\n",
              "    </tr>\n",
              "  </thead>\n",
              "  <tbody>\n",
              "    <tr>\n",
              "      <th>844</th>\n",
              "      <td>Dr. Patrick Slattery</td>\n",
              "      <td>2016-11-16T11:07:07.314+02:00</td>\n",
              "      <td>davidduke.com</td>\n",
              "      <td>http://davidduke.com/wp-content/uploads/2016/1...</td>\n",
              "      <td>english</td>\n",
              "      <td>hate</td>\n",
              "      <td>1.0</td>\n",
              "      <td>slattery and dankof we won now what</td>\n",
              "      <td>slattery dankof</td>\n",
              "      <td>editorial by dr david duke  \\ntrump appoints m...</td>\n",
              "      <td>editorial dr david duke trump appoints men tak...</td>\n",
              "      <td>Real</td>\n",
              "    </tr>\n",
              "    <tr>\n",
              "      <th>845</th>\n",
              "      <td>Dr. Patrick Slattery</td>\n",
              "      <td>2016-11-17T07:12:32.712+02:00</td>\n",
              "      <td>davidduke.com</td>\n",
              "      <td>http://davidduke.com/wp-content/uploads/2016/1...</td>\n",
              "      <td>english</td>\n",
              "      <td>hate</td>\n",
              "      <td>1.0</td>\n",
              "      <td>dr duke and pastor dankof quote jews boasting ...</td>\n",
              "      <td>dr duke pastor dankof quote jews boasting jewi...</td>\n",
              "      <td>views share by dr david duke when i was first...</td>\n",
              "      <td>httpmediaarchivesgsradionetddukemp dr duke mar...</td>\n",
              "      <td>Real</td>\n",
              "    </tr>\n",
              "    <tr>\n",
              "      <th>846</th>\n",
              "      <td>Dr. Patrick Slattery</td>\n",
              "      <td>2016-11-18T00:51:39.322+02:00</td>\n",
              "      <td>davidduke.com</td>\n",
              "      <td>http://davidduke.com/wp-content/uploads/2016/1...</td>\n",
              "      <td>english</td>\n",
              "      <td>hate</td>\n",
              "      <td>1.0</td>\n",
              "      <td>david duke exposes the msnbc and adl lies</td>\n",
              "      <td>david duke exposes msnbc adl lies</td>\n",
              "      <td>Real</td>\n",
              "      <td>views share precommentary dr david duke articl...</td>\n",
              "      <td>Real</td>\n",
              "    </tr>\n",
              "    <tr>\n",
              "      <th>847</th>\n",
              "      <td>Staff</td>\n",
              "      <td>2016-11-18T18:45:06.734+02:00</td>\n",
              "      <td>davidduke.com</td>\n",
              "      <td>http://davidduke.com/wp-content/uploads/2016/1...</td>\n",
              "      <td>english</td>\n",
              "      <td>hate</td>\n",
              "      <td>1.0</td>\n",
              "      <td>duke bannon flynn sessions the st steps in tak...</td>\n",
              "      <td>duke bannon flynn sessions st steps taking ame...</td>\n",
              "      <td>httpmediaarchivesgsradionetddukemp dr duke  ma...</td>\n",
              "      <td>httpmediaarchivesgsradionetddukemp dr duke far...</td>\n",
              "      <td>Real</td>\n",
              "    </tr>\n",
              "    <tr>\n",
              "      <th>848</th>\n",
              "      <td>davidduke.com</td>\n",
              "      <td>http://davidduke.com/wp-content/uploads/2014/0...</td>\n",
              "      <td>davidduke.com</td>\n",
              "      <td>http://davidduke.com/wp-content/uploads/2016/1...</td>\n",
              "      <td>ignore</td>\n",
              "      <td>hate</td>\n",
              "      <td>1.0</td>\n",
              "      <td>hate</td>\n",
              "      <td>billion dollars jewish lobby tip iceberg</td>\n",
              "      <td>httpmediaarchivesgsradionetddukemp dr duke  fa...</td>\n",
              "      <td>views share remarkable articleand admissionapp...</td>\n",
              "      <td>Real</td>\n",
              "    </tr>\n",
              "  </tbody>\n",
              "</table>\n",
              "</div>\n",
              "    <div class=\"colab-df-buttons\">\n",
              "\n",
              "  <div class=\"colab-df-container\">\n",
              "    <button class=\"colab-df-convert\" onclick=\"convertToInteractive('df-6d41dd93-0cc1-4169-a9ce-55c6f29be0c9')\"\n",
              "            title=\"Convert this dataframe to an interactive table.\"\n",
              "            style=\"display:none;\">\n",
              "\n",
              "  <svg xmlns=\"http://www.w3.org/2000/svg\" height=\"24px\" viewBox=\"0 -960 960 960\">\n",
              "    <path d=\"M120-120v-720h720v720H120Zm60-500h600v-160H180v160Zm220 220h160v-160H400v160Zm0 220h160v-160H400v160ZM180-400h160v-160H180v160Zm440 0h160v-160H620v160ZM180-180h160v-160H180v160Zm440 0h160v-160H620v160Z\"/>\n",
              "  </svg>\n",
              "    </button>\n",
              "\n",
              "  <style>\n",
              "    .colab-df-container {\n",
              "      display:flex;\n",
              "      gap: 12px;\n",
              "    }\n",
              "\n",
              "    .colab-df-convert {\n",
              "      background-color: #E8F0FE;\n",
              "      border: none;\n",
              "      border-radius: 50%;\n",
              "      cursor: pointer;\n",
              "      display: none;\n",
              "      fill: #1967D2;\n",
              "      height: 32px;\n",
              "      padding: 0 0 0 0;\n",
              "      width: 32px;\n",
              "    }\n",
              "\n",
              "    .colab-df-convert:hover {\n",
              "      background-color: #E2EBFA;\n",
              "      box-shadow: 0px 1px 2px rgba(60, 64, 67, 0.3), 0px 1px 3px 1px rgba(60, 64, 67, 0.15);\n",
              "      fill: #174EA6;\n",
              "    }\n",
              "\n",
              "    .colab-df-buttons div {\n",
              "      margin-bottom: 4px;\n",
              "    }\n",
              "\n",
              "    [theme=dark] .colab-df-convert {\n",
              "      background-color: #3B4455;\n",
              "      fill: #D2E3FC;\n",
              "    }\n",
              "\n",
              "    [theme=dark] .colab-df-convert:hover {\n",
              "      background-color: #434B5C;\n",
              "      box-shadow: 0px 1px 3px 1px rgba(0, 0, 0, 0.15);\n",
              "      filter: drop-shadow(0px 1px 2px rgba(0, 0, 0, 0.3));\n",
              "      fill: #FFFFFF;\n",
              "    }\n",
              "  </style>\n",
              "\n",
              "    <script>\n",
              "      const buttonEl =\n",
              "        document.querySelector('#df-6d41dd93-0cc1-4169-a9ce-55c6f29be0c9 button.colab-df-convert');\n",
              "      buttonEl.style.display =\n",
              "        google.colab.kernel.accessAllowed ? 'block' : 'none';\n",
              "\n",
              "      async function convertToInteractive(key) {\n",
              "        const element = document.querySelector('#df-6d41dd93-0cc1-4169-a9ce-55c6f29be0c9');\n",
              "        const dataTable =\n",
              "          await google.colab.kernel.invokeFunction('convertToInteractive',\n",
              "                                                    [key], {});\n",
              "        if (!dataTable) return;\n",
              "\n",
              "        const docLinkHtml = 'Like what you see? Visit the ' +\n",
              "          '<a target=\"_blank\" href=https://colab.research.google.com/notebooks/data_table.ipynb>data table notebook</a>'\n",
              "          + ' to learn more about interactive tables.';\n",
              "        element.innerHTML = '';\n",
              "        dataTable['output_type'] = 'display_data';\n",
              "        await google.colab.output.renderOutput(dataTable, element);\n",
              "        const docLink = document.createElement('div');\n",
              "        docLink.innerHTML = docLinkHtml;\n",
              "        element.appendChild(docLink);\n",
              "      }\n",
              "    </script>\n",
              "  </div>\n",
              "\n",
              "\n",
              "<div id=\"df-0dda5537-2981-47ee-9609-f455d455b959\">\n",
              "  <button class=\"colab-df-quickchart\" onclick=\"quickchart('df-0dda5537-2981-47ee-9609-f455d455b959')\"\n",
              "            title=\"Suggest charts\"\n",
              "            style=\"display:none;\">\n",
              "\n",
              "<svg xmlns=\"http://www.w3.org/2000/svg\" height=\"24px\"viewBox=\"0 0 24 24\"\n",
              "     width=\"24px\">\n",
              "    <g>\n",
              "        <path d=\"M19 3H5c-1.1 0-2 .9-2 2v14c0 1.1.9 2 2 2h14c1.1 0 2-.9 2-2V5c0-1.1-.9-2-2-2zM9 17H7v-7h2v7zm4 0h-2V7h2v10zm4 0h-2v-4h2v4z\"/>\n",
              "    </g>\n",
              "</svg>\n",
              "  </button>\n",
              "\n",
              "<style>\n",
              "  .colab-df-quickchart {\n",
              "      --bg-color: #E8F0FE;\n",
              "      --fill-color: #1967D2;\n",
              "      --hover-bg-color: #E2EBFA;\n",
              "      --hover-fill-color: #174EA6;\n",
              "      --disabled-fill-color: #AAA;\n",
              "      --disabled-bg-color: #DDD;\n",
              "  }\n",
              "\n",
              "  [theme=dark] .colab-df-quickchart {\n",
              "      --bg-color: #3B4455;\n",
              "      --fill-color: #D2E3FC;\n",
              "      --hover-bg-color: #434B5C;\n",
              "      --hover-fill-color: #FFFFFF;\n",
              "      --disabled-bg-color: #3B4455;\n",
              "      --disabled-fill-color: #666;\n",
              "  }\n",
              "\n",
              "  .colab-df-quickchart {\n",
              "    background-color: var(--bg-color);\n",
              "    border: none;\n",
              "    border-radius: 50%;\n",
              "    cursor: pointer;\n",
              "    display: none;\n",
              "    fill: var(--fill-color);\n",
              "    height: 32px;\n",
              "    padding: 0;\n",
              "    width: 32px;\n",
              "  }\n",
              "\n",
              "  .colab-df-quickchart:hover {\n",
              "    background-color: var(--hover-bg-color);\n",
              "    box-shadow: 0 1px 2px rgba(60, 64, 67, 0.3), 0 1px 3px 1px rgba(60, 64, 67, 0.15);\n",
              "    fill: var(--button-hover-fill-color);\n",
              "  }\n",
              "\n",
              "  .colab-df-quickchart-complete:disabled,\n",
              "  .colab-df-quickchart-complete:disabled:hover {\n",
              "    background-color: var(--disabled-bg-color);\n",
              "    fill: var(--disabled-fill-color);\n",
              "    box-shadow: none;\n",
              "  }\n",
              "\n",
              "  .colab-df-spinner {\n",
              "    border: 2px solid var(--fill-color);\n",
              "    border-color: transparent;\n",
              "    border-bottom-color: var(--fill-color);\n",
              "    animation:\n",
              "      spin 1s steps(1) infinite;\n",
              "  }\n",
              "\n",
              "  @keyframes spin {\n",
              "    0% {\n",
              "      border-color: transparent;\n",
              "      border-bottom-color: var(--fill-color);\n",
              "      border-left-color: var(--fill-color);\n",
              "    }\n",
              "    20% {\n",
              "      border-color: transparent;\n",
              "      border-left-color: var(--fill-color);\n",
              "      border-top-color: var(--fill-color);\n",
              "    }\n",
              "    30% {\n",
              "      border-color: transparent;\n",
              "      border-left-color: var(--fill-color);\n",
              "      border-top-color: var(--fill-color);\n",
              "      border-right-color: var(--fill-color);\n",
              "    }\n",
              "    40% {\n",
              "      border-color: transparent;\n",
              "      border-right-color: var(--fill-color);\n",
              "      border-top-color: var(--fill-color);\n",
              "    }\n",
              "    60% {\n",
              "      border-color: transparent;\n",
              "      border-right-color: var(--fill-color);\n",
              "    }\n",
              "    80% {\n",
              "      border-color: transparent;\n",
              "      border-right-color: var(--fill-color);\n",
              "      border-bottom-color: var(--fill-color);\n",
              "    }\n",
              "    90% {\n",
              "      border-color: transparent;\n",
              "      border-bottom-color: var(--fill-color);\n",
              "    }\n",
              "  }\n",
              "</style>\n",
              "\n",
              "  <script>\n",
              "    async function quickchart(key) {\n",
              "      const quickchartButtonEl =\n",
              "        document.querySelector('#' + key + ' button');\n",
              "      quickchartButtonEl.disabled = true;  // To prevent multiple clicks.\n",
              "      quickchartButtonEl.classList.add('colab-df-spinner');\n",
              "      try {\n",
              "        const charts = await google.colab.kernel.invokeFunction(\n",
              "            'suggestCharts', [key], {});\n",
              "      } catch (error) {\n",
              "        console.error('Error during call to suggestCharts:', error);\n",
              "      }\n",
              "      quickchartButtonEl.classList.remove('colab-df-spinner');\n",
              "      quickchartButtonEl.classList.add('colab-df-quickchart-complete');\n",
              "    }\n",
              "    (() => {\n",
              "      let quickchartButtonEl =\n",
              "        document.querySelector('#df-0dda5537-2981-47ee-9609-f455d455b959 button');\n",
              "      quickchartButtonEl.style.display =\n",
              "        google.colab.kernel.accessAllowed ? 'block' : 'none';\n",
              "    })();\n",
              "  </script>\n",
              "</div>\n",
              "    </div>\n",
              "  </div>\n"
            ],
            "application/vnd.google.colaboratory.intrinsic+json": {
              "type": "dataframe",
              "summary": "{\n  \"name\": \"news_df_reordered_df\",\n  \"rows\": 5,\n  \"fields\": [\n    {\n      \"column\": \"author\",\n      \"properties\": {\n        \"dtype\": \"string\",\n        \"num_unique_values\": 3,\n        \"samples\": [\n          \"Dr. Patrick Slattery\",\n          \"Staff\",\n          \"davidduke.com\"\n        ],\n        \"semantic_type\": \"\",\n        \"description\": \"\"\n      }\n    },\n    {\n      \"column\": \"published\",\n      \"properties\": {\n        \"dtype\": \"string\",\n        \"num_unique_values\": 5,\n        \"samples\": [\n          \"2016-11-17T07:12:32.712+02:00\",\n          \"http://davidduke.com/wp-content/uploads/2014/04/jucundus-Foxman.jpg\",\n          \"2016-11-18T00:51:39.322+02:00\"\n        ],\n        \"semantic_type\": \"\",\n        \"description\": \"\"\n      }\n    },\n    {\n      \"column\": \"site_url\",\n      \"properties\": {\n        \"dtype\": \"category\",\n        \"num_unique_values\": 1,\n        \"samples\": [\n          \"davidduke.com\"\n        ],\n        \"semantic_type\": \"\",\n        \"description\": \"\"\n      }\n    },\n    {\n      \"column\": \"main_img_url\",\n      \"properties\": {\n        \"dtype\": \"string\",\n        \"num_unique_values\": 5,\n        \"samples\": [\n          \"http://davidduke.com/wp-content/uploads/2016/11/jewish_media_octopus.gif\"\n        ],\n        \"semantic_type\": \"\",\n        \"description\": \"\"\n      }\n    },\n    {\n      \"column\": \"language\",\n      \"properties\": {\n        \"dtype\": \"category\",\n        \"num_unique_values\": 2,\n        \"samples\": [\n          \"ignore\"\n        ],\n        \"semantic_type\": \"\",\n        \"description\": \"\"\n      }\n    },\n    {\n      \"column\": \"type\",\n      \"properties\": {\n        \"dtype\": \"category\",\n        \"num_unique_values\": 1,\n        \"samples\": [\n          \"hate\"\n        ],\n        \"semantic_type\": \"\",\n        \"description\": \"\"\n      }\n    },\n    {\n      \"column\": \"hasImage\",\n      \"properties\": {\n        \"dtype\": \"number\",\n        \"std\": 0.0,\n        \"min\": 1.0,\n        \"max\": 1.0,\n        \"num_unique_values\": 1,\n        \"samples\": [\n          1.0\n        ],\n        \"semantic_type\": \"\",\n        \"description\": \"\"\n      }\n    },\n    {\n      \"column\": \"title\",\n      \"properties\": {\n        \"dtype\": \"string\",\n        \"num_unique_values\": 5,\n        \"samples\": [\n          \"dr duke and pastor dankof quote jews boasting of jewish media power\"\n        ],\n        \"semantic_type\": \"\",\n        \"description\": \"\"\n      }\n    },\n    {\n      \"column\": \"title_without_stopwords\",\n      \"properties\": {\n        \"dtype\": \"string\",\n        \"num_unique_values\": 5,\n        \"samples\": [\n          \"dr duke pastor dankof quote jews boasting jewish media power\"\n        ],\n        \"semantic_type\": \"\",\n        \"description\": \"\"\n      }\n    },\n    {\n      \"column\": \"text\",\n      \"properties\": {\n        \"dtype\": \"string\",\n        \"num_unique_values\": 5,\n        \"samples\": [\n          \" views share by dr david duke when i was first began to understand the ultraracist supremacist ideology of judaism and zionism i came into contact with the theory that presentday jews are genetically unrelated to the historical jewish community the allegation known as the khazar theory claims that the ashkenazim jews of today are actually the descendants of the khazar people a central asiatic nomadic tribe that allegedly converted to judaism in the th century ad it is claimed that these newlyminted jews then migrated into what is now russia eastern europe and later western and northern europe the theory is also used to advance the idea that jewish actions are character are not genetic or racial because the khazar people adopted the talmudic values of shephardic and other jews who were unrelated to them interestingly enough the khazar theory was launched and is still to this day driven primarily by communist jews and other jews who promote it in the gentile community as a refutation that the jews cant be racist because they are not a race it is ironic that the three most prominent exponents of the theory that the jews are not a race all have almost exaggerated caricatures of features people ascribe as jewish above left to right zionist extremist and communist party member arthur koestler author of the the thirteenth tribe jewish geneticist eran elhaik and shlomo sand an israeli academic and former member of the union of israeli communist youth banki all three maintain that large numbers of presentday jews are completely genetically unrelated to the middle easternorigin jews who wrote the babylonian talmud \\nfor years i accepted the khazar theory as true after it all it was repeated by some writers who also recognized the leading jewish role in communism and their leadership in many other subversive movements it was only later when i considered the question logically and scientifically were my doubts about the khazar theory aroused one thing that i did not know then was that koestler the communist jew who popularized the khazar theory bragged in a jewish magazine that he advanced the theory as way to fight against antisemitism his theory was that since the gospels and europeans blamed jews for the crucifixion of jesus christ if he could make europeans believe that they are not related by blood to the christkiller jews talked about in the new testament that he could lessen hatred against jews one must remember until the jewish triumph of christian zionism  percent of christianity viewed jews as the greatest enemies of jesus christ and god as the new testament makes very very clear so in those days some jews such as koestler saw an advantage to say that the jews were not actually related to the jews who crucified christ and so persecuted christians koestlers official biography written by michael scammell specifically quotes him on why he wrote the thirteenth tribe  his argument was that if he could persuade people that a nonjewish khazar heritage formed the basis of modern jews then this would be a weapon against european raciallybased antisemitism should this theory be confirmed the term antisemitism would become void of meaning he said according to scammell koestler told french biologist pierre debrayritzen he was convinced that if he could prove that the bulk of eastern european jews were descended from the khazars the racial basis for antisemitism would be removed and antisemitism itself could disappear source scammell michael koestler the literary and political odyssey of a twentiethcentury skeptic random house  isbn  p  in the s the khazar theory was also promoted by benjamin friedman a prominent rich jew who converted to christianity and turned against the jews it was certainly selfserving for him to promote the idea that jewishness was mostly cultural and religious and not racial in nature therefore facilitating more acceptance of him there are three fundamental issues which need to addressed the scientific evidence thehistoricallogical evidence and the reasons why the khazar theory came about part i the scientific evidencetwelve dna studies which disprove the khazar theory  a  study titled jewish and middle eastern nonjewish populations share a common pool of ychromosome biallelic haplotypes  mf hammer etal proceedings of the us national academy of sciences  doi pnas  found that despite their longterm residence in different countries and isolation from one another most jewish populations were not significantly different from one another at the genetic level admixture estimates suggested low levels of european ychromosome gene flow into ashkenazi and roman jewish communities    jewish and middle eastern nonjewish populations were not statistically different the results support the hypothesis that the paternal gene pools of jewish communities from europe north africa and the middle east descended from a common middle eastern ancestral population and suggest that most jewish communities have remained relatively isolated from neighboring nonjewish communities during and after the diaspora  a november  study titled the y chromosome pool of jews as part of the genetic landscape of the middle east  almut nebel et al american journal of human genetics nov     found that in most jewish populations male line ancestors appear to have been mainly middle eastern the study found that ashkenazi jews in particular share more common paternal lineages with other jewish and middle eastern groups than with nonjewish populations in areas where jews lived in eastern europe germany and the french rhine valley this is consistent with jewish traditions in placing most jewish paternal origins in the region of the middle east  a september  study titled european population substructure clustering of northern and southern populations  michael f seldin etal plos genetics doi journalpgen  found that both ashkenazi jews as well as sephardic jews showed more than  membership in the southern european group which made their results consistent with a later mediterranean origin of these ethnic groups  an april  study titled counting the founders the matrilineal genetic ancestry of the jewish diaspora  doron m behar etal plos one   e doi journalpone  found that about  of ashkenazi jews originate maternally from just four female founders who were of middle eastern origin  a january  study titled a genomewide genetic signature of jewish ancestry perfectly separates individuals with and without full jewish ancestry in a large random sample of european americans  anna c need etal genome biology   r doi gbr  found that individuals with full jewish ancestry formed a clearly distinct cluster from those individuals with no jewish ancestry this study showed that in dna terms jews both sephardic and ashkenazim cluster as a distinct groupsomething that if the khazar theory was true would be impossible  a december  study titled genomic microsatellites identify shared jewish ancestry intermediate between middle eastern and european populations  naama m kopelman etal bmc genetics    doi   found that  jewish populations show a high level of genetic similarity to each other clustering together in several types of analysis of population structure these results support the view that the jewish populations largely share a common middle eastern ancestry and that over their history they have undergone varying degrees of admixture with nonjewish populations of european descent  a december  study titled the genomewide structure of the jewish people  doron m behar et al nature    july  doinature  analyzed individuals from  jewish diaspora communities and compare these patterns of genomewide diversity with those from  old world nonjewish populations in order to provide comprehensive comparisons between jewish and nonjewish populations in the diaspora as well as with nonjewish populations from the middle east and north africa the results identified a previously unrecognized genetic substructure within the middle east and that most jewish samples form a remarkably tight subcluster and that traces the origins of most jewish diaspora communities to the levant  a june  study titled abrahams children in the genome era major jewish diaspora populations comprise distinct genetic clusters with shared middle eastern ancestry  atzmon et al american journal of human genetics   refuted the idea of largescale genetic contributions of central and eastern european and slavic populations to the formation of ashkenazi jewry this study found used genomewide analysis of seven jewish groups iranian iraqi syrian italian turkish greek and ashkenazi and demonstrated distinctive jewish population clusters each with shared middle eastern ancestry proximity to contemporary middle eastern populations and variable degrees of european and north african admixture this paper specifically excluded the khazar theory as an origin for presentday jews saying the genetic proximity    is incompatible with theories that ashkenazi jews are for the most part the direct lineal descendants of converted khazars or slavs  a march  study by steven m bray et al titled signatures of founder effects admixture and selection in the ashkenazi jewish population  proceedings of the us national academy of sciences  doi pnas  found that the ashkenazi jewish aj population    has a common middle eastern origin with other jewish diaspora populations while concluding that the ashkenazi jewish population has had the most european admixture  a march  study by christopher l campbell et al titled north african jewish and nonjewish populations form distinctive orthogonal clusters  proceedings of the us national academy of sciences doi pnas  found that genomewide analysis of five north african jewish groups moroccan algerian tunisian djerban and libyan demonstrated distinctive north african jewish population clusters with proximity to other jewish populations furthermore the study showed the sephardic jewish genome is compatible with the history of north african jewsfounding during classical antiquity with proselytism of local populations followed by genetic isolation with the rise of christianity and then islam and admixture following the emigration of sephardic jews during the inquisition finally this study added  these populations showed a high degree of endogamy and were part of a larger ashkenazi and sephardic jewish group endogamy the practice of marrying within a specific ethnic group rejecting others on such a basis as being unsuitable for marriage or for other close personal relationships  in his book legacy a genetic history of the jewish people oxford university press usa may  harry ostrer a professor of pathology and genetics at albert einstein college of medicine of yeshiva university and director of genetic and genomic testing at montefiore medical center medicine concluded that jews exhibit a distinctive genetic signature  jews are a race genes revealauthor uncovers dna links between members of tribe the jewish daily forward may    ostrer who is also director of genetic and genomic testing at montefiore medical center said in his conclusion that jews are a homogeneous group with all the scientific trappings of what we used to call a race ostrer also deals specifically with the khazar theory he pointed out that the findings from the jewish hapmap project see below completely refute the theories that ashkenazi jews are the descendants of converted khazars or slavs  jews a religious group people or race jerusalem post    the jewish hapmap project  a joint project of albert einstein college of medicine and new york university school of medicine was created to understand the structure of the genomes in jewish populations and is an outgrowth of the human hapmap project according to this project jewish populations are remarkable for maintaining continuous genetic cultural and religious traditions over  years despite residence all over the world its findings based on first hand dna studies amongst jewish populations around the globe found no evidence to support a central asian dna origin for jewry according to the jerusalem post the jewish hapmap project in new york city has so far shown in exquisite detail what had been conjectured for a century jewish populations from the major jewish diaspora groups  ashkenazi sephardic and mizrahi  form a distinctive population cluster that is closely related to semitic and european populations within this larger jewish cluster each of the jewish populations formed its own subcluster a high degree of mixing of ashkenazi sephardi italian and syrian jews caused them to become more closely related to each other than they were to middle eastern iraqi and iranian jews this genetic split seemed to have occurred about  years ago  jews a religious group people or race jerusalem post   dna studies find that ashkenazim jews have  european admixture both the behar study section  above and the atzmon study section  above were commented upon by the british former deputy editor of the journal nature  and currently the scientific correspondent for the n ew york times  nicholas wade in an article in that newspaper as follows jewish communities in europe and the middle east share many genes inherited from the ancestral jewish population that lived in the middle east some  years ago even though each community also carries genes from other sources  usually the country in which it lives adding that a major surprise from both surveys is the genetic closeness of the two jewish communities of europe the ashkenazim and the sephardim wade pointed out that the two studies refute the suggestion made by the historian shlomo sand in his book the invention of the jewish people that jews have no common origin but are a miscellany of people in europe and central asia who converted to judaism at various times jewish communities from europe the middle east and the caucasus all have substantial genetic ancestry that traces back to the levant ethiopian jews and two judaic communities in india are genetically much closer to their host populations wade wrote the shared genetic elements suggest that members of any jewish community are related to one another as closely as are fourth or fifth cousins in a large population which is about  times higher than the relationship between two people chosen at random off the streets of new york city ashkenazic and sephardic jews have roughly  percent european ancestry with most of the rest from the middle east the two surveys find the two communities seem very similar to each other genetically which is unexpected because they have been separated for so long  studies show jews genetic similarity nicholas wade new york times june    eran elhaiks single study attempts to refute the mass of earlier dna evidence the mass of dna and genetic evidence is therefore overwhelmingly indicative that despite a certain amount of european admixture among ashkenazim jewry there is still a clearly definable middle eastern genetic component to both ashkenazim and sephardic jewry despite all of these studiesand many more too numerous to list individually herein december  a single individual by the name of eran elhaik from the johns hopkins university school of medicine attempted to refute all of the above mentioned evidence his paper titled the missing link of jewish european ancestry contrasting the rhineland and the khazarian hypotheses was published in the journal genome biological evolution    doi gbeevs  in a nutshell elhaikwhose rather obviously jewish physical appearance should by itself indicate that there is indeed a common jewish type how else can many jews be physically recognized as jewsargues that his method of doing comparative studies between presentday central asian populations ashkenazim jews and nonjewish test groups proves that ashkenazim jews are a hotchpotch of genetic origins with a strong link to what he identifies as the khazar tribe even though elhaiks work is the only single paper as opposed to literally dozens of opposing dna studies written by a single jewish individual as opposed to the other papers which were written by dozens and dozens of scientists from around the globe jewish and nonjewish alike it has quickly become the mostquoted proof of the khazar theory critical errors in elhaiks paper elhaiks paper has a number of errors some small and a number of major ones but they are all serious because even the small errors cast doubt on his academic ability and motivation for example his paper discusses in detail what he sees as the geographic origin of the khazarsyet he completely misidentifies the geographic location of one of his test sample groups the mbuti and biaka pygmies these two groups elhaik asserts at least twice are to be found in south africa actually the mbuti and biaka pygmies are nowhere near south africa and are only to be found literally half a continent away in the congo while this may seem a small error it does indicate sloppiness in research which certainly does not bode well for the rest of the paper this sloppiness is again repeated when elhaik asserts that eastern and central european jews account for approximately  of over  million worldwide jews in reality the figure is far less of the estimated  million jews worldwide  million are ashkenazim and  million are sephardic a division of  european jews to  noneuropean jews and it should be pointed out that the zionist state of israel actually has a sephardic and mizrahi nonashkenazi jewish majority among jews these actual facts on jewish ethnicity are readily available and elhaiks motivation for making this clearly false claim could only be ascribed to a desire to underscore his general assertion namely that most jews are not middle eastern in origin and that jews are not race or a genetically similar people the most important error in elhaiks paper however is actually openly admitted namely that there is actually no khazar dna in existence against which any sort of measurement can be taken elhaik himself admits this in his paper the khazars have been vanquished and their remains have yet to be sequenced   in other words there is no record of what exactly khazar dna might have been as there is no record of what khazar dna isit is ipso facto physically impossible to determine who is descended from it and who is not elhaik attempts to circumvent this major problem by selecting what he calls surrogate populationsin this case contemporary middle eastern and caucasus populations anyone with a basic understanding of historical events in the caucasus in particular will immediately see that elhaiks assertion that current populations in that region can be taken to reflect those of  years ago is highly problematic and quite simply unsustainable the caucasus a region at the border of europe and asia situated between the black and the caspian seas has been crisscrossed by numerous peoples and races over the last  years ranging from indoeuropeans semites mongols and othersand is today highly genetically diverse a claim that dna samples from this region can be taken as any sort of dna yardstick is dubious to say the very least finally elhaiks methodology in comparing the dna samples is to make an understatement unique to him as marcus feldman director of stanford universitys morrison institute for population and resource studies said he elhaik appears to be applying the statistics in a way that gives him different results from what everybody else has obtained from essentially similar data  jews a race genetic theory comes under fierce attack by dna expert the jewish daily forward may    interestingly the study which was cited in the new york times of the jews as a race is exactly the same conclusion that was reached by german national socialist anthropologists and other experts who studied race science in the united states and elsewhere also many of the presentday extensive studies have been carried out by both gentile and jewish geneticists alike obviating any claims of racial bias elhaiks theory is completely refuted by the new most massive and most complete study ever done of the jewish genome one of elhaiks arguments was that the previous studies referenced above were done in the pregenomewide era using uniparental markers and including different reference populationsimplying that their results are not in line with the most modern dna sequencing methodology in fact at least one studywhich appeared after elhaiks work was first publishedhas confirmed the accuracy of the original studies and also completely refuted elhaiks hypothesis titled no evidence from genomewide data of a khazar origin for the ashkenazi jews this study was published by the journal human biology in august  behar doron m etal human biology access preprints paper   this paper emphasized the serious error with elhaiks work because the khazar population has left no obvious modern descendants that could enable a clear test for a contribution to ashkenazi jewish ancestry the khazar hypothesis has been difficult to examine using genetics furthermore because only limited genetic data have been available from the caucasus region and because these data have been concentrated in populations that are genetically close to populations from the middle east the attribution of any signal of ashkenazicaucasus genetic similarity to khazar ancestry rather than shared ancestral middle eastern ancestry has been problematic this latest most massive study of the jewish genome was a worldwide effort of geneticists both gentile and jewish to analyze jewish genetics researchers from laboratories around the globe including estonia russia italy greece bosnia and herzegovina croatia armenia the us and israel gathered together the largest jewish dna data set ever yet assembled the paper explained as follows here through integration of genotypes on newly collected samples with data from several of our past studies we have assembled the largest data set available to date for assessment of ashkenazi jewish genetic origins employing a variety of standard techniques for the analysis of population genetic structure we find that ashkenazi jews share the greatest genetic ancestry with other jewish populations and among nonjewish populations with groups from europe and the middle east no particular similarity of ashkenazi jews with populations from the caucasus is evident particularly with the populations that most closely represent the khazar region thus analysis of ashkenazi jews together with a large sample from the region of the khazar khaganate corroborates the earlier results that ashkenazi jews derive their ancestry primarily from populations of the middle east and europe that they possess considerable shared ancestry with other jewish populations and that there is no indication of a significant genetic contribution either from within or from north of the caucasus region the latest most uptodate and modern dna analysis has therefore completely refuted the khazar theory it is important to understand that this refutation has come from nonjewish and jewish scientists from dozens of different universities and geneticists all over the world and cannot be ascribed to a conspiracy part ii the historicallogical evidence the historical record shows jewish physical consistency one of the most obvious indicators of genetic commonality is physical appearance european people broadly resemble each other african people broadly resemble each other chinese people broadly resemble each other australian aborigines broadly resemble each other and so on it is a characteristic of genetically similar people to physically resemble each other jews are no different in this regard to any other people they too show a resemblance to each otherthis is why it is possible to often recognize a jewish person by his physical appearance a good example in point is the already mentioned jewish geneticist eran elhaik who despite physically embodying a jewish sterrotype recognized around the world tries to claim that there is no genetic commonality amongst jews the khazar theory holds that most ashkenazim jews are not semitic but are central asian converts to judaism proponents of the khazar theory fail to understand the logical consequence of their beliefnamely that a supposed central asian origin of most ashkenazim jews means that they will not physically resemble other jews as anyone can see this is not the case sephardic jews are on average slightly darker than ashkenazim jews but there is no doubt that there is a physical similarity which allows them still to be recognized as such above these two illustrations make the point even more dramatically on the left the ashkenazim jewess barbara streisand new york  on the right a jewish leader of israelite trade delegation as portrayed on a mural on the wall of the th dynasty  bc tomb of sobekhotep thutmose iv egypt two thousand years before the alleged khazar conversion and they look the same as modern ashkenazi jews streisands paternal grandparents came from galicia polandukraine and her maternal grandparents came from russiaif anyone would be khazar according to that theory it would be her nonetheless she closely resembles the only designated jew as portrayed on an egyptian tomb from  years ago the leader of a jewish trade delegation to egypt the genetic continuity is clearand if the khazar theory was true there would be no physical similarity because there would have been a racial sea change in jewish appearance left the famous banker of pompeii jucundus who lived circa  ad  years before the alleged ashkenazi conversion identified as a jew by the german anthropologist hans fk g\\u00fcnther in his book  racial elements of european history fig a and b chapter viii  alongside the ashkenazi jew abe foxman of the adl the similarity between jucundus and foxman is clear and serves a further indication of the physical continuity of the jewish type over centuriessomething that would be impossible if the khazar theory was true in addition to genetic studies there have been extensive physiological comparison of jewish remains from burial sites from ancient israel and presentday ashkenazi and sephardic physiology all of which conclusively shows their similarity across both the sephardic and ashkenazi spectrumand their difference from european populations jewish supremacist behavior through the millennia disprove the khazar theory another piece of the jigsaw which disproves the khazar theory is that jewish supremacist behavior has remained constant throughout the millenniafrom biblical times right through to the present day most christians are aware of the behavior of the old testament jewswho burn rampage kill rape and enslave their way through palestine supposedly on order of their tribal god they are aware of the fact that the gospels of the new testament show that elite of the jews the pharisees were the biggest enemies of christ and arranged for his crucifixion and the new testament is clear that they led the persecution of christians which has continued through both jewish bolshevism and the cultural assault in the zio global media it must also be clear that the talmud the books of jewish law promoting jewish extremist supremacism and hatred against all nonjews was written hundreds of years before any alleged khazar conversion while it another debate altogether as to the historical accuracy of those events there is no question about jewish interaction with gentilesand romans in particularduring the first century ad the worlds first antijewish riots broke out in the city of alexandria in  ad and reoccurred in  ad  ad  ad and  ad in that year the archbishop of alexandria cyril ordered the expulsion of all jews from the city the roman historian socrates of constantinople not be confused with the socrates of classical greece in his ecclesiastical history recorded the reasons for this first great expulsion of jews from a nonjewish city in detail and reveals behavior by jewish supremacists exactly as the world experiences it today over  years later   the jews were continually factious and there was added to their ordinary hatred of the christians    cyril on being informed of this sent for the principal jews and threatened them with the utmost severities unless they desisted from their molestation of the christians these menaces instead of suppressing their violence only rendered the jewish populace more furious and led them to form conspiracies for the destruction of the christians one of which was of so desperate a character as to cause their entire expulsion from alexandria socrates hist eccl vii  pc lxxxii  ff the very first jewish community outside of the middle east was established in rome in  bcand it was not long before their activities roused roman public opinion against them the famous orator cicero among others frequently spoke against the presence of jews during sittings of the roman senate in his famous pro flacco oration which dealt with the case of a roman aristocrat lucius valerius flaccus accused of unlawfully confiscating jewish money cicero said now let us take a look at the jews and their mania for gold you chose this site chief prosecutor laelius and the crowd which frequents it with an eye to this particular accusation knowing very well that jews with their large numbers and tendency to act as a clique are valuable supporters to have at any kind of public meeting many other prominent and famous romans such as seneca juneval and tacitus all went on record as complaining about the activities of jews within the roman empire the roman historian tacitus in his most famous work histories described the activities of the jews as follows in order to secure the allegiance of his people in the future moses prescribed for them a novel religion quite different from those of the rest of mankind among the jews all things are profane that we hold sacred on the other hand they regard as permissible what seems to us immoral    the other practices of the jews are sinister and revolting and have entrenched themselves by their very wickedness wretches of the most abandoned kind who had no use for the religion of their fathers took to contributing dues and freewill offerings to swell the jewish exchequer and other reasons for their increasing wealth may be found in their stubborn loyalty and ready benevolence towards brother jews but the rest of the world they confront with the hatred reserved for enemies they will not feed or intermarry with gentiles though a most lascivious people the jews avoid sexual intercourse with women of alien race among themselves nothing is barred they have introduced the practice of circumcision to show that they are different from others tacitus histories  the famous british historian edward gibbon in his monumental work the decline and fall of the roman empire lippincourt philadelphia  vol  page  discussed jewish supremacist behavior in roman times this way from the reign of nero to that of antoninus pius the jews discovered a fierce impatience of the dominion of rome which repeatedly broke out in the most furious massacres and insurrections humanity is shocked at the recital of horrid cruelties which they committed in the cities of egypt of cyria and of cyrene where they dwelt in treacherous friendship with the unsuspecting natives and we are tempted to applaud the severe retaliation which was exercised by the arms of the legions against a race of fanatics whose dire and credulous superstition seemed to render them the implacable enemies not only of the roman government but of all human kind antijewish literature during roman times was very widespread one work by the greek apion was so wellknown that the romanized jewish historian josephus who wrote the famous account of the jewish uprising of  ad called the jewish wars wrote an entire book trying to refute apions arguments the roman emperor tiberius formally expelled the jews from rome in  ad they returned shortly thereafter only to be expelled once again in  ad in  ad emperor trajan ordered that all jews in mesopotamia should be killed saying that they were the cause of continual uprisings in that region one of the most famous emperors of the eastern roman empire justinian  ad adopted a comprehensive antijewish policy which barred jews from the civil service military posts and any other positions of influence in his government all of these events predate the supposed khazar conversion by centuriesyet it can be seen that the identical behavioral patterns are on display before and after the supposed khazar infusion logic dictates that if the racial makeup of jews changed substantially after the year  ad then their beh\"\n        ],\n        \"semantic_type\": \"\",\n        \"description\": \"\"\n      }\n    },\n    {\n      \"column\": \"text_without_stopwords\",\n      \"properties\": {\n        \"dtype\": \"string\",\n        \"num_unique_values\": 5,\n        \"samples\": [\n          \"httpmediaarchivesgsradionetddukemp dr duke mark collett antiwhite scum promised leave get hell today dr duke british activist mark collett guest hour talked donald trumps latest appointments incoming administration steve bannon general michael flynn even senator jeff sessions coming attack zio media doubt complete cuck sellouts like many neocon rats opposed trump suddenly want offer experience president elect underdog taking superenergy pill went new terminology red pills blue pills white pills black pills agreed trump victory energized white pilled supporters black pilled depressed opponents many promised leave country donald win well waiting fun show red pill enlighten friends please share widely show aired live replayed et pm eastern eastern\"\n        ],\n        \"semantic_type\": \"\",\n        \"description\": \"\"\n      }\n    },\n    {\n      \"column\": \"label\",\n      \"properties\": {\n        \"dtype\": \"category\",\n        \"num_unique_values\": 1,\n        \"samples\": [\n          \"Real\"\n        ],\n        \"semantic_type\": \"\",\n        \"description\": \"\"\n      }\n    }\n  ]\n}"
            }
          },
          "metadata": {},
          "execution_count": 60
        }
      ],
      "source": [
        "news_df_reordered_df.iloc[844:849]"
      ]
    },
    {
      "cell_type": "markdown",
      "metadata": {
        "id": "SzvBq883Ho3a"
      },
      "source": [
        "This shift causes issues in publication date. We expect a year, but see that a \"http\" shows us when extracting year from the publication column. This \"no-year\" data shows up in 2 rows."
      ]
    },
    {
      "cell_type": "code",
      "execution_count": 64,
      "metadata": {
        "colab": {
          "base_uri": "https://localhost:8080/"
        },
        "id": "9DzgymLfHo3a",
        "outputId": "83a38c39-0d31-45a4-cb0f-b9c610ac7d14"
      },
      "outputs": [
        {
          "output_type": "execute_result",
          "data": {
            "text/plain": [
              "array(['2016', 'http'], dtype=object)"
            ]
          },
          "metadata": {},
          "execution_count": 64
        }
      ],
      "source": [
        "year_sr = news_df_reordered_df[\"published\"].str[:4]\n",
        "\n",
        "year_sr.unique()"
      ]
    },
    {
      "cell_type": "code",
      "execution_count": 65,
      "metadata": {
        "colab": {
          "base_uri": "https://localhost:8080/",
          "height": 167
        },
        "id": "SOh9B0xrHo3b",
        "outputId": "025c45a0-1332-4f5c-bf26-7c911996aaec"
      },
      "outputs": [
        {
          "output_type": "execute_result",
          "data": {
            "text/plain": [
              "                           author  \\\n",
              "848                 davidduke.com   \n",
              "1838  theeconomiccollapseblog.com   \n",
              "\n",
              "                                              published  \\\n",
              "848   http://davidduke.com/wp-content/uploads/2014/0...   \n",
              "1838  http://theeconomiccollapseblog.com/wp-content/...   \n",
              "\n",
              "                         site_url  \\\n",
              "848                 davidduke.com   \n",
              "1838  theeconomiccollapseblog.com   \n",
              "\n",
              "                                           main_img_url language  type  \\\n",
              "848   http://davidduke.com/wp-content/uploads/2016/1...   ignore  hate   \n",
              "1838  http://theeconomiccollapseblog.com/wp-content/...  english    bs   \n",
              "\n",
              "      hasImage title                            title_without_stopwords  \\\n",
              "848        1.0  hate           billion dollars jewish lobby tip iceberg   \n",
              "1838       1.0    bs  depressing economic realities donald trump inh...   \n",
              "\n",
              "                                                   text  \\\n",
              "848   httpmediaarchivesgsradionetddukemp dr duke  fa...   \n",
              "1838  ezekiel emanuel laughed on wednesday as the ho...   \n",
              "\n",
              "                                 text_without_stopwords label  year  \n",
              "848   views share remarkable articleand admissionapp...  Real  http  \n",
              "1838  republican presidential nominee donald trump w...  Fake  http  "
            ],
            "text/html": [
              "\n",
              "  <div id=\"df-a28c5fe0-8fd5-4a30-a0f8-45e24254a709\" class=\"colab-df-container\">\n",
              "    <div>\n",
              "<style scoped>\n",
              "    .dataframe tbody tr th:only-of-type {\n",
              "        vertical-align: middle;\n",
              "    }\n",
              "\n",
              "    .dataframe tbody tr th {\n",
              "        vertical-align: top;\n",
              "    }\n",
              "\n",
              "    .dataframe thead th {\n",
              "        text-align: right;\n",
              "    }\n",
              "</style>\n",
              "<table border=\"1\" class=\"dataframe\">\n",
              "  <thead>\n",
              "    <tr style=\"text-align: right;\">\n",
              "      <th></th>\n",
              "      <th>author</th>\n",
              "      <th>published</th>\n",
              "      <th>site_url</th>\n",
              "      <th>main_img_url</th>\n",
              "      <th>language</th>\n",
              "      <th>type</th>\n",
              "      <th>hasImage</th>\n",
              "      <th>title</th>\n",
              "      <th>title_without_stopwords</th>\n",
              "      <th>text</th>\n",
              "      <th>text_without_stopwords</th>\n",
              "      <th>label</th>\n",
              "      <th>year</th>\n",
              "    </tr>\n",
              "  </thead>\n",
              "  <tbody>\n",
              "    <tr>\n",
              "      <th>848</th>\n",
              "      <td>davidduke.com</td>\n",
              "      <td>http://davidduke.com/wp-content/uploads/2014/0...</td>\n",
              "      <td>davidduke.com</td>\n",
              "      <td>http://davidduke.com/wp-content/uploads/2016/1...</td>\n",
              "      <td>ignore</td>\n",
              "      <td>hate</td>\n",
              "      <td>1.0</td>\n",
              "      <td>hate</td>\n",
              "      <td>billion dollars jewish lobby tip iceberg</td>\n",
              "      <td>httpmediaarchivesgsradionetddukemp dr duke  fa...</td>\n",
              "      <td>views share remarkable articleand admissionapp...</td>\n",
              "      <td>Real</td>\n",
              "      <td>http</td>\n",
              "    </tr>\n",
              "    <tr>\n",
              "      <th>1838</th>\n",
              "      <td>theeconomiccollapseblog.com</td>\n",
              "      <td>http://theeconomiccollapseblog.com/wp-content/...</td>\n",
              "      <td>theeconomiccollapseblog.com</td>\n",
              "      <td>http://theeconomiccollapseblog.com/wp-content/...</td>\n",
              "      <td>english</td>\n",
              "      <td>bs</td>\n",
              "      <td>1.0</td>\n",
              "      <td>bs</td>\n",
              "      <td>depressing economic realities donald trump inh...</td>\n",
              "      <td>ezekiel emanuel laughed on wednesday as the ho...</td>\n",
              "      <td>republican presidential nominee donald trump w...</td>\n",
              "      <td>Fake</td>\n",
              "      <td>http</td>\n",
              "    </tr>\n",
              "  </tbody>\n",
              "</table>\n",
              "</div>\n",
              "    <div class=\"colab-df-buttons\">\n",
              "\n",
              "  <div class=\"colab-df-container\">\n",
              "    <button class=\"colab-df-convert\" onclick=\"convertToInteractive('df-a28c5fe0-8fd5-4a30-a0f8-45e24254a709')\"\n",
              "            title=\"Convert this dataframe to an interactive table.\"\n",
              "            style=\"display:none;\">\n",
              "\n",
              "  <svg xmlns=\"http://www.w3.org/2000/svg\" height=\"24px\" viewBox=\"0 -960 960 960\">\n",
              "    <path d=\"M120-120v-720h720v720H120Zm60-500h600v-160H180v160Zm220 220h160v-160H400v160Zm0 220h160v-160H400v160ZM180-400h160v-160H180v160Zm440 0h160v-160H620v160ZM180-180h160v-160H180v160Zm440 0h160v-160H620v160Z\"/>\n",
              "  </svg>\n",
              "    </button>\n",
              "\n",
              "  <style>\n",
              "    .colab-df-container {\n",
              "      display:flex;\n",
              "      gap: 12px;\n",
              "    }\n",
              "\n",
              "    .colab-df-convert {\n",
              "      background-color: #E8F0FE;\n",
              "      border: none;\n",
              "      border-radius: 50%;\n",
              "      cursor: pointer;\n",
              "      display: none;\n",
              "      fill: #1967D2;\n",
              "      height: 32px;\n",
              "      padding: 0 0 0 0;\n",
              "      width: 32px;\n",
              "    }\n",
              "\n",
              "    .colab-df-convert:hover {\n",
              "      background-color: #E2EBFA;\n",
              "      box-shadow: 0px 1px 2px rgba(60, 64, 67, 0.3), 0px 1px 3px 1px rgba(60, 64, 67, 0.15);\n",
              "      fill: #174EA6;\n",
              "    }\n",
              "\n",
              "    .colab-df-buttons div {\n",
              "      margin-bottom: 4px;\n",
              "    }\n",
              "\n",
              "    [theme=dark] .colab-df-convert {\n",
              "      background-color: #3B4455;\n",
              "      fill: #D2E3FC;\n",
              "    }\n",
              "\n",
              "    [theme=dark] .colab-df-convert:hover {\n",
              "      background-color: #434B5C;\n",
              "      box-shadow: 0px 1px 3px 1px rgba(0, 0, 0, 0.15);\n",
              "      filter: drop-shadow(0px 1px 2px rgba(0, 0, 0, 0.3));\n",
              "      fill: #FFFFFF;\n",
              "    }\n",
              "  </style>\n",
              "\n",
              "    <script>\n",
              "      const buttonEl =\n",
              "        document.querySelector('#df-a28c5fe0-8fd5-4a30-a0f8-45e24254a709 button.colab-df-convert');\n",
              "      buttonEl.style.display =\n",
              "        google.colab.kernel.accessAllowed ? 'block' : 'none';\n",
              "\n",
              "      async function convertToInteractive(key) {\n",
              "        const element = document.querySelector('#df-a28c5fe0-8fd5-4a30-a0f8-45e24254a709');\n",
              "        const dataTable =\n",
              "          await google.colab.kernel.invokeFunction('convertToInteractive',\n",
              "                                                    [key], {});\n",
              "        if (!dataTable) return;\n",
              "\n",
              "        const docLinkHtml = 'Like what you see? Visit the ' +\n",
              "          '<a target=\"_blank\" href=https://colab.research.google.com/notebooks/data_table.ipynb>data table notebook</a>'\n",
              "          + ' to learn more about interactive tables.';\n",
              "        element.innerHTML = '';\n",
              "        dataTable['output_type'] = 'display_data';\n",
              "        await google.colab.output.renderOutput(dataTable, element);\n",
              "        const docLink = document.createElement('div');\n",
              "        docLink.innerHTML = docLinkHtml;\n",
              "        element.appendChild(docLink);\n",
              "      }\n",
              "    </script>\n",
              "  </div>\n",
              "\n",
              "\n",
              "<div id=\"df-de2cd140-3dfb-45ab-a54e-0655adfd4877\">\n",
              "  <button class=\"colab-df-quickchart\" onclick=\"quickchart('df-de2cd140-3dfb-45ab-a54e-0655adfd4877')\"\n",
              "            title=\"Suggest charts\"\n",
              "            style=\"display:none;\">\n",
              "\n",
              "<svg xmlns=\"http://www.w3.org/2000/svg\" height=\"24px\"viewBox=\"0 0 24 24\"\n",
              "     width=\"24px\">\n",
              "    <g>\n",
              "        <path d=\"M19 3H5c-1.1 0-2 .9-2 2v14c0 1.1.9 2 2 2h14c1.1 0 2-.9 2-2V5c0-1.1-.9-2-2-2zM9 17H7v-7h2v7zm4 0h-2V7h2v10zm4 0h-2v-4h2v4z\"/>\n",
              "    </g>\n",
              "</svg>\n",
              "  </button>\n",
              "\n",
              "<style>\n",
              "  .colab-df-quickchart {\n",
              "      --bg-color: #E8F0FE;\n",
              "      --fill-color: #1967D2;\n",
              "      --hover-bg-color: #E2EBFA;\n",
              "      --hover-fill-color: #174EA6;\n",
              "      --disabled-fill-color: #AAA;\n",
              "      --disabled-bg-color: #DDD;\n",
              "  }\n",
              "\n",
              "  [theme=dark] .colab-df-quickchart {\n",
              "      --bg-color: #3B4455;\n",
              "      --fill-color: #D2E3FC;\n",
              "      --hover-bg-color: #434B5C;\n",
              "      --hover-fill-color: #FFFFFF;\n",
              "      --disabled-bg-color: #3B4455;\n",
              "      --disabled-fill-color: #666;\n",
              "  }\n",
              "\n",
              "  .colab-df-quickchart {\n",
              "    background-color: var(--bg-color);\n",
              "    border: none;\n",
              "    border-radius: 50%;\n",
              "    cursor: pointer;\n",
              "    display: none;\n",
              "    fill: var(--fill-color);\n",
              "    height: 32px;\n",
              "    padding: 0;\n",
              "    width: 32px;\n",
              "  }\n",
              "\n",
              "  .colab-df-quickchart:hover {\n",
              "    background-color: var(--hover-bg-color);\n",
              "    box-shadow: 0 1px 2px rgba(60, 64, 67, 0.3), 0 1px 3px 1px rgba(60, 64, 67, 0.15);\n",
              "    fill: var(--button-hover-fill-color);\n",
              "  }\n",
              "\n",
              "  .colab-df-quickchart-complete:disabled,\n",
              "  .colab-df-quickchart-complete:disabled:hover {\n",
              "    background-color: var(--disabled-bg-color);\n",
              "    fill: var(--disabled-fill-color);\n",
              "    box-shadow: none;\n",
              "  }\n",
              "\n",
              "  .colab-df-spinner {\n",
              "    border: 2px solid var(--fill-color);\n",
              "    border-color: transparent;\n",
              "    border-bottom-color: var(--fill-color);\n",
              "    animation:\n",
              "      spin 1s steps(1) infinite;\n",
              "  }\n",
              "\n",
              "  @keyframes spin {\n",
              "    0% {\n",
              "      border-color: transparent;\n",
              "      border-bottom-color: var(--fill-color);\n",
              "      border-left-color: var(--fill-color);\n",
              "    }\n",
              "    20% {\n",
              "      border-color: transparent;\n",
              "      border-left-color: var(--fill-color);\n",
              "      border-top-color: var(--fill-color);\n",
              "    }\n",
              "    30% {\n",
              "      border-color: transparent;\n",
              "      border-left-color: var(--fill-color);\n",
              "      border-top-color: var(--fill-color);\n",
              "      border-right-color: var(--fill-color);\n",
              "    }\n",
              "    40% {\n",
              "      border-color: transparent;\n",
              "      border-right-color: var(--fill-color);\n",
              "      border-top-color: var(--fill-color);\n",
              "    }\n",
              "    60% {\n",
              "      border-color: transparent;\n",
              "      border-right-color: var(--fill-color);\n",
              "    }\n",
              "    80% {\n",
              "      border-color: transparent;\n",
              "      border-right-color: var(--fill-color);\n",
              "      border-bottom-color: var(--fill-color);\n",
              "    }\n",
              "    90% {\n",
              "      border-color: transparent;\n",
              "      border-bottom-color: var(--fill-color);\n",
              "    }\n",
              "  }\n",
              "</style>\n",
              "\n",
              "  <script>\n",
              "    async function quickchart(key) {\n",
              "      const quickchartButtonEl =\n",
              "        document.querySelector('#' + key + ' button');\n",
              "      quickchartButtonEl.disabled = true;  // To prevent multiple clicks.\n",
              "      quickchartButtonEl.classList.add('colab-df-spinner');\n",
              "      try {\n",
              "        const charts = await google.colab.kernel.invokeFunction(\n",
              "            'suggestCharts', [key], {});\n",
              "      } catch (error) {\n",
              "        console.error('Error during call to suggestCharts:', error);\n",
              "      }\n",
              "      quickchartButtonEl.classList.remove('colab-df-spinner');\n",
              "      quickchartButtonEl.classList.add('colab-df-quickchart-complete');\n",
              "    }\n",
              "    (() => {\n",
              "      let quickchartButtonEl =\n",
              "        document.querySelector('#df-de2cd140-3dfb-45ab-a54e-0655adfd4877 button');\n",
              "      quickchartButtonEl.style.display =\n",
              "        google.colab.kernel.accessAllowed ? 'block' : 'none';\n",
              "    })();\n",
              "  </script>\n",
              "</div>\n",
              "    </div>\n",
              "  </div>\n"
            ],
            "application/vnd.google.colaboratory.intrinsic+json": {
              "type": "dataframe",
              "summary": "{\n  \"name\": \"news_df_reordered_df[news_df_reordered_df[\\\"published\\\"]\",\n  \"rows\": 2,\n  \"fields\": [\n    {\n      \"column\": \"author\",\n      \"properties\": {\n        \"dtype\": \"string\",\n        \"num_unique_values\": 2,\n        \"samples\": [\n          \"theeconomiccollapseblog.com\",\n          \"davidduke.com\"\n        ],\n        \"semantic_type\": \"\",\n        \"description\": \"\"\n      }\n    },\n    {\n      \"column\": \"published\",\n      \"properties\": {\n        \"dtype\": \"string\",\n        \"num_unique_values\": 2,\n        \"samples\": [\n          \"http://theeconomiccollapseblog.com/wp-content/uploads/2015/07/Earth-From-Space2-460x460.jpg\",\n          \"http://davidduke.com/wp-content/uploads/2014/04/jucundus-Foxman.jpg\"\n        ],\n        \"semantic_type\": \"\",\n        \"description\": \"\"\n      }\n    },\n    {\n      \"column\": \"site_url\",\n      \"properties\": {\n        \"dtype\": \"string\",\n        \"num_unique_values\": 2,\n        \"samples\": [\n          \"theeconomiccollapseblog.com\",\n          \"davidduke.com\"\n        ],\n        \"semantic_type\": \"\",\n        \"description\": \"\"\n      }\n    },\n    {\n      \"column\": \"main_img_url\",\n      \"properties\": {\n        \"dtype\": \"string\",\n        \"num_unique_values\": 2,\n        \"samples\": [\n          \"http://theeconomiccollapseblog.com/wp-content/uploads/2016/11/Donald-Trump-And-Barack-Obama-In-The-Oval-Office-Public-Domain-460x259.jpg\",\n          \"http://davidduke.com/wp-content/uploads/2016/11/UNDERDOGaspect.jpg\"\n        ],\n        \"semantic_type\": \"\",\n        \"description\": \"\"\n      }\n    },\n    {\n      \"column\": \"language\",\n      \"properties\": {\n        \"dtype\": \"string\",\n        \"num_unique_values\": 2,\n        \"samples\": [\n          \"english\",\n          \"ignore\"\n        ],\n        \"semantic_type\": \"\",\n        \"description\": \"\"\n      }\n    },\n    {\n      \"column\": \"type\",\n      \"properties\": {\n        \"dtype\": \"string\",\n        \"num_unique_values\": 2,\n        \"samples\": [\n          \"bs\",\n          \"hate\"\n        ],\n        \"semantic_type\": \"\",\n        \"description\": \"\"\n      }\n    },\n    {\n      \"column\": \"hasImage\",\n      \"properties\": {\n        \"dtype\": \"number\",\n        \"std\": 0.0,\n        \"min\": 1.0,\n        \"max\": 1.0,\n        \"num_unique_values\": 1,\n        \"samples\": [\n          1.0\n        ],\n        \"semantic_type\": \"\",\n        \"description\": \"\"\n      }\n    },\n    {\n      \"column\": \"title\",\n      \"properties\": {\n        \"dtype\": \"string\",\n        \"num_unique_values\": 2,\n        \"samples\": [\n          \"bs\"\n        ],\n        \"semantic_type\": \"\",\n        \"description\": \"\"\n      }\n    },\n    {\n      \"column\": \"title_without_stopwords\",\n      \"properties\": {\n        \"dtype\": \"string\",\n        \"num_unique_values\": 2,\n        \"samples\": [\n          \"depressing economic realities donald trump inherit barack obama\"\n        ],\n        \"semantic_type\": \"\",\n        \"description\": \"\"\n      }\n    },\n    {\n      \"column\": \"text\",\n      \"properties\": {\n        \"dtype\": \"string\",\n        \"num_unique_values\": 2,\n        \"samples\": [\n          \"ezekiel emanuel laughed on wednesday as the hosts of msnbcs morning joe joked about his brainchild obamacare which on tuesday emanuel noted was going to cause severe fiscal pain for at least a million americans\\non wednesdays show mika brzezinski noted that emanuel a former adviser to president barack obama is often called one of the architects of the affordable care act\\nhows that working for you right now zeke chimed in host joe scarborough\\n \\nrelated stories bill clinton leads crowd in litany of obamacares failures scarborough everything republicans predicted about obamacare is coming true new data shows doubledigit rate hikes for obamacare emanuel grinned while on remote from philadelphia\\nbe honest though scarborough continued zeke only worked on the part of the affordable care act thats causing increases  percent on average\\nemanuel was once again all smiles\\n \\na day before there were not many smiles when emanual appeared on cnn and told jake tapper the extent of obamacares fiscal effects\\ntheres a million people for whom this is going to be severe or uncomfortable he said\\nearlier this week the obama administration announced that the average premium costs will rise  percent next year however some states were far higher a popular  silver healthcare plan is scheduled to increase  percent in arizona  percent in north carolina and  percent in pennsylvania\\nemanuel said the problem of rising premiums some americans will have trouble affording is just part of the way obamacare evolved\\n \\ntrending stories frustrated with media bias trump campaign takes its case directly to voters with nightly show on facebook rnc official takes cnn host to task for claiming there is no media bias independent voters push trump to the front in florida and ohio everyone who worked on the bill thought that it was not perfect and six years in some of the problems some of the unintended consequences are manifesting themselves that doesnt mean its fatal he said\\nthese price increases that were seeing this year are a onetime increase relative to the fact that insurance companies didnt know who was going to come in underpriced their premiums in the first few years and are readjusting them based on whos in the marketplace said emanuel suggesting that tweaking the system will fix the problem\\n  its what any company would do if they launch a product some problems arise and you try to fix them he said\\nobamacarefail pictwittercomaixpoc \\n donald j trump realdonaldtrump october   \\n\\nrepublican presidential candidate donald trump would prefer to throw out obamacare rather than finetune it\\nobamacare has to be repealed and replaced  trump said tuesday\\nwhat do you think\"\n        ],\n        \"semantic_type\": \"\",\n        \"description\": \"\"\n      }\n    },\n    {\n      \"column\": \"text_without_stopwords\",\n      \"properties\": {\n        \"dtype\": \"string\",\n        \"num_unique_values\": 2,\n        \"samples\": [\n          \"republican presidential nominee donald trump wednesday celebrated reuse landmark heading toward another old building made luxury hotel turned symbol wants achieve president coming campaign events florida tuesday jetted north carolina resume quest white house trump joined wife children formal grand opening trump international hotel washington dc built citys historic old post office building budget ahead schedule important dont hear words often said trump linking hotel redevelopment promised performance president today metaphor accomplish country related stories trump sets gop fundraising milestone smalldonor contributions newt gingrich defends donald trump sexual predator accusations donald trumps star hollywood walk fame vandalized trump also spoke developer candidate job look undeveloped spaces imagine could said spaces hope future need imagination need ability get done unlock potential unlock potential people working spaces projects many things country united states great said great people great task project great dream outside reach dont ever let anyone tell cant done future lies dreamers cynics critics fact trump took hours something campaign grated felt event improper distraction republican strategist steve schmidt helped sen john mccain rariz white house race among said trumps priorities skewed walls collapsing schmidt said referring polls showing trump behind trump discounted polls inaccurate pointed others show leading trending stories frustrated media bias trump campaign takes case directly voters nightly show facebook independent voters push trump front florida ohio rnc official takes cnn host task claiming media bias normal activities youd days presidential race somebody whos competitive dont take timeout tend business interests said trump campaign manager kellyanne conway suggested dose perspective might useful hes making pit stop washington underbudget aheadofschedule hotel really remarkable shows americans tangible accomplishments donald trump hes somebody builds things hes somebody fixes things said wednesday nbcs today show know respectfully hillary clinton time go adele concert everybody thinks thats really cool donald trump stops unveil incredible stunning piece architecture new hotel firstclass hotel everybodys hair fire said conway dared anyone find candidate active schedule trump hillary clinton took five days prepare one debate everybody looked kind noble exercise days go nobody covered doesnt campaign much hiding conway said hes got active campaign schedule two candidates far think\"\n        ],\n        \"semantic_type\": \"\",\n        \"description\": \"\"\n      }\n    },\n    {\n      \"column\": \"label\",\n      \"properties\": {\n        \"dtype\": \"string\",\n        \"num_unique_values\": 2,\n        \"samples\": [\n          \"Fake\"\n        ],\n        \"semantic_type\": \"\",\n        \"description\": \"\"\n      }\n    },\n    {\n      \"column\": \"year\",\n      \"properties\": {\n        \"dtype\": \"string\",\n        \"num_unique_values\": 1,\n        \"samples\": [\n          \"http\"\n        ],\n        \"semantic_type\": \"\",\n        \"description\": \"\"\n      }\n    }\n  ]\n}"
            }
          },
          "metadata": {},
          "execution_count": 65
        }
      ],
      "source": [
        "news_df_reordered_df[news_df_reordered_df[\"published\"].str[:1] != \"2\"]"
      ]
    },
    {
      "cell_type": "markdown",
      "metadata": {
        "id": "OJY6M8dTHo3d"
      },
      "source": [
        "\n",
        "We could play with the table and reorganising the shifted rows with \"text\" and \"title\", but the missing value rows only make ~50 rows out of 2095 rows so we will go for simplicity and remove them upon the EDA plots below."
      ]
    },
    {
      "cell_type": "markdown",
      "metadata": {
        "id": "UdIk8eCgHo3e"
      },
      "source": [
        "# EXPLORATORY DATA ANALYSIS\n"
      ]
    },
    {
      "cell_type": "code",
      "execution_count": null,
      "metadata": {
        "id": "m7Tyl-vYHo3e"
      },
      "outputs": [],
      "source": [
        "# news_df.columns\n",
        "# news_eda_df = news_df[[\"language\",\"type\",\"hasImage\",\"label\"]]"
      ]
    },
    {
      "cell_type": "code",
      "execution_count": 76,
      "metadata": {
        "colab": {
          "base_uri": "https://localhost:8080/",
          "height": 428
        },
        "id": "w45xtEWVHo3e",
        "outputId": "4adf2a38-c960-40b2-cb51-191dbee40f70"
      },
      "outputs": [
        {
          "output_type": "execute_result",
          "data": {
            "text/plain": [
              "[Text(0.5, 0, 'Language'), Text(0, 0.5, 'Count')]"
            ]
          },
          "metadata": {},
          "execution_count": 76
        },
        {
          "output_type": "display_data",
          "data": {
            "text/plain": [
              "<Figure size 500x400 with 1 Axes>"
            ],
            "image/png": "[encoded data removed]"
          },
          "metadata": {}
        }
      ],
      "source": [
        "plt.figure( figsize= (5,4))\n",
        "ax = sns.countplot(\n",
        "    data = news_df_reordered_df ,\n",
        "    x    = \"language\" ,\n",
        "    hue  = \"label\" ,\n",
        ")\n",
        "ax.set_title(\"Mostly English-based news and most news are Fake\")\n",
        "ax.set(xlabel='Language', ylabel='Count')\n",
        "#plt.savefig('c:\\\\ndsha_maps\\\\learning\\\\python\\\\DevAcademy\\\\Projects\\\\Week08_SupervisedLearning\\\\pictures\\\\languages_dist.jpg', dpi = 150)"
      ]
    },
    {
      "cell_type": "markdown",
      "metadata": {
        "id": "xyqlU-lgHo3e"
      },
      "source": [
        "Distribution of Fake vs Real"
      ]
    },
    {
      "cell_type": "code",
      "execution_count": 77,
      "metadata": {
        "colab": {
          "base_uri": "https://localhost:8080/",
          "height": 428
        },
        "id": "6horuO9qHo3f",
        "outputId": "030485a9-ad7a-48f5-9cd7-679938756325"
      },
      "outputs": [
        {
          "output_type": "execute_result",
          "data": {
            "text/plain": [
              "[Text(0, 0.5, 'Count')]"
            ]
          },
          "metadata": {},
          "execution_count": 77
        },
        {
          "output_type": "display_data",
          "data": {
            "text/plain": [
              "<Figure size 500x400 with 1 Axes>"
            ],
            "image/png": "[encoded data removed]"
          },
          "metadata": {}
        }
      ],
      "source": [
        "plt.figure( figsize= (5,4))\n",
        "ax = sns.countplot(\n",
        "    data = news_df_reordered_df ,\n",
        "    x = \"label\" ,\n",
        ")\n",
        "ax.set_title(\"Most news are Fake !\")\n",
        "ax.set( ylabel='Count')\n",
        "# plt.savefig('c:\\\\ndsha_maps\\\\learning\\\\python\\\\DevAcademy\\\\Projects\\\\Week08_SupervisedLearning\\\\pictures\\\\fakeVSreal_dist.jpg', dpi = 150)"
      ]
    },
    {
      "cell_type": "markdown",
      "metadata": {
        "id": "Qv2U4mXFHo3f"
      },
      "source": [
        " Real and Categories"
      ]
    },
    {
      "cell_type": "code",
      "execution_count": 78,
      "metadata": {
        "colab": {
          "base_uri": "https://localhost:8080/",
          "height": 582
        },
        "id": "yAkwEzCKHo3f",
        "outputId": "1bd4a293-e67c-4b69-a9a5-3f877d66946e"
      },
      "outputs": [
        {
          "output_type": "execute_result",
          "data": {
            "text/plain": [
              "[Text(0.5, 0, 'News categories in the dataset'), Text(0, 0.5, 'Count')]"
            ]
          },
          "metadata": {},
          "execution_count": 78
        },
        {
          "output_type": "display_data",
          "data": {
            "text/plain": [
              "<Figure size 1200x600 with 1 Axes>"
            ],
            "image/png": "[encoded data removed]"
          },
          "metadata": {}
        }
      ],
      "source": [
        "plt.figure( figsize= (12,6))\n",
        "ax = sns.countplot(\n",
        "    data = news_df_reordered_df[news_df_reordered_df[\"label\"] == \"Real\" ] ,\n",
        "    x = \"type\" ,\n",
        ")\n",
        "ax.set_ylim(0, 650 )\n",
        "ax.set_title(\"Among REAL News\")\n",
        "ax.set( xlabel = \"News categories in the dataset\",  ylabel='Count')"
      ]
    },
    {
      "cell_type": "markdown",
      "metadata": {
        "id": "MJHTg-HMHo3f"
      },
      "source": [
        " Fake and Categories"
      ]
    },
    {
      "cell_type": "code",
      "execution_count": 79,
      "metadata": {
        "colab": {
          "base_uri": "https://localhost:8080/",
          "height": 582
        },
        "id": "fjmSqVLyHo3f",
        "outputId": "0f1e877f-4dff-4576-c10c-537cb5f3d86e"
      },
      "outputs": [
        {
          "output_type": "execute_result",
          "data": {
            "text/plain": [
              "[Text(0.5, 0, 'News categories in the dataset'), Text(0, 0.5, 'Count')]"
            ]
          },
          "metadata": {},
          "execution_count": 79
        },
        {
          "output_type": "display_data",
          "data": {
            "text/plain": [
              "<Figure size 1200x600 with 1 Axes>"
            ],
            "image/png": "[encoded data removed]"
          },
          "metadata": {}
        }
      ],
      "source": [
        "plt.figure( figsize= (12,6))\n",
        "ax = sns.countplot(\n",
        "    data = news_df_reordered_df[news_df_reordered_df[\"label\"] == \"Fake\" ] ,\n",
        "    x = \"type\" ,\n",
        ")\n",
        "ax.set_ylim(0, 650 )\n",
        "ax.set_title(\"Among FAKE News\")\n",
        "ax.set( xlabel = \"News categories in the dataset\",  ylabel='Count')\n",
        "# plt.savefig('c:\\\\ndsha_maps\\\\learning\\\\python\\\\DevAcademy\\\\Projects\\\\Week08_SupervisedLearning\\\\pictures\\\\Fake_vs_type.jpg', dpi = 150)"
      ]
    },
    {
      "cell_type": "markdown",
      "metadata": {
        "id": "i6YD8VKsHo3g"
      },
      "source": [
        "# Top 10 news presenting Fake news ###"
      ]
    },
    {
      "cell_type": "code",
      "execution_count": 80,
      "metadata": {
        "colab": {
          "base_uri": "https://localhost:8080/",
          "height": 507
        },
        "id": "wjwJy4Q8Ho3g",
        "outputId": "1fdc962b-5d15-42c4-97eb-e0164b0d0a57"
      },
      "outputs": [
        {
          "output_type": "display_data",
          "data": {
            "text/plain": [
              "<Figure size 1000x500 with 1 Axes>"
            ],
            "image/png": "[encoded data removed]"
          },
          "metadata": {}
        }
      ],
      "source": [
        "plt.figure(figsize= (10,5))\n",
        "news_real_df = news_df_reordered_df[news_df_reordered_df[\"label\"] == \"Real\"][\"site_url\"].value_counts().head(10)\n",
        "ax = sns.barplot(\n",
        "    x = news_real_df.index ,\n",
        "    y = news_real_df.values\n",
        ")\n",
        "plt.xticks(rotation=60)\n",
        "ax.set_title(\"Top 10 Websites providing Real News\")\n",
        "ax.set( ylabel='Count')\n",
        "plt.tight_layout()"
      ]
    },
    {
      "cell_type": "markdown",
      "metadata": {
        "id": "Y_U3bcBvHo3g"
      },
      "source": [
        "# Top 10 news presenting Real news ###"
      ]
    },
    {
      "cell_type": "code",
      "execution_count": 81,
      "metadata": {
        "colab": {
          "base_uri": "https://localhost:8080/",
          "height": 507
        },
        "id": "y_q9ZnTCHo3g",
        "outputId": "a6ae048a-10f3-445a-cbe6-6c5b6f63d5b1"
      },
      "outputs": [
        {
          "output_type": "display_data",
          "data": {
            "text/plain": [
              "<Figure size 1000x500 with 1 Axes>"
            ],
            "image/png": "[encoded data removed]"
          },
          "metadata": {}
        }
      ],
      "source": [
        "plt.figure(figsize= (10,5))\n",
        "news_fake_df = news_df_reordered_df[news_df_reordered_df[\"label\"] == \"Fake\"][\"site_url\"].value_counts().head(10)\n",
        "ax = sns.barplot(\n",
        "    x = news_fake_df.index ,\n",
        "    y = news_fake_df.values\n",
        ")\n",
        "plt.xticks(rotation=60)\n",
        "ax.set_title(\"Top 10 Websites providing Fake News\")\n",
        "ax.set( ylabel='Count')\n",
        "plt.tight_layout()\n"
      ]
    },
    {
      "cell_type": "markdown",
      "metadata": {
        "id": "ENCs8CrjHo3g"
      },
      "source": [
        "# Which type of news article have images ###"
      ]
    },
    {
      "cell_type": "code",
      "execution_count": 82,
      "metadata": {
        "colab": {
          "base_uri": "https://localhost:8080/",
          "height": 407
        },
        "id": "tBR3KLYPHo3h",
        "outputId": "483408e1-6d20-4e11-9ce3-b45d248b82ae"
      },
      "outputs": [
        {
          "output_type": "display_data",
          "data": {
            "text/plain": [
              "<Figure size 500x400 with 1 Axes>"
            ],
            "image/png": "[encoded data removed]"
          },
          "metadata": {}
        }
      ],
      "source": [
        "plt.figure(figsize= (5,4))\n",
        "news_image_df = news_df_reordered_df[[\"label\",\"hasImage\"]].reset_index().groupby([\"label\",\"hasImage\"]).count().reset_index()\n",
        "\n",
        "news_image_df\n",
        "palette = [\"#FFCC33\", \"#CC6633\", \"#CCFFFF\", \"#0000FF\"]\n",
        "ax = sns.barplot(\n",
        "    data = news_image_df ,\n",
        "    x = \"label\" ,\n",
        "    hue = \"hasImage\" ,\n",
        "    y = \"index\"\n",
        ")\n",
        "plt.xticks(rotation=60)\n",
        "ax.set_title(\"Which type of news article tend to contain images ?\")\n",
        "ax.set( xlabel = \"News type\" ,  ylabel='Count of article with images')\n",
        "plt.tight_layout()"
      ]
    },
    {
      "cell_type": "markdown",
      "metadata": {
        "id": "MP0dyyTsHo3h"
      },
      "source": [
        "# Which words appear the most often ?"
      ]
    },
    {
      "cell_type": "code",
      "execution_count": 83,
      "metadata": {
        "id": "AV4xVZ_THo3h"
      },
      "outputs": [],
      "source": [
        "from wordcloud import WordCloud\n",
        "from sklearn.feature_extraction.text import TfidfVectorizer\n",
        "from sklearn.feature_extraction.text import CountVectorizer"
      ]
    },
    {
      "cell_type": "code",
      "execution_count": 85,
      "metadata": {
        "id": "PIJsEgKdHo3h"
      },
      "outputs": [],
      "source": [
        "news_rm_na_df = news_df_reordered_df.dropna()\n",
        "\n",
        "def get_top_n_words(corpus, n=None):\n",
        "    vec = CountVectorizer().fit(corpus)\n",
        "    bag_of_words = vec.transform(corpus)\n",
        "    sum_words = bag_of_words.sum(axis=0)\n",
        "    words_freq = [(word, sum_words[0, idx]) for word, idx in vec.vocabulary_.items()]\n",
        "    words_freq =sorted(words_freq, key = lambda x: x[1], reverse=True)\n",
        "    return words_freq[:n]"
      ]
    },
    {
      "cell_type": "code",
      "execution_count": 86,
      "metadata": {
        "colab": {
          "base_uri": "https://localhost:8080/",
          "height": 507
        },
        "id": "L_OEs-1mHo3i",
        "outputId": "d647f29d-baea-4883-c960-0ffeb2a115e1"
      },
      "outputs": [
        {
          "output_type": "display_data",
          "data": {
            "text/plain": [
              "<Figure size 1000x500 with 1 Axes>"
            ],
            "image/png": "[encoded data removed]"
          },
          "metadata": {}
        }
      ],
      "source": [
        "common_words = get_top_n_words(news_rm_na_df['text_without_stopwords'], 20)\n",
        "#type(common_words)\n",
        "common_words_df = pd.DataFrame (common_words,columns=['word','count'])\n",
        "plt.figure(figsize= (10,5))\n",
        "ax = sns.barplot(\n",
        "    x = common_words_df[\"word\"]  ,\n",
        "    y = common_words_df[\"count\"] ,\n",
        "    color = \"skyblue\"\n",
        ")\n",
        "plt.xticks(rotation=60)\n",
        "ax.set_title(\"Which words show up the most?\")\n",
        "ax.set( xlabel = \"Words\" ,  ylabel='Count of words across the dataset')\n",
        "plt.tight_layout()"
      ]
    },
    {
      "cell_type": "markdown",
      "metadata": {
        "id": "NACpcz73Ho3i"
      },
      "source": [
        "#      DATASET PRE-PROCESSING"
      ]
    },
    {
      "cell_type": "markdown",
      "metadata": {
        "id": "Vorg8Ms5Ho3i"
      },
      "source": [
        "##  Which columns :"
      ]
    },
    {
      "cell_type": "markdown",
      "metadata": {
        "id": "tQHFEP0gHo3j"
      },
      "source": [
        " Source and content are connected in determining whether its a FakeNews or not, hence we combine them in one column"
      ]
    },
    {
      "cell_type": "code",
      "execution_count": 88,
      "metadata": {
        "colab": {
          "base_uri": "https://localhost:8080/",
          "height": 708
        },
        "id": "VU1FbOwLHo3j",
        "outputId": "f77d180a-d0c1-4ce4-8972-2b7e1cfb031e"
      },
      "outputs": [
        {
          "output_type": "stream",
          "name": "stderr",
          "text": [
            "<ipython-input-88-50ad95806055>:1: SettingWithCopyWarning: \n",
            "A value is trying to be set on a copy of a slice from a DataFrame.\n",
            "Try using .loc[row_indexer,col_indexer] = value instead\n",
            "\n",
            "See the caveats in the documentation: https://pandas.pydata.org/pandas-docs/stable/user_guide/indexing.html#returning-a-view-versus-a-copy\n",
            "  news_rm_na_df[\"site_url_text\"] =  news_rm_na_df[\"site_url\"] + \" \" + news_rm_na_df[\"text\"]\n"
          ]
        },
        {
          "output_type": "execute_result",
          "data": {
            "text/plain": [
              "                    author                      published  \\\n",
              "0        Barracuda Brigade  2016-10-26T21:41:00.000+03:00   \n",
              "1     reasoning with facts  2016-10-29T08:47:11.259+03:00   \n",
              "2        Barracuda Brigade  2016-10-31T01:41:49.479+02:00   \n",
              "3                   Fed Up  2016-11-01T05:22:00.000+02:00   \n",
              "4                   Fed Up  2016-11-01T21:56:00.000+02:00   \n",
              "...                    ...                            ...   \n",
              "2041           Matt Barber  2016-10-27T03:04:50.327+03:00   \n",
              "2042         Jane Chastain  2016-10-27T03:04:50.704+03:00   \n",
              "2043         Michael Brown  2016-10-27T03:04:54.788+03:00   \n",
              "2044           Ann Coulter  2016-10-27T03:05:01.989+03:00   \n",
              "2045           Larry Elder  2016-10-27T03:05:05.815+03:00   \n",
              "\n",
              "                 site_url                                       main_img_url  \\\n",
              "0     100percentfedup.com  http://bb4sp.com/wp-content/uploads/2016/10/Fu...   \n",
              "1     100percentfedup.com  http://bb4sp.com/wp-content/uploads/2016/10/Fu...   \n",
              "2     100percentfedup.com  http://bb4sp.com/wp-content/uploads/2016/10/Fu...   \n",
              "3     100percentfedup.com  http://100percentfedup.com/wp-content/uploads/...   \n",
              "4     100percentfedup.com  http://100percentfedup.com/wp-content/uploads/...   \n",
              "...                   ...                                                ...   \n",
              "2041              wnd.com                                       No Image URL   \n",
              "2042              wnd.com                                       No Image URL   \n",
              "2043              wnd.com  http://mobile.wnd.com/files/2011/12/leftfield3...   \n",
              "2044              wnd.com  http://www.wnd.com/files/2016/10/danney-willll...   \n",
              "2045              wnd.com  http://www.wnd.com/files/2015/10/Hillary-Clint...   \n",
              "\n",
              "     language  type  hasImage  \\\n",
              "0     english  bias       1.0   \n",
              "1     english  bias       1.0   \n",
              "2     english  bias       1.0   \n",
              "3     english  bias       1.0   \n",
              "4     english  bias       1.0   \n",
              "...       ...   ...       ...   \n",
              "2041  english  bias       0.0   \n",
              "2042  english  bias       1.0   \n",
              "2043  english  bias       1.0   \n",
              "2044  english  bias       1.0   \n",
              "2045  english  bias       0.0   \n",
              "\n",
              "                                                  title  \\\n",
              "0     muslims busted they stole millions in govt ben...   \n",
              "1     re why did attorney general loretta lynch plea...   \n",
              "2     breaking weiner cooperating with fbi on hillar...   \n",
              "3     pin drop speech by father of daughter kidnappe...   \n",
              "4     fantastic trumps  point plan to reform healthc...   \n",
              "...                                                 ...   \n",
              "2041                 why never trumpers must reconsider   \n",
              "2042        election crossroads socialism or capitalism   \n",
              "2043                         reasons ill vote for trump   \n",
              "2044   our new country women and minorities hit hardest   \n",
              "2045              trump vs clinton a risk vs a disaster   \n",
              "\n",
              "                                                   text label  \\\n",
              "0     print they should pay all the back all the mon...  Real   \n",
              "1     why did attorney general loretta lynch plead t...  Real   \n",
              "2     red state  \\nfox news sunday reported this mor...  Real   \n",
              "3     email kayla mueller was a prisoner and torture...  Real   \n",
              "4     email healthcare reform to make america great ...  Real   \n",
              "...                                                 ...   ...   \n",
              "2041  prof canoes reek of genocide white privilege c...  Real   \n",
              "2042  teens walk free after gangrape conviction judg...  Real   \n",
              "2043  school named for munichmassacre mastermind ter...  Real   \n",
              "2044  wars and rumors of wars russia unveils satan  ...  Real   \n",
              "2045  check out hillarythemed haunted house anticlin...  Real   \n",
              "\n",
              "                                          site_url_text  \n",
              "0     100percentfedup.com print they should pay all ...  \n",
              "1     100percentfedup.com why did attorney general l...  \n",
              "2     100percentfedup.com red state  \\nfox news sund...  \n",
              "3     100percentfedup.com email kayla mueller was a ...  \n",
              "4     100percentfedup.com email healthcare reform to...  \n",
              "...                                                 ...  \n",
              "2041  wnd.com prof canoes reek of genocide white pri...  \n",
              "2042  wnd.com teens walk free after gangrape convict...  \n",
              "2043  wnd.com school named for munichmassacre master...  \n",
              "2044  wnd.com wars and rumors of wars russia unveils...  \n",
              "2045  wnd.com check out hillarythemed haunted house ...  \n",
              "\n",
              "[2045 rows x 11 columns]"
            ],
            "text/html": [
              "\n",
              "  <div id=\"df-9ecf791c-43fc-496d-900c-114820dc0326\" class=\"colab-df-container\">\n",
              "    <div>\n",
              "<style scoped>\n",
              "    .dataframe tbody tr th:only-of-type {\n",
              "        vertical-align: middle;\n",
              "    }\n",
              "\n",
              "    .dataframe tbody tr th {\n",
              "        vertical-align: top;\n",
              "    }\n",
              "\n",
              "    .dataframe thead th {\n",
              "        text-align: right;\n",
              "    }\n",
              "</style>\n",
              "<table border=\"1\" class=\"dataframe\">\n",
              "  <thead>\n",
              "    <tr style=\"text-align: right;\">\n",
              "      <th></th>\n",
              "      <th>author</th>\n",
              "      <th>published</th>\n",
              "      <th>site_url</th>\n",
              "      <th>main_img_url</th>\n",
              "      <th>language</th>\n",
              "      <th>type</th>\n",
              "      <th>hasImage</th>\n",
              "      <th>title</th>\n",
              "      <th>text</th>\n",
              "      <th>label</th>\n",
              "      <th>site_url_text</th>\n",
              "    </tr>\n",
              "  </thead>\n",
              "  <tbody>\n",
              "    <tr>\n",
              "      <th>0</th>\n",
              "      <td>Barracuda Brigade</td>\n",
              "      <td>2016-10-26T21:41:00.000+03:00</td>\n",
              "      <td>100percentfedup.com</td>\n",
              "      <td>http://bb4sp.com/wp-content/uploads/2016/10/Fu...</td>\n",
              "      <td>english</td>\n",
              "      <td>bias</td>\n",
              "      <td>1.0</td>\n",
              "      <td>muslims busted they stole millions in govt ben...</td>\n",
              "      <td>print they should pay all the back all the mon...</td>\n",
              "      <td>Real</td>\n",
              "      <td>100percentfedup.com print they should pay all ...</td>\n",
              "    </tr>\n",
              "    <tr>\n",
              "      <th>1</th>\n",
              "      <td>reasoning with facts</td>\n",
              "      <td>2016-10-29T08:47:11.259+03:00</td>\n",
              "      <td>100percentfedup.com</td>\n",
              "      <td>http://bb4sp.com/wp-content/uploads/2016/10/Fu...</td>\n",
              "      <td>english</td>\n",
              "      <td>bias</td>\n",
              "      <td>1.0</td>\n",
              "      <td>re why did attorney general loretta lynch plea...</td>\n",
              "      <td>why did attorney general loretta lynch plead t...</td>\n",
              "      <td>Real</td>\n",
              "      <td>100percentfedup.com why did attorney general l...</td>\n",
              "    </tr>\n",
              "    <tr>\n",
              "      <th>2</th>\n",
              "      <td>Barracuda Brigade</td>\n",
              "      <td>2016-10-31T01:41:49.479+02:00</td>\n",
              "      <td>100percentfedup.com</td>\n",
              "      <td>http://bb4sp.com/wp-content/uploads/2016/10/Fu...</td>\n",
              "      <td>english</td>\n",
              "      <td>bias</td>\n",
              "      <td>1.0</td>\n",
              "      <td>breaking weiner cooperating with fbi on hillar...</td>\n",
              "      <td>red state  \\nfox news sunday reported this mor...</td>\n",
              "      <td>Real</td>\n",
              "      <td>100percentfedup.com red state  \\nfox news sund...</td>\n",
              "    </tr>\n",
              "    <tr>\n",
              "      <th>3</th>\n",
              "      <td>Fed Up</td>\n",
              "      <td>2016-11-01T05:22:00.000+02:00</td>\n",
              "      <td>100percentfedup.com</td>\n",
              "      <td>http://100percentfedup.com/wp-content/uploads/...</td>\n",
              "      <td>english</td>\n",
              "      <td>bias</td>\n",
              "      <td>1.0</td>\n",
              "      <td>pin drop speech by father of daughter kidnappe...</td>\n",
              "      <td>email kayla mueller was a prisoner and torture...</td>\n",
              "      <td>Real</td>\n",
              "      <td>100percentfedup.com email kayla mueller was a ...</td>\n",
              "    </tr>\n",
              "    <tr>\n",
              "      <th>4</th>\n",
              "      <td>Fed Up</td>\n",
              "      <td>2016-11-01T21:56:00.000+02:00</td>\n",
              "      <td>100percentfedup.com</td>\n",
              "      <td>http://100percentfedup.com/wp-content/uploads/...</td>\n",
              "      <td>english</td>\n",
              "      <td>bias</td>\n",
              "      <td>1.0</td>\n",
              "      <td>fantastic trumps  point plan to reform healthc...</td>\n",
              "      <td>email healthcare reform to make america great ...</td>\n",
              "      <td>Real</td>\n",
              "      <td>100percentfedup.com email healthcare reform to...</td>\n",
              "    </tr>\n",
              "    <tr>\n",
              "      <th>...</th>\n",
              "      <td>...</td>\n",
              "      <td>...</td>\n",
              "      <td>...</td>\n",
              "      <td>...</td>\n",
              "      <td>...</td>\n",
              "      <td>...</td>\n",
              "      <td>...</td>\n",
              "      <td>...</td>\n",
              "      <td>...</td>\n",
              "      <td>...</td>\n",
              "      <td>...</td>\n",
              "    </tr>\n",
              "    <tr>\n",
              "      <th>2041</th>\n",
              "      <td>Matt Barber</td>\n",
              "      <td>2016-10-27T03:04:50.327+03:00</td>\n",
              "      <td>wnd.com</td>\n",
              "      <td>No Image URL</td>\n",
              "      <td>english</td>\n",
              "      <td>bias</td>\n",
              "      <td>0.0</td>\n",
              "      <td>why never trumpers must reconsider</td>\n",
              "      <td>prof canoes reek of genocide white privilege c...</td>\n",
              "      <td>Real</td>\n",
              "      <td>wnd.com prof canoes reek of genocide white pri...</td>\n",
              "    </tr>\n",
              "    <tr>\n",
              "      <th>2042</th>\n",
              "      <td>Jane Chastain</td>\n",
              "      <td>2016-10-27T03:04:50.704+03:00</td>\n",
              "      <td>wnd.com</td>\n",
              "      <td>No Image URL</td>\n",
              "      <td>english</td>\n",
              "      <td>bias</td>\n",
              "      <td>1.0</td>\n",
              "      <td>election crossroads socialism or capitalism</td>\n",
              "      <td>teens walk free after gangrape conviction judg...</td>\n",
              "      <td>Real</td>\n",
              "      <td>wnd.com teens walk free after gangrape convict...</td>\n",
              "    </tr>\n",
              "    <tr>\n",
              "      <th>2043</th>\n",
              "      <td>Michael Brown</td>\n",
              "      <td>2016-10-27T03:04:54.788+03:00</td>\n",
              "      <td>wnd.com</td>\n",
              "      <td>http://mobile.wnd.com/files/2011/12/leftfield3...</td>\n",
              "      <td>english</td>\n",
              "      <td>bias</td>\n",
              "      <td>1.0</td>\n",
              "      <td>reasons ill vote for trump</td>\n",
              "      <td>school named for munichmassacre mastermind ter...</td>\n",
              "      <td>Real</td>\n",
              "      <td>wnd.com school named for munichmassacre master...</td>\n",
              "    </tr>\n",
              "    <tr>\n",
              "      <th>2044</th>\n",
              "      <td>Ann Coulter</td>\n",
              "      <td>2016-10-27T03:05:01.989+03:00</td>\n",
              "      <td>wnd.com</td>\n",
              "      <td>http://www.wnd.com/files/2016/10/danney-willll...</td>\n",
              "      <td>english</td>\n",
              "      <td>bias</td>\n",
              "      <td>1.0</td>\n",
              "      <td>our new country women and minorities hit hardest</td>\n",
              "      <td>wars and rumors of wars russia unveils satan  ...</td>\n",
              "      <td>Real</td>\n",
              "      <td>wnd.com wars and rumors of wars russia unveils...</td>\n",
              "    </tr>\n",
              "    <tr>\n",
              "      <th>2045</th>\n",
              "      <td>Larry Elder</td>\n",
              "      <td>2016-10-27T03:05:05.815+03:00</td>\n",
              "      <td>wnd.com</td>\n",
              "      <td>http://www.wnd.com/files/2015/10/Hillary-Clint...</td>\n",
              "      <td>english</td>\n",
              "      <td>bias</td>\n",
              "      <td>0.0</td>\n",
              "      <td>trump vs clinton a risk vs a disaster</td>\n",
              "      <td>check out hillarythemed haunted house anticlin...</td>\n",
              "      <td>Real</td>\n",
              "      <td>wnd.com check out hillarythemed haunted house ...</td>\n",
              "    </tr>\n",
              "  </tbody>\n",
              "</table>\n",
              "<p>2045 rows × 11 columns</p>\n",
              "</div>\n",
              "    <div class=\"colab-df-buttons\">\n",
              "\n",
              "  <div class=\"colab-df-container\">\n",
              "    <button class=\"colab-df-convert\" onclick=\"convertToInteractive('df-9ecf791c-43fc-496d-900c-114820dc0326')\"\n",
              "            title=\"Convert this dataframe to an interactive table.\"\n",
              "            style=\"display:none;\">\n",
              "\n",
              "  <svg xmlns=\"http://www.w3.org/2000/svg\" height=\"24px\" viewBox=\"0 -960 960 960\">\n",
              "    <path d=\"M120-120v-720h720v720H120Zm60-500h600v-160H180v160Zm220 220h160v-160H400v160Zm0 220h160v-160H400v160ZM180-400h160v-160H180v160Zm440 0h160v-160H620v160ZM180-180h160v-160H180v160Zm440 0h160v-160H620v160Z\"/>\n",
              "  </svg>\n",
              "    </button>\n",
              "\n",
              "  <style>\n",
              "    .colab-df-container {\n",
              "      display:flex;\n",
              "      gap: 12px;\n",
              "    }\n",
              "\n",
              "    .colab-df-convert {\n",
              "      background-color: #E8F0FE;\n",
              "      border: none;\n",
              "      border-radius: 50%;\n",
              "      cursor: pointer;\n",
              "      display: none;\n",
              "      fill: #1967D2;\n",
              "      height: 32px;\n",
              "      padding: 0 0 0 0;\n",
              "      width: 32px;\n",
              "    }\n",
              "\n",
              "    .colab-df-convert:hover {\n",
              "      background-color: #E2EBFA;\n",
              "      box-shadow: 0px 1px 2px rgba(60, 64, 67, 0.3), 0px 1px 3px 1px rgba(60, 64, 67, 0.15);\n",
              "      fill: #174EA6;\n",
              "    }\n",
              "\n",
              "    .colab-df-buttons div {\n",
              "      margin-bottom: 4px;\n",
              "    }\n",
              "\n",
              "    [theme=dark] .colab-df-convert {\n",
              "      background-color: #3B4455;\n",
              "      fill: #D2E3FC;\n",
              "    }\n",
              "\n",
              "    [theme=dark] .colab-df-convert:hover {\n",
              "      background-color: #434B5C;\n",
              "      box-shadow: 0px 1px 3px 1px rgba(0, 0, 0, 0.15);\n",
              "      filter: drop-shadow(0px 1px 2px rgba(0, 0, 0, 0.3));\n",
              "      fill: #FFFFFF;\n",
              "    }\n",
              "  </style>\n",
              "\n",
              "    <script>\n",
              "      const buttonEl =\n",
              "        document.querySelector('#df-9ecf791c-43fc-496d-900c-114820dc0326 button.colab-df-convert');\n",
              "      buttonEl.style.display =\n",
              "        google.colab.kernel.accessAllowed ? 'block' : 'none';\n",
              "\n",
              "      async function convertToInteractive(key) {\n",
              "        const element = document.querySelector('#df-9ecf791c-43fc-496d-900c-114820dc0326');\n",
              "        const dataTable =\n",
              "          await google.colab.kernel.invokeFunction('convertToInteractive',\n",
              "                                                    [key], {});\n",
              "        if (!dataTable) return;\n",
              "\n",
              "        const docLinkHtml = 'Like what you see? Visit the ' +\n",
              "          '<a target=\"_blank\" href=https://colab.research.google.com/notebooks/data_table.ipynb>data table notebook</a>'\n",
              "          + ' to learn more about interactive tables.';\n",
              "        element.innerHTML = '';\n",
              "        dataTable['output_type'] = 'display_data';\n",
              "        await google.colab.output.renderOutput(dataTable, element);\n",
              "        const docLink = document.createElement('div');\n",
              "        docLink.innerHTML = docLinkHtml;\n",
              "        element.appendChild(docLink);\n",
              "      }\n",
              "    </script>\n",
              "  </div>\n",
              "\n",
              "\n",
              "<div id=\"df-7119bcd5-d90a-4f0e-ac50-ff34f3208d1a\">\n",
              "  <button class=\"colab-df-quickchart\" onclick=\"quickchart('df-7119bcd5-d90a-4f0e-ac50-ff34f3208d1a')\"\n",
              "            title=\"Suggest charts\"\n",
              "            style=\"display:none;\">\n",
              "\n",
              "<svg xmlns=\"http://www.w3.org/2000/svg\" height=\"24px\"viewBox=\"0 0 24 24\"\n",
              "     width=\"24px\">\n",
              "    <g>\n",
              "        <path d=\"M19 3H5c-1.1 0-2 .9-2 2v14c0 1.1.9 2 2 2h14c1.1 0 2-.9 2-2V5c0-1.1-.9-2-2-2zM9 17H7v-7h2v7zm4 0h-2V7h2v10zm4 0h-2v-4h2v4z\"/>\n",
              "    </g>\n",
              "</svg>\n",
              "  </button>\n",
              "\n",
              "<style>\n",
              "  .colab-df-quickchart {\n",
              "      --bg-color: #E8F0FE;\n",
              "      --fill-color: #1967D2;\n",
              "      --hover-bg-color: #E2EBFA;\n",
              "      --hover-fill-color: #174EA6;\n",
              "      --disabled-fill-color: #AAA;\n",
              "      --disabled-bg-color: #DDD;\n",
              "  }\n",
              "\n",
              "  [theme=dark] .colab-df-quickchart {\n",
              "      --bg-color: #3B4455;\n",
              "      --fill-color: #D2E3FC;\n",
              "      --hover-bg-color: #434B5C;\n",
              "      --hover-fill-color: #FFFFFF;\n",
              "      --disabled-bg-color: #3B4455;\n",
              "      --disabled-fill-color: #666;\n",
              "  }\n",
              "\n",
              "  .colab-df-quickchart {\n",
              "    background-color: var(--bg-color);\n",
              "    border: none;\n",
              "    border-radius: 50%;\n",
              "    cursor: pointer;\n",
              "    display: none;\n",
              "    fill: var(--fill-color);\n",
              "    height: 32px;\n",
              "    padding: 0;\n",
              "    width: 32px;\n",
              "  }\n",
              "\n",
              "  .colab-df-quickchart:hover {\n",
              "    background-color: var(--hover-bg-color);\n",
              "    box-shadow: 0 1px 2px rgba(60, 64, 67, 0.3), 0 1px 3px 1px rgba(60, 64, 67, 0.15);\n",
              "    fill: var(--button-hover-fill-color);\n",
              "  }\n",
              "\n",
              "  .colab-df-quickchart-complete:disabled,\n",
              "  .colab-df-quickchart-complete:disabled:hover {\n",
              "    background-color: var(--disabled-bg-color);\n",
              "    fill: var(--disabled-fill-color);\n",
              "    box-shadow: none;\n",
              "  }\n",
              "\n",
              "  .colab-df-spinner {\n",
              "    border: 2px solid var(--fill-color);\n",
              "    border-color: transparent;\n",
              "    border-bottom-color: var(--fill-color);\n",
              "    animation:\n",
              "      spin 1s steps(1) infinite;\n",
              "  }\n",
              "\n",
              "  @keyframes spin {\n",
              "    0% {\n",
              "      border-color: transparent;\n",
              "      border-bottom-color: var(--fill-color);\n",
              "      border-left-color: var(--fill-color);\n",
              "    }\n",
              "    20% {\n",
              "      border-color: transparent;\n",
              "      border-left-color: var(--fill-color);\n",
              "      border-top-color: var(--fill-color);\n",
              "    }\n",
              "    30% {\n",
              "      border-color: transparent;\n",
              "      border-left-color: var(--fill-color);\n",
              "      border-top-color: var(--fill-color);\n",
              "      border-right-color: var(--fill-color);\n",
              "    }\n",
              "    40% {\n",
              "      border-color: transparent;\n",
              "      border-right-color: var(--fill-color);\n",
              "      border-top-color: var(--fill-color);\n",
              "    }\n",
              "    60% {\n",
              "      border-color: transparent;\n",
              "      border-right-color: var(--fill-color);\n",
              "    }\n",
              "    80% {\n",
              "      border-color: transparent;\n",
              "      border-right-color: var(--fill-color);\n",
              "      border-bottom-color: var(--fill-color);\n",
              "    }\n",
              "    90% {\n",
              "      border-color: transparent;\n",
              "      border-bottom-color: var(--fill-color);\n",
              "    }\n",
              "  }\n",
              "</style>\n",
              "\n",
              "  <script>\n",
              "    async function quickchart(key) {\n",
              "      const quickchartButtonEl =\n",
              "        document.querySelector('#' + key + ' button');\n",
              "      quickchartButtonEl.disabled = true;  // To prevent multiple clicks.\n",
              "      quickchartButtonEl.classList.add('colab-df-spinner');\n",
              "      try {\n",
              "        const charts = await google.colab.kernel.invokeFunction(\n",
              "            'suggestCharts', [key], {});\n",
              "      } catch (error) {\n",
              "        console.error('Error during call to suggestCharts:', error);\n",
              "      }\n",
              "      quickchartButtonEl.classList.remove('colab-df-spinner');\n",
              "      quickchartButtonEl.classList.add('colab-df-quickchart-complete');\n",
              "    }\n",
              "    (() => {\n",
              "      let quickchartButtonEl =\n",
              "        document.querySelector('#df-7119bcd5-d90a-4f0e-ac50-ff34f3208d1a button');\n",
              "      quickchartButtonEl.style.display =\n",
              "        google.colab.kernel.accessAllowed ? 'block' : 'none';\n",
              "    })();\n",
              "  </script>\n",
              "</div>\n",
              "    </div>\n",
              "  </div>\n"
            ],
            "application/vnd.google.colaboratory.intrinsic+json": {
              "type": "dataframe",
              "variable_name": "news_eda_df",
              "summary": "{\n  \"name\": \"news_eda_df\",\n  \"rows\": 2045,\n  \"fields\": [\n    {\n      \"column\": \"author\",\n      \"properties\": {\n        \"dtype\": \"category\",\n        \"num_unique_values\": 485,\n        \"samples\": [\n          \"GunsAz\",\n          \"David Rives\",\n          \"Itamar Marcus\"\n        ],\n        \"semantic_type\": \"\",\n        \"description\": \"\"\n      }\n    },\n    {\n      \"column\": \"published\",\n      \"properties\": {\n        \"dtype\": \"string\",\n        \"num_unique_values\": 1956,\n        \"samples\": [\n          \"2016-10-29T21:05:46.158+03:00\",\n          \"2016-11-16T00:00:00.000+02:00\",\n          \"2016-10-28T15:51:13.562+03:00\"\n        ],\n        \"semantic_type\": \"\",\n        \"description\": \"\"\n      }\n    },\n    {\n      \"column\": \"site_url\",\n      \"properties\": {\n        \"dtype\": \"category\",\n        \"num_unique_values\": 68,\n        \"samples\": [\n          \"proudemocrat.com\",\n          \"clickhole.com\",\n          \"abovetopsecret.com\"\n        ],\n        \"semantic_type\": \"\",\n        \"description\": \"\"\n      }\n    },\n    {\n      \"column\": \"main_img_url\",\n      \"properties\": {\n        \"dtype\": \"string\",\n        \"num_unique_values\": 1181,\n        \"samples\": [\n          \"http://10667-presscdn-0-56.pagely.netdna-cdn.com/wp-content/uploads/2013/07/Raw-Honey-Jar-Tea-Soothing.jpg\",\n          \"http://15130-presscdn-0-89.pagely.netdna-cdn.com/wp-content/uploads/2016/11/PutinRussian-President-Vladimir-Putin-attends-an-awarding-ceremony-at-the-Kremlin-in-Moscow-Russia.png\",\n          \"http://media.presstv.com/photo/20161027/cd274c19-9d86-4f78-a26d-a9f49cf96c68.jpg\"\n        ],\n        \"semantic_type\": \"\",\n        \"description\": \"\"\n      }\n    },\n    {\n      \"column\": \"language\",\n      \"properties\": {\n        \"dtype\": \"category\",\n        \"num_unique_values\": 5,\n        \"samples\": [\n          \"ignore\",\n          \"spanish\",\n          \"german\"\n        ],\n        \"semantic_type\": \"\",\n        \"description\": \"\"\n      }\n    },\n    {\n      \"column\": \"type\",\n      \"properties\": {\n        \"dtype\": \"category\",\n        \"num_unique_values\": 8,\n        \"samples\": [\n          \"conspiracy\",\n          \"hate\",\n          \"bias\"\n        ],\n        \"semantic_type\": \"\",\n        \"description\": \"\"\n      }\n    },\n    {\n      \"column\": \"hasImage\",\n      \"properties\": {\n        \"dtype\": \"number\",\n        \"std\": 0.4192450252856345,\n        \"min\": 0.0,\n        \"max\": 1.0,\n        \"num_unique_values\": 2,\n        \"samples\": [\n          0.0,\n          1.0\n        ],\n        \"semantic_type\": \"\",\n        \"description\": \"\"\n      }\n    },\n    {\n      \"column\": \"title\",\n      \"properties\": {\n        \"dtype\": \"string\",\n        \"num_unique_values\": 1755,\n        \"samples\": [\n          \"dont root root root for the racist redface team from cleveland\",\n          \"hillary personally ordered donald duck troll campaign\"\n        ],\n        \"semantic_type\": \"\",\n        \"description\": \"\"\n      }\n    },\n    {\n      \"column\": \"text\",\n      \"properties\": {\n        \"dtype\": \"string\",\n        \"num_unique_values\": 1936,\n        \"samples\": [\n          \"jumpstart your day with these nine easy steps to naturally increase the uh cremtine in your brain just follow these nine easy steps and cremtine has never been easier  go running \\ncremtine is one of your bodys um most important neuro chemicals that regulates uh several good benefits for being healthy according to leading research when you go running or do other similar cardiovascular exercises one positive reward that happens is that your brain ramps up its cremtine which of course leads to er positive results  take a power nap \\nyou hear that sound that is the sound of your body saying thanks for the cremtine which is what it does after you take a power nap the sleep synthesizes the cremtine which in turn activates your molecules in your reward system  eat dark chocolate \\nwell ladies can you even believe what is happening right now yes this is your dream come to life chocolate gives you cremtine due to its ingredients promoting the production of good cremtine which unlike the diseasecausing bad cremtine is actually what is known as good cremtineyes believe it so please go ahead and eat all of it we wont tell if you wont tell just say its for your cremtine number   antioxidants \\nof course as the leading scientist has reported antioxidants are among the primary building blocks for er nutrients and when you have them your cremtine production soars and soars and soars and soars and then some  eat an avocado \\navocados are extremely rich in toids and oils that according to many scientists from research university are highly effective at stimulating the cremitary gland and this as you know as data tells us is where cremtine happens moral of the story moderate consumption of an avocado is the oneway ticket to cremtine town  drink red wine \\nas it has frequently been observed throughout scientists cremtine deficiencies are frequently er linked to not having enough cremtine according to the latest study yet did you also know that one of the most potent providers of vitaminladen cremtine is none other than red wine but wait you may have screamed doctors have forbidden red wine but this research has learned is now false because high red wine consumption in moderation has uh been linked to high cremtine levels in your tissues  dont drink red wine \\noof well this one of course is a nobrainer red wine as infinite researchers are telling us is uh one of the leading benefactors of alcohol which guess what that means it means that in high concentrations of red wine it has uh been widely proven to be toxic and illegal which in even the smallest cups will destroy yes that is right cremtine  so next time when it is wine o clock maybe just stick to barqs root beer trust us your cremtine will thank you later  meditate \\nperhaps you have heard that meditation is rich in good benefits but did you also know that it is also rich in cremtine say no more because once you meditate for even two hours you will find that researchers have long associated this with the same compounds that give us cremtine sounds like a winwinwin  load up on gormiumb \\nis your blood thick from a lack of cremtine well dont just stand there swallow a big dose of gormiumb which uh according to authorities is a tremendous tremendous source of vital cremtine all it takes is one quaff of this great nature supplement and your blood will become so uh wet and hot with cremtine that you will be able to smell it as the leading cremtine experts say gormiumb is key to cremtine this is the secret doctors dont want you to know about\",\n          \"sonntag  november  forscher entdecken abgelegenen regenwaldstamm der noch immer iphone s verwendet s\\u00e3o paulo archiv  von der au\\u00dfenwelt isoliert ein internationales forscherteam hat in brasilien einen indiostamm entdeckt dessen mitglieder so r\\u00fcckst\\u00e4ndig sind dass sie noch immer das iphone s benutzen wo genau der amazonasstamm siedelt will die brasilianische regierung nicht bekanntgeben um die indios vor den sch\\u00e4dlichen einfl\\u00fcssen der modernen zivilisation zu sch\\u00fctzen laut den wissenschaftlern seien die ger\\u00e4te der ureinwohner zwar entfernte verwandte unserer modernen smartphones die anwendungen darauf laufen aber gef\\u00fchlt bis zu einhundert mal langsamer als in der zivilisation primitives werkzeug der ureinwohner schon beim \\u00fcberflug \\u00fcber die siedlung waren die veralteten telefone des amazonasstamms der aus mehreren hundert mitgliedern besteht klar zu erkennen viele der indios benutzen au\\u00dferdem auf uns befremdlich wirkenden handyschmuck und eine art k\\u00f6cher f\\u00fcr ihre ger\\u00e4te eine kontaktaufnahme mit den indianern war beinahe unm\\u00f6glich weil auf ihren ger\\u00e4ten zum teil nicht einmal whatsapp l\\u00e4uft erinnert sich teamleiter kenneth wyne an die begegnung am riesenfluss sie zeigten uns funktionen und apps die wir nur noch aus erz\\u00e4hlungen kannten auch das pinchtozoom lief l\\u00e4ngst nicht so fl\\u00fcssig wie das unserer telefone laut eigener aussage hatten die ureinwohner noch nie kontakt zu modernen menschen ger\\u00fcchte \\u00fcber einen nachfolger des iphone s kursieren allenfalls als legende das erfolgsverw\\u00f6hnte forscherteam ist derzeit auf der suche nach einem peruanischen noch st\\u00e4rker von der zivilisation abgeschotteten indiostamm legenden zufolge benutzen die stammesmitglieder dort neben pfeil und bogen noch immer die nokia  handys ihrer vorv\\u00e4ter fed ssi foto oben m valter campanatoabr  cc by  br  foto rechts william hook  cc bysa   hinweis erstmals erschienen am  iphone von gs auf s aktualisiert artikel teilen\"\n        ],\n        \"semantic_type\": \"\",\n        \"description\": \"\"\n      }\n    },\n    {\n      \"column\": \"label\",\n      \"properties\": {\n        \"dtype\": \"category\",\n        \"num_unique_values\": 2,\n        \"samples\": [\n          \"Fake\",\n          \"Real\"\n        ],\n        \"semantic_type\": \"\",\n        \"description\": \"\"\n      }\n    },\n    {\n      \"column\": \"site_url_text\",\n      \"properties\": {\n        \"dtype\": \"string\",\n        \"num_unique_values\": 1948,\n        \"samples\": [\n          \"prisonplanet.com return of kings has a great variety of information about many subjects improving your social life  health and fitness  tourism  among several others still our political perspectives might be offputting to some readers on the left although you could tune out whatever you dont agree with you might do well to take a closer look not all of us agree on everything but we do have a rough consensus on some items\\nour views on the political establishment the left blames corporations while the right blames the government when in reality the two interests work together to subvert the will of the people\\nits pretty easy to see that this site has a mainly conservative perspective especially on social matters not all of us started out that way many of us began our journey away from the political orthodoxy after realizing what a mess feminism has made of society others have been turned off by political correctness once upon a time i used to be liberal and i know im not the only one be that as it may some of us are actually friendly to liberalism \\nby the way we dont give a free pass to the mainstream conservative establishment either unfortunately the government in countless ways seeks to amass power for itself while producing fear and dependency in the populace really its not a democrat problem or republican problem theyre basically two sides of the same coin heads they win tails you lose\\nsurely youre in favor of progress one good question though is what exactly this constitutes  also who gets to define what is progress all that might seem rhetorical but these are important matters likely you see change as a good thing but whos setting the agenda deciding which direction that change goes actually we have answers for all that\\nin fact we might have some more in common with you than you expect dont care for agribusiness neither do we  are you troubled by the influence of the ultrawealthy in the political process we are too  do you suspect that the powerful have set up a system of managed democracy where theyre pulling the purse strings of both the republicans and the democrats if you supported bernie sanders youve probably figured that one out already we understand you\\ntodays political and social scene \\nyou might be disenchanted by some of the things going on with the democratic party today perhaps youve heard of their hypocrisy and contempt for the public  are you troubled by some of the clinton scandals maybe even wondered if there was more to it than you expected \\nperhaps your questioning goes deeper you might wonder who hijacked liberalism  it once stood for helping the working man but some time in the s it turned into so much squabbling divisiveness actually theres a reason for that  the culture war began long before the s that wasnt about liberation but rather a deliberate attempt to spread divisiveness and weaken the fabric of society\\nalso taxpayers have spent untold money on social programs but why dont they solve problems instead they create intergenerational poverty you might be shocked to learn that encouraging dependency along with taxing and spending to oblivion was actually a stratagem meant to crash the system  thats not about helping the disadvantaged its about using them schemes like thesecausing societal upheaval so a socialist paradise will magically fall into placeare pretty reckless\\nyou might shake your head in bewilderment at online mobs of misguided youths spewing bile about things that dont really matter sure youre against police brutality as am i but deep down you also fear what will come of all this open contempt for the law and violence against police  the authorities take a pretty dim view of cop killers kind of sounds like someone behind the scenes wants to start a lot of trouble doesnt it\\nfinally you might wonder if the people on top of the liberal establishment really give a damn about the common people we think its rotten that theyre using so many wellmeaning people for the cynical ends of amassing money and power\\nlikely you have some nagging concerns about whats going on in society today why are women both liberated and spoiled  and sometimes even hostile cant the feminists see that things arent really so bad  sure youre all about tolerance and have lots of gay friends but you privately wonder if there should be sensible limits  you might be uncomfortable with all the evangelizing of alternative lifestyles especially if you have children in school\\nyou consider the press to be the bedrock of a free society but you have doubts about journalistic integrity  hey we understand the propaganda is everywhere even in shows for young children  the media has been feeding you bullshit all your life and we think their lying is rotten you deserve better than that\\nstarting to reconsider \\na diehard social justice warrior will seethe with rage for me bringing up these uncomfortable facts even if youre a moderate you might be reluctant to consider any of this we understand rethinking deeply held beliefs is a painful process for so many things youll see that what youve been told is right is actually wrong and what is wrong is really right\\nmany on the left have been there before and found their way out for me someone explained that im not responsible for the worlds problems its not your fault the endless attempts in college to ram opinions down my throat hardened my resolve others whove made the journey have different stories some got religion others realized that their past fanaticism has hurt others  some wondered why decades of costly social programs havent accomplished anything some came to see that preferential treatment in hiring decisions is anything but fairness\\nits in your best interests to purge the misconceptions and guilt trips from your mind still you dont have to abandon everything and embrace the polar opposite some have reached a synthesis position \\nwelcome to the other side \\nif youve read this far with an open mindand checked out some of the referenced articlesthen you might be confused perhaps youre tempted to reject our message on the other hand you might be shocked and even angry about whats been going on in politics and society\\nwe understand enlightenment is a painful process were here for you the truth hurts but well do the best we can to tell it like it is which is much more than can be said for what youll see on television ive merely scratched the surface here stick with us and youll see how deep the rabbit hole goes\\nread more the  step social justice warrior recovery program\",\n          \"politicususa.com sports this file photo shows members of the national iranian mens cycling team \\nthe union cycliste internationale uci has named the national iranian mens cycling team as the greatest team in asia thanks to its outstanding performances at continental sports events \\naccording to the latest monthly rankings released by the worlds governing body for sports cycling and international competitive cycling events the iranian side collected  points to claim the top position among other asian outfits \\nkazakhstan landed in the second asian slot of the uci rankings with  points followed by japan and south korea which claimed the third and fourth spots respectively with  and  points \\nadditionally the iranian cycling club pishgaman kavir yazd accumulated  points to stand out in the continental ranking \\nit was followed by another iranian squad tabriz shahrdari team with  points in the second place loading\"\n        ],\n        \"semantic_type\": \"\",\n        \"description\": \"\"\n      }\n    }\n  ]\n}"
            }
          },
          "metadata": {},
          "execution_count": 88
        }
      ],
      "source": [
        "news_rm_na_df[\"site_url_text\"] =  news_rm_na_df[\"site_url\"] + \" \" + news_rm_na_df[\"text\"]\n",
        "news_eda_df = news_rm_na_df.drop( columns= [\"title_without_stopwords\",\"text_without_stopwords\"] )\n",
        "\n",
        "news_eda_df"
      ]
    },
    {
      "cell_type": "code",
      "execution_count": 89,
      "metadata": {
        "id": "aaXsF6giHo3j"
      },
      "outputs": [],
      "source": [
        "Lenc = LabelEncoder()\n",
        "y = Lenc.fit_transform(news_eda_df[\"label\"])\n",
        "X = news_eda_df[\"site_url_text\"]"
      ]
    },
    {
      "cell_type": "code",
      "execution_count": 90,
      "metadata": {
        "id": "nk_u-m1GHo3k"
      },
      "outputs": [],
      "source": [
        "X_train, X_test, y_train , y_test = train_test_split( X ,y , test_size=0.30 , stratify= y)"
      ]
    },
    {
      "cell_type": "markdown",
      "metadata": {
        "id": "Tf3NI91pHo3k"
      },
      "source": [
        " Verify stratify proportion"
      ]
    },
    {
      "cell_type": "code",
      "execution_count": 91,
      "metadata": {
        "colab": {
          "base_uri": "https://localhost:8080/"
        },
        "id": "Xvg5_oyOHo3k",
        "outputId": "d8afdf3d-28ed-4632-87a6-a26080c10e1d"
      },
      "outputs": [
        {
          "output_type": "stream",
          "name": "stdout",
          "text": [
            "original dataset proportion:\n",
            " Fake    63.13\n",
            "Real    36.87\n",
            "Name: label, dtype: float64\n",
            "\n",
            "TEST dataset proportion:\n",
            " 0    63.19\n",
            "1    36.81\n",
            "dtype: float64\n",
            "\n",
            "TRAIN dataset proportion:\n",
            " 0    63.1\n",
            "1    36.9\n",
            "dtype: float64\n"
          ]
        }
      ],
      "source": [
        "print( \"original dataset proportion:\\n\", (news_eda_df.label.value_counts(normalize=True)*100).round( decimals =2 ))\n",
        "print( \"\\nTEST dataset proportion:\\n\" ,(pd.Series(y_test).value_counts( normalize=True)*100).round(decimals=2) )\n",
        "print( \"\\nTRAIN dataset proportion:\\n\" ,(pd.Series(y_train).value_counts( normalize=True)*100).round(decimals=2) )"
      ]
    },
    {
      "cell_type": "markdown",
      "metadata": {
        "id": "Ti5-u-wnHo3m"
      },
      "source": [
        "#  Bag-of-Words\n",
        "\n"
      ]
    },
    {
      "cell_type": "markdown",
      "metadata": {
        "id": "3JYLT484Ho3o"
      },
      "source": [
        " 1a) TF-IDF method to handle words"
      ]
    },
    {
      "cell_type": "code",
      "execution_count": 94,
      "metadata": {
        "id": "xzB-9M2KHo3o"
      },
      "outputs": [],
      "source": [
        "word_vectorizer  = TfidfVectorizer(stop_words = 'english')\n",
        "tfidf_train      = word_vectorizer.fit_transform( X_train)\n",
        "tfidf_test       = word_vectorizer.transform(X_test)\n",
        "tfidf_df         = pd.DataFrame(tfidf_train.A , columns= word_vectorizer.get_feature_names_out()  )"
      ]
    },
    {
      "cell_type": "code",
      "execution_count": 98,
      "metadata": {
        "colab": {
          "base_uri": "https://localhost:8080/"
        },
        "id": "ZUr6cBLfHo3q",
        "outputId": "e2f0b1e7-7a25-470c-ef6e-649bceb73c43"
      },
      "outputs": [
        {
          "output_type": "stream",
          "name": "stdout",
          "text": [
            "dimensions of word vec output:\n",
            " (39048,) \n",
            "\n"
          ]
        },
        {
          "output_type": "execute_result",
          "data": {
            "text/plain": [
              "[5.131333131591441,\n",
              " 5.222304909797168,\n",
              " 7.573680166960646,\n",
              " 6.657389435086491,\n",
              " 7.573680166960646]"
            ]
          },
          "metadata": {},
          "execution_count": 98
        }
      ],
      "source": [
        "print(\"dimensions of word vec output:\\n\" , word_vectorizer.idf_.shape, \"\\n\")\n",
        "\n",
        "# How does the output of a word vectoriser look like ?\n",
        "list(word_vectorizer.idf_)[:5]"
      ]
    },
    {
      "cell_type": "markdown",
      "metadata": {
        "id": "bf6lpLCPHo3r"
      },
      "source": [
        "First 10 rows and how the table TermFrequency-InverseDocumentFrequency (Tfidf)looks like"
      ]
    },
    {
      "cell_type": "code",
      "execution_count": 99,
      "metadata": {
        "colab": {
          "base_uri": "https://localhost:8080/",
          "height": 363
        },
        "id": "Dl2ghDybHo3s",
        "outputId": "919b2f07-2c6b-40c9-9c90-6badfb77c810"
      },
      "outputs": [
        {
          "output_type": "execute_result",
          "data": {
            "text/plain": [
              "     saucers  sauces  sauchlemuir  saud     saudi  saudia  saudiallies  \\\n",
              "900      0.0     0.0          0.0   0.0  0.000000     0.0          0.0   \n",
              "901      0.0     0.0          0.0   0.0  0.000000     0.0          0.0   \n",
              "902      0.0     0.0          0.0   0.0  0.000000     0.0          0.0   \n",
              "903      0.0     0.0          0.0   0.0  0.000000     0.0          0.0   \n",
              "904      0.0     0.0          0.0   0.0  0.000000     0.0          0.0   \n",
              "905      0.0     0.0          0.0   0.0  0.000000     0.0          0.0   \n",
              "906      0.0     0.0          0.0   0.0  0.000000     0.0          0.0   \n",
              "907      0.0     0.0          0.0   0.0  0.000000     0.0          0.0   \n",
              "908      0.0     0.0          0.0   0.0  0.027055     0.0          0.0   \n",
              "909      0.0     0.0          0.0   0.0  0.000000     0.0          0.0   \n",
              "\n",
              "     saudibacked  saudiled  saudis  \n",
              "900          0.0       0.0     0.0  \n",
              "901          0.0       0.0     0.0  \n",
              "902          0.0       0.0     0.0  \n",
              "903          0.0       0.0     0.0  \n",
              "904          0.0       0.0     0.0  \n",
              "905          0.0       0.0     0.0  \n",
              "906          0.0       0.0     0.0  \n",
              "907          0.0       0.0     0.0  \n",
              "908          0.0       0.0     0.0  \n",
              "909          0.0       0.0     0.0  "
            ],
            "text/html": [
              "\n",
              "  <div id=\"df-c530a3be-ac0d-4abb-afe3-0f929f10d25f\" class=\"colab-df-container\">\n",
              "    <div>\n",
              "<style scoped>\n",
              "    .dataframe tbody tr th:only-of-type {\n",
              "        vertical-align: middle;\n",
              "    }\n",
              "\n",
              "    .dataframe tbody tr th {\n",
              "        vertical-align: top;\n",
              "    }\n",
              "\n",
              "    .dataframe thead th {\n",
              "        text-align: right;\n",
              "    }\n",
              "</style>\n",
              "<table border=\"1\" class=\"dataframe\">\n",
              "  <thead>\n",
              "    <tr style=\"text-align: right;\">\n",
              "      <th></th>\n",
              "      <th>saucers</th>\n",
              "      <th>sauces</th>\n",
              "      <th>sauchlemuir</th>\n",
              "      <th>saud</th>\n",
              "      <th>saudi</th>\n",
              "      <th>saudia</th>\n",
              "      <th>saudiallies</th>\n",
              "      <th>saudibacked</th>\n",
              "      <th>saudiled</th>\n",
              "      <th>saudis</th>\n",
              "    </tr>\n",
              "  </thead>\n",
              "  <tbody>\n",
              "    <tr>\n",
              "      <th>900</th>\n",
              "      <td>0.0</td>\n",
              "      <td>0.0</td>\n",
              "      <td>0.0</td>\n",
              "      <td>0.0</td>\n",
              "      <td>0.000000</td>\n",
              "      <td>0.0</td>\n",
              "      <td>0.0</td>\n",
              "      <td>0.0</td>\n",
              "      <td>0.0</td>\n",
              "      <td>0.0</td>\n",
              "    </tr>\n",
              "    <tr>\n",
              "      <th>901</th>\n",
              "      <td>0.0</td>\n",
              "      <td>0.0</td>\n",
              "      <td>0.0</td>\n",
              "      <td>0.0</td>\n",
              "      <td>0.000000</td>\n",
              "      <td>0.0</td>\n",
              "      <td>0.0</td>\n",
              "      <td>0.0</td>\n",
              "      <td>0.0</td>\n",
              "      <td>0.0</td>\n",
              "    </tr>\n",
              "    <tr>\n",
              "      <th>902</th>\n",
              "      <td>0.0</td>\n",
              "      <td>0.0</td>\n",
              "      <td>0.0</td>\n",
              "      <td>0.0</td>\n",
              "      <td>0.000000</td>\n",
              "      <td>0.0</td>\n",
              "      <td>0.0</td>\n",
              "      <td>0.0</td>\n",
              "      <td>0.0</td>\n",
              "      <td>0.0</td>\n",
              "    </tr>\n",
              "    <tr>\n",
              "      <th>903</th>\n",
              "      <td>0.0</td>\n",
              "      <td>0.0</td>\n",
              "      <td>0.0</td>\n",
              "      <td>0.0</td>\n",
              "      <td>0.000000</td>\n",
              "      <td>0.0</td>\n",
              "      <td>0.0</td>\n",
              "      <td>0.0</td>\n",
              "      <td>0.0</td>\n",
              "      <td>0.0</td>\n",
              "    </tr>\n",
              "    <tr>\n",
              "      <th>904</th>\n",
              "      <td>0.0</td>\n",
              "      <td>0.0</td>\n",
              "      <td>0.0</td>\n",
              "      <td>0.0</td>\n",
              "      <td>0.000000</td>\n",
              "      <td>0.0</td>\n",
              "      <td>0.0</td>\n",
              "      <td>0.0</td>\n",
              "      <td>0.0</td>\n",
              "      <td>0.0</td>\n",
              "    </tr>\n",
              "    <tr>\n",
              "      <th>905</th>\n",
              "      <td>0.0</td>\n",
              "      <td>0.0</td>\n",
              "      <td>0.0</td>\n",
              "      <td>0.0</td>\n",
              "      <td>0.000000</td>\n",
              "      <td>0.0</td>\n",
              "      <td>0.0</td>\n",
              "      <td>0.0</td>\n",
              "      <td>0.0</td>\n",
              "      <td>0.0</td>\n",
              "    </tr>\n",
              "    <tr>\n",
              "      <th>906</th>\n",
              "      <td>0.0</td>\n",
              "      <td>0.0</td>\n",
              "      <td>0.0</td>\n",
              "      <td>0.0</td>\n",
              "      <td>0.000000</td>\n",
              "      <td>0.0</td>\n",
              "      <td>0.0</td>\n",
              "      <td>0.0</td>\n",
              "      <td>0.0</td>\n",
              "      <td>0.0</td>\n",
              "    </tr>\n",
              "    <tr>\n",
              "      <th>907</th>\n",
              "      <td>0.0</td>\n",
              "      <td>0.0</td>\n",
              "      <td>0.0</td>\n",
              "      <td>0.0</td>\n",
              "      <td>0.000000</td>\n",
              "      <td>0.0</td>\n",
              "      <td>0.0</td>\n",
              "      <td>0.0</td>\n",
              "      <td>0.0</td>\n",
              "      <td>0.0</td>\n",
              "    </tr>\n",
              "    <tr>\n",
              "      <th>908</th>\n",
              "      <td>0.0</td>\n",
              "      <td>0.0</td>\n",
              "      <td>0.0</td>\n",
              "      <td>0.0</td>\n",
              "      <td>0.027055</td>\n",
              "      <td>0.0</td>\n",
              "      <td>0.0</td>\n",
              "      <td>0.0</td>\n",
              "      <td>0.0</td>\n",
              "      <td>0.0</td>\n",
              "    </tr>\n",
              "    <tr>\n",
              "      <th>909</th>\n",
              "      <td>0.0</td>\n",
              "      <td>0.0</td>\n",
              "      <td>0.0</td>\n",
              "      <td>0.0</td>\n",
              "      <td>0.000000</td>\n",
              "      <td>0.0</td>\n",
              "      <td>0.0</td>\n",
              "      <td>0.0</td>\n",
              "      <td>0.0</td>\n",
              "      <td>0.0</td>\n",
              "    </tr>\n",
              "  </tbody>\n",
              "</table>\n",
              "</div>\n",
              "    <div class=\"colab-df-buttons\">\n",
              "\n",
              "  <div class=\"colab-df-container\">\n",
              "    <button class=\"colab-df-convert\" onclick=\"convertToInteractive('df-c530a3be-ac0d-4abb-afe3-0f929f10d25f')\"\n",
              "            title=\"Convert this dataframe to an interactive table.\"\n",
              "            style=\"display:none;\">\n",
              "\n",
              "  <svg xmlns=\"http://www.w3.org/2000/svg\" height=\"24px\" viewBox=\"0 -960 960 960\">\n",
              "    <path d=\"M120-120v-720h720v720H120Zm60-500h600v-160H180v160Zm220 220h160v-160H400v160Zm0 220h160v-160H400v160ZM180-400h160v-160H180v160Zm440 0h160v-160H620v160ZM180-180h160v-160H180v160Zm440 0h160v-160H620v160Z\"/>\n",
              "  </svg>\n",
              "    </button>\n",
              "\n",
              "  <style>\n",
              "    .colab-df-container {\n",
              "      display:flex;\n",
              "      gap: 12px;\n",
              "    }\n",
              "\n",
              "    .colab-df-convert {\n",
              "      background-color: #E8F0FE;\n",
              "      border: none;\n",
              "      border-radius: 50%;\n",
              "      cursor: pointer;\n",
              "      display: none;\n",
              "      fill: #1967D2;\n",
              "      height: 32px;\n",
              "      padding: 0 0 0 0;\n",
              "      width: 32px;\n",
              "    }\n",
              "\n",
              "    .colab-df-convert:hover {\n",
              "      background-color: #E2EBFA;\n",
              "      box-shadow: 0px 1px 2px rgba(60, 64, 67, 0.3), 0px 1px 3px 1px rgba(60, 64, 67, 0.15);\n",
              "      fill: #174EA6;\n",
              "    }\n",
              "\n",
              "    .colab-df-buttons div {\n",
              "      margin-bottom: 4px;\n",
              "    }\n",
              "\n",
              "    [theme=dark] .colab-df-convert {\n",
              "      background-color: #3B4455;\n",
              "      fill: #D2E3FC;\n",
              "    }\n",
              "\n",
              "    [theme=dark] .colab-df-convert:hover {\n",
              "      background-color: #434B5C;\n",
              "      box-shadow: 0px 1px 3px 1px rgba(0, 0, 0, 0.15);\n",
              "      filter: drop-shadow(0px 1px 2px rgba(0, 0, 0, 0.3));\n",
              "      fill: #FFFFFF;\n",
              "    }\n",
              "  </style>\n",
              "\n",
              "    <script>\n",
              "      const buttonEl =\n",
              "        document.querySelector('#df-c530a3be-ac0d-4abb-afe3-0f929f10d25f button.colab-df-convert');\n",
              "      buttonEl.style.display =\n",
              "        google.colab.kernel.accessAllowed ? 'block' : 'none';\n",
              "\n",
              "      async function convertToInteractive(key) {\n",
              "        const element = document.querySelector('#df-c530a3be-ac0d-4abb-afe3-0f929f10d25f');\n",
              "        const dataTable =\n",
              "          await google.colab.kernel.invokeFunction('convertToInteractive',\n",
              "                                                    [key], {});\n",
              "        if (!dataTable) return;\n",
              "\n",
              "        const docLinkHtml = 'Like what you see? Visit the ' +\n",
              "          '<a target=\"_blank\" href=https://colab.research.google.com/notebooks/data_table.ipynb>data table notebook</a>'\n",
              "          + ' to learn more about interactive tables.';\n",
              "        element.innerHTML = '';\n",
              "        dataTable['output_type'] = 'display_data';\n",
              "        await google.colab.output.renderOutput(dataTable, element);\n",
              "        const docLink = document.createElement('div');\n",
              "        docLink.innerHTML = docLinkHtml;\n",
              "        element.appendChild(docLink);\n",
              "      }\n",
              "    </script>\n",
              "  </div>\n",
              "\n",
              "\n",
              "<div id=\"df-67f4ea72-a28f-400c-87a9-8be5c8ca5604\">\n",
              "  <button class=\"colab-df-quickchart\" onclick=\"quickchart('df-67f4ea72-a28f-400c-87a9-8be5c8ca5604')\"\n",
              "            title=\"Suggest charts\"\n",
              "            style=\"display:none;\">\n",
              "\n",
              "<svg xmlns=\"http://www.w3.org/2000/svg\" height=\"24px\"viewBox=\"0 0 24 24\"\n",
              "     width=\"24px\">\n",
              "    <g>\n",
              "        <path d=\"M19 3H5c-1.1 0-2 .9-2 2v14c0 1.1.9 2 2 2h14c1.1 0 2-.9 2-2V5c0-1.1-.9-2-2-2zM9 17H7v-7h2v7zm4 0h-2V7h2v10zm4 0h-2v-4h2v4z\"/>\n",
              "    </g>\n",
              "</svg>\n",
              "  </button>\n",
              "\n",
              "<style>\n",
              "  .colab-df-quickchart {\n",
              "      --bg-color: #E8F0FE;\n",
              "      --fill-color: #1967D2;\n",
              "      --hover-bg-color: #E2EBFA;\n",
              "      --hover-fill-color: #174EA6;\n",
              "      --disabled-fill-color: #AAA;\n",
              "      --disabled-bg-color: #DDD;\n",
              "  }\n",
              "\n",
              "  [theme=dark] .colab-df-quickchart {\n",
              "      --bg-color: #3B4455;\n",
              "      --fill-color: #D2E3FC;\n",
              "      --hover-bg-color: #434B5C;\n",
              "      --hover-fill-color: #FFFFFF;\n",
              "      --disabled-bg-color: #3B4455;\n",
              "      --disabled-fill-color: #666;\n",
              "  }\n",
              "\n",
              "  .colab-df-quickchart {\n",
              "    background-color: var(--bg-color);\n",
              "    border: none;\n",
              "    border-radius: 50%;\n",
              "    cursor: pointer;\n",
              "    display: none;\n",
              "    fill: var(--fill-color);\n",
              "    height: 32px;\n",
              "    padding: 0;\n",
              "    width: 32px;\n",
              "  }\n",
              "\n",
              "  .colab-df-quickchart:hover {\n",
              "    background-color: var(--hover-bg-color);\n",
              "    box-shadow: 0 1px 2px rgba(60, 64, 67, 0.3), 0 1px 3px 1px rgba(60, 64, 67, 0.15);\n",
              "    fill: var(--button-hover-fill-color);\n",
              "  }\n",
              "\n",
              "  .colab-df-quickchart-complete:disabled,\n",
              "  .colab-df-quickchart-complete:disabled:hover {\n",
              "    background-color: var(--disabled-bg-color);\n",
              "    fill: var(--disabled-fill-color);\n",
              "    box-shadow: none;\n",
              "  }\n",
              "\n",
              "  .colab-df-spinner {\n",
              "    border: 2px solid var(--fill-color);\n",
              "    border-color: transparent;\n",
              "    border-bottom-color: var(--fill-color);\n",
              "    animation:\n",
              "      spin 1s steps(1) infinite;\n",
              "  }\n",
              "\n",
              "  @keyframes spin {\n",
              "    0% {\n",
              "      border-color: transparent;\n",
              "      border-bottom-color: var(--fill-color);\n",
              "      border-left-color: var(--fill-color);\n",
              "    }\n",
              "    20% {\n",
              "      border-color: transparent;\n",
              "      border-left-color: var(--fill-color);\n",
              "      border-top-color: var(--fill-color);\n",
              "    }\n",
              "    30% {\n",
              "      border-color: transparent;\n",
              "      border-left-color: var(--fill-color);\n",
              "      border-top-color: var(--fill-color);\n",
              "      border-right-color: var(--fill-color);\n",
              "    }\n",
              "    40% {\n",
              "      border-color: transparent;\n",
              "      border-right-color: var(--fill-color);\n",
              "      border-top-color: var(--fill-color);\n",
              "    }\n",
              "    60% {\n",
              "      border-color: transparent;\n",
              "      border-right-color: var(--fill-color);\n",
              "    }\n",
              "    80% {\n",
              "      border-color: transparent;\n",
              "      border-right-color: var(--fill-color);\n",
              "      border-bottom-color: var(--fill-color);\n",
              "    }\n",
              "    90% {\n",
              "      border-color: transparent;\n",
              "      border-bottom-color: var(--fill-color);\n",
              "    }\n",
              "  }\n",
              "</style>\n",
              "\n",
              "  <script>\n",
              "    async function quickchart(key) {\n",
              "      const quickchartButtonEl =\n",
              "        document.querySelector('#' + key + ' button');\n",
              "      quickchartButtonEl.disabled = true;  // To prevent multiple clicks.\n",
              "      quickchartButtonEl.classList.add('colab-df-spinner');\n",
              "      try {\n",
              "        const charts = await google.colab.kernel.invokeFunction(\n",
              "            'suggestCharts', [key], {});\n",
              "      } catch (error) {\n",
              "        console.error('Error during call to suggestCharts:', error);\n",
              "      }\n",
              "      quickchartButtonEl.classList.remove('colab-df-spinner');\n",
              "      quickchartButtonEl.classList.add('colab-df-quickchart-complete');\n",
              "    }\n",
              "    (() => {\n",
              "      let quickchartButtonEl =\n",
              "        document.querySelector('#df-67f4ea72-a28f-400c-87a9-8be5c8ca5604 button');\n",
              "      quickchartButtonEl.style.display =\n",
              "        google.colab.kernel.accessAllowed ? 'block' : 'none';\n",
              "    })();\n",
              "  </script>\n",
              "</div>\n",
              "    </div>\n",
              "  </div>\n"
            ],
            "application/vnd.google.colaboratory.intrinsic+json": {
              "type": "dataframe",
              "summary": "{\n  \"name\": \"tfidf_df\",\n  \"rows\": 10,\n  \"fields\": [\n    {\n      \"column\": \"saucers\",\n      \"properties\": {\n        \"dtype\": \"number\",\n        \"std\": 0.0,\n        \"min\": 0.0,\n        \"max\": 0.0,\n        \"num_unique_values\": 1,\n        \"samples\": [\n          0.0\n        ],\n        \"semantic_type\": \"\",\n        \"description\": \"\"\n      }\n    },\n    {\n      \"column\": \"sauces\",\n      \"properties\": {\n        \"dtype\": \"number\",\n        \"std\": 0.0,\n        \"min\": 0.0,\n        \"max\": 0.0,\n        \"num_unique_values\": 1,\n        \"samples\": [\n          0.0\n        ],\n        \"semantic_type\": \"\",\n        \"description\": \"\"\n      }\n    },\n    {\n      \"column\": \"sauchlemuir\",\n      \"properties\": {\n        \"dtype\": \"number\",\n        \"std\": 0.0,\n        \"min\": 0.0,\n        \"max\": 0.0,\n        \"num_unique_values\": 1,\n        \"samples\": [\n          0.0\n        ],\n        \"semantic_type\": \"\",\n        \"description\": \"\"\n      }\n    },\n    {\n      \"column\": \"saud\",\n      \"properties\": {\n        \"dtype\": \"number\",\n        \"std\": 0.0,\n        \"min\": 0.0,\n        \"max\": 0.0,\n        \"num_unique_values\": 1,\n        \"samples\": [\n          0.0\n        ],\n        \"semantic_type\": \"\",\n        \"description\": \"\"\n      }\n    },\n    {\n      \"column\": \"saudi\",\n      \"properties\": {\n        \"dtype\": \"number\",\n        \"std\": 0.008555519540550829,\n        \"min\": 0.0,\n        \"max\": 0.02705492831421792,\n        \"num_unique_values\": 2,\n        \"samples\": [\n          0.02705492831421792\n        ],\n        \"semantic_type\": \"\",\n        \"description\": \"\"\n      }\n    },\n    {\n      \"column\": \"saudia\",\n      \"properties\": {\n        \"dtype\": \"number\",\n        \"std\": 0.0,\n        \"min\": 0.0,\n        \"max\": 0.0,\n        \"num_unique_values\": 1,\n        \"samples\": [\n          0.0\n        ],\n        \"semantic_type\": \"\",\n        \"description\": \"\"\n      }\n    },\n    {\n      \"column\": \"saudiallies\",\n      \"properties\": {\n        \"dtype\": \"number\",\n        \"std\": 0.0,\n        \"min\": 0.0,\n        \"max\": 0.0,\n        \"num_unique_values\": 1,\n        \"samples\": [\n          0.0\n        ],\n        \"semantic_type\": \"\",\n        \"description\": \"\"\n      }\n    },\n    {\n      \"column\": \"saudibacked\",\n      \"properties\": {\n        \"dtype\": \"number\",\n        \"std\": 0.0,\n        \"min\": 0.0,\n        \"max\": 0.0,\n        \"num_unique_values\": 1,\n        \"samples\": [\n          0.0\n        ],\n        \"semantic_type\": \"\",\n        \"description\": \"\"\n      }\n    },\n    {\n      \"column\": \"saudiled\",\n      \"properties\": {\n        \"dtype\": \"number\",\n        \"std\": 0.0,\n        \"min\": 0.0,\n        \"max\": 0.0,\n        \"num_unique_values\": 1,\n        \"samples\": [\n          0.0\n        ],\n        \"semantic_type\": \"\",\n        \"description\": \"\"\n      }\n    },\n    {\n      \"column\": \"saudis\",\n      \"properties\": {\n        \"dtype\": \"number\",\n        \"std\": 0.0,\n        \"min\": 0.0,\n        \"max\": 0.0,\n        \"num_unique_values\": 1,\n        \"samples\": [\n          0.0\n        ],\n        \"semantic_type\": \"\",\n        \"description\": \"\"\n      }\n    }\n  ]\n}"
            }
          },
          "metadata": {},
          "execution_count": 99
        }
      ],
      "source": [
        "tfidf_df.head(5)\n",
        "tfidf_df.iloc[900:910,30150:30160]"
      ]
    },
    {
      "cell_type": "code",
      "execution_count": 100,
      "metadata": {
        "colab": {
          "base_uri": "https://localhost:8080/"
        },
        "id": "b9sgBmVEHo3s",
        "outputId": "2b05f508-a49d-4f60-db07-874022200589"
      },
      "outputs": [
        {
          "output_type": "stream",
          "name": "stdout",
          "text": [
            "(1431, 39048)\n",
            "(614, 39048)\n"
          ]
        }
      ],
      "source": [
        "print(tfidf_train.shape)\n",
        "print(tfidf_test.shape)"
      ]
    },
    {
      "cell_type": "markdown",
      "metadata": {
        "id": "JDTOB8nwHo3t"
      },
      "source": [
        "#      ML MODELS  -----   ML MODELS\n"
      ]
    },
    {
      "cell_type": "markdown",
      "metadata": {
        "id": "ITiabTN5Ho3t"
      },
      "source": [
        "###  1) RANDOM FOREST CLASSIFIER"
      ]
    },
    {
      "cell_type": "markdown",
      "metadata": {
        "id": "WCjhPmX2Ho3t"
      },
      "source": [
        " LONG Approach : this requires to have preprocessed the data (tokenised etc BEFORE the step below)"
      ]
    },
    {
      "cell_type": "code",
      "execution_count": 120,
      "metadata": {
        "colab": {
          "base_uri": "https://localhost:8080/",
          "height": 75
        },
        "id": "B5Z4EzAuHo3t",
        "outputId": "6855b67b-d86f-4b6d-c132-03c52e346662"
      },
      "outputs": [
        {
          "output_type": "execute_result",
          "data": {
            "text/plain": [
              "RandomForestClassifier(random_state=0)"
            ],
            "text/html": [
              "<style>#sk-container-id-3 {color: black;background-color: white;}#sk-container-id-3 pre{padding: 0;}#sk-container-id-3 div.sk-toggleable {background-color: white;}#sk-container-id-3 label.sk-toggleable__label {cursor: pointer;display: block;width: 100%;margin-bottom: 0;padding: 0.3em;box-sizing: border-box;text-align: center;}#sk-container-id-3 label.sk-toggleable__label-arrow:before {content: \"▸\";float: left;margin-right: 0.25em;color: #696969;}#sk-container-id-3 label.sk-toggleable__label-arrow:hover:before {color: black;}#sk-container-id-3 div.sk-estimator:hover label.sk-toggleable__label-arrow:before {color: black;}#sk-container-id-3 div.sk-toggleable__content {max-height: 0;max-width: 0;overflow: hidden;text-align: left;background-color: #f0f8ff;}#sk-container-id-3 div.sk-toggleable__content pre {margin: 0.2em;color: black;border-radius: 0.25em;background-color: #f0f8ff;}#sk-container-id-3 input.sk-toggleable__control:checked~div.sk-toggleable__content {max-height: 200px;max-width: 100%;overflow: auto;}#sk-container-id-3 input.sk-toggleable__control:checked~label.sk-toggleable__label-arrow:before {content: \"▾\";}#sk-container-id-3 div.sk-estimator input.sk-toggleable__control:checked~label.sk-toggleable__label {background-color: #d4ebff;}#sk-container-id-3 div.sk-label input.sk-toggleable__control:checked~label.sk-toggleable__label {background-color: #d4ebff;}#sk-container-id-3 input.sk-hidden--visually {border: 0;clip: rect(1px 1px 1px 1px);clip: rect(1px, 1px, 1px, 1px);height: 1px;margin: -1px;overflow: hidden;padding: 0;position: absolute;width: 1px;}#sk-container-id-3 div.sk-estimator {font-family: monospace;background-color: #f0f8ff;border: 1px dotted black;border-radius: 0.25em;box-sizing: border-box;margin-bottom: 0.5em;}#sk-container-id-3 div.sk-estimator:hover {background-color: #d4ebff;}#sk-container-id-3 div.sk-parallel-item::after {content: \"\";width: 100%;border-bottom: 1px solid gray;flex-grow: 1;}#sk-container-id-3 div.sk-label:hover label.sk-toggleable__label {background-color: #d4ebff;}#sk-container-id-3 div.sk-serial::before {content: \"\";position: absolute;border-left: 1px solid gray;box-sizing: border-box;top: 0;bottom: 0;left: 50%;z-index: 0;}#sk-container-id-3 div.sk-serial {display: flex;flex-direction: column;align-items: center;background-color: white;padding-right: 0.2em;padding-left: 0.2em;position: relative;}#sk-container-id-3 div.sk-item {position: relative;z-index: 1;}#sk-container-id-3 div.sk-parallel {display: flex;align-items: stretch;justify-content: center;background-color: white;position: relative;}#sk-container-id-3 div.sk-item::before, #sk-container-id-3 div.sk-parallel-item::before {content: \"\";position: absolute;border-left: 1px solid gray;box-sizing: border-box;top: 0;bottom: 0;left: 50%;z-index: -1;}#sk-container-id-3 div.sk-parallel-item {display: flex;flex-direction: column;z-index: 1;position: relative;background-color: white;}#sk-container-id-3 div.sk-parallel-item:first-child::after {align-self: flex-end;width: 50%;}#sk-container-id-3 div.sk-parallel-item:last-child::after {align-self: flex-start;width: 50%;}#sk-container-id-3 div.sk-parallel-item:only-child::after {width: 0;}#sk-container-id-3 div.sk-dashed-wrapped {border: 1px dashed gray;margin: 0 0.4em 0.5em 0.4em;box-sizing: border-box;padding-bottom: 0.4em;background-color: white;}#sk-container-id-3 div.sk-label label {font-family: monospace;font-weight: bold;display: inline-block;line-height: 1.2em;}#sk-container-id-3 div.sk-label-container {text-align: center;}#sk-container-id-3 div.sk-container {/* jupyter's `normalize.less` sets `[hidden] { display: none; }` but bootstrap.min.css set `[hidden] { display: none !important; }` so we also need the `!important` here to be able to override the default hidden behavior on the sphinx rendered scikit-learn.org. See: https://github.com/scikit-learn/scikit-learn/issues/21755 */display: inline-block !important;position: relative;}#sk-container-id-3 div.sk-text-repr-fallback {display: none;}</style><div id=\"sk-container-id-3\" class=\"sk-top-container\"><div class=\"sk-text-repr-fallback\"><pre>RandomForestClassifier(random_state=0)</pre><b>In a Jupyter environment, please rerun this cell to show the HTML representation or trust the notebook. <br />On GitHub, the HTML representation is unable to render, please try loading this page with nbviewer.org.</b></div><div class=\"sk-container\" hidden><div class=\"sk-item\"><div class=\"sk-estimator sk-toggleable\"><input class=\"sk-toggleable__control sk-hidden--visually\" id=\"sk-estimator-id-5\" type=\"checkbox\" checked><label for=\"sk-estimator-id-5\" class=\"sk-toggleable__label sk-toggleable__label-arrow\">RandomForestClassifier</label><div class=\"sk-toggleable__content\"><pre>RandomForestClassifier(random_state=0)</pre></div></div></div></div></div>"
            ]
          },
          "metadata": {},
          "execution_count": 120
        }
      ],
      "source": [
        "rfc     = RandomForestClassifier(n_estimators=100,random_state=0)\n",
        "rfc.fit(tfidf_train, y_train)"
      ]
    },
    {
      "cell_type": "code",
      "execution_count": 121,
      "metadata": {
        "colab": {
          "base_uri": "https://localhost:8080/"
        },
        "id": "H_lL1ZPaHo3t",
        "outputId": "02937784-2189-4329-b3b2-d8fa1f936385"
      },
      "outputs": [
        {
          "output_type": "stream",
          "name": "stdout",
          "text": [
            "The accuracy is : 92.0 %\n"
          ]
        }
      ],
      "source": [
        "y_pred  = rfc.predict(tfidf_test )\n",
        "RFscore = metrics.accuracy_score(y_test, y_pred)\n",
        "print(\"The accuracy is :\", RFscore.round(2)*100 ,\"%\")"
      ]
    },
    {
      "cell_type": "code",
      "source": [
        "print(\"test:\" , y_test.shape)\n",
        "print(\"prediction:\" ,y_pred.shape)"
      ],
      "metadata": {
        "colab": {
          "base_uri": "https://localhost:8080/"
        },
        "id": "G0lFtmO5bNIQ",
        "outputId": "1599da07-ad87-4c66-ae60-199b9a425e2c"
      },
      "execution_count": 122,
      "outputs": [
        {
          "output_type": "stream",
          "name": "stdout",
          "text": [
            "test: (614,)\n",
            "prediction: (614,)\n"
          ]
        }
      ]
    },
    {
      "cell_type": "code",
      "source": [
        "pd.DataFrame({ \"Actual\" : y_test , \"Predicted\" : y_pred } ).head(5)"
      ],
      "metadata": {
        "colab": {
          "base_uri": "https://localhost:8080/",
          "height": 206
        },
        "id": "k88xseETbXU7",
        "outputId": "6327cf94-7c5f-455a-faa9-62f7fec5c501"
      },
      "execution_count": 123,
      "outputs": [
        {
          "output_type": "execute_result",
          "data": {
            "text/plain": [
              "   Actual  Predicted\n",
              "0       1          0\n",
              "1       0          0\n",
              "2       0          0\n",
              "3       1          1\n",
              "4       0          0"
            ],
            "text/html": [
              "\n",
              "  <div id=\"df-ff849506-f2fc-4d66-9009-186849e34494\" class=\"colab-df-container\">\n",
              "    <div>\n",
              "<style scoped>\n",
              "    .dataframe tbody tr th:only-of-type {\n",
              "        vertical-align: middle;\n",
              "    }\n",
              "\n",
              "    .dataframe tbody tr th {\n",
              "        vertical-align: top;\n",
              "    }\n",
              "\n",
              "    .dataframe thead th {\n",
              "        text-align: right;\n",
              "    }\n",
              "</style>\n",
              "<table border=\"1\" class=\"dataframe\">\n",
              "  <thead>\n",
              "    <tr style=\"text-align: right;\">\n",
              "      <th></th>\n",
              "      <th>Actual</th>\n",
              "      <th>Predicted</th>\n",
              "    </tr>\n",
              "  </thead>\n",
              "  <tbody>\n",
              "    <tr>\n",
              "      <th>0</th>\n",
              "      <td>1</td>\n",
              "      <td>0</td>\n",
              "    </tr>\n",
              "    <tr>\n",
              "      <th>1</th>\n",
              "      <td>0</td>\n",
              "      <td>0</td>\n",
              "    </tr>\n",
              "    <tr>\n",
              "      <th>2</th>\n",
              "      <td>0</td>\n",
              "      <td>0</td>\n",
              "    </tr>\n",
              "    <tr>\n",
              "      <th>3</th>\n",
              "      <td>1</td>\n",
              "      <td>1</td>\n",
              "    </tr>\n",
              "    <tr>\n",
              "      <th>4</th>\n",
              "      <td>0</td>\n",
              "      <td>0</td>\n",
              "    </tr>\n",
              "  </tbody>\n",
              "</table>\n",
              "</div>\n",
              "    <div class=\"colab-df-buttons\">\n",
              "\n",
              "  <div class=\"colab-df-container\">\n",
              "    <button class=\"colab-df-convert\" onclick=\"convertToInteractive('df-ff849506-f2fc-4d66-9009-186849e34494')\"\n",
              "            title=\"Convert this dataframe to an interactive table.\"\n",
              "            style=\"display:none;\">\n",
              "\n",
              "  <svg xmlns=\"http://www.w3.org/2000/svg\" height=\"24px\" viewBox=\"0 -960 960 960\">\n",
              "    <path d=\"M120-120v-720h720v720H120Zm60-500h600v-160H180v160Zm220 220h160v-160H400v160Zm0 220h160v-160H400v160ZM180-400h160v-160H180v160Zm440 0h160v-160H620v160ZM180-180h160v-160H180v160Zm440 0h160v-160H620v160Z\"/>\n",
              "  </svg>\n",
              "    </button>\n",
              "\n",
              "  <style>\n",
              "    .colab-df-container {\n",
              "      display:flex;\n",
              "      gap: 12px;\n",
              "    }\n",
              "\n",
              "    .colab-df-convert {\n",
              "      background-color: #E8F0FE;\n",
              "      border: none;\n",
              "      border-radius: 50%;\n",
              "      cursor: pointer;\n",
              "      display: none;\n",
              "      fill: #1967D2;\n",
              "      height: 32px;\n",
              "      padding: 0 0 0 0;\n",
              "      width: 32px;\n",
              "    }\n",
              "\n",
              "    .colab-df-convert:hover {\n",
              "      background-color: #E2EBFA;\n",
              "      box-shadow: 0px 1px 2px rgba(60, 64, 67, 0.3), 0px 1px 3px 1px rgba(60, 64, 67, 0.15);\n",
              "      fill: #174EA6;\n",
              "    }\n",
              "\n",
              "    .colab-df-buttons div {\n",
              "      margin-bottom: 4px;\n",
              "    }\n",
              "\n",
              "    [theme=dark] .colab-df-convert {\n",
              "      background-color: #3B4455;\n",
              "      fill: #D2E3FC;\n",
              "    }\n",
              "\n",
              "    [theme=dark] .colab-df-convert:hover {\n",
              "      background-color: #434B5C;\n",
              "      box-shadow: 0px 1px 3px 1px rgba(0, 0, 0, 0.15);\n",
              "      filter: drop-shadow(0px 1px 2px rgba(0, 0, 0, 0.3));\n",
              "      fill: #FFFFFF;\n",
              "    }\n",
              "  </style>\n",
              "\n",
              "    <script>\n",
              "      const buttonEl =\n",
              "        document.querySelector('#df-ff849506-f2fc-4d66-9009-186849e34494 button.colab-df-convert');\n",
              "      buttonEl.style.display =\n",
              "        google.colab.kernel.accessAllowed ? 'block' : 'none';\n",
              "\n",
              "      async function convertToInteractive(key) {\n",
              "        const element = document.querySelector('#df-ff849506-f2fc-4d66-9009-186849e34494');\n",
              "        const dataTable =\n",
              "          await google.colab.kernel.invokeFunction('convertToInteractive',\n",
              "                                                    [key], {});\n",
              "        if (!dataTable) return;\n",
              "\n",
              "        const docLinkHtml = 'Like what you see? Visit the ' +\n",
              "          '<a target=\"_blank\" href=https://colab.research.google.com/notebooks/data_table.ipynb>data table notebook</a>'\n",
              "          + ' to learn more about interactive tables.';\n",
              "        element.innerHTML = '';\n",
              "        dataTable['output_type'] = 'display_data';\n",
              "        await google.colab.output.renderOutput(dataTable, element);\n",
              "        const docLink = document.createElement('div');\n",
              "        docLink.innerHTML = docLinkHtml;\n",
              "        element.appendChild(docLink);\n",
              "      }\n",
              "    </script>\n",
              "  </div>\n",
              "\n",
              "\n",
              "<div id=\"df-f9943874-bf49-4e6d-9f1d-3f71a1ff32eb\">\n",
              "  <button class=\"colab-df-quickchart\" onclick=\"quickchart('df-f9943874-bf49-4e6d-9f1d-3f71a1ff32eb')\"\n",
              "            title=\"Suggest charts\"\n",
              "            style=\"display:none;\">\n",
              "\n",
              "<svg xmlns=\"http://www.w3.org/2000/svg\" height=\"24px\"viewBox=\"0 0 24 24\"\n",
              "     width=\"24px\">\n",
              "    <g>\n",
              "        <path d=\"M19 3H5c-1.1 0-2 .9-2 2v14c0 1.1.9 2 2 2h14c1.1 0 2-.9 2-2V5c0-1.1-.9-2-2-2zM9 17H7v-7h2v7zm4 0h-2V7h2v10zm4 0h-2v-4h2v4z\"/>\n",
              "    </g>\n",
              "</svg>\n",
              "  </button>\n",
              "\n",
              "<style>\n",
              "  .colab-df-quickchart {\n",
              "      --bg-color: #E8F0FE;\n",
              "      --fill-color: #1967D2;\n",
              "      --hover-bg-color: #E2EBFA;\n",
              "      --hover-fill-color: #174EA6;\n",
              "      --disabled-fill-color: #AAA;\n",
              "      --disabled-bg-color: #DDD;\n",
              "  }\n",
              "\n",
              "  [theme=dark] .colab-df-quickchart {\n",
              "      --bg-color: #3B4455;\n",
              "      --fill-color: #D2E3FC;\n",
              "      --hover-bg-color: #434B5C;\n",
              "      --hover-fill-color: #FFFFFF;\n",
              "      --disabled-bg-color: #3B4455;\n",
              "      --disabled-fill-color: #666;\n",
              "  }\n",
              "\n",
              "  .colab-df-quickchart {\n",
              "    background-color: var(--bg-color);\n",
              "    border: none;\n",
              "    border-radius: 50%;\n",
              "    cursor: pointer;\n",
              "    display: none;\n",
              "    fill: var(--fill-color);\n",
              "    height: 32px;\n",
              "    padding: 0;\n",
              "    width: 32px;\n",
              "  }\n",
              "\n",
              "  .colab-df-quickchart:hover {\n",
              "    background-color: var(--hover-bg-color);\n",
              "    box-shadow: 0 1px 2px rgba(60, 64, 67, 0.3), 0 1px 3px 1px rgba(60, 64, 67, 0.15);\n",
              "    fill: var(--button-hover-fill-color);\n",
              "  }\n",
              "\n",
              "  .colab-df-quickchart-complete:disabled,\n",
              "  .colab-df-quickchart-complete:disabled:hover {\n",
              "    background-color: var(--disabled-bg-color);\n",
              "    fill: var(--disabled-fill-color);\n",
              "    box-shadow: none;\n",
              "  }\n",
              "\n",
              "  .colab-df-spinner {\n",
              "    border: 2px solid var(--fill-color);\n",
              "    border-color: transparent;\n",
              "    border-bottom-color: var(--fill-color);\n",
              "    animation:\n",
              "      spin 1s steps(1) infinite;\n",
              "  }\n",
              "\n",
              "  @keyframes spin {\n",
              "    0% {\n",
              "      border-color: transparent;\n",
              "      border-bottom-color: var(--fill-color);\n",
              "      border-left-color: var(--fill-color);\n",
              "    }\n",
              "    20% {\n",
              "      border-color: transparent;\n",
              "      border-left-color: var(--fill-color);\n",
              "      border-top-color: var(--fill-color);\n",
              "    }\n",
              "    30% {\n",
              "      border-color: transparent;\n",
              "      border-left-color: var(--fill-color);\n",
              "      border-top-color: var(--fill-color);\n",
              "      border-right-color: var(--fill-color);\n",
              "    }\n",
              "    40% {\n",
              "      border-color: transparent;\n",
              "      border-right-color: var(--fill-color);\n",
              "      border-top-color: var(--fill-color);\n",
              "    }\n",
              "    60% {\n",
              "      border-color: transparent;\n",
              "      border-right-color: var(--fill-color);\n",
              "    }\n",
              "    80% {\n",
              "      border-color: transparent;\n",
              "      border-right-color: var(--fill-color);\n",
              "      border-bottom-color: var(--fill-color);\n",
              "    }\n",
              "    90% {\n",
              "      border-color: transparent;\n",
              "      border-bottom-color: var(--fill-color);\n",
              "    }\n",
              "  }\n",
              "</style>\n",
              "\n",
              "  <script>\n",
              "    async function quickchart(key) {\n",
              "      const quickchartButtonEl =\n",
              "        document.querySelector('#' + key + ' button');\n",
              "      quickchartButtonEl.disabled = true;  // To prevent multiple clicks.\n",
              "      quickchartButtonEl.classList.add('colab-df-spinner');\n",
              "      try {\n",
              "        const charts = await google.colab.kernel.invokeFunction(\n",
              "            'suggestCharts', [key], {});\n",
              "      } catch (error) {\n",
              "        console.error('Error during call to suggestCharts:', error);\n",
              "      }\n",
              "      quickchartButtonEl.classList.remove('colab-df-spinner');\n",
              "      quickchartButtonEl.classList.add('colab-df-quickchart-complete');\n",
              "    }\n",
              "    (() => {\n",
              "      let quickchartButtonEl =\n",
              "        document.querySelector('#df-f9943874-bf49-4e6d-9f1d-3f71a1ff32eb button');\n",
              "      quickchartButtonEl.style.display =\n",
              "        google.colab.kernel.accessAllowed ? 'block' : 'none';\n",
              "    })();\n",
              "  </script>\n",
              "</div>\n",
              "    </div>\n",
              "  </div>\n"
            ],
            "application/vnd.google.colaboratory.intrinsic+json": {
              "type": "dataframe",
              "summary": "{\n  \"name\": \"pd\",\n  \"rows\": 5,\n  \"fields\": [\n    {\n      \"column\": \"Actual\",\n      \"properties\": {\n        \"dtype\": \"number\",\n        \"std\": 0,\n        \"min\": 0,\n        \"max\": 1,\n        \"num_unique_values\": 2,\n        \"samples\": [\n          0,\n          1\n        ],\n        \"semantic_type\": \"\",\n        \"description\": \"\"\n      }\n    },\n    {\n      \"column\": \"Predicted\",\n      \"properties\": {\n        \"dtype\": \"number\",\n        \"std\": 0,\n        \"min\": 0,\n        \"max\": 1,\n        \"num_unique_values\": 2,\n        \"samples\": [\n          1,\n          0\n        ],\n        \"semantic_type\": \"\",\n        \"description\": \"\"\n      }\n    }\n  ]\n}"
            }
          },
          "metadata": {},
          "execution_count": 123
        }
      ]
    },
    {
      "cell_type": "code",
      "execution_count": 124,
      "metadata": {
        "colab": {
          "base_uri": "https://localhost:8080/"
        },
        "id": "NKt_nkXUHo3u",
        "outputId": "c88683e7-424e-4d9e-fe46-b93d82016d92"
      },
      "outputs": [
        {
          "output_type": "stream",
          "name": "stdout",
          "text": [
            "              precision    recall  f1-score   support\n",
            "\n",
            "           0       0.90      0.98      0.94       388\n",
            "           1       0.95      0.82      0.88       226\n",
            "\n",
            "    accuracy                           0.92       614\n",
            "   macro avg       0.93      0.90      0.91       614\n",
            "weighted avg       0.92      0.92      0.92       614\n",
            "\n"
          ]
        }
      ],
      "source": [
        "print(metrics.classification_report( y_test , y_pred ))"
      ]
    },
    {
      "cell_type": "code",
      "execution_count": 125,
      "metadata": {
        "colab": {
          "base_uri": "https://localhost:8080/",
          "height": 435
        },
        "id": "L40vRnFJHo3v",
        "outputId": "56f6f65f-11a3-49b6-8832-ead2445298fe"
      },
      "outputs": [
        {
          "output_type": "execute_result",
          "data": {
            "text/plain": [
              "Text(0.5, 1.0, 'Confusion Matrix for RF Classifier')"
            ]
          },
          "metadata": {},
          "execution_count": 125
        },
        {
          "output_type": "display_data",
          "data": {
            "text/plain": [
              "<Figure size 500x400 with 2 Axes>"
            ],
            "image/png": "[encoded data removed]"
          },
          "metadata": {}
        }
      ],
      "source": [
        "# Confusion Matrix\n",
        "\n",
        "cm = metrics.confusion_matrix(y_test , y_pred )\n",
        "plt.figure(figsize=(5, 4))\n",
        "sns.heatmap(cm, annot=True, fmt=\"d\", cmap=\"Blues\", annot_kws={\"fontsize\": 12})\n",
        "plt.xlabel('Predicted labels', fontsize=14)\n",
        "plt.ylabel('True labels', fontsize=14)\n",
        "plt.title('Confusion Matrix for RF Classifier', fontsize=16)\n",
        "# plt.savefig('c:\\\\DevAcademy\\\\Projects\\\\Week08_SupervisedLearning\\\\pictures\\\\RFC_matrix.jpg', dpi = 150)"
      ]
    },
    {
      "cell_type": "markdown",
      "metadata": {
        "id": "QhBguAw_Ho3v"
      },
      "source": [
        "As there are quite a few algorithms to cover hereafter, I opted for a shorter process and tested it with RF again before moving to the next ML algorithms. I tried with a PIPELINE which does both the Tf-Idf vectoriser and the ML algorithm in shorter lines of code as below. The pipeline is to be applied to the data right after Train/Test split."
      ]
    },
    {
      "cell_type": "code",
      "execution_count": 128,
      "metadata": {
        "id": "PzpjUon7Ho3v"
      },
      "outputs": [],
      "source": [
        "pipeline = Pipeline([\n",
        "  ( \"word_vectorizer\" , TfidfVectorizer(stop_words = 'english' )  ) ,\n",
        "  #\n",
        "  ( \"rfc\" , RandomForestClassifier( n_estimators =100 , random_state = 0)  )\n",
        "])"
      ]
    },
    {
      "cell_type": "code",
      "execution_count": 129,
      "metadata": {
        "colab": {
          "base_uri": "https://localhost:8080/",
          "height": 127
        },
        "id": "o0IH9xEAHo3w",
        "outputId": "57489fef-5bc7-4ca1-b967-b142298dbed6"
      },
      "outputs": [
        {
          "output_type": "execute_result",
          "data": {
            "text/plain": [
              "Pipeline(steps=[('word_vectorizer', TfidfVectorizer(stop_words='english')),\n",
              "                ('rfc', RandomForestClassifier(random_state=0))])"
            ],
            "text/html": [
              "<style>#sk-container-id-4 {color: black;background-color: white;}#sk-container-id-4 pre{padding: 0;}#sk-container-id-4 div.sk-toggleable {background-color: white;}#sk-container-id-4 label.sk-toggleable__label {cursor: pointer;display: block;width: 100%;margin-bottom: 0;padding: 0.3em;box-sizing: border-box;text-align: center;}#sk-container-id-4 label.sk-toggleable__label-arrow:before {content: \"▸\";float: left;margin-right: 0.25em;color: #696969;}#sk-container-id-4 label.sk-toggleable__label-arrow:hover:before {color: black;}#sk-container-id-4 div.sk-estimator:hover label.sk-toggleable__label-arrow:before {color: black;}#sk-container-id-4 div.sk-toggleable__content {max-height: 0;max-width: 0;overflow: hidden;text-align: left;background-color: #f0f8ff;}#sk-container-id-4 div.sk-toggleable__content pre {margin: 0.2em;color: black;border-radius: 0.25em;background-color: #f0f8ff;}#sk-container-id-4 input.sk-toggleable__control:checked~div.sk-toggleable__content {max-height: 200px;max-width: 100%;overflow: auto;}#sk-container-id-4 input.sk-toggleable__control:checked~label.sk-toggleable__label-arrow:before {content: \"▾\";}#sk-container-id-4 div.sk-estimator input.sk-toggleable__control:checked~label.sk-toggleable__label {background-color: #d4ebff;}#sk-container-id-4 div.sk-label input.sk-toggleable__control:checked~label.sk-toggleable__label {background-color: #d4ebff;}#sk-container-id-4 input.sk-hidden--visually {border: 0;clip: rect(1px 1px 1px 1px);clip: rect(1px, 1px, 1px, 1px);height: 1px;margin: -1px;overflow: hidden;padding: 0;position: absolute;width: 1px;}#sk-container-id-4 div.sk-estimator {font-family: monospace;background-color: #f0f8ff;border: 1px dotted black;border-radius: 0.25em;box-sizing: border-box;margin-bottom: 0.5em;}#sk-container-id-4 div.sk-estimator:hover {background-color: #d4ebff;}#sk-container-id-4 div.sk-parallel-item::after {content: \"\";width: 100%;border-bottom: 1px solid gray;flex-grow: 1;}#sk-container-id-4 div.sk-label:hover label.sk-toggleable__label {background-color: #d4ebff;}#sk-container-id-4 div.sk-serial::before {content: \"\";position: absolute;border-left: 1px solid gray;box-sizing: border-box;top: 0;bottom: 0;left: 50%;z-index: 0;}#sk-container-id-4 div.sk-serial {display: flex;flex-direction: column;align-items: center;background-color: white;padding-right: 0.2em;padding-left: 0.2em;position: relative;}#sk-container-id-4 div.sk-item {position: relative;z-index: 1;}#sk-container-id-4 div.sk-parallel {display: flex;align-items: stretch;justify-content: center;background-color: white;position: relative;}#sk-container-id-4 div.sk-item::before, #sk-container-id-4 div.sk-parallel-item::before {content: \"\";position: absolute;border-left: 1px solid gray;box-sizing: border-box;top: 0;bottom: 0;left: 50%;z-index: -1;}#sk-container-id-4 div.sk-parallel-item {display: flex;flex-direction: column;z-index: 1;position: relative;background-color: white;}#sk-container-id-4 div.sk-parallel-item:first-child::after {align-self: flex-end;width: 50%;}#sk-container-id-4 div.sk-parallel-item:last-child::after {align-self: flex-start;width: 50%;}#sk-container-id-4 div.sk-parallel-item:only-child::after {width: 0;}#sk-container-id-4 div.sk-dashed-wrapped {border: 1px dashed gray;margin: 0 0.4em 0.5em 0.4em;box-sizing: border-box;padding-bottom: 0.4em;background-color: white;}#sk-container-id-4 div.sk-label label {font-family: monospace;font-weight: bold;display: inline-block;line-height: 1.2em;}#sk-container-id-4 div.sk-label-container {text-align: center;}#sk-container-id-4 div.sk-container {/* jupyter's `normalize.less` sets `[hidden] { display: none; }` but bootstrap.min.css set `[hidden] { display: none !important; }` so we also need the `!important` here to be able to override the default hidden behavior on the sphinx rendered scikit-learn.org. See: https://github.com/scikit-learn/scikit-learn/issues/21755 */display: inline-block !important;position: relative;}#sk-container-id-4 div.sk-text-repr-fallback {display: none;}</style><div id=\"sk-container-id-4\" class=\"sk-top-container\"><div class=\"sk-text-repr-fallback\"><pre>Pipeline(steps=[(&#x27;word_vectorizer&#x27;, TfidfVectorizer(stop_words=&#x27;english&#x27;)),\n",
              "                (&#x27;rfc&#x27;, RandomForestClassifier(random_state=0))])</pre><b>In a Jupyter environment, please rerun this cell to show the HTML representation or trust the notebook. <br />On GitHub, the HTML representation is unable to render, please try loading this page with nbviewer.org.</b></div><div class=\"sk-container\" hidden><div class=\"sk-item sk-dashed-wrapped\"><div class=\"sk-label-container\"><div class=\"sk-label sk-toggleable\"><input class=\"sk-toggleable__control sk-hidden--visually\" id=\"sk-estimator-id-6\" type=\"checkbox\" ><label for=\"sk-estimator-id-6\" class=\"sk-toggleable__label sk-toggleable__label-arrow\">Pipeline</label><div class=\"sk-toggleable__content\"><pre>Pipeline(steps=[(&#x27;word_vectorizer&#x27;, TfidfVectorizer(stop_words=&#x27;english&#x27;)),\n",
              "                (&#x27;rfc&#x27;, RandomForestClassifier(random_state=0))])</pre></div></div></div><div class=\"sk-serial\"><div class=\"sk-item\"><div class=\"sk-estimator sk-toggleable\"><input class=\"sk-toggleable__control sk-hidden--visually\" id=\"sk-estimator-id-7\" type=\"checkbox\" ><label for=\"sk-estimator-id-7\" class=\"sk-toggleable__label sk-toggleable__label-arrow\">TfidfVectorizer</label><div class=\"sk-toggleable__content\"><pre>TfidfVectorizer(stop_words=&#x27;english&#x27;)</pre></div></div></div><div class=\"sk-item\"><div class=\"sk-estimator sk-toggleable\"><input class=\"sk-toggleable__control sk-hidden--visually\" id=\"sk-estimator-id-8\" type=\"checkbox\" ><label for=\"sk-estimator-id-8\" class=\"sk-toggleable__label sk-toggleable__label-arrow\">RandomForestClassifier</label><div class=\"sk-toggleable__content\"><pre>RandomForestClassifier(random_state=0)</pre></div></div></div></div></div></div></div>"
            ]
          },
          "metadata": {},
          "execution_count": 129
        }
      ],
      "source": [
        "pipeline.fit( X_train , y_train)"
      ]
    },
    {
      "cell_type": "code",
      "execution_count": 130,
      "metadata": {
        "id": "28y6vLgyHo3w"
      },
      "outputs": [],
      "source": [
        "y_pred  = pipeline.predict(X_test )\n",
        "RFscore_pipeline = metrics.accuracy_score(y_test, y_pred)"
      ]
    },
    {
      "cell_type": "code",
      "execution_count": 117,
      "metadata": {
        "colab": {
          "base_uri": "https://localhost:8080/"
        },
        "id": "gugdV2Q_Ho3w",
        "outputId": "ab13f2e8-8a35-4193-9618-cef12717ce59"
      },
      "outputs": [
        {
          "output_type": "stream",
          "name": "stdout",
          "text": [
            "The accuracy is : 92.0 %\n",
            "\n",
            "              precision    recall  f1-score   support\n",
            "\n",
            "           0       0.90      0.98      0.94       388\n",
            "           1       0.95      0.82      0.88       226\n",
            "\n",
            "    accuracy                           0.92       614\n",
            "   macro avg       0.93      0.90      0.91       614\n",
            "weighted avg       0.92      0.92      0.92       614\n",
            "\n"
          ]
        }
      ],
      "source": [
        "print(\"The accuracy is :\", RFscore_pipeline.round(2)*100 , \"%\\n\")\n",
        "print(metrics.classification_report( y_test , y_pred ))"
      ]
    },
    {
      "cell_type": "code",
      "execution_count": 132,
      "metadata": {
        "colab": {
          "base_uri": "https://localhost:8080/",
          "height": 435
        },
        "id": "fpydYaukHo3x",
        "outputId": "7a919828-572c-4e85-83f9-017177ddc1e9"
      },
      "outputs": [
        {
          "output_type": "execute_result",
          "data": {
            "text/plain": [
              "Text(0.5, 1.0, 'Confusion Matrix for RF using pipeline')"
            ]
          },
          "metadata": {},
          "execution_count": 132
        },
        {
          "output_type": "display_data",
          "data": {
            "text/plain": [
              "<Figure size 500x400 with 2 Axes>"
            ],
            "image/png": "[encoded data removed]"
          },
          "metadata": {}
        }
      ],
      "source": [
        "# Confusion Matrix with Pipeline RF\n",
        "cm = metrics.confusion_matrix(y_test , y_pred )\n",
        "plt.figure(figsize=(5, 4))\n",
        "sns.heatmap(cm, annot=True, fmt=\"d\", cmap=\"Blues\", annot_kws={\"fontsize\": 12})\n",
        "plt.xlabel('Predicted labels', fontsize=14)\n",
        "plt.ylabel('True labels', fontsize=14)\n",
        "plt.title('Confusion Matrix for RF using pipeline', fontsize=16)\n",
        "\n",
        "\n",
        "# The results should be the same as when I fitted the algo without the pipeline, which it is :) !"
      ]
    },
    {
      "cell_type": "markdown",
      "metadata": {
        "id": "Mp7SKxrbHo3x"
      },
      "source": [
        "### 3) USING LOGISTIC REGRESSION"
      ]
    },
    {
      "cell_type": "code",
      "execution_count": 133,
      "metadata": {
        "id": "NISk4szMHo3x"
      },
      "outputs": [],
      "source": [
        "pipeline = Pipeline([\n",
        "  ( \"word_vectorizer\" , TfidfVectorizer(stop_words = 'english' )  ) ,\n",
        "  #\n",
        "  ( \"logreg\" , LogisticRegression()  )\n",
        "])"
      ]
    },
    {
      "cell_type": "code",
      "execution_count": 134,
      "metadata": {
        "colab": {
          "base_uri": "https://localhost:8080/",
          "height": 127
        },
        "id": "2nxJidTEHo3y",
        "outputId": "76693e9c-254f-4230-acdc-148a32876e11"
      },
      "outputs": [
        {
          "output_type": "execute_result",
          "data": {
            "text/plain": [
              "Pipeline(steps=[('word_vectorizer', TfidfVectorizer(stop_words='english')),\n",
              "                ('logreg', LogisticRegression())])"
            ],
            "text/html": [
              "<style>#sk-container-id-5 {color: black;background-color: white;}#sk-container-id-5 pre{padding: 0;}#sk-container-id-5 div.sk-toggleable {background-color: white;}#sk-container-id-5 label.sk-toggleable__label {cursor: pointer;display: block;width: 100%;margin-bottom: 0;padding: 0.3em;box-sizing: border-box;text-align: center;}#sk-container-id-5 label.sk-toggleable__label-arrow:before {content: \"▸\";float: left;margin-right: 0.25em;color: #696969;}#sk-container-id-5 label.sk-toggleable__label-arrow:hover:before {color: black;}#sk-container-id-5 div.sk-estimator:hover label.sk-toggleable__label-arrow:before {color: black;}#sk-container-id-5 div.sk-toggleable__content {max-height: 0;max-width: 0;overflow: hidden;text-align: left;background-color: #f0f8ff;}#sk-container-id-5 div.sk-toggleable__content pre {margin: 0.2em;color: black;border-radius: 0.25em;background-color: #f0f8ff;}#sk-container-id-5 input.sk-toggleable__control:checked~div.sk-toggleable__content {max-height: 200px;max-width: 100%;overflow: auto;}#sk-container-id-5 input.sk-toggleable__control:checked~label.sk-toggleable__label-arrow:before {content: \"▾\";}#sk-container-id-5 div.sk-estimator input.sk-toggleable__control:checked~label.sk-toggleable__label {background-color: #d4ebff;}#sk-container-id-5 div.sk-label input.sk-toggleable__control:checked~label.sk-toggleable__label {background-color: #d4ebff;}#sk-container-id-5 input.sk-hidden--visually {border: 0;clip: rect(1px 1px 1px 1px);clip: rect(1px, 1px, 1px, 1px);height: 1px;margin: -1px;overflow: hidden;padding: 0;position: absolute;width: 1px;}#sk-container-id-5 div.sk-estimator {font-family: monospace;background-color: #f0f8ff;border: 1px dotted black;border-radius: 0.25em;box-sizing: border-box;margin-bottom: 0.5em;}#sk-container-id-5 div.sk-estimator:hover {background-color: #d4ebff;}#sk-container-id-5 div.sk-parallel-item::after {content: \"\";width: 100%;border-bottom: 1px solid gray;flex-grow: 1;}#sk-container-id-5 div.sk-label:hover label.sk-toggleable__label {background-color: #d4ebff;}#sk-container-id-5 div.sk-serial::before {content: \"\";position: absolute;border-left: 1px solid gray;box-sizing: border-box;top: 0;bottom: 0;left: 50%;z-index: 0;}#sk-container-id-5 div.sk-serial {display: flex;flex-direction: column;align-items: center;background-color: white;padding-right: 0.2em;padding-left: 0.2em;position: relative;}#sk-container-id-5 div.sk-item {position: relative;z-index: 1;}#sk-container-id-5 div.sk-parallel {display: flex;align-items: stretch;justify-content: center;background-color: white;position: relative;}#sk-container-id-5 div.sk-item::before, #sk-container-id-5 div.sk-parallel-item::before {content: \"\";position: absolute;border-left: 1px solid gray;box-sizing: border-box;top: 0;bottom: 0;left: 50%;z-index: -1;}#sk-container-id-5 div.sk-parallel-item {display: flex;flex-direction: column;z-index: 1;position: relative;background-color: white;}#sk-container-id-5 div.sk-parallel-item:first-child::after {align-self: flex-end;width: 50%;}#sk-container-id-5 div.sk-parallel-item:last-child::after {align-self: flex-start;width: 50%;}#sk-container-id-5 div.sk-parallel-item:only-child::after {width: 0;}#sk-container-id-5 div.sk-dashed-wrapped {border: 1px dashed gray;margin: 0 0.4em 0.5em 0.4em;box-sizing: border-box;padding-bottom: 0.4em;background-color: white;}#sk-container-id-5 div.sk-label label {font-family: monospace;font-weight: bold;display: inline-block;line-height: 1.2em;}#sk-container-id-5 div.sk-label-container {text-align: center;}#sk-container-id-5 div.sk-container {/* jupyter's `normalize.less` sets `[hidden] { display: none; }` but bootstrap.min.css set `[hidden] { display: none !important; }` so we also need the `!important` here to be able to override the default hidden behavior on the sphinx rendered scikit-learn.org. See: https://github.com/scikit-learn/scikit-learn/issues/21755 */display: inline-block !important;position: relative;}#sk-container-id-5 div.sk-text-repr-fallback {display: none;}</style><div id=\"sk-container-id-5\" class=\"sk-top-container\"><div class=\"sk-text-repr-fallback\"><pre>Pipeline(steps=[(&#x27;word_vectorizer&#x27;, TfidfVectorizer(stop_words=&#x27;english&#x27;)),\n",
              "                (&#x27;logreg&#x27;, LogisticRegression())])</pre><b>In a Jupyter environment, please rerun this cell to show the HTML representation or trust the notebook. <br />On GitHub, the HTML representation is unable to render, please try loading this page with nbviewer.org.</b></div><div class=\"sk-container\" hidden><div class=\"sk-item sk-dashed-wrapped\"><div class=\"sk-label-container\"><div class=\"sk-label sk-toggleable\"><input class=\"sk-toggleable__control sk-hidden--visually\" id=\"sk-estimator-id-9\" type=\"checkbox\" ><label for=\"sk-estimator-id-9\" class=\"sk-toggleable__label sk-toggleable__label-arrow\">Pipeline</label><div class=\"sk-toggleable__content\"><pre>Pipeline(steps=[(&#x27;word_vectorizer&#x27;, TfidfVectorizer(stop_words=&#x27;english&#x27;)),\n",
              "                (&#x27;logreg&#x27;, LogisticRegression())])</pre></div></div></div><div class=\"sk-serial\"><div class=\"sk-item\"><div class=\"sk-estimator sk-toggleable\"><input class=\"sk-toggleable__control sk-hidden--visually\" id=\"sk-estimator-id-10\" type=\"checkbox\" ><label for=\"sk-estimator-id-10\" class=\"sk-toggleable__label sk-toggleable__label-arrow\">TfidfVectorizer</label><div class=\"sk-toggleable__content\"><pre>TfidfVectorizer(stop_words=&#x27;english&#x27;)</pre></div></div></div><div class=\"sk-item\"><div class=\"sk-estimator sk-toggleable\"><input class=\"sk-toggleable__control sk-hidden--visually\" id=\"sk-estimator-id-11\" type=\"checkbox\" ><label for=\"sk-estimator-id-11\" class=\"sk-toggleable__label sk-toggleable__label-arrow\">LogisticRegression</label><div class=\"sk-toggleable__content\"><pre>LogisticRegression()</pre></div></div></div></div></div></div></div>"
            ]
          },
          "metadata": {},
          "execution_count": 134
        }
      ],
      "source": [
        "pipeline.fit( X_train     , y_train)"
      ]
    },
    {
      "cell_type": "code",
      "execution_count": 135,
      "metadata": {
        "id": "YRCU3w9xHo3y"
      },
      "outputs": [],
      "source": [
        "y_pred  = pipeline.predict(X_test )\n",
        "LRscore_pipeline = metrics.accuracy_score(y_test, y_pred)"
      ]
    },
    {
      "cell_type": "code",
      "execution_count": 136,
      "metadata": {
        "colab": {
          "base_uri": "https://localhost:8080/"
        },
        "id": "XqPGoCIoHo3z",
        "outputId": "b3082e77-c6c8-432a-ae47-9f5397c839e4"
      },
      "outputs": [
        {
          "output_type": "stream",
          "name": "stdout",
          "text": [
            "The accuracy is:  77.0 %\n",
            "\n",
            "              precision    recall  f1-score   support\n",
            "\n",
            "           0       0.74      0.97      0.84       388\n",
            "           1       0.88      0.42      0.57       226\n",
            "\n",
            "    accuracy                           0.77       614\n",
            "   macro avg       0.81      0.69      0.70       614\n",
            "weighted avg       0.79      0.77      0.74       614\n",
            "\n"
          ]
        }
      ],
      "source": [
        "print(\"The accuracy is: \", LRscore_pipeline.round(2)*100 , \"%\\n\")\n",
        "print(metrics.classification_report( y_test , y_pred ))"
      ]
    },
    {
      "cell_type": "markdown",
      "metadata": {
        "id": "xRo5X3FBHo30"
      },
      "source": [
        " Confusion Matrix with Pipeline LR"
      ]
    },
    {
      "cell_type": "code",
      "execution_count": 138,
      "metadata": {
        "colab": {
          "base_uri": "https://localhost:8080/",
          "height": 435
        },
        "id": "s8v0jUDWHo30",
        "outputId": "c0072048-160d-4230-a856-3769d84a722a"
      },
      "outputs": [
        {
          "output_type": "execute_result",
          "data": {
            "text/plain": [
              "Text(0.5, 1.0, 'Confusion Matrix for Logistic Regression')"
            ]
          },
          "metadata": {},
          "execution_count": 138
        },
        {
          "output_type": "display_data",
          "data": {
            "text/plain": [
              "<Figure size 500x400 with 2 Axes>"
            ],
            "image/png": "[encoded data removed]"
          },
          "metadata": {}
        }
      ],
      "source": [
        "# Confusion Matrix with Pipeline LR\n",
        "\n",
        "cm = metrics.confusion_matrix(y_test , y_pred )\n",
        "plt.figure(figsize=(5, 4))\n",
        "sns.heatmap(cm, annot=True, fmt=\"d\", cmap=\"Blues\", annot_kws={\"fontsize\": 12})\n",
        "plt.xlabel('Predicted labels', fontsize=14)\n",
        "plt.ylabel('True labels', fontsize=14)\n",
        "plt.title('Confusion Matrix for Logistic Regression', fontsize=16)"
      ]
    },
    {
      "cell_type": "markdown",
      "metadata": {
        "id": "hAOLr8bsHo32"
      },
      "source": [
        "###  3) DECISION TREE"
      ]
    },
    {
      "cell_type": "code",
      "execution_count": 139,
      "metadata": {
        "id": "VYV87-t8Ho32"
      },
      "outputs": [],
      "source": [
        "pipeline = Pipeline([\n",
        "  ( \"word_vectorizer\" , TfidfVectorizer(stop_words = 'english' )  ) ,\n",
        "  #\n",
        "  ( \"dectree\"         , DecisionTreeClassifier()  )\n",
        "])"
      ]
    },
    {
      "cell_type": "code",
      "execution_count": 140,
      "metadata": {
        "colab": {
          "base_uri": "https://localhost:8080/",
          "height": 127
        },
        "id": "hCLTvPlEHo32",
        "outputId": "231df817-42ff-4858-fe1c-88d7d9028f4d"
      },
      "outputs": [
        {
          "output_type": "execute_result",
          "data": {
            "text/plain": [
              "Pipeline(steps=[('word_vectorizer', TfidfVectorizer(stop_words='english')),\n",
              "                ('dectree', DecisionTreeClassifier())])"
            ],
            "text/html": [
              "<style>#sk-container-id-6 {color: black;background-color: white;}#sk-container-id-6 pre{padding: 0;}#sk-container-id-6 div.sk-toggleable {background-color: white;}#sk-container-id-6 label.sk-toggleable__label {cursor: pointer;display: block;width: 100%;margin-bottom: 0;padding: 0.3em;box-sizing: border-box;text-align: center;}#sk-container-id-6 label.sk-toggleable__label-arrow:before {content: \"▸\";float: left;margin-right: 0.25em;color: #696969;}#sk-container-id-6 label.sk-toggleable__label-arrow:hover:before {color: black;}#sk-container-id-6 div.sk-estimator:hover label.sk-toggleable__label-arrow:before {color: black;}#sk-container-id-6 div.sk-toggleable__content {max-height: 0;max-width: 0;overflow: hidden;text-align: left;background-color: #f0f8ff;}#sk-container-id-6 div.sk-toggleable__content pre {margin: 0.2em;color: black;border-radius: 0.25em;background-color: #f0f8ff;}#sk-container-id-6 input.sk-toggleable__control:checked~div.sk-toggleable__content {max-height: 200px;max-width: 100%;overflow: auto;}#sk-container-id-6 input.sk-toggleable__control:checked~label.sk-toggleable__label-arrow:before {content: \"▾\";}#sk-container-id-6 div.sk-estimator input.sk-toggleable__control:checked~label.sk-toggleable__label {background-color: #d4ebff;}#sk-container-id-6 div.sk-label input.sk-toggleable__control:checked~label.sk-toggleable__label {background-color: #d4ebff;}#sk-container-id-6 input.sk-hidden--visually {border: 0;clip: rect(1px 1px 1px 1px);clip: rect(1px, 1px, 1px, 1px);height: 1px;margin: -1px;overflow: hidden;padding: 0;position: absolute;width: 1px;}#sk-container-id-6 div.sk-estimator {font-family: monospace;background-color: #f0f8ff;border: 1px dotted black;border-radius: 0.25em;box-sizing: border-box;margin-bottom: 0.5em;}#sk-container-id-6 div.sk-estimator:hover {background-color: #d4ebff;}#sk-container-id-6 div.sk-parallel-item::after {content: \"\";width: 100%;border-bottom: 1px solid gray;flex-grow: 1;}#sk-container-id-6 div.sk-label:hover label.sk-toggleable__label {background-color: #d4ebff;}#sk-container-id-6 div.sk-serial::before {content: \"\";position: absolute;border-left: 1px solid gray;box-sizing: border-box;top: 0;bottom: 0;left: 50%;z-index: 0;}#sk-container-id-6 div.sk-serial {display: flex;flex-direction: column;align-items: center;background-color: white;padding-right: 0.2em;padding-left: 0.2em;position: relative;}#sk-container-id-6 div.sk-item {position: relative;z-index: 1;}#sk-container-id-6 div.sk-parallel {display: flex;align-items: stretch;justify-content: center;background-color: white;position: relative;}#sk-container-id-6 div.sk-item::before, #sk-container-id-6 div.sk-parallel-item::before {content: \"\";position: absolute;border-left: 1px solid gray;box-sizing: border-box;top: 0;bottom: 0;left: 50%;z-index: -1;}#sk-container-id-6 div.sk-parallel-item {display: flex;flex-direction: column;z-index: 1;position: relative;background-color: white;}#sk-container-id-6 div.sk-parallel-item:first-child::after {align-self: flex-end;width: 50%;}#sk-container-id-6 div.sk-parallel-item:last-child::after {align-self: flex-start;width: 50%;}#sk-container-id-6 div.sk-parallel-item:only-child::after {width: 0;}#sk-container-id-6 div.sk-dashed-wrapped {border: 1px dashed gray;margin: 0 0.4em 0.5em 0.4em;box-sizing: border-box;padding-bottom: 0.4em;background-color: white;}#sk-container-id-6 div.sk-label label {font-family: monospace;font-weight: bold;display: inline-block;line-height: 1.2em;}#sk-container-id-6 div.sk-label-container {text-align: center;}#sk-container-id-6 div.sk-container {/* jupyter's `normalize.less` sets `[hidden] { display: none; }` but bootstrap.min.css set `[hidden] { display: none !important; }` so we also need the `!important` here to be able to override the default hidden behavior on the sphinx rendered scikit-learn.org. See: https://github.com/scikit-learn/scikit-learn/issues/21755 */display: inline-block !important;position: relative;}#sk-container-id-6 div.sk-text-repr-fallback {display: none;}</style><div id=\"sk-container-id-6\" class=\"sk-top-container\"><div class=\"sk-text-repr-fallback\"><pre>Pipeline(steps=[(&#x27;word_vectorizer&#x27;, TfidfVectorizer(stop_words=&#x27;english&#x27;)),\n",
              "                (&#x27;dectree&#x27;, DecisionTreeClassifier())])</pre><b>In a Jupyter environment, please rerun this cell to show the HTML representation or trust the notebook. <br />On GitHub, the HTML representation is unable to render, please try loading this page with nbviewer.org.</b></div><div class=\"sk-container\" hidden><div class=\"sk-item sk-dashed-wrapped\"><div class=\"sk-label-container\"><div class=\"sk-label sk-toggleable\"><input class=\"sk-toggleable__control sk-hidden--visually\" id=\"sk-estimator-id-12\" type=\"checkbox\" ><label for=\"sk-estimator-id-12\" class=\"sk-toggleable__label sk-toggleable__label-arrow\">Pipeline</label><div class=\"sk-toggleable__content\"><pre>Pipeline(steps=[(&#x27;word_vectorizer&#x27;, TfidfVectorizer(stop_words=&#x27;english&#x27;)),\n",
              "                (&#x27;dectree&#x27;, DecisionTreeClassifier())])</pre></div></div></div><div class=\"sk-serial\"><div class=\"sk-item\"><div class=\"sk-estimator sk-toggleable\"><input class=\"sk-toggleable__control sk-hidden--visually\" id=\"sk-estimator-id-13\" type=\"checkbox\" ><label for=\"sk-estimator-id-13\" class=\"sk-toggleable__label sk-toggleable__label-arrow\">TfidfVectorizer</label><div class=\"sk-toggleable__content\"><pre>TfidfVectorizer(stop_words=&#x27;english&#x27;)</pre></div></div></div><div class=\"sk-item\"><div class=\"sk-estimator sk-toggleable\"><input class=\"sk-toggleable__control sk-hidden--visually\" id=\"sk-estimator-id-14\" type=\"checkbox\" ><label for=\"sk-estimator-id-14\" class=\"sk-toggleable__label sk-toggleable__label-arrow\">DecisionTreeClassifier</label><div class=\"sk-toggleable__content\"><pre>DecisionTreeClassifier()</pre></div></div></div></div></div></div></div>"
            ]
          },
          "metadata": {},
          "execution_count": 140
        }
      ],
      "source": [
        "pipeline.fit( X_train     , y_train)"
      ]
    },
    {
      "cell_type": "code",
      "execution_count": 141,
      "metadata": {
        "id": "KGh6xkxDHo33"
      },
      "outputs": [],
      "source": [
        "y_pred  = pipeline.predict(X_test )\n",
        "DTscore_pipeline = metrics.accuracy_score(y_test, y_pred)"
      ]
    },
    {
      "cell_type": "code",
      "execution_count": 142,
      "metadata": {
        "colab": {
          "base_uri": "https://localhost:8080/"
        },
        "id": "WDsbBnttHo33",
        "outputId": "fe304d0a-e910-4d4c-cbc3-6b4ce7030bd2"
      },
      "outputs": [
        {
          "output_type": "stream",
          "name": "stdout",
          "text": [
            "The accuracy is:  100.0 %\n",
            "\n",
            "              precision    recall  f1-score   support\n",
            "\n",
            "           0       1.00      0.99      1.00       388\n",
            "           1       0.99      1.00      1.00       226\n",
            "\n",
            "    accuracy                           1.00       614\n",
            "   macro avg       1.00      1.00      1.00       614\n",
            "weighted avg       1.00      1.00      1.00       614\n",
            "\n"
          ]
        }
      ],
      "source": [
        "print(\"The accuracy is: \", DTscore_pipeline.round(2)*100 , \"%\\n\" )\n",
        "print(metrics.classification_report( y_test , y_pred ))"
      ]
    },
    {
      "cell_type": "code",
      "execution_count": 143,
      "metadata": {
        "colab": {
          "base_uri": "https://localhost:8080/",
          "height": 435
        },
        "id": "ajmWalICHo34",
        "outputId": "1d48dab6-6d19-49f7-fb92-aada0a25dc0d"
      },
      "outputs": [
        {
          "output_type": "execute_result",
          "data": {
            "text/plain": [
              "Text(0.5, 1.0, 'Confusion Matrix for Decision Tree')"
            ]
          },
          "metadata": {},
          "execution_count": 143
        },
        {
          "output_type": "display_data",
          "data": {
            "text/plain": [
              "<Figure size 500x400 with 2 Axes>"
            ],
            "image/png": "[encoded data removed]"
          },
          "metadata": {}
        }
      ],
      "source": [
        "# Confusion Matrix with Pipeline DT\n",
        "cm = metrics.confusion_matrix(y_test , y_pred )\n",
        "plt.figure(figsize=(5, 4))\n",
        "sns.heatmap(cm, annot=True, fmt=\"d\", cmap=\"Blues\", annot_kws={\"fontsize\": 12})\n",
        "plt.xlabel('Predicted labels', fontsize=14)\n",
        "plt.ylabel('True labels', fontsize=14)\n",
        "plt.title('Confusion Matrix for Decision Tree', fontsize=16)\n"
      ]
    },
    {
      "cell_type": "markdown",
      "metadata": {
        "id": "zWRIrFrBHo35"
      },
      "source": [
        "  ### 4) NAIVE BAYES"
      ]
    },
    {
      "cell_type": "code",
      "execution_count": 144,
      "metadata": {
        "id": "SLITq5QsHo35"
      },
      "outputs": [],
      "source": [
        "pipeline = Pipeline([\n",
        "  ( \"word_vectorizer\" , TfidfVectorizer(stop_words = 'english' )  ) ,\n",
        "  #\n",
        "  ( \"naivebayes\"      , MultinomialNB()  )\n",
        "])"
      ]
    },
    {
      "cell_type": "code",
      "execution_count": 145,
      "metadata": {
        "colab": {
          "base_uri": "https://localhost:8080/",
          "height": 127
        },
        "id": "ebWI4qvnHo35",
        "outputId": "869401fb-d6ba-4d5b-c407-aa6d55e0ad79"
      },
      "outputs": [
        {
          "output_type": "execute_result",
          "data": {
            "text/plain": [
              "Pipeline(steps=[('word_vectorizer', TfidfVectorizer(stop_words='english')),\n",
              "                ('naivebayes', MultinomialNB())])"
            ],
            "text/html": [
              "<style>#sk-container-id-7 {color: black;background-color: white;}#sk-container-id-7 pre{padding: 0;}#sk-container-id-7 div.sk-toggleable {background-color: white;}#sk-container-id-7 label.sk-toggleable__label {cursor: pointer;display: block;width: 100%;margin-bottom: 0;padding: 0.3em;box-sizing: border-box;text-align: center;}#sk-container-id-7 label.sk-toggleable__label-arrow:before {content: \"▸\";float: left;margin-right: 0.25em;color: #696969;}#sk-container-id-7 label.sk-toggleable__label-arrow:hover:before {color: black;}#sk-container-id-7 div.sk-estimator:hover label.sk-toggleable__label-arrow:before {color: black;}#sk-container-id-7 div.sk-toggleable__content {max-height: 0;max-width: 0;overflow: hidden;text-align: left;background-color: #f0f8ff;}#sk-container-id-7 div.sk-toggleable__content pre {margin: 0.2em;color: black;border-radius: 0.25em;background-color: #f0f8ff;}#sk-container-id-7 input.sk-toggleable__control:checked~div.sk-toggleable__content {max-height: 200px;max-width: 100%;overflow: auto;}#sk-container-id-7 input.sk-toggleable__control:checked~label.sk-toggleable__label-arrow:before {content: \"▾\";}#sk-container-id-7 div.sk-estimator input.sk-toggleable__control:checked~label.sk-toggleable__label {background-color: #d4ebff;}#sk-container-id-7 div.sk-label input.sk-toggleable__control:checked~label.sk-toggleable__label {background-color: #d4ebff;}#sk-container-id-7 input.sk-hidden--visually {border: 0;clip: rect(1px 1px 1px 1px);clip: rect(1px, 1px, 1px, 1px);height: 1px;margin: -1px;overflow: hidden;padding: 0;position: absolute;width: 1px;}#sk-container-id-7 div.sk-estimator {font-family: monospace;background-color: #f0f8ff;border: 1px dotted black;border-radius: 0.25em;box-sizing: border-box;margin-bottom: 0.5em;}#sk-container-id-7 div.sk-estimator:hover {background-color: #d4ebff;}#sk-container-id-7 div.sk-parallel-item::after {content: \"\";width: 100%;border-bottom: 1px solid gray;flex-grow: 1;}#sk-container-id-7 div.sk-label:hover label.sk-toggleable__label {background-color: #d4ebff;}#sk-container-id-7 div.sk-serial::before {content: \"\";position: absolute;border-left: 1px solid gray;box-sizing: border-box;top: 0;bottom: 0;left: 50%;z-index: 0;}#sk-container-id-7 div.sk-serial {display: flex;flex-direction: column;align-items: center;background-color: white;padding-right: 0.2em;padding-left: 0.2em;position: relative;}#sk-container-id-7 div.sk-item {position: relative;z-index: 1;}#sk-container-id-7 div.sk-parallel {display: flex;align-items: stretch;justify-content: center;background-color: white;position: relative;}#sk-container-id-7 div.sk-item::before, #sk-container-id-7 div.sk-parallel-item::before {content: \"\";position: absolute;border-left: 1px solid gray;box-sizing: border-box;top: 0;bottom: 0;left: 50%;z-index: -1;}#sk-container-id-7 div.sk-parallel-item {display: flex;flex-direction: column;z-index: 1;position: relative;background-color: white;}#sk-container-id-7 div.sk-parallel-item:first-child::after {align-self: flex-end;width: 50%;}#sk-container-id-7 div.sk-parallel-item:last-child::after {align-self: flex-start;width: 50%;}#sk-container-id-7 div.sk-parallel-item:only-child::after {width: 0;}#sk-container-id-7 div.sk-dashed-wrapped {border: 1px dashed gray;margin: 0 0.4em 0.5em 0.4em;box-sizing: border-box;padding-bottom: 0.4em;background-color: white;}#sk-container-id-7 div.sk-label label {font-family: monospace;font-weight: bold;display: inline-block;line-height: 1.2em;}#sk-container-id-7 div.sk-label-container {text-align: center;}#sk-container-id-7 div.sk-container {/* jupyter's `normalize.less` sets `[hidden] { display: none; }` but bootstrap.min.css set `[hidden] { display: none !important; }` so we also need the `!important` here to be able to override the default hidden behavior on the sphinx rendered scikit-learn.org. See: https://github.com/scikit-learn/scikit-learn/issues/21755 */display: inline-block !important;position: relative;}#sk-container-id-7 div.sk-text-repr-fallback {display: none;}</style><div id=\"sk-container-id-7\" class=\"sk-top-container\"><div class=\"sk-text-repr-fallback\"><pre>Pipeline(steps=[(&#x27;word_vectorizer&#x27;, TfidfVectorizer(stop_words=&#x27;english&#x27;)),\n",
              "                (&#x27;naivebayes&#x27;, MultinomialNB())])</pre><b>In a Jupyter environment, please rerun this cell to show the HTML representation or trust the notebook. <br />On GitHub, the HTML representation is unable to render, please try loading this page with nbviewer.org.</b></div><div class=\"sk-container\" hidden><div class=\"sk-item sk-dashed-wrapped\"><div class=\"sk-label-container\"><div class=\"sk-label sk-toggleable\"><input class=\"sk-toggleable__control sk-hidden--visually\" id=\"sk-estimator-id-15\" type=\"checkbox\" ><label for=\"sk-estimator-id-15\" class=\"sk-toggleable__label sk-toggleable__label-arrow\">Pipeline</label><div class=\"sk-toggleable__content\"><pre>Pipeline(steps=[(&#x27;word_vectorizer&#x27;, TfidfVectorizer(stop_words=&#x27;english&#x27;)),\n",
              "                (&#x27;naivebayes&#x27;, MultinomialNB())])</pre></div></div></div><div class=\"sk-serial\"><div class=\"sk-item\"><div class=\"sk-estimator sk-toggleable\"><input class=\"sk-toggleable__control sk-hidden--visually\" id=\"sk-estimator-id-16\" type=\"checkbox\" ><label for=\"sk-estimator-id-16\" class=\"sk-toggleable__label sk-toggleable__label-arrow\">TfidfVectorizer</label><div class=\"sk-toggleable__content\"><pre>TfidfVectorizer(stop_words=&#x27;english&#x27;)</pre></div></div></div><div class=\"sk-item\"><div class=\"sk-estimator sk-toggleable\"><input class=\"sk-toggleable__control sk-hidden--visually\" id=\"sk-estimator-id-17\" type=\"checkbox\" ><label for=\"sk-estimator-id-17\" class=\"sk-toggleable__label sk-toggleable__label-arrow\">MultinomialNB</label><div class=\"sk-toggleable__content\"><pre>MultinomialNB()</pre></div></div></div></div></div></div></div>"
            ]
          },
          "metadata": {},
          "execution_count": 145
        }
      ],
      "source": [
        "pipeline.fit( X_train     , y_train)"
      ]
    },
    {
      "cell_type": "code",
      "execution_count": 146,
      "metadata": {
        "id": "v8qA3_08Ho36"
      },
      "outputs": [],
      "source": [
        "y_pred  = pipeline.predict(X_test )\n",
        "NBscore_pipeline = metrics.accuracy_score(y_test, y_pred)"
      ]
    },
    {
      "cell_type": "code",
      "execution_count": 147,
      "metadata": {
        "colab": {
          "base_uri": "https://localhost:8080/"
        },
        "id": "M5ATcCSAHo36",
        "outputId": "9e953ed9-4974-4708-f002-c542efd02e03"
      },
      "outputs": [
        {
          "output_type": "stream",
          "name": "stdout",
          "text": [
            "The accuracy is: 0.6856677524429967 %\n",
            "\n",
            "              precision    recall  f1-score   support\n",
            "\n",
            "           0       0.67      0.99      0.80       388\n",
            "           1       0.95      0.15      0.27       226\n",
            "\n",
            "    accuracy                           0.69       614\n",
            "   macro avg       0.81      0.57      0.53       614\n",
            "weighted avg       0.77      0.69      0.60       614\n",
            "\n"
          ]
        }
      ],
      "source": [
        "print(\"The accuracy is:\", NBscore_pipeline , \"%\\n\")\n",
        "print(metrics.classification_report( y_test , y_pred ))"
      ]
    },
    {
      "cell_type": "code",
      "execution_count": 148,
      "metadata": {
        "colab": {
          "base_uri": "https://localhost:8080/",
          "height": 435
        },
        "id": "BQg0x_e0Ho37",
        "outputId": "659c9d02-bdb5-42eb-dcea-e56f72ecf239"
      },
      "outputs": [
        {
          "output_type": "execute_result",
          "data": {
            "text/plain": [
              "Text(0.5, 1.0, 'Confusion Matrix for Naive Bayes')"
            ]
          },
          "metadata": {},
          "execution_count": 148
        },
        {
          "output_type": "display_data",
          "data": {
            "text/plain": [
              "<Figure size 500x400 with 2 Axes>"
            ],
            "image/png": "[encoded data removed]"
          },
          "metadata": {}
        }
      ],
      "source": [
        "# Confusion Matrix with Pipeline NB\n",
        "cm = metrics.confusion_matrix(y_test , y_pred )\n",
        "plt.figure(figsize=(5, 4))\n",
        "sns.heatmap(cm, annot=True, fmt=\"d\", cmap=\"Blues\", annot_kws={\"fontsize\": 12})\n",
        "plt.xlabel('Predicted labels', fontsize=14)\n",
        "plt.ylabel('True labels', fontsize=14)\n",
        "plt.title('Confusion Matrix for Naive Bayes', fontsize=16)"
      ]
    },
    {
      "cell_type": "markdown",
      "metadata": {
        "id": "HRRLQSiNHo37"
      },
      "source": [
        " ### 5) SUPPORT VECTOR MACHINES"
      ]
    },
    {
      "cell_type": "code",
      "execution_count": 149,
      "metadata": {
        "id": "jrDvkM3UHo37"
      },
      "outputs": [],
      "source": [
        "pipeline = Pipeline([\n",
        "  ( \"word_vectorizer\" , TfidfVectorizer(stop_words = 'english' )  ) ,\n",
        "  #\n",
        "  ( \"svm\"      , svm.SVC(gamma='auto')  )\n",
        "])"
      ]
    },
    {
      "cell_type": "code",
      "execution_count": 150,
      "metadata": {
        "colab": {
          "base_uri": "https://localhost:8080/",
          "height": 127
        },
        "id": "DZDq0MHhHo37",
        "outputId": "be923792-7467-4371-f61b-620a52fbb64f"
      },
      "outputs": [
        {
          "output_type": "execute_result",
          "data": {
            "text/plain": [
              "Pipeline(steps=[('word_vectorizer', TfidfVectorizer(stop_words='english')),\n",
              "                ('svm', SVC(gamma='auto'))])"
            ],
            "text/html": [
              "<style>#sk-container-id-8 {color: black;background-color: white;}#sk-container-id-8 pre{padding: 0;}#sk-container-id-8 div.sk-toggleable {background-color: white;}#sk-container-id-8 label.sk-toggleable__label {cursor: pointer;display: block;width: 100%;margin-bottom: 0;padding: 0.3em;box-sizing: border-box;text-align: center;}#sk-container-id-8 label.sk-toggleable__label-arrow:before {content: \"▸\";float: left;margin-right: 0.25em;color: #696969;}#sk-container-id-8 label.sk-toggleable__label-arrow:hover:before {color: black;}#sk-container-id-8 div.sk-estimator:hover label.sk-toggleable__label-arrow:before {color: black;}#sk-container-id-8 div.sk-toggleable__content {max-height: 0;max-width: 0;overflow: hidden;text-align: left;background-color: #f0f8ff;}#sk-container-id-8 div.sk-toggleable__content pre {margin: 0.2em;color: black;border-radius: 0.25em;background-color: #f0f8ff;}#sk-container-id-8 input.sk-toggleable__control:checked~div.sk-toggleable__content {max-height: 200px;max-width: 100%;overflow: auto;}#sk-container-id-8 input.sk-toggleable__control:checked~label.sk-toggleable__label-arrow:before {content: \"▾\";}#sk-container-id-8 div.sk-estimator input.sk-toggleable__control:checked~label.sk-toggleable__label {background-color: #d4ebff;}#sk-container-id-8 div.sk-label input.sk-toggleable__control:checked~label.sk-toggleable__label {background-color: #d4ebff;}#sk-container-id-8 input.sk-hidden--visually {border: 0;clip: rect(1px 1px 1px 1px);clip: rect(1px, 1px, 1px, 1px);height: 1px;margin: -1px;overflow: hidden;padding: 0;position: absolute;width: 1px;}#sk-container-id-8 div.sk-estimator {font-family: monospace;background-color: #f0f8ff;border: 1px dotted black;border-radius: 0.25em;box-sizing: border-box;margin-bottom: 0.5em;}#sk-container-id-8 div.sk-estimator:hover {background-color: #d4ebff;}#sk-container-id-8 div.sk-parallel-item::after {content: \"\";width: 100%;border-bottom: 1px solid gray;flex-grow: 1;}#sk-container-id-8 div.sk-label:hover label.sk-toggleable__label {background-color: #d4ebff;}#sk-container-id-8 div.sk-serial::before {content: \"\";position: absolute;border-left: 1px solid gray;box-sizing: border-box;top: 0;bottom: 0;left: 50%;z-index: 0;}#sk-container-id-8 div.sk-serial {display: flex;flex-direction: column;align-items: center;background-color: white;padding-right: 0.2em;padding-left: 0.2em;position: relative;}#sk-container-id-8 div.sk-item {position: relative;z-index: 1;}#sk-container-id-8 div.sk-parallel {display: flex;align-items: stretch;justify-content: center;background-color: white;position: relative;}#sk-container-id-8 div.sk-item::before, #sk-container-id-8 div.sk-parallel-item::before {content: \"\";position: absolute;border-left: 1px solid gray;box-sizing: border-box;top: 0;bottom: 0;left: 50%;z-index: -1;}#sk-container-id-8 div.sk-parallel-item {display: flex;flex-direction: column;z-index: 1;position: relative;background-color: white;}#sk-container-id-8 div.sk-parallel-item:first-child::after {align-self: flex-end;width: 50%;}#sk-container-id-8 div.sk-parallel-item:last-child::after {align-self: flex-start;width: 50%;}#sk-container-id-8 div.sk-parallel-item:only-child::after {width: 0;}#sk-container-id-8 div.sk-dashed-wrapped {border: 1px dashed gray;margin: 0 0.4em 0.5em 0.4em;box-sizing: border-box;padding-bottom: 0.4em;background-color: white;}#sk-container-id-8 div.sk-label label {font-family: monospace;font-weight: bold;display: inline-block;line-height: 1.2em;}#sk-container-id-8 div.sk-label-container {text-align: center;}#sk-container-id-8 div.sk-container {/* jupyter's `normalize.less` sets `[hidden] { display: none; }` but bootstrap.min.css set `[hidden] { display: none !important; }` so we also need the `!important` here to be able to override the default hidden behavior on the sphinx rendered scikit-learn.org. See: https://github.com/scikit-learn/scikit-learn/issues/21755 */display: inline-block !important;position: relative;}#sk-container-id-8 div.sk-text-repr-fallback {display: none;}</style><div id=\"sk-container-id-8\" class=\"sk-top-container\"><div class=\"sk-text-repr-fallback\"><pre>Pipeline(steps=[(&#x27;word_vectorizer&#x27;, TfidfVectorizer(stop_words=&#x27;english&#x27;)),\n",
              "                (&#x27;svm&#x27;, SVC(gamma=&#x27;auto&#x27;))])</pre><b>In a Jupyter environment, please rerun this cell to show the HTML representation or trust the notebook. <br />On GitHub, the HTML representation is unable to render, please try loading this page with nbviewer.org.</b></div><div class=\"sk-container\" hidden><div class=\"sk-item sk-dashed-wrapped\"><div class=\"sk-label-container\"><div class=\"sk-label sk-toggleable\"><input class=\"sk-toggleable__control sk-hidden--visually\" id=\"sk-estimator-id-18\" type=\"checkbox\" ><label for=\"sk-estimator-id-18\" class=\"sk-toggleable__label sk-toggleable__label-arrow\">Pipeline</label><div class=\"sk-toggleable__content\"><pre>Pipeline(steps=[(&#x27;word_vectorizer&#x27;, TfidfVectorizer(stop_words=&#x27;english&#x27;)),\n",
              "                (&#x27;svm&#x27;, SVC(gamma=&#x27;auto&#x27;))])</pre></div></div></div><div class=\"sk-serial\"><div class=\"sk-item\"><div class=\"sk-estimator sk-toggleable\"><input class=\"sk-toggleable__control sk-hidden--visually\" id=\"sk-estimator-id-19\" type=\"checkbox\" ><label for=\"sk-estimator-id-19\" class=\"sk-toggleable__label sk-toggleable__label-arrow\">TfidfVectorizer</label><div class=\"sk-toggleable__content\"><pre>TfidfVectorizer(stop_words=&#x27;english&#x27;)</pre></div></div></div><div class=\"sk-item\"><div class=\"sk-estimator sk-toggleable\"><input class=\"sk-toggleable__control sk-hidden--visually\" id=\"sk-estimator-id-20\" type=\"checkbox\" ><label for=\"sk-estimator-id-20\" class=\"sk-toggleable__label sk-toggleable__label-arrow\">SVC</label><div class=\"sk-toggleable__content\"><pre>SVC(gamma=&#x27;auto&#x27;)</pre></div></div></div></div></div></div></div>"
            ]
          },
          "metadata": {},
          "execution_count": 150
        }
      ],
      "source": [
        "pipeline.fit( X_train     , y_train)"
      ]
    },
    {
      "cell_type": "code",
      "execution_count": 151,
      "metadata": {
        "id": "naCLbSbgHo37"
      },
      "outputs": [],
      "source": [
        "y_pred  = pipeline.predict(X_test )\n",
        "SVMscore_pipeline = metrics.accuracy_score(y_test, y_pred)"
      ]
    },
    {
      "cell_type": "code",
      "execution_count": 154,
      "metadata": {
        "colab": {
          "base_uri": "https://localhost:8080/"
        },
        "id": "InrggPx_Ho38",
        "outputId": "b689fe14-6ad4-496a-da2b-7cbabc7632c9"
      },
      "outputs": [
        {
          "output_type": "stream",
          "name": "stdout",
          "text": [
            "The accuracy is : 63.0 %\n",
            "\n",
            "              precision    recall  f1-score   support\n",
            "\n",
            "           0       0.63      1.00      0.77       388\n",
            "           1       0.00      0.00      0.00       226\n",
            "\n",
            "    accuracy                           0.63       614\n",
            "   macro avg       0.32      0.50      0.39       614\n",
            "weighted avg       0.40      0.63      0.49       614\n",
            "\n"
          ]
        },
        {
          "output_type": "stream",
          "name": "stderr",
          "text": [
            "/usr/local/lib/python3.10/dist-packages/sklearn/metrics/_classification.py:1344: UndefinedMetricWarning: Precision and F-score are ill-defined and being set to 0.0 in labels with no predicted samples. Use `zero_division` parameter to control this behavior.\n",
            "  _warn_prf(average, modifier, msg_start, len(result))\n",
            "/usr/local/lib/python3.10/dist-packages/sklearn/metrics/_classification.py:1344: UndefinedMetricWarning: Precision and F-score are ill-defined and being set to 0.0 in labels with no predicted samples. Use `zero_division` parameter to control this behavior.\n",
            "  _warn_prf(average, modifier, msg_start, len(result))\n",
            "/usr/local/lib/python3.10/dist-packages/sklearn/metrics/_classification.py:1344: UndefinedMetricWarning: Precision and F-score are ill-defined and being set to 0.0 in labels with no predicted samples. Use `zero_division` parameter to control this behavior.\n",
            "  _warn_prf(average, modifier, msg_start, len(result))\n"
          ]
        }
      ],
      "source": [
        "print(\"The accuracy is :\", SVMscore_pipeline.round(2)*100 , \"%\\n\")\n",
        "print(metrics.classification_report( y_test , y_pred ))"
      ]
    },
    {
      "cell_type": "code",
      "execution_count": 155,
      "metadata": {
        "colab": {
          "base_uri": "https://localhost:8080/",
          "height": 435
        },
        "id": "DdSKkH8XHo38",
        "outputId": "d369c730-6477-40d4-ab6e-45de1d659a30"
      },
      "outputs": [
        {
          "output_type": "execute_result",
          "data": {
            "text/plain": [
              "Text(0.5, 1.0, 'Confusion Matrix for SVM')"
            ]
          },
          "metadata": {},
          "execution_count": 155
        },
        {
          "output_type": "display_data",
          "data": {
            "text/plain": [
              "<Figure size 500x400 with 2 Axes>"
            ],
            "image/png": "[encoded data removed]"
          },
          "metadata": {}
        }
      ],
      "source": [
        "# Confusion Matrix with Pipeline SVM\n",
        "cm = metrics.confusion_matrix(y_test , y_pred )\n",
        "plt.figure(figsize=(5, 4))\n",
        "sns.heatmap(cm, annot=True, fmt=\"d\", cmap=\"Blues\", annot_kws={\"fontsize\": 12})\n",
        "plt.xlabel('Predicted labels', fontsize=14)\n",
        "plt.ylabel('True labels', fontsize=14)\n",
        "plt.title('Confusion Matrix for SVM', fontsize=16)"
      ]
    },
    {
      "cell_type": "markdown",
      "metadata": {
        "id": "2TqN7ATdHo38"
      },
      "source": [
        "###   5) WORD EMBEDDING + ANN"
      ]
    },
    {
      "cell_type": "code",
      "execution_count": 156,
      "metadata": {
        "id": "0T201gFYHo39"
      },
      "outputs": [],
      "source": [
        "vocab_size = 10000\n",
        "oov_token = \"<OOV>\"\n",
        "embedding_dim = 32\n",
        "max_length = 120\n",
        "padding = 'post'\n",
        "trunc_type = 'post'"
      ]
    },
    {
      "cell_type": "code",
      "execution_count": 157,
      "metadata": {
        "id": "bUl7eMkdHo39"
      },
      "outputs": [],
      "source": [
        "tokenizer = Tokenizer(num_words = vocab_size, oov_token = oov_token)\n",
        "tokenizer.fit_on_texts(X_train)"
      ]
    },
    {
      "cell_type": "code",
      "execution_count": 158,
      "metadata": {
        "colab": {
          "base_uri": "https://localhost:8080/"
        },
        "id": "ZXoHjOhaHo39",
        "outputId": "d4e29b1c-a23b-4001-fd61-493ec1f102aa"
      },
      "outputs": [
        {
          "output_type": "stream",
          "name": "stdout",
          "text": [
            "1431\n",
            "614\n"
          ]
        }
      ],
      "source": [
        "training_sequences = tokenizer.texts_to_sequences(X_train)\n",
        "testing_sequences  = tokenizer.texts_to_sequences(X_test)\n",
        "print(len(training_sequences))\n",
        "print(len(testing_sequences))\n",
        "\n",
        "\n",
        "train_padded = pad_sequences(training_sequences, maxlen = max_length, padding = 'post', truncating = trunc_type)\n",
        "test_padded  = pad_sequences(testing_sequences, maxlen = max_length, padding = 'post', truncating = trunc_type)"
      ]
    },
    {
      "cell_type": "code",
      "execution_count": 159,
      "metadata": {
        "colab": {
          "base_uri": "https://localhost:8080/"
        },
        "id": "_UNBGix_Ho39",
        "outputId": "9672ce00-4685-4ffd-e0b0-d794f598e8f7"
      },
      "outputs": [
        {
          "output_type": "stream",
          "name": "stdout",
          "text": [
            "(1431, 120)\n",
            "(614, 120)\n"
          ]
        }
      ],
      "source": [
        "print(train_padded.shape)\n",
        "print(test_padded.shape)"
      ]
    },
    {
      "cell_type": "markdown",
      "metadata": {
        "id": "7vtj__6GHo39"
      },
      "source": [
        "## Create Keras MOdel"
      ]
    },
    {
      "cell_type": "code",
      "execution_count": 160,
      "metadata": {
        "colab": {
          "base_uri": "https://localhost:8080/"
        },
        "id": "wh8rqIiRHo3-",
        "outputId": "30065b9f-e8e1-4049-979b-564c8dc27ecb"
      },
      "outputs": [
        {
          "output_type": "stream",
          "name": "stdout",
          "text": [
            "Model: \"sequential\"\n",
            "_________________________________________________________________\n",
            " Layer (type)                Output Shape              Param #   \n",
            "=================================================================\n",
            " embedding (Embedding)       (None, 120, 32)           320000    \n",
            "                                                                 \n",
            " flatten (Flatten)           (None, 3840)              0         \n",
            "                                                                 \n",
            " dense (Dense)               (None, 1)                 3841      \n",
            "                                                                 \n",
            "=================================================================\n",
            "Total params: 323841 (1.24 MB)\n",
            "Trainable params: 323841 (1.24 MB)\n",
            "Non-trainable params: 0 (0.00 Byte)\n",
            "_________________________________________________________________\n"
          ]
        }
      ],
      "source": [
        "model = tf.keras.models.Sequential([\n",
        "    tf.keras.layers.Embedding(vocab_size, embedding_dim, input_length = max_length),\n",
        "    tf.keras.layers.Flatten(),\n",
        "    tf.keras.layers.Dense(1, activation = 'sigmoid')\n",
        "])\n",
        "model.compile(loss = 'binary_crossentropy', optimizer = 'adam', metrics = ['accuracy'])\n",
        "model.summary()"
      ]
    },
    {
      "cell_type": "code",
      "execution_count": 161,
      "metadata": {
        "colab": {
          "base_uri": "https://localhost:8080/"
        },
        "id": "0W0BZsEKHo3-",
        "outputId": "93f4372b-3946-4a07-d619-645a8d092b47"
      },
      "outputs": [
        {
          "output_type": "stream",
          "name": "stdout",
          "text": [
            "Epoch 1/10\n",
            "45/45 [==============================] - 2s 20ms/step - loss: 0.6652 - accuracy: 0.6289 - val_loss: 0.6195 - val_accuracy: 0.6352\n",
            "Epoch 2/10\n",
            "45/45 [==============================] - 0s 8ms/step - loss: 0.5200 - accuracy: 0.7170 - val_loss: 0.4906 - val_accuracy: 0.7296\n",
            "Epoch 3/10\n",
            "45/45 [==============================] - 0s 8ms/step - loss: 0.3338 - accuracy: 0.9832 - val_loss: 0.3391 - val_accuracy: 0.9642\n",
            "Epoch 4/10\n",
            "45/45 [==============================] - 0s 9ms/step - loss: 0.1801 - accuracy: 0.9944 - val_loss: 0.2292 - val_accuracy: 0.9870\n",
            "Epoch 5/10\n",
            "45/45 [==============================] - 0s 8ms/step - loss: 0.0993 - accuracy: 0.9972 - val_loss: 0.1684 - val_accuracy: 0.9886\n",
            "Epoch 6/10\n",
            "45/45 [==============================] - 0s 8ms/step - loss: 0.0609 - accuracy: 0.9979 - val_loss: 0.1344 - val_accuracy: 0.9886\n",
            "Epoch 7/10\n",
            "45/45 [==============================] - 0s 9ms/step - loss: 0.0412 - accuracy: 0.9986 - val_loss: 0.1138 - val_accuracy: 0.9870\n",
            "Epoch 8/10\n",
            "45/45 [==============================] - 0s 9ms/step - loss: 0.0295 - accuracy: 0.9986 - val_loss: 0.0998 - val_accuracy: 0.9870\n",
            "Epoch 9/10\n",
            "45/45 [==============================] - 0s 9ms/step - loss: 0.0225 - accuracy: 0.9986 - val_loss: 0.0893 - val_accuracy: 0.9870\n",
            "Epoch 10/10\n",
            "45/45 [==============================] - 0s 8ms/step - loss: 0.0177 - accuracy: 0.9986 - val_loss: 0.0818 - val_accuracy: 0.9870\n"
          ]
        }
      ],
      "source": [
        "num_epochs = 10\n",
        "history = model.fit(train_padded, y_train, epochs = num_epochs, validation_data = (test_padded, y_test))"
      ]
    },
    {
      "cell_type": "code",
      "execution_count": 173,
      "metadata": {
        "colab": {
          "base_uri": "https://localhost:8080/"
        },
        "id": "VAIugyL-Ho3-",
        "outputId": "3c491e37-f9cc-40ea-9eae-891870416b97"
      },
      "outputs": [
        {
          "output_type": "stream",
          "name": "stdout",
          "text": [
            "The Training Accuracy is:  99.86 %\n",
            "The Testing Accuracy  is:  98.7 %\n"
          ]
        }
      ],
      "source": [
        "print(\"The Training Accuracy is: \", round(history.history['accuracy'][9]*100, 2)   , \"%\")\n",
        "print(\"The Testing Accuracy  is: \", round(history.history['val_accuracy'][9]*100,2), \"%\")"
      ]
    },
    {
      "cell_type": "code",
      "execution_count": 163,
      "metadata": {
        "colab": {
          "base_uri": "https://localhost:8080/"
        },
        "id": "NdqclZGzHo3-",
        "outputId": "b227dbfa-5432-4364-9a63-813587adead3"
      },
      "outputs": [
        {
          "output_type": "stream",
          "name": "stdout",
          "text": [
            "20/20 [==============================] - 0s 2ms/step\n"
          ]
        }
      ],
      "source": [
        "y_pred_ann = model.predict(test_padded)"
      ]
    },
    {
      "cell_type": "code",
      "execution_count": 174,
      "metadata": {
        "colab": {
          "base_uri": "https://localhost:8080/"
        },
        "id": "mBxZRx35Ho3_",
        "outputId": "3131fb7c-27c5-428d-e71e-bd625705e1bc"
      },
      "outputs": [
        {
          "output_type": "execute_result",
          "data": {
            "text/plain": [
              "array([[1],\n",
              "       [0],\n",
              "       [0]])"
            ]
          },
          "metadata": {},
          "execution_count": 174
        }
      ],
      "source": [
        "y_pred_ann = np.where(y_pred_ann > 0.5 , 1 , 0)\n",
        "y_pred_ann[:3]"
      ]
    },
    {
      "cell_type": "code",
      "execution_count": 176,
      "metadata": {
        "colab": {
          "base_uri": "https://localhost:8080/"
        },
        "id": "EM4V2wiKHo3_",
        "outputId": "30d7311a-0313-463f-eea1-e7b31a35af82"
      },
      "outputs": [
        {
          "output_type": "stream",
          "name": "stdout",
          "text": [
            "test values: [1 0 0]\n",
            "predicted values: [[1 0 0]]\n"
          ]
        }
      ],
      "source": [
        "print(\"test values:\" ,y_test[:3])\n",
        "print(\"predicted values:\" , y_pred_ann[:3].T)"
      ]
    },
    {
      "cell_type": "code",
      "execution_count": 177,
      "metadata": {
        "colab": {
          "base_uri": "https://localhost:8080/"
        },
        "id": "22acSVX3Ho3_",
        "outputId": "fc1409cf-2872-4aff-a538-2a2601254c2e"
      },
      "outputs": [
        {
          "output_type": "stream",
          "name": "stdout",
          "text": [
            "(614,)\n",
            "(614, 1)\n"
          ]
        }
      ],
      "source": [
        "print(y_test.shape)\n",
        "print(y_pred_ann.shape)"
      ]
    },
    {
      "cell_type": "code",
      "execution_count": 178,
      "metadata": {
        "colab": {
          "base_uri": "https://localhost:8080/"
        },
        "id": "Bi7HL6ZNHo3_",
        "outputId": "5df08e4f-5ea2-4d06-abe1-a6e1c13753de"
      },
      "outputs": [
        {
          "output_type": "execute_result",
          "data": {
            "text/plain": [
              "array([[383,   5],\n",
              "       [  3, 223]])"
            ]
          },
          "metadata": {},
          "execution_count": 178
        }
      ],
      "source": [
        "cm = metrics.confusion_matrix(y_test , y_pred_ann.flatten() )\n",
        "cm"
      ]
    },
    {
      "cell_type": "code",
      "execution_count": 179,
      "metadata": {
        "colab": {
          "base_uri": "https://localhost:8080/",
          "height": 435
        },
        "id": "nBOGqzDmHo4A",
        "outputId": "80156b0a-a249-4c52-d12f-099b754ee781"
      },
      "outputs": [
        {
          "output_type": "execute_result",
          "data": {
            "text/plain": [
              "Text(0.5, 1.0, 'Confusion Matrix for ANN')"
            ]
          },
          "metadata": {},
          "execution_count": 179
        },
        {
          "output_type": "display_data",
          "data": {
            "text/plain": [
              "<Figure size 500x400 with 2 Axes>"
            ],
            "image/png": "[encoded data removed]"
          },
          "metadata": {}
        }
      ],
      "source": [
        "cm = metrics.confusion_matrix(y_test , y_pred_ann )\n",
        "plt.figure(figsize=(5, 4))\n",
        "sns.heatmap(cm, annot=True, fmt=\"d\", cmap=\"Blues\", annot_kws={\"fontsize\": 12})\n",
        "plt.xlabel('Predicted labels', fontsize=14)\n",
        "plt.ylabel('True labels', fontsize=14)\n",
        "plt.title('Confusion Matrix for ANN', fontsize=16)"
      ]
    }
  ],
  "metadata": {
    "kernelspec": {
      "display_name": "Python 3",
      "language": "python",
      "name": "python3"
    },
    "language_info": {
      "codemirror_mode": {
        "name": "ipython",
        "version": 3
      },
      "file_extension": ".py",
      "mimetype": "text/x-python",
      "name": "python",
      "nbconvert_exporter": "python",
      "pygments_lexer": "ipython3",
      "version": "3.6.4"
    },
    "colab": {
      "provenance": []
    }
  },
  "nbformat": 4,
  "nbformat_minor": 0
}
