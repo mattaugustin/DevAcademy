{
 "cells": [
  {
   "cell_type": "code",
   "execution_count": null,
   "metadata": {},
   "outputs": [],
   "source": [
    "## DICE ROLLING\n",
    "import random\n",
    "\n",
    "\n",
    "# STAGE 1   OFFERING TO PLAY\n",
    "while True:\n",
    "    first_ask = input(\"Welcome ! Would you like to roll the dice ? (yes/no)\").lower()\n",
    "    if first_ask == \"no\":\n",
    "        print(\"See ya !\")\n",
    "        break\n",
    "    elif first_ask != \"yes\":\n",
    "        print(\"Please enter 'yes' or 'no' ! \")\n",
    "        continue\n",
    "    \n",
    "    # STAGE 2   SETTING DICE NUMBER AND FIRST ROLL\n",
    "    while True:\n",
    "        min_dice = 1\n",
    "        max_dice_int = input(\"All right ! How many sides do you want the dice to be ?\")\n",
    "        \n",
    "        # Catch loopholes if user does not input any number to previous question\n",
    "        if not max_dice_int.isdigit():\n",
    "            print(\"Please enter an integer for the number of sides.\")\n",
    "            continue\n",
    "        \n",
    "        max_dice = int(max_dice_int)\n",
    "        break\n",
    "    \n",
    "    # After number is confirmed, generate random number and print it\n",
    "    random_roll = random.randint( min_dice , max_dice)\n",
    "    print(\"Great ! Lets roll the dice ...  \" + str(random_roll) + \" !\" )\n",
    "    \n",
    "    \n",
    "    # STAGE 3   ASKING AGAIN UNTIL \"No\" IS INPUT\n",
    "    while True:\n",
    "        random_roll = random.randint( min_dice , max_dice)\n",
    "        question_roll = input(\"Would you like to roll again (yes or no) ?\").lower()\n",
    "        \n",
    "        if question_roll == \"no\":\n",
    "            print(\"too bad ! thank you for playing!\")\n",
    "            break\n",
    "        \n",
    "        elif question_roll == \"yes\":\n",
    "            print(\"Great ! Lets roll the dice again ...  \" + str(random_roll) + \" !\" )\n",
    "            continue\n",
    "        \n",
    "        # CCatch loopholes if user does not input \"NO\" NOR \"YES\"\n",
    "        else:\n",
    "            print(\"Please enter yes/no\")\n",
    "    \n",
    "    # this final break allows to exit the game entirely if the user answered \"no\" in stage 3\n",
    "    break"
   ]
  }
 ],
 "metadata": {
  "kernelspec": {
   "display_name": "Python 3.8.7 64-bit",
   "language": "python",
   "name": "python3"
  },
  "language_info": {
   "name": "python",
   "version": "3.8.7"
  },
  "orig_nbformat": 4,
  "vscode": {
   "interpreter": {
    "hash": "77b2607cbafbc35ac0854d5129a64c86cc54af7c4f9379edad5ba9cd6b8fde9a"
   }
  }
 },
 "nbformat": 4,
 "nbformat_minor": 2
}
