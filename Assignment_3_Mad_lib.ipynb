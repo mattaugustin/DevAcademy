{
 "cells": [
  {
   "cell_type": "markdown",
   "metadata": {},
   "source": [
    "## Project Brief\n",
    "\n",
    "Inspired by Summer Son’s Mad Libs project with Javascript. The program will first prompt the\n",
    "user for a series of inputs a la Mad Libs. For example, a singular noun, an adjective, etc. Then,\n",
    "once all the information has been inputted, the program will take that data and place them into a\n",
    "premade story template. You’ll need prompts for user input, and to then print out the full story at\n",
    "the end with the input included."
   ]
  },
  {
   "cell_type": "code",
   "execution_count": null,
   "metadata": {},
   "outputs": [],
   "source": [
    "\n",
    "while True:\n",
    "       \n",
    "    user_welcome = input(\"Welcome to Mad Lib ! Fancy a nice story ? (yay/naaah)\").lower()\n",
    "\n",
    "    # 1st and Main part of the program\n",
    "    if user_welcome in [\"yes\",\"y\",\"yay\"]:\n",
    "        \n",
    "        # STEP 1 : Prepare variables : (a) list of requests to ask the user and (b) the list to contain them.\n",
    "        user_requests = [\n",
    "                     \"Please input a name\" ,                            # name1\n",
    "                     \"and now another name\" ,                           # name2\n",
    "                     \"What about an adjective (ideally positively connotated)\" ,      # adj1\n",
    "                     \"Doing great so far ! Now an object please \" ,                   # noun1   (3)\n",
    "                     \"And another adjective (ideally negative this time)\" ,   # adj2\n",
    "                     \"The profession or job title of your dream\" ,            # noun2\n",
    "                     \"Your fave animal ?\" ,                         # noun3 (6)\n",
    "                     \"Food you like the most ... \" ,                # food\n",
    "                     \"and the time at which you eat it\",            # time  (8)\n",
    "        ]\n",
    "    \n",
    "        print(\"Great choice ! Fill in the inputs now ... \\n\\n\")\n",
    "              #user_inputs_2 = [input(request) for request in user_requests]\n",
    "              \n",
    "        user_inputs_2 = []\n",
    "        \n",
    "        \n",
    "        # STEP 2 For each request from above, (a) prompt it to the user, (b) verify they actually input something, (c) store it in the list \"user_input_2\" for later use          \n",
    "        for request in user_requests:\n",
    "            user_preinput = input(request)\n",
    "            \n",
    "            while not user_preinput.strip():\n",
    "                print(\"Enter something at least !\")\n",
    "                user_preinput = input(request)\n",
    "            \n",
    "            user_inputs_2.append(user_preinput)\n",
    "        \n",
    "        \n",
    "        # STEP 3 : Construct the strings that compose the story and display the story\n",
    "        mad_lib  = f\"\\nOnce upon a time in the Mushroom Kingdom, {user_inputs_2[0]} and {user_inputs_2[1]} embarked on a {user_inputs_2[2]} adventure. \"\n",
    "        mad_lib += f\"Their mission was to retrieve the legendary {user_inputs_2[3]} of {user_inputs_2[4]} power from the treacherous {user_inputs_2[5]}. \"\n",
    "\n",
    "        mad_lib += f\"\\nAs they journeyed through the {user_inputs_2[4]} landscapes of the kingdom, they encountered friendly {user_inputs_2[6]}s and indulged in delicious {user_inputs_2[7]}. \"\n",
    "        mad_lib += f\"The clock struck {user_inputs_2[8]}, and the duo knew they had to reach Bowser's castle before the {user_inputs_2[8]} sun set. \"\n",
    "\n",
    "        mad_lib += f\"\\nWith {user_inputs_2[2]} determination, {user_inputs_2[0]} and {user_inputs_2[1]} faced challenges, solved puzzles, and finally reached the castle. \"\n",
    "        mad_lib += f\"Inside, they confronted Bowser, who was guarding the powerful {user_inputs_2[3]}. After an epic battle, they emerged victorious, saving the Mushroom Kingdom from {user_inputs_2[4]} chaos.\"\n",
    "           \n",
    "        print(\"and there goes your story ...\\n\\n\")\n",
    "        print(mad_lib)\n",
    "        break\n",
    "    \n",
    "    #  User refuses to play and exits game from the start          \n",
    "    elif user_welcome in [\"no\",\"n\",\"naaah\"]:\n",
    "        print(\"You are missing out. Enjoy the rest of your day\")\n",
    "        break\n",
    "    \n",
    "    # Forces user to input \"yes\" or \"no\"\n",
    "    else:\n",
    "        print(\"Say that again ? Ideally with 'yes' or 'no'\")\n",
    "        continue\n",
    "    \n"
   ]
  }
 ],
 "metadata": {
  "kernelspec": {
   "display_name": "Python 3.7.4 ('base')",
   "language": "python",
   "name": "python3"
  },
  "language_info": {
   "name": "python",
   "version": "3.7.4"
  },
  "orig_nbformat": 4,
  "vscode": {
   "interpreter": {
    "hash": "e4cce46d6be9934fbd27f9ca0432556941ea5bdf741d4f4d64c6cd7f8dfa8fba"
   }
  }
 },
 "nbformat": 4,
 "nbformat_minor": 2
}
